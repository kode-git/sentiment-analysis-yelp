{
 "cells": [
  {
   "cell_type": "markdown",
   "id": "6a863aa6",
   "metadata": {},
   "source": [
    "## Sentiment Analysis on Open Yelp Dataset Reviews"
   ]
  },
  {
   "cell_type": "markdown",
   "id": "427646a1",
   "metadata": {},
   "source": [
    "###### Artificial Intelligence Project 2020/2021"
   ]
  },
  {
   "cell_type": "markdown",
   "id": "33df0bcf",
   "metadata": {},
   "source": [
    "This is the notebook made by Mario Sessa for the project of Artificial Intelligence 2020/2021 on Yelp Sentiment Analysis with binary classification. The official documentation is in the same project directory with the function to explain in a theoretical way decisions taken during the project development. The entire project is based on the model taken from references papers, machine learning framework used is Tensorflow 2.6.0. Package dependencies will be deploy on a file <i>requirements.txt</i> and use explain in the <i>README.md</i> for possible dependencies problem."
   ]
  },
  {
   "cell_type": "markdown",
   "id": "4979870b",
   "metadata": {},
   "source": [
    "### Load Dataset"
   ]
  },
  {
   "cell_type": "markdown",
   "id": "1c0bc203",
   "metadata": {},
   "source": [
    "Project dataset is the Academic Yelp Dataset, available on <a href=\"https://www.yelp.com/dataset\">https://www.yelp.com/dataset</a>. This dataset has a huge dimensions for the reviews table, so we will load data using chunks method and data segmentation using data types given by the <a href=\"https://www.yelp.com/dataset/documentation/main\" >yelp dataset documentations.</a>"
   ]
  },
  {
   "cell_type": "markdown",
   "id": "4fd18aab",
   "metadata": {},
   "source": [
    "In this notebook we will: <br>\n",
    "<a>1. Load dataset</a><br>\n",
    "<a>2. Data analysis</a><br>\n",
    "<a>3. Pre-processing</a><br>\n",
    "<a>4. Multinomial Naive Bayes model</a><br>\n",
    "<a>5. Deep learning on biLSTM and LSTM models</a><br>\n",
    "<a>6. BERT model</a><br>\n",
    "<a>7. Store models in memory</a><br>\n",
    "<a>8. Results and conclusion</a><br>\n",
    "\n",
    "During every phase, we describe some procedures which we follows to have a clean vision of what we did in the project."
   ]
  },
  {
   "cell_type": "code",
   "execution_count": 1,
   "id": "92177c50",
   "metadata": {},
   "outputs": [
    {
     "data": {
      "text/html": [
       "<div>\n",
       "<style scoped>\n",
       "    .dataframe tbody tr th:only-of-type {\n",
       "        vertical-align: middle;\n",
       "    }\n",
       "\n",
       "    .dataframe tbody tr th {\n",
       "        vertical-align: top;\n",
       "    }\n",
       "\n",
       "    .dataframe thead th {\n",
       "        text-align: right;\n",
       "    }\n",
       "</style>\n",
       "<table border=\"1\" class=\"dataframe\">\n",
       "  <thead>\n",
       "    <tr style=\"text-align: right;\">\n",
       "      <th></th>\n",
       "      <th>review_id</th>\n",
       "      <th>user_id</th>\n",
       "      <th>business_id</th>\n",
       "      <th>stars</th>\n",
       "      <th>useful</th>\n",
       "      <th>funny</th>\n",
       "      <th>cool</th>\n",
       "      <th>text</th>\n",
       "      <th>date</th>\n",
       "    </tr>\n",
       "  </thead>\n",
       "  <tbody>\n",
       "    <tr>\n",
       "      <th>0</th>\n",
       "      <td>lWC-xP3rd6obsecCYsGZRg</td>\n",
       "      <td>ak0TdVmGKo4pwqdJSTLwWw</td>\n",
       "      <td>buF9druCkbuXLX526sGELQ</td>\n",
       "      <td>4.0</td>\n",
       "      <td>3</td>\n",
       "      <td>1</td>\n",
       "      <td>1</td>\n",
       "      <td>Apparently Prides Osteria had a rough summer a...</td>\n",
       "      <td>2014-10-11 03:34:02</td>\n",
       "    </tr>\n",
       "    <tr>\n",
       "      <th>1</th>\n",
       "      <td>8bFej1QE5LXp4O05qjGqXA</td>\n",
       "      <td>YoVfDbnISlW0f7abNQACIg</td>\n",
       "      <td>RA4V8pr014UyUbDvI-LW2A</td>\n",
       "      <td>4.0</td>\n",
       "      <td>1</td>\n",
       "      <td>0</td>\n",
       "      <td>0</td>\n",
       "      <td>This store is pretty good. Not as great as Wal...</td>\n",
       "      <td>2015-07-03 20:38:25</td>\n",
       "    </tr>\n",
       "    <tr>\n",
       "      <th>2</th>\n",
       "      <td>NDhkzczKjLshODbqDoNLSg</td>\n",
       "      <td>eC5evKn1TWDyHCyQAwguUw</td>\n",
       "      <td>_sS2LBIGNT5NQb6PD1Vtjw</td>\n",
       "      <td>5.0</td>\n",
       "      <td>0</td>\n",
       "      <td>0</td>\n",
       "      <td>0</td>\n",
       "      <td>I called WVM on the recommendation of a couple...</td>\n",
       "      <td>2013-05-28 20:38:06</td>\n",
       "    </tr>\n",
       "    <tr>\n",
       "      <th>3</th>\n",
       "      <td>T5fAqjjFooT4V0OeZyuk1w</td>\n",
       "      <td>SFQ1jcnGguO0LYWnbbftAA</td>\n",
       "      <td>0AzLzHfOJgL7ROwhdww2ew</td>\n",
       "      <td>2.0</td>\n",
       "      <td>1</td>\n",
       "      <td>1</td>\n",
       "      <td>1</td>\n",
       "      <td>I've stayed at many Marriott and Renaissance M...</td>\n",
       "      <td>2010-01-08 02:29:15</td>\n",
       "    </tr>\n",
       "    <tr>\n",
       "      <th>4</th>\n",
       "      <td>sjm_uUcQVxab_EeLCqsYLg</td>\n",
       "      <td>0kA0PAJ8QFMeveQWHFqz2A</td>\n",
       "      <td>8zehGz9jnxPqXtOc7KaJxA</td>\n",
       "      <td>4.0</td>\n",
       "      <td>0</td>\n",
       "      <td>0</td>\n",
       "      <td>0</td>\n",
       "      <td>The food is always great here. The service fro...</td>\n",
       "      <td>2011-07-28 18:05:01</td>\n",
       "    </tr>\n",
       "  </tbody>\n",
       "</table>\n",
       "</div>"
      ],
      "text/plain": [
       "                review_id                 user_id             business_id  \\\n",
       "0  lWC-xP3rd6obsecCYsGZRg  ak0TdVmGKo4pwqdJSTLwWw  buF9druCkbuXLX526sGELQ   \n",
       "1  8bFej1QE5LXp4O05qjGqXA  YoVfDbnISlW0f7abNQACIg  RA4V8pr014UyUbDvI-LW2A   \n",
       "2  NDhkzczKjLshODbqDoNLSg  eC5evKn1TWDyHCyQAwguUw  _sS2LBIGNT5NQb6PD1Vtjw   \n",
       "3  T5fAqjjFooT4V0OeZyuk1w  SFQ1jcnGguO0LYWnbbftAA  0AzLzHfOJgL7ROwhdww2ew   \n",
       "4  sjm_uUcQVxab_EeLCqsYLg  0kA0PAJ8QFMeveQWHFqz2A  8zehGz9jnxPqXtOc7KaJxA   \n",
       "\n",
       "   stars  useful  funny  cool  \\\n",
       "0    4.0       3      1     1   \n",
       "1    4.0       1      0     0   \n",
       "2    5.0       0      0     0   \n",
       "3    2.0       1      1     1   \n",
       "4    4.0       0      0     0   \n",
       "\n",
       "                                                text                date  \n",
       "0  Apparently Prides Osteria had a rough summer a... 2014-10-11 03:34:02  \n",
       "1  This store is pretty good. Not as great as Wal... 2015-07-03 20:38:25  \n",
       "2  I called WVM on the recommendation of a couple... 2013-05-28 20:38:06  \n",
       "3  I've stayed at many Marriott and Renaissance M... 2010-01-08 02:29:15  \n",
       "4  The food is always great here. The service fro... 2011-07-28 18:05:01  "
      ]
     },
     "execution_count": 1,
     "metadata": {},
     "output_type": "execute_result"
    }
   ],
   "source": [
    "import numpy as np\n",
    "import pandas as pd\n",
    "import warnings\n",
    "warnings.filterwarnings('ignore')\n",
    "\n",
    "rtypes = {  \"stars\": np.float16, \n",
    "            \"useful\": np.int32, \n",
    "            \"funny\": np.int32,\n",
    "            \"cool\": np.int32,\n",
    "           }\n",
    "\n",
    "chunk_size = 10000\n",
    "path = './data/yelp_academic_dataset_review.json'\n",
    "def read_chunk(path, rtypes, chunk_size):\n",
    "    \n",
    "    review = pd.read_json(path, lines=True,\n",
    "                      orient=\"records\",\n",
    "                      dtype=rtypes,\n",
    "                      chunksize=chunk_size)\n",
    "    chunk_list = []\n",
    "\n",
    "    for chunk_review in review:\n",
    "        chunk_list.append(chunk_review)\n",
    "    \n",
    "    df = pd.concat(chunk_list, ignore_index=True, axis=0)\n",
    "    return df\n",
    "\n",
    "df = read_chunk(path, rtypes, chunk_size)\n",
    "df.head()"
   ]
  },
  {
   "cell_type": "markdown",
   "id": "93513e2c",
   "metadata": {},
   "source": [
    "### Data Analysis"
   ]
  },
  {
   "cell_type": "markdown",
   "id": "3a91e187",
   "metadata": {},
   "source": [
    "In this section we will discuss shortly properties of the dataset which can be useful for one of more models. Apparently, we need to analyze the domain of each column to obtain main statistics and define how to proceed in the next steps."
   ]
  },
  {
   "cell_type": "code",
   "execution_count": 2,
   "id": "e3a85b99",
   "metadata": {},
   "outputs": [],
   "source": [
    "import seaborn as sns\n",
    "import matplotlib.pyplot as plt\n",
    "import matplotlib.lines as lines\n",
    "%matplotlib inline"
   ]
  },
  {
   "cell_type": "code",
   "execution_count": 3,
   "id": "ffa27710",
   "metadata": {},
   "outputs": [
    {
     "data": {
      "text/plain": [
       "array([4, 4, 5, ..., 5, 2, 5])"
      ]
     },
     "execution_count": 3,
     "metadata": {},
     "output_type": "execute_result"
    }
   ],
   "source": [
    "df['stars'] = df['stars'].astype(int)\n",
    "df['texts_length']  = df['text'].str.len()\n",
    "np.asarray(df['stars'])"
   ]
  },
  {
   "cell_type": "markdown",
   "id": "12877990",
   "metadata": {},
   "source": [
    "##### Stars"
   ]
  },
  {
   "cell_type": "markdown",
   "id": "d79305b4",
   "metadata": {},
   "source": [
    "Stars analysis is based on the values and types distribution and possible correlation with other features. According with the official documentation, the domain of stars is a value between 1 (worst) to 5 (best). Generally, people have different evaluation metrics which may make our problem harder to classify. The aim of the analysis is to define the 'next steps' procedures in according to obtained results."
   ]
  },
  {
   "cell_type": "code",
   "execution_count": 4,
   "id": "b327aefd",
   "metadata": {},
   "outputs": [],
   "source": [
    "bin_df = pd.DataFrame()\n",
    "bin_df['stars'] = [0 if star <= 3 else 1 for star in df['stars']]\n",
    "    \n",
    "def stars_distribution_plot(stars, title, plot_type):\n",
    "    plt.figure(figsize=(4,4))\n",
    "    if plot_type == 1:\n",
    "        sns.distplot(stars)\n",
    "    else:\n",
    "        stars.value_counts().plot.bar(color='blue')\n",
    "    plt.title(title)\n",
    "\n",
    "def stars_length_plot(dataframe):\n",
    "    graph = sns.FacetGrid(data = dataframe, col = 'stars')\n",
    "    graph.map(plt.hist, 'texts_length', bins=50, color='blue')\n",
    "    \n",
    "def stars_correlation_heatmap(df):\n",
    "    sns.heatmap(df.corr(), annot=True, cmap=\"YlGnBu\")\n"
   ]
  },
  {
   "cell_type": "code",
   "execution_count": 5,
   "id": "cc32172a",
   "metadata": {},
   "outputs": [
    {
     "data": {
      "image/png": "[encoded data removed]",
      "text/plain": [
       "<Figure size 288x288 with 1 Axes>"
      ]
     },
     "metadata": {
      "needs_background": "light"
     },
     "output_type": "display_data"
    }
   ],
   "source": [
    "stars_distribution_plot(df.stars, 'Stars values distribution',1)"
   ]
  },
  {
   "cell_type": "markdown",
   "id": "468411ea",
   "metadata": {},
   "source": [
    "As we can see from the below plot, the distribution of stars value are not in equal number. This should be a problem during model training because we need to flat the distribution for a correct balanced features analysis."
   ]
  },
  {
   "cell_type": "code",
   "execution_count": 6,
   "id": "d6712cb4",
   "metadata": {},
   "outputs": [
    {
     "data": {
      "image/png": "[encoded data removed]",
      "text/plain": [
       "<Figure size 288x288 with 1 Axes>"
      ]
     },
     "metadata": {
      "needs_background": "light"
     },
     "output_type": "display_data"
    }
   ],
   "source": [
    "stars_distribution_plot(bin_df.stars, 'Stars types distribution', 0)"
   ]
  },
  {
   "cell_type": "markdown",
   "id": "9d575be2",
   "metadata": {},
   "source": [
    "As the unbalanced values distribution, the well dependent problem is propagated to reviews types too."
   ]
  },
  {
   "cell_type": "code",
   "execution_count": 7,
   "id": "c1936d93",
   "metadata": {},
   "outputs": [
    {
     "data": {
      "image/png": "[encoded data removed]",
      "text/plain": [
       "<Figure size 1080x216 with 5 Axes>"
      ]
     },
     "metadata": {
      "needs_background": "light"
     },
     "output_type": "display_data"
    }
   ],
   "source": [
    "stars_length_plot(df)"
   ]
  },
  {
   "cell_type": "markdown",
   "id": "9ce8e619",
   "metadata": {},
   "source": [
    "Text length distribution across reviews with different stars values is almost the same. So we don't have a direct connection between the text length and the stars value. According to the previous data, we can display a correlation heatmap to estabilish possible correlations with other types of features."
   ]
  },
  {
   "cell_type": "code",
   "execution_count": 8,
   "id": "68be105e",
   "metadata": {},
   "outputs": [
    {
     "data": {
      "image/png": "[encoded data removed]",
      "text/plain": [
       "<Figure size 432x288 with 2 Axes>"
      ]
     },
     "metadata": {
      "needs_background": "light"
     },
     "output_type": "display_data"
    }
   ],
   "source": [
    "stars_correlation_heatmap(df)"
   ]
  },
  {
   "cell_type": "markdown",
   "id": "999bcfdd",
   "metadata": {},
   "source": [
    "There is not some correlations between text length or stars and the secondary features. Generally, when a customers or a client try to do a review about a service or a place, they can evaluate in according on how cool a place it, if the experience he or she did was funny or if the service is useful. Otherwise, inside the yelp reviews, these parametes were ignored by reviews creators, so we will not consider them in the model training."
   ]
  },
  {
   "cell_type": "markdown",
   "id": "4df01981",
   "metadata": {},
   "source": [
    "#### Texts"
   ]
  },
  {
   "cell_type": "code",
   "execution_count": 9,
   "id": "b05696bc",
   "metadata": {},
   "outputs": [],
   "source": [
    "from wordcloud import WordCloud\n",
    "from nltk.probability import FreqDist\n",
    "from gensim.parsing.preprocessing import remove_stopwords\n",
    "from gensim.parsing.preprocessing import STOPWORDS\n",
    "from nltk.tokenize import word_tokenize"
   ]
  },
  {
   "cell_type": "markdown",
   "id": "b5ae5070",
   "metadata": {},
   "source": [
    "In the text analysis, our aim is to define properties which can be useful for the text manipulation before the model training and modify them in according to the model approach used. For instance, if we want to use a deep neural network, we need to encode a series of words or sentences and compute them in deep and slow layers (expecially for LSTM or biLSTM usually used for natural language processing which are sequential models)"
   ]
  },
  {
   "cell_type": "code",
   "execution_count": 10,
   "id": "168633ca",
   "metadata": {},
   "outputs": [],
   "source": [
    "def high_words_frequency_plot(df):\n",
    "    input_texts = c_low(df)\n",
    "    word_tokens = word_tokenize(input_texts)\n",
    "    tokens = list()\n",
    "    for word in word_tokens:\n",
    "        if word.isalpha() and word not in STOPWORDS:\n",
    "            tokens.append(word)\n",
    "    token_dist = FreqDist(tokens)\n",
    "    dist = pd.DataFrame(token_dist.most_common(10),columns=['Word', 'Frequency'])\n",
    "    fig = plt.figure(figsize=(7,4))\n",
    "    ax = fig.add_axes([0,0,1,1])\n",
    "    x = dist['Word']\n",
    "    y = dist['Frequency']\n",
    "    ax.bar(x,y)\n",
    "    plt.title('Terms Frequency')\n",
    "    plt.show()\n",
    "    return dist\n",
    "\n",
    "\n",
    "def wordcloud_plot(df):\n",
    "    subset = df[:int(len(df)/100)]\n",
    "    input_text = c_low(subset['text'])\n",
    "    wordCloud = WordCloud(background_color='white', stopwords=STOPWORDS).generate(input_text)\n",
    "    plt.imshow(wordCloud, interpolation='bilinear')\n",
    "    plt.axis('off')\n",
    "    plt.show()\n",
    "    \n",
    "def c_low(texts):\n",
    "    return ' '.join(texts).lower()\n",
    "\n",
    "def count_words(texts):\n",
    "    map_list = list()\n",
    "    map_terms = dict()\n",
    "    for text in texts:\n",
    "        word_tokens = word_tokenize(text)\n",
    "        for word in word_tokens:\n",
    "            if word not in map_terms:\n",
    "                map_terms[word] = 1\n",
    "        map_list.append(len(map_terms))\n",
    "        map_terms = dict()\n",
    "    return map_list\n",
    "\n",
    "    \n",
    "def stopwords_counts(texts):\n",
    "    map_sw = dict()\n",
    "    map_list = list()\n",
    "    for text in texts:\n",
    "        word_tokens = word_tokenize(text)\n",
    "        for word in word_tokens:\n",
    "            if word in STOPWORDS:\n",
    "                map_sw[word] = 1\n",
    "        map_list.append(len(map_sw))\n",
    "        map_sw = dict()\n",
    "    return map_list\n"
   ]
  },
  {
   "cell_type": "code",
   "execution_count": 11,
   "id": "b065541c",
   "metadata": {},
   "outputs": [
    {
     "name": "stdout",
     "output_type": "stream",
     "text": [
      "CPU times: user 2min 26s, sys: 330 ms, total: 2min 27s\n",
      "Wall time: 2min 27s\n"
     ]
    }
   ],
   "source": [
    "%%time\n",
    "limit = 100000\n",
    "df_plot = pd.DataFrame(columns=['terms_counts', 'stopwords_counts'])\n",
    "df_plot['terms_counts'] = count_words(df['text'][:limit])\n",
    "df_plot['stopwords_counts'] = stopwords_counts(df['text'][:limit])"
   ]
  },
  {
   "cell_type": "code",
   "execution_count": 12,
   "id": "04708125",
   "metadata": {},
   "outputs": [
    {
     "name": "stdout",
     "output_type": "stream",
     "text": [
      "The mean words cardinality in yelp reviews is: 78.\n",
      "The mean stopwords cardinality in yelp reviews is: 28\n"
     ]
    },
    {
     "data": {
      "image/png": "[encoded data removed]",
      "text/plain": [
       "<Figure size 432x288 with 1 Axes>"
      ]
     },
     "metadata": {
      "needs_background": "light"
     },
     "output_type": "display_data"
    }
   ],
   "source": [
    "df_occurrences = pd.DataFrame(columns=['Terms Occurrences', 'Stopwords Occurrences'])\n",
    "df_occurrences['Terms Occurrences'] = df_plot['terms_counts']\n",
    "df_occurrences['Stopwords Occurrences'] = df_plot['stopwords_counts']\n",
    "df_occurrences.plot(kind=\"kde\")\n",
    "plt.title('Terms and stopwords occurrences distribution')\n",
    "print(f\"The mean words cardinality in yelp reviews is: {int(df_plot['terms_counts'].mean())}.\")\n",
    "print(f\"The mean stopwords cardinality in yelp reviews is: {int(df_plot['stopwords_counts'].mean())}\")"
   ]
  },
  {
   "cell_type": "markdown",
   "id": "5ecddbb3",
   "metadata": {},
   "source": [
    "For views semplification we taken only the first 100.000 values. The mean value is lower than 100, so we need to consider at least 100 words in the text of each review. The number of words per reviews will be reduce for some long-computational models thanks to the stopwords removing in a pre-processing phase. "
   ]
  },
  {
   "cell_type": "code",
   "execution_count": 13,
   "id": "f7740c0c",
   "metadata": {},
   "outputs": [
    {
     "name": "stdout",
     "output_type": "stream",
     "text": [
      "The stopwords ratio for each yelp reviews is: 36%\n"
     ]
    },
    {
     "data": {
      "image/png": "[encoded data removed]",
      "text/plain": [
       "<Figure size 432x288 with 1 Axes>"
      ]
     },
     "metadata": {
      "needs_background": "light"
     },
     "output_type": "display_data"
    }
   ],
   "source": [
    "stopwords = df_plot['stopwords_counts']\n",
    "terms = df_plot['terms_counts']\n",
    "df_plot['stopwords_ratio'] = stopwords / terms\n",
    "df_plot['stopwords_ratio'].plot(kind='kde')\n",
    "plt.title('Stopwords ratio distribution')\n",
    "print(f\"The stopwords ratio for each yelp reviews is: {int(df_plot['stopwords_ratio'].mean()*100)}%\")"
   ]
  },
  {
   "cell_type": "markdown",
   "id": "f84cc036",
   "metadata": {},
   "source": [
    "The density on the stopwords ratio is around 36%, so if we reduce the texts content removing these kind of terms we will drastically increase training time on complex or slow models like deep neural network. However, the level of precision can be reduced for a less terms variance in other kind of model which can consider the dependency treebanks."
   ]
  },
  {
   "cell_type": "code",
   "execution_count": 14,
   "id": "f9ab65f0",
   "metadata": {},
   "outputs": [
    {
     "data": {
      "image/png": "[encoded data removed]",
      "text/plain": [
       "<Figure size 504x288 with 1 Axes>"
      ]
     },
     "metadata": {
      "needs_background": "light"
     },
     "output_type": "display_data"
    }
   ],
   "source": [
    "dist = high_words_frequency_plot(df['text'][:limit])"
   ]
  },
  {
   "cell_type": "markdown",
   "id": "37b07536",
   "metadata": {},
   "source": [
    "As we can see in the wordcloud or in the terms frequency plot upside, most used words are references to conceptual terms which can guarantee a correct binary classification. As we saw before, most common terms would be positive for the huge difference between negative and positive terms."
   ]
  },
  {
   "cell_type": "code",
   "execution_count": 15,
   "id": "63504f2e",
   "metadata": {},
   "outputs": [
    {
     "data": {
      "image/png": "[encoded data removed]",
      "text/plain": [
       "<Figure size 432x288 with 1 Axes>"
      ]
     },
     "metadata": {
      "needs_background": "light"
     },
     "output_type": "display_data"
    }
   ],
   "source": [
    "wordcloud_plot(df)"
   ]
  },
  {
   "cell_type": "markdown",
   "id": "012fef9d",
   "metadata": {},
   "source": [
    "Wordcloud is a visible classification of symbols and words. In our case, it is good to show us how the common terms are distributed inside reviews text."
   ]
  },
  {
   "cell_type": "markdown",
   "id": "2035f35a",
   "metadata": {},
   "source": [
    "### Pre-processing"
   ]
  },
  {
   "cell_type": "markdown",
   "id": "6794e601",
   "metadata": {},
   "source": [
    "This phase consists in:\n",
    "1. Clean dataset from unused features\n",
    "2. Transform stars domain in a binary one\n",
    "3. Balancing dataset and return a balanced subset in output\n",
    "4. Reduce texts in lowercase\n",
    "5. PoS Tagging and lemmatize texts\n",
    "6. Remove stopwords and punctuation marks\n",
    "\n",
    "Other ad-hoc pre-processing operations are done before the models trainings."
   ]
  },
  {
   "cell_type": "markdown",
   "id": "690198b7",
   "metadata": {},
   "source": [
    "##### Data clenaning"
   ]
  },
  {
   "cell_type": "code",
   "execution_count": 16,
   "id": "b2e2db50",
   "metadata": {},
   "outputs": [
    {
     "name": "stdout",
     "output_type": "stream",
     "text": [
      "<class 'pandas.core.frame.DataFrame'>\n",
      "RangeIndex: 8635403 entries, 0 to 8635402\n",
      "Data columns (total 2 columns):\n",
      " #   Column  Dtype \n",
      "---  ------  ----- \n",
      " 0   stars   int64 \n",
      " 1   text    object\n",
      "dtypes: int64(1), object(1)\n",
      "memory usage: 131.8+ MB\n",
      "None\n",
      "----------------------\n",
      "   stars                                               text\n",
      "0      4  Apparently Prides Osteria had a rough summer a...\n",
      "1      4  This store is pretty good. Not as great as Wal...\n",
      "2      5  I called WVM on the recommendation of a couple...\n",
      "3      2  I've stayed at many Marriott and Renaissance M...\n",
      "4      4  The food is always great here. The service fro...\n"
     ]
    }
   ],
   "source": [
    "df_balanced = df.drop(['review_id', 'user_id', 'business_id', 'useful', 'funny', 'cool','texts_length', 'date'], axis=1)\n",
    "df_balanced['text'].dropna(inplace=True)\n",
    "print(f'{df_balanced.info()}')\n",
    "print('----------------------')\n",
    "print(f'{df_balanced.head()}')"
   ]
  },
  {
   "cell_type": "markdown",
   "id": "5be2811d",
   "metadata": {},
   "source": [
    "#### Stars polarization and dataset balancing"
   ]
  },
  {
   "cell_type": "code",
   "execution_count": 17,
   "id": "4fb7b19d",
   "metadata": {},
   "outputs": [],
   "source": [
    "from collections import Counter\n",
    "\n",
    "def polarize_stars(stars):\n",
    "    return [0 if star <= 3 else 1 for star in stars]\n",
    "\n",
    "def balance_dataframe(limit):\n",
    "    balancedTexts = [] \n",
    "    balancedLabels = [] \n",
    "    negPosCounts = [0, 0] \n",
    "    for i in range(0,len(texts)):\n",
    "        polarity = stars[i]\n",
    "        if negPosCounts[polarity] < limit: \n",
    "            balancedTexts.append(texts[i])\n",
    "            balancedLabels.append(stars[i])\n",
    "            negPosCounts[polarity] += 1\n",
    "    df_balanced = pd.DataFrame()\n",
    "    df_balanced['text'] = balancedTexts\n",
    "    df_balanced['labels'] = balancedLabels\n",
    "    return df_balanced\n"
   ]
  },
  {
   "cell_type": "code",
   "execution_count": 18,
   "id": "470af4af",
   "metadata": {},
   "outputs": [
    {
     "name": "stdout",
     "output_type": "stream",
     "text": [
      "Length of the dataframe  : 400000\n",
      "Mean star values         : 0.5\n",
      "Positive reviews         : 200000\n",
      "Positive reviews         : 200000\n"
     ]
    }
   ],
   "source": [
    "texts =  df['text']\n",
    "stars = polarize_stars(df['stars'])\n",
    "df_balanced = balance_dataframe(200000)\n",
    "print(f'Length of the dataframe  : {len(df_balanced)}')\n",
    "print(f'Mean star values         : {df_balanced.labels.mean()}')\n",
    "\n",
    "counter = Counter(df_balanced['labels'])\n",
    "print(f'Positive reviews         : {counter[1]}')\n",
    "print(f'Positive reviews         : {counter[0]}')"
   ]
  },
  {
   "cell_type": "markdown",
   "id": "d5872ec3",
   "metadata": {},
   "source": [
    "#### Reduce texts in lowercase"
   ]
  },
  {
   "cell_type": "code",
   "execution_count": 19,
   "id": "1d7403b7",
   "metadata": {},
   "outputs": [],
   "source": [
    "def lower_case(df_text):\n",
    "    return [review_text.lower() for review_text in df_text]\n",
    "\n",
    "df_balanced['text'] = lower_case(df_balanced['text'])"
   ]
  },
  {
   "cell_type": "markdown",
   "id": "e0b71b59",
   "metadata": {},
   "source": [
    "Dataset length has 400.000 rows with no unused features; a label identify the star value polarization which is 1 if the stars value is great than 3 and 0 otherwise and the text is in lowercase. These binary values can represent the positive and negative label for the binary classification in the sentiment analysis process did in the next phase. The next steps in the current pre-processig procedure will include the removes of the stopwords and the lemmatization of texts. Not every model needs the remove stopwords because they should be useful for context analysis if a trained model consider semantic features. So we save a balanced dataset state before the stopword removing operation."
   ]
  },
  {
   "cell_type": "code",
   "execution_count": 20,
   "id": "26886209",
   "metadata": {},
   "outputs": [],
   "source": [
    "_df_balanced = df_balanced"
   ]
  },
  {
   "cell_type": "markdown",
   "id": "f6365642",
   "metadata": {},
   "source": [
    "#### PoS Tagging and Lemmatization"
   ]
  },
  {
   "cell_type": "code",
   "execution_count": 21,
   "id": "70d01549",
   "metadata": {},
   "outputs": [],
   "source": [
    "import nltk\n",
    "from nltk.corpus import wordnet\n",
    "from nltk.stem import WordNetLemmatizer"
   ]
  },
  {
   "cell_type": "markdown",
   "id": "b164c705",
   "metadata": {},
   "source": [
    "It is refered to the analysis of text, define PoS tagging and doing generation of lemmas. The lemmatization involves an onerous procedure on the balanced dataset. Particularly, we will associate a semantic tag to each word in order to differentiate which type of term is being analyzed and, according to the semantic class to which it belongs, carry out an ad-hoc lemmatization in order to obtain the correct normalized form."
   ]
  },
  {
   "cell_type": "code",
   "execution_count": 22,
   "id": "6126d381",
   "metadata": {},
   "outputs": [
    {
     "name": "stdout",
     "output_type": "stream",
     "text": [
      "It is the not lemmatized text: apparently pride osteria have a rough summer as evidence by the almost empty dining room at 6:30 on a friday night . however new blood in the kitchen seem to have revitalize the food from other customer recent visit . waitstaff be warm but unobtrusive . by 8 pm or so when we leave the bar be full and the dining room be much more lively than it have be . perhaps beverly resident prefer a later seating . after read the mixed review of late i be a little tentative over our choice but luckily there be nothing to worry about in the food department . we start with the fried dough , burrata and prosciutto which be all lovely . then although they do n't offer half portion of pasta we each order the entree size and split them . we choose the tagliatelle bolognese and a four cheese fill pasta in a creamy sauce with bacon , asparagus and grana frita . both be very good . we split a secondo which be the special berkshire pork secreto , which be describe as a pork skirt steak with garlic potato purée and romanesco broccoli ( incorrectly describe as a romanesco sauce ) . some table receive bread before the meal but for some reason we do not . management also seem capable for when the tenant in the apartment above begin play basketball she intervene and also comped the table a dessert . we order the apple dumpling with gelato and it be also quite tasty . portion be not huge which i particularly like because i prefer to order course . if you be someone who order just a meal you may leave hungry depend on you appetite . din room be mostly young crowd while the bar be definitely the over 40 set . would recommend that the naysayer return to see the improvement although i personally do n't know the former glory to be able to compare . easy access to downtown salem without the crowd on this month of october .\n",
      "It is the lemmatized text    : apparently pride osteria have a rough summer as evidence by the almost empty dining room at 6:30 on a friday night . however new blood in the kitchen seem to have revitalize the food from other customer recent visit . waitstaff be warm but unobtrusive . by 8 pm or so when we leave the bar be full and the dining room be much more lively than it have be . perhaps beverly resident prefer a later seating . after read the mixed review of late i be a little tentative over our choice but luckily there be nothing to worry about in the food department . we start with the fried dough , burrata and prosciutto which be all lovely . then although they do n't offer half portion of pasta we each order the entree size and split them . we choose the tagliatelle bolognese and a four cheese fill pasta in a creamy sauce with bacon , asparagus and grana frita . both be very good . we split a secondo which be the special berkshire pork secreto , which be describe as a pork skirt steak with garlic potato purée and romanesco broccoli ( incorrectly describe as a romanesco sauce ) . some table receive bread before the meal but for some reason we do not . management also seem capable for when the tenant in the apartment above begin play basketball she intervene and also comped the table a dessert . we order the apple dumpling with gelato and it be also quite tasty . portion be not huge which i particularly like because i prefer to order course . if you be someone who order just a meal you may leave hungry depend on you appetite . din room be mostly young crowd while the bar be definitely the over 40 set . would recommend that the naysayer return to see the improvement although i personally do n't know the former glory to be able to compare . easy access to downtown salem without the crowd on this month of october .\n",
      "CPU times: user 31min 37s, sys: 19.2 s, total: 31min 57s\n",
      "Wall time: 32min 5s\n"
     ]
    }
   ],
   "source": [
    "%%time\n",
    "\n",
    "lemmatizer = WordNetLemmatizer()\n",
    "\n",
    "def word_tagger(nltk_tag):\n",
    "    if nltk_tag.startswith('J'):\n",
    "        return wordnet.ADJ\n",
    "    elif nltk_tag.startswith('V'):\n",
    "        return wordnet.VERB\n",
    "    elif nltk_tag.startswith('N'):\n",
    "        return wordnet.NOUN\n",
    "    elif nltk_tag.startswith('R'):\n",
    "        return wordnet.ADV\n",
    "    else:         \n",
    "        return None\n",
    "\n",
    "    \n",
    "def lemmatize(texts):\n",
    "    df_texts = []\n",
    "    for text in texts:\n",
    "        word_tagged = nltk.pos_tag(nltk.word_tokenize(text))\n",
    "        map_word_tag = list(map(lambda x: (x[0], word_tagger(x[1])), word_tagged))\n",
    "        lemmatized_text = []\n",
    "        for word, tag in map_word_tag:\n",
    "            if tag is None:\n",
    "                lemmatized_text.append(word)\n",
    "            else:\n",
    "                lemmatized_text.append(lemmatizer.lemmatize(word, tag))\n",
    "        lemmatized_text = \" \".join(lemmatized_text)\n",
    "        df_texts.append(lemmatized_text)\n",
    "    return df_texts\n",
    "\n",
    "\n",
    "\n",
    "\n",
    "df_balanced['text'] = lemmatize( df_balanced['text'])\n",
    "print(f\"It is the not lemmatized text: {_df_balanced['text'][0]}\")\n",
    "print(f\"It is the lemmatized text    : {df_balanced['text'][0]}\")"
   ]
  },
  {
   "cell_type": "code",
   "execution_count": 23,
   "id": "f17d469d",
   "metadata": {},
   "outputs": [],
   "source": [
    "__df_balanced = df_balanced['text']"
   ]
  },
  {
   "cell_type": "markdown",
   "id": "20bc1e9e",
   "metadata": {},
   "source": [
    "#### Removing stopwords"
   ]
  },
  {
   "cell_type": "code",
   "execution_count": 24,
   "id": "dff79b11",
   "metadata": {},
   "outputs": [],
   "source": [
    "def rm_sw_and_punct(texts_list):\n",
    "    \n",
    "    # removing stopwords\n",
    "    tmp_texts = []\n",
    "    for text in texts_list:\n",
    "        tmp_texts.append(remove_stopwords(text))\n",
    "\n",
    "    texts_list = tmp_texts\n",
    "\n",
    "    # removing not alfanumeric characters\n",
    "    tmp_texts = []\n",
    "    for text in texts_list:\n",
    "        tmp_texts.append(''.join(ch for ch in text if ch.isalnum() or ch == ' '))\n",
    "\n",
    "    texts_list = tmp_texts\n",
    "    return texts_list\n",
    "\n",
    "df_balanced['text'] = rm_sw_and_punct(df_balanced['text'])\n"
   ]
  },
  {
   "cell_type": "markdown",
   "id": "fffd84ed",
   "metadata": {},
   "source": [
    "The result of the pre-processing it's a cleaned text with alphanumeric characters and lemmatized words, this is the minimization of the not-conceptual variation of a text form. In other words, we can define now a vectorization which use an encoded algorithm to transform terms in a sentence in a sequence of integers based on different metrics. As we can see in the next steps, not every method will use the text input using the conceptual reduction (stopwords removing and lemmatized text). In conclusion, we don't tokenize the elements right now but in the next step; that's because are particularly interested in the optimization of models; so we can do an ad-hoc vectorization or encoded tecniques which is good for the model that use it."
   ]
  },
  {
   "cell_type": "code",
   "execution_count": 25,
   "id": "09cb0364",
   "metadata": {},
   "outputs": [
    {
     "name": "stdout",
     "output_type": "stream",
     "text": [
      "['-I/usr/local/lib/python3.9/site-packages/tensorflow/include', '-D_GLIBCXX_USE_CXX11_ABI=0', '-DEIGEN_MAX_ALIGN_BYTES=64']\n",
      "2.6.0\n"
     ]
    }
   ],
   "source": [
    "import tensorflow as tf\n",
    "import os\n",
    "print(tf.sysconfig.get_compile_flags())\n",
    "print(tf.__version__)\n",
    "os.environ['TF_CPP_MIN_LOG_LEVEL'] = '2'"
   ]
  },
  {
   "cell_type": "markdown",
   "id": "99a6f4ea",
   "metadata": {},
   "source": [
    "### Naive Bayes Classification"
   ]
  },
  {
   "cell_type": "code",
   "execution_count": 26,
   "id": "7547937a",
   "metadata": {},
   "outputs": [],
   "source": [
    "import time\n",
    "from sklearn.feature_extraction.text import TfidfVectorizer, CountVectorizer\n",
    "from sklearn.metrics import f1_score, accuracy_score\n",
    "from sklearn.model_selection import train_test_split\n",
    "from sklearn.naive_bayes import GaussianNB"
   ]
  },
  {
   "cell_type": "markdown",
   "id": "bfea9022",
   "metadata": {},
   "source": [
    "#### Count vectorizer"
   ]
  },
  {
   "cell_type": "markdown",
   "id": "7dc0d290",
   "metadata": {},
   "source": [
    "Counting vectorizer convert a collection of texts like our reviews in a matrix of token counts. If we want to manage it in a good way for split the dataset in training and testig set. We need to use a panda dataframe which includes for each column a token and for each row a series of counting values which represent the occurrences of tokens for each text in the dataset."
   ]
  },
  {
   "cell_type": "code",
   "execution_count": 27,
   "id": "609edcd4",
   "metadata": {},
   "outputs": [],
   "source": [
    "vect = CountVectorizer(max_features=300)\n",
    "vect.fit(df_balanced.text)\n",
    "Xc = vect.transform(df_balanced.text)\n",
    "Xc_df = pd.DataFrame(Xc.toarray(), columns=vect.get_feature_names())\n",
    "yc = df_balanced.labels\n",
    "Xc = Xc_df\n",
    "Xc_train, Xc_test, yc_train, yc_test = train_test_split(Xc, yc, test_size=0.3, random_state=42, stratify=yc)"
   ]
  },
  {
   "cell_type": "code",
   "execution_count": 28,
   "id": "b72ea407",
   "metadata": {},
   "outputs": [
    {
     "name": "stdout",
     "output_type": "stream",
     "text": [
      " Text: apparently pride osteria rough summer evidence dining room 630 friday night  new blood kitchen revitalize food customer recent visit  waitstaff warm unobtrusive  8 pm leave bar dining room lively  beverly resident prefer later seating  read mixed review late little tentative choice luckily worry food department  start fried dough  burrata prosciutto lovely  nt offer half portion pasta order entree size split  choose tagliatelle bolognese cheese pasta creamy sauce bacon  asparagus grana frita  good  split secondo special berkshire pork secreto  pork skirt steak garlic potato purée romanesco broccoli  incorrectly romanesco sauce   table receive bread meal reason  management capable tenant apartment begin play basketball intervene comped table dessert  order apple dumpling gelato tasty  portion huge particularly like prefer order course  order meal leave hungry depend appetite  din room young crowd bar definitely 40 set  recommend naysayer return improvement personally nt know glory able compare  easy access downtown salem crowd month october \n",
      " Occurrences of table:2\n"
     ]
    }
   ],
   "source": [
    "print(f\" Text: {df_balanced.text[0]}\")\n",
    "print(f\" Occurrences of table:{Xc_df['table'][0]}\")"
   ]
  },
  {
   "cell_type": "markdown",
   "id": "7cdba704",
   "metadata": {},
   "source": [
    "#### TF-IDF vectorizer"
   ]
  },
  {
   "cell_type": "code",
   "execution_count": 29,
   "id": "218b74bc",
   "metadata": {},
   "outputs": [],
   "source": [
    "vect = TfidfVectorizer(max_features=300)\n",
    "vect.fit(df_balanced.text)\n",
    "Xf = vect.transform(df_balanced.text)\n",
    "Xf_df = pd.DataFrame(Xf.toarray(), columns=vect.get_feature_names())\n",
    "yf = df_balanced.labels\n",
    "Xf = Xf_df\n",
    "Xf_train, Xf_test, yf_train, yf_test = train_test_split(Xf, yf, test_size=0.3, random_state=42, stratify=yf)"
   ]
  },
  {
   "cell_type": "code",
   "execution_count": 30,
   "id": "e3c081b1",
   "metadata": {},
   "outputs": [
    {
     "name": "stdout",
     "output_type": "stream",
     "text": [
      " Text: apparently pride osteria rough summer evidence dining room 630 friday night  new blood kitchen revitalize food customer recent visit  waitstaff warm unobtrusive  8 pm leave bar dining room lively  beverly resident prefer later seating  read mixed review late little tentative choice luckily worry food department  start fried dough  burrata prosciutto lovely  nt offer half portion pasta order entree size split  choose tagliatelle bolognese cheese pasta creamy sauce bacon  asparagus grana frita  good  split secondo special berkshire pork secreto  pork skirt steak garlic potato purée romanesco broccoli  incorrectly romanesco sauce   table receive bread meal reason  management capable tenant apartment begin play basketball intervene comped table dessert  order apple dumpling gelato tasty  portion huge particularly like prefer order course  order meal leave hungry depend appetite  din room young crowd bar definitely 40 set  recommend naysayer return improvement personally nt know glory able compare  easy access downtown salem crowd month october \n",
      " Tf-idf of table:0.19502123479069944\n"
     ]
    }
   ],
   "source": [
    "print(f\" Text: {df_balanced.text[0]}\")\n",
    "print(f\" Tf-idf of table:{Xf_df['table'][0]}\")"
   ]
  },
  {
   "cell_type": "markdown",
   "id": "40022526",
   "metadata": {},
   "source": [
    "#### Logistic Regression"
   ]
  },
  {
   "cell_type": "markdown",
   "id": "25034573",
   "metadata": {},
   "source": [
    "Logistic regression uses an equation as the representation, very much like linear regression.\n",
    "\n",
    "Input values $  x $ are combined linearly using weights or coefficient values to predict an output value $ y $. A key difference from linear regression is that the output value being modeled is a binary values (0 or 1) rather than a numeric value.\n",
    "\n",
    "Below is an example logistic regression equation:\n",
    "\n",
    "$ y = e^{(\\beta_{0} + \\beta_{1}*x)} / (1 + e^{(\\beta_{0} + \\beta_{1}*x)}) $\n",
    "\n",
    "Where y is the predicted output, $\\beta_{0}$ is the bias or intercept term and $\\beta_{1}$ is the coefficient for the single input value $ x $. Each column in your input data has an associated $\\beta$ coefficient (a constant real value) that must be learned from your training data.\n",
    "\n",
    "The actual representation of the model that we would store in memory or in a file are the coefficients in the equation."
   ]
  },
  {
   "cell_type": "code",
   "execution_count": 31,
   "id": "d1269211",
   "metadata": {},
   "outputs": [
    {
     "name": "stdout",
     "output_type": "stream",
     "text": [
      "Logistic Regression on count vectorizer\n",
      "---------------------------------------\n",
      "Accuracy: 0.8235\n",
      "F1 Score: 0.8244\n",
      "Time: 8.4903 s\n",
      "\n",
      "\n",
      "Logistic Regression on count vectorizer\n",
      "---------------------------------------\n",
      "Accuracy: 0.8239\n",
      "F1 Score: 0.8228\n",
      "Time: 5.4168 s\n"
     ]
    }
   ],
   "source": [
    "from sklearn.linear_model import LogisticRegression\n",
    "pre_time = time.time()\n",
    "log_reg = LogisticRegression().fit(Xc_train, yc_train)\n",
    "y_pred_lg = log_reg.predict(Xc_test)\n",
    "post_time = time.time()\n",
    "print(\"Logistic Regression on count vectorizer\")\n",
    "print(\"---------------------------------------\")\n",
    "print(f\"Accuracy: {round(accuracy_score(yc_test ,y_pred_lg),4)}\")\n",
    "print(f\"F1 Score: {round(f1_score(yc_test, y_pred_lg),4)}\")\n",
    "print(f\"Time: {round((post_time - pre_time), 4)} s\\n\\n\")\n",
    "\n",
    "pre_time = time.time()\n",
    "log_reg = LogisticRegression().fit(Xf_train, yf_train)\n",
    "y_pred_lg = log_reg.predict(Xf_test)\n",
    "post_time = time.time()\n",
    "print(\"Logistic Regression on count vectorizer\")\n",
    "print(\"---------------------------------------\")\n",
    "print(f\"Accuracy: {round(accuracy_score(yf_test ,y_pred_lg),4)}\")\n",
    "print(f\"F1 Score: {round(f1_score(yf_test, y_pred_lg),4)}\")\n",
    "print(f\"Time: {round((post_time - pre_time), 4)} s\")"
   ]
  },
  {
   "cell_type": "markdown",
   "id": "674a334c",
   "metadata": {},
   "source": [
    "#### Naive Bayes"
   ]
  },
  {
   "cell_type": "markdown",
   "id": "3263111d",
   "metadata": {},
   "source": [
    "MultinomialNB implements the naive Bayes algorithm for multinomially distributed data, and is one of the two classic naive Bayes variants used in text classification (where the data are typically represented as word vector counts, although tf-idf vectors are also known to work well in practice.\n",
    "\n",
    "The distribution is parametrized by vector $\\theta_{y} = (\\theta_{y1}, ..., \\theta_{yn}) $ which defines the class type $ y $ with $ n $ features depending on the size of vocabulary. \n",
    "\n",
    "Given $ \\theta_{yi} $ as the probability $ P(x_{i} | y) $ of feature $ i $ appearing in a sample belonging to class $ y $, we can estimate $ \\theta{y} $ vector by a smoothed version of maximum likelihood as frequency counting or tf-idf parameter.\n",
    "\n",
    "The classification aim is to define the probability to have a success assignment of a series of words $ x_{1},...,x_{n} $ to a class $ y $. In other words, we want to calculate:\n",
    "\n",
    "\n",
    "$ ~{y} = argmax_{y} P(y)\\prod_{i=1}^{n}P(x_{i} | y) $\n",
    "\n",
    "$ argmax $ identify the class $ y $ which gives the max value of $ P(y) $"
   ]
  },
  {
   "cell_type": "code",
   "execution_count": 32,
   "id": "b93d1226",
   "metadata": {},
   "outputs": [
    {
     "name": "stdout",
     "output_type": "stream",
     "text": [
      "Naive Bayes on tf-idf vectorizer\n",
      "--------------------------------\n",
      "Accuracy: 0.7983\n",
      "F1 Score: 0.8005\n",
      "Time: 0.2658 s\n",
      "\n",
      "\n",
      "Naive Bayes on count vectorizer\n",
      "--------------------------------\n",
      "Accuracy: 0.7902\n",
      "F1 Score: 0.8005\n",
      "Time: 2.2106 s\n"
     ]
    }
   ],
   "source": [
    "from sklearn.naive_bayes import MultinomialNB\n",
    "\n",
    "pre_time = time.time()\n",
    "nb_classifier = MultinomialNB()\n",
    "nb_classifier.fit(Xf_train, yf_train)\n",
    "yf_pred = nb_classifier.predict(Xf_test)\n",
    "post_time = time.time()\n",
    "print(\"Naive Bayes on tf-idf vectorizer\")\n",
    "print(\"--------------------------------\")\n",
    "print(f\"Accuracy: {round(accuracy_score(yf_test ,yf_pred),4)}\")\n",
    "print(f\"F1 Score: {round(f1_score(yf_test, yf_pred),4)}\")\n",
    "print(f\"Time: {round((post_time - pre_time), 4)} s\\n\\n\")\n",
    "\n",
    "pre_time = time.time()\n",
    "nb_classifier = MultinomialNB()\n",
    "nb_classifier.fit(Xc_train, yc_train)\n",
    "yc_pred = nb_classifier.predict(Xc_test)\n",
    "post_time = time.time()\n",
    "print(\"Naive Bayes on count vectorizer\")\n",
    "print(\"--------------------------------\")\n",
    "print(f\"Accuracy: {round(accuracy_score(yc_test ,yc_pred),4)}\")\n",
    "print(f\"F1 Score: {round(f1_score(yc_test, yc_pred),4)}\")\n",
    "print(f\"Time: {round((post_time - pre_time), 4)} s\")"
   ]
  },
  {
   "cell_type": "markdown",
   "id": "7e2cd890",
   "metadata": {},
   "source": [
    "### Deep learning on LSTM models"
   ]
  },
  {
   "cell_type": "code",
   "execution_count": 131,
   "id": "b20cf9a4",
   "metadata": {},
   "outputs": [],
   "source": [
    "from sklearn.metrics import f1_score\n",
    "from tensorflow import keras"
   ]
  },
  {
   "cell_type": "markdown",
   "id": "4f3878fb",
   "metadata": {},
   "source": [
    "Deep learning approaches will use some layers tecniques based on the computation and learning on texts dataset as a numerical representation. \n",
    "To do that, we have in input the series of the texts and the respective label to be processed."
   ]
  },
  {
   "cell_type": "code",
   "execution_count": 41,
   "id": "a5662d50",
   "metadata": {},
   "outputs": [
    {
     "data": {
      "text/html": [
       "<div>\n",
       "<style scoped>\n",
       "    .dataframe tbody tr th:only-of-type {\n",
       "        vertical-align: middle;\n",
       "    }\n",
       "\n",
       "    .dataframe tbody tr th {\n",
       "        vertical-align: top;\n",
       "    }\n",
       "\n",
       "    .dataframe thead th {\n",
       "        text-align: right;\n",
       "    }\n",
       "</style>\n",
       "<table border=\"1\" class=\"dataframe\">\n",
       "  <thead>\n",
       "    <tr style=\"text-align: right;\">\n",
       "      <th></th>\n",
       "      <th>text</th>\n",
       "      <th>labels</th>\n",
       "    </tr>\n",
       "  </thead>\n",
       "  <tbody>\n",
       "    <tr>\n",
       "      <th>0</th>\n",
       "      <td>apparently pride osteria rough summer evidence...</td>\n",
       "      <td>1</td>\n",
       "    </tr>\n",
       "    <tr>\n",
       "      <th>1</th>\n",
       "      <td>store pretty good  great walmart  preferred  m...</td>\n",
       "      <td>1</td>\n",
       "    </tr>\n",
       "    <tr>\n",
       "      <th>2</th>\n",
       "      <td>wvm recommendation couple friend use past thin...</td>\n",
       "      <td>1</td>\n",
       "    </tr>\n",
       "    <tr>\n",
       "      <th>3</th>\n",
       "      <td>ve stay marriott renaissance marriott s huge d...</td>\n",
       "      <td>0</td>\n",
       "    </tr>\n",
       "    <tr>\n",
       "      <th>4</th>\n",
       "      <td>food great  service manager staff super  draw ...</td>\n",
       "      <td>1</td>\n",
       "    </tr>\n",
       "  </tbody>\n",
       "</table>\n",
       "</div>"
      ],
      "text/plain": [
       "                                                text  labels\n",
       "0  apparently pride osteria rough summer evidence...       1\n",
       "1  store pretty good  great walmart  preferred  m...       1\n",
       "2  wvm recommendation couple friend use past thin...       1\n",
       "3  ve stay marriott renaissance marriott s huge d...       0\n",
       "4  food great  service manager staff super  draw ...       1"
      ]
     },
     "execution_count": 41,
     "metadata": {},
     "output_type": "execute_result"
    }
   ],
   "source": [
    "df_balanced.head()"
   ]
  },
  {
   "cell_type": "markdown",
   "id": "03323f86",
   "metadata": {},
   "source": [
    "#### Callbacks and additional metrics"
   ]
  },
  {
   "cell_type": "code",
   "execution_count": 154,
   "id": "050802de",
   "metadata": {},
   "outputs": [],
   "source": [
    "es_loss_callback = keras.callbacks.EarlyStopping(monitor='loss', patience=2, verbose=0)"
   ]
  },
  {
   "cell_type": "markdown",
   "id": "c8eb08a9",
   "metadata": {},
   "source": [
    "#### Dataset splitting"
   ]
  },
  {
   "cell_type": "code",
   "execution_count": 60,
   "id": "ddb71c4a",
   "metadata": {},
   "outputs": [],
   "source": [
    "X_train, X_test, y_train, y_test = train_test_split(df_balanced['text'], df_balanced['labels'], \n",
    "                               test_size = 0.33, \n",
    "                               shuffle=True, \n",
    "                               random_state = 42)\n",
    "\n",
    "X_train, X_val, y_train, y_val  = train_test_split(X_train, y_train, test_size=0.1, random_state=1) "
   ]
  },
  {
   "cell_type": "markdown",
   "id": "0da76032",
   "metadata": {},
   "source": [
    "#### Making vocabulary"
   ]
  },
  {
   "cell_type": "code",
   "execution_count": 38,
   "id": "1f870205",
   "metadata": {},
   "outputs": [
    {
     "name": "stdout",
     "output_type": "stream",
     "text": [
      "There are 2177 different words\n"
     ]
    }
   ],
   "source": [
    "def count_words(texts):\n",
    "    map_terms = dict()\n",
    "    for text in texts:\n",
    "        for word in text:\n",
    "            if word not in map_terms:\n",
    "                map_terms[word] = 1\n",
    "    return len(map_terms)\n",
    "\n",
    "count = count_words(df_balanced['text'])\n",
    "print(f'There are {count} different words') "
   ]
  },
  {
   "cell_type": "code",
   "execution_count": 46,
   "id": "9d109761",
   "metadata": {},
   "outputs": [],
   "source": [
    "vocab_size = count_words(df_balanced['text'])\n",
    "encoder = tf.keras.layers.TextVectorization(\n",
    "    max_tokens=vocab_size)\n",
    "encoder.adapt(df_balanced['text'])"
   ]
  },
  {
   "cell_type": "markdown",
   "id": "5553fcdf",
   "metadata": {},
   "source": [
    "#### Making model"
   ]
  },
  {
   "cell_type": "markdown",
   "id": "b4d12acb",
   "metadata": {},
   "source": [
    "The proposed model is the classic `Sequential` one, which has a initial encoder given by our `TextVectorizer` which transforms a sequence of words in a sequence of numerical values according to the deep learning procedures. On the next, there is an `Embedding` layer which has an input dimension equals to the sequence of word indexes and has a sequences of trainable vectors as output. We put the mask_zero to handle varying of the sequence length. Using `Bidirectional` will run our inputs in two ways, one from past to future and one from future to past and what differs this approach from unidirectional is that in the LSTM that runs backwards you preserve information from the future and using the two hidden states combined you are able in any point in time to preserve information from both past and future. In other words, we can propagate the input in forwards and backwards directions, combine the outputs for each sentence term and train informations. Finally, we have `Dense` layers which takes values of the encoded word vector and calculte the respective output to show in the prediction. We have used te binary cross-entropy which calculate the loss distribution as a differences between the true labels distibution and the predicted one. Furthermore, we used the Adam optimizers which is considered the best optimizer for the gradient descent estimation."
   ]
  },
  {
   "cell_type": "code",
   "execution_count": 143,
   "id": "f78f1499",
   "metadata": {},
   "outputs": [
    {
     "name": "stdout",
     "output_type": "stream",
     "text": [
      "Model: \"sequential_3\"\n",
      "_________________________________________________________________\n",
      "Layer (type)                 Output Shape              Param #   \n",
      "=================================================================\n",
      "text_vectorization_6 (TextVe (None, None)              0         \n",
      "_________________________________________________________________\n",
      "embedding_3 (Embedding)      (None, None, 64)          139328    \n",
      "_________________________________________________________________\n",
      "bidirectional_3 (Bidirection (None, 128)               66048     \n",
      "_________________________________________________________________\n",
      "dense_6 (Dense)              (None, 64)                8256      \n",
      "_________________________________________________________________\n",
      "dense_7 (Dense)              (None, 1)                 65        \n",
      "=================================================================\n",
      "Total params: 213,697\n",
      "Trainable params: 213,697\n",
      "Non-trainable params: 0\n",
      "_________________________________________________________________\n"
     ]
    }
   ],
   "source": [
    "def bilstm_model():\n",
    "    model = tf.keras.Sequential([\n",
    "    encoder,\n",
    "    tf.keras.layers.Embedding(\n",
    "        input_dim=len(encoder.get_vocabulary()),\n",
    "        output_dim=64,\n",
    "        mask_zero=True),\n",
    "    tf.keras.layers.Bidirectional(tf.keras.layers.LSTM(64)),\n",
    "    tf.keras.layers.Dense(64, activation='relu'),\n",
    "    tf.keras.layers.Dense(1)\n",
    "])\n",
    "\n",
    "    model.compile(loss=tf.keras.losses.BinaryCrossentropy(from_logits=True),\n",
    "              optimizer=tf.keras.optimizers.Adam(1e-4),\n",
    "              metrics=['accuracy'])\n",
    "    return model\n",
    "model = bilstm_model()\n",
    "model.summary()"
   ]
  },
  {
   "cell_type": "markdown",
   "id": "c77294d4",
   "metadata": {},
   "source": [
    "#### Training Phase"
   ]
  },
  {
   "cell_type": "code",
   "execution_count": 62,
   "id": "15596973",
   "metadata": {},
   "outputs": [
    {
     "name": "stdout",
     "output_type": "stream",
     "text": [
      "Epoch 1/10\n",
      "7538/7538 [==============================] - 955s 126ms/step - loss: 0.3386 - accuracy: 0.8416 - val_loss: 0.3059 - val_accuracy: 0.8628\n",
      "Epoch 2/10\n",
      "7538/7538 [==============================] - 1016s 135ms/step - loss: 0.2986 - accuracy: 0.8636 - val_loss: 0.2982 - val_accuracy: 0.8604\n",
      "Epoch 3/10\n",
      "7538/7538 [==============================] - 1003s 133ms/step - loss: 0.2899 - accuracy: 0.8666 - val_loss: 0.2937 - val_accuracy: 0.8700\n",
      "Epoch 4/10\n",
      "7538/7538 [==============================] - 1010s 134ms/step - loss: 0.2828 - accuracy: 0.8691 - val_loss: 0.2930 - val_accuracy: 0.8686\n",
      "Epoch 5/10\n",
      "7538/7538 [==============================] - 1022s 136ms/step - loss: 0.2773 - accuracy: 0.8722 - val_loss: 0.2947 - val_accuracy: 0.8626\n",
      "Epoch 6/10\n",
      "7538/7538 [==============================] - 1038s 138ms/step - loss: 0.2730 - accuracy: 0.8744 - val_loss: 0.2898 - val_accuracy: 0.8661\n",
      "Epoch 7/10\n",
      "7538/7538 [==============================] - 1026s 136ms/step - loss: 0.2688 - accuracy: 0.8763 - val_loss: 0.2895 - val_accuracy: 0.8676\n",
      "Epoch 8/10\n",
      "7538/7538 [==============================] - 1010s 134ms/step - loss: 0.2648 - accuracy: 0.8784 - val_loss: 0.2927 - val_accuracy: 0.8626\n",
      "Epoch 9/10\n",
      "7538/7538 [==============================] - 1011s 134ms/step - loss: 0.2604 - accuracy: 0.8809 - val_loss: 0.2902 - val_accuracy: 0.8687\n",
      "Epoch 10/10\n",
      "7538/7538 [==============================] - 1035s 137ms/step - loss: 0.2563 - accuracy: 0.8828 - val_loss: 0.2927 - val_accuracy: 0.8673\n"
     ]
    }
   ],
   "source": [
    "history = model.fit(X_train, y_train, epochs=10,\n",
    "                    validation_data=(X_val, y_val),\n",
    "                    validation_steps=30, \n",
    "                    callbacks = [es_loss_callback])"
   ]
  },
  {
   "cell_type": "code",
   "execution_count": 96,
   "id": "a9dadfb9",
   "metadata": {},
   "outputs": [
    {
     "name": "stdout",
     "output_type": "stream",
     "text": [
      "4125/4125 [==============================] - 86s 21ms/step - loss: 0.2896 - accuracy: 0.8686\n"
     ]
    }
   ],
   "source": [
    "test_loss, test_acc = model.evaluate(X_test, y_test)"
   ]
  },
  {
   "cell_type": "code",
   "execution_count": 139,
   "id": "20e05b13",
   "metadata": {},
   "outputs": [],
   "source": [
    "def prediction_score(pred):\n",
    "    results = []\n",
    "    for x in pred:\n",
    "        if x > 0: \n",
    "            x = 1 \n",
    "        else:\n",
    "            x = 0\n",
    "        results.append(x)\n",
    "    return results"
   ]
  },
  {
   "cell_type": "code",
   "execution_count": 142,
   "id": "ff1b2365",
   "metadata": {},
   "outputs": [
    {
     "name": "stdout",
     "output_type": "stream",
     "text": [
      "Deep Neural Network using biLSTM\n",
      "--------------------------------\n",
      "Accuracy : 0.8686\n",
      "Loss     : 0.2896\n",
      "F1 Score : 0.8766\n"
     ]
    }
   ],
   "source": [
    "pred = model.predict(X_test)\n",
    "print(\"Deep Neural Network using biLSTM\")\n",
    "print(\"--------------------------------\")\n",
    "print(f\"Accuracy : {round(test_acc,4)}\")\n",
    "print(f\"Loss     : {round(test_loss,4)}\")\n",
    "print(f\"F1 Score : {round(f1_score(list(y_test),prediction_score(pred)),4)}\")"
   ]
  },
  {
   "cell_type": "markdown",
   "id": "511ff85c",
   "metadata": {},
   "source": [
    "#### Results"
   ]
  },
  {
   "cell_type": "code",
   "execution_count": 129,
   "id": "c1475347",
   "metadata": {},
   "outputs": [
    {
     "data": {
      "text/plain": [
       "(0.0, 0.3426646083593369)"
      ]
     },
     "execution_count": 129,
     "metadata": {},
     "output_type": "execute_result"
    },
    {
     "data": {
      "image/png": "[encoded data removed]",
      "text/plain": [
       "<Figure size 1152x576 with 2 Axes>"
      ]
     },
     "metadata": {
      "needs_background": "light"
     },
     "output_type": "display_data"
    }
   ],
   "source": [
    "def plot_graphs(history, metric):\n",
    "    plt.plot(history.history[metric])\n",
    "    plt.plot(history.history['val_'+metric], '')\n",
    "    plt.xlabel(\"Epochs\")\n",
    "    plt.ylabel(metric)\n",
    "    plt.legend([metric, 'val_'+metric])\n",
    "\n",
    "plt.figure(figsize=(16, 8))\n",
    "plt.subplot(1, 2, 1)\n",
    "plot_graphs(history, 'accuracy')\n",
    "plt.ylim(None, 1)\n",
    "plt.subplot(1, 2, 2)\n",
    "plot_graphs(history, 'loss')\n",
    "plt.ylim(0, None)"
   ]
  },
  {
   "cell_type": "markdown",
   "id": "fae38953",
   "metadata": {},
   "source": [
    "Obtained the model, we can see the results during the training phase. Training accuracy was increasing slowly, meanwhile validation accuracy has a mean value around 86%. About the loss value, training loss was decreasing during the epochs successions, meanwhile the validation loss is at least 20%, we put only the 10% of the training set as a validation set, if we will change the training and validation ratio, model may obtain better results."
   ]
  },
  {
   "cell_type": "markdown",
   "id": "01b4cfc8",
   "metadata": {},
   "source": [
    "#### Model Variation"
   ]
  },
  {
   "cell_type": "markdown",
   "id": "8e454a53",
   "metadata": {},
   "source": [
    "Using the same encoding, we can build a different recurrent neural network with more layers. In our case, we will choose a convulational neural network which takes the embedding vector from the `Embedding` structured as the previous model. Convolutional neural network is formed by  a `Conv1D` layer; the aim of this component is to extract features from a group of input embedding words vectors. Whereupon, we can use a `GlobalMaxPooling1D` to aggregate convolutional output and reduce the side of the input vectors. After that, we can use two `Bidirectional` lstm layers where the first one has `true_sequences` at `True` where each timestep result is given to output, the second layer is the same of the previous one. Finally, we have last `Dense` layers with a `Dropout` on 0.3 for regularization. Loss function and optimizer are the same of the previous model."
   ]
  },
  {
   "cell_type": "code",
   "execution_count": 159,
   "id": "6fa12ddf",
   "metadata": {},
   "outputs": [
    {
     "name": "stdout",
     "output_type": "stream",
     "text": [
      "Model: \"sequential_10\"\n",
      "_________________________________________________________________\n",
      "Layer (type)                 Output Shape              Param #   \n",
      "=================================================================\n",
      "text_vectorization_6 (TextVe (None, None)              0         \n",
      "_________________________________________________________________\n",
      "embedding_11 (Embedding)     (None, None, 64)          139328    \n",
      "_________________________________________________________________\n",
      "conv1d_5 (Conv1D)            (None, None, 128)         65664     \n",
      "_________________________________________________________________\n",
      "max_pooling1d_3 (MaxPooling1 (None, None, 128)         0         \n",
      "_________________________________________________________________\n",
      "bidirectional_16 (Bidirectio (None, None, 128)         98816     \n",
      "_________________________________________________________________\n",
      "bidirectional_17 (Bidirectio (None, 64)                41216     \n",
      "_________________________________________________________________\n",
      "dense_20 (Dense)             (None, 64)                4160      \n",
      "_________________________________________________________________\n",
      "dropout_6 (Dropout)          (None, 64)                0         \n",
      "_________________________________________________________________\n",
      "dense_21 (Dense)             (None, 1)                 65        \n",
      "=================================================================\n",
      "Total params: 349,249\n",
      "Trainable params: 349,249\n",
      "Non-trainable params: 0\n",
      "_________________________________________________________________\n"
     ]
    }
   ],
   "source": [
    "def conv_bilstm_model():\n",
    "    model = tf.keras.Sequential([\n",
    "    encoder,\n",
    "    tf.keras.layers.Embedding(len(encoder.get_vocabulary()), 64, mask_zero=True),\n",
    "    tf.keras.layers.Bidirectional(tf.keras.layers.LSTM(64,  return_sequences=True)),\n",
    "    tf.keras.layers.Bidirectional(tf.keras.layers.LSTM(32)),\n",
    "    tf.keras.layers.Dense(64, activation='relu'),\n",
    "    tf.keras.layers.Dropout(0.4), # 64 x 0.4 = 8/5 _= \n",
    "    tf.keras.layers.Dense(1, activation=\"sigmoid\")\n",
    "    ])\n",
    "    \n",
    "    model.compile(loss=tf.keras.losses.BinaryCrossentropy(from_logits=True),\n",
    "              optimizer=tf.keras.optimizers.Adam(1e-4),\n",
    "              metrics=['accuracy'])\n",
    "    \n",
    "    return model\n",
    "model = conv_bilstm_model()\n",
    "model.summary()"
   ]
  },
  {
   "cell_type": "code",
   "execution_count": 160,
   "id": "7e9fac91",
   "metadata": {},
   "outputs": [
    {
     "name": "stdout",
     "output_type": "stream",
     "text": [
      "Epoch 1/10\n",
      "7538/7538 [==============================] - 360s 47ms/step - loss: 0.3562 - accuracy: 0.8316 - val_loss: 0.3073 - val_accuracy: 0.8557\n",
      "Epoch 2/10\n",
      "7538/7538 [==============================] - 355s 47ms/step - loss: 0.3026 - accuracy: 0.8649 - val_loss: 0.2944 - val_accuracy: 0.8695\n",
      "Epoch 3/10\n",
      "7538/7538 [==============================] - 356s 47ms/step - loss: 0.2807 - accuracy: 0.8748 - val_loss: 0.2906 - val_accuracy: 0.8622\n",
      "Epoch 4/10\n",
      "7538/7538 [==============================] - 361s 48ms/step - loss: 0.2528 - accuracy: 0.8878 - val_loss: 0.2964 - val_accuracy: 0.8742\n",
      "Epoch 5/10\n",
      "7538/7538 [==============================] - 386s 51ms/step - loss: 0.2179 - accuracy: 0.9057 - val_loss: 0.3008 - val_accuracy: 0.8667\n",
      "Epoch 6/10\n",
      " 772/7538 [==>...........................] - ETA: 5:54 - loss: 0.1626 - accuracy: 0.9323"
     ]
    },
    {
     "ename": "KeyboardInterrupt",
     "evalue": "",
     "output_type": "error",
     "traceback": [
      "\u001b[0;31m---------------------------------------------------------------------------\u001b[0m",
      "\u001b[0;31mKeyboardInterrupt\u001b[0m                         Traceback (most recent call last)",
      "\u001b[0;32m/var/folders/qb/p83v38z97hv8wnqwnk4s37h80000gn/T/ipykernel_2639/1495509039.py\u001b[0m in \u001b[0;36m<module>\u001b[0;34m\u001b[0m\n\u001b[0;32m----> 1\u001b[0;31m history = model.fit(X_train, y_train, epochs=10,\n\u001b[0m\u001b[1;32m      2\u001b[0m                     \u001b[0mvalidation_data\u001b[0m\u001b[0;34m=\u001b[0m\u001b[0;34m(\u001b[0m\u001b[0mX_val\u001b[0m\u001b[0;34m,\u001b[0m \u001b[0my_val\u001b[0m\u001b[0;34m)\u001b[0m\u001b[0;34m,\u001b[0m\u001b[0;34m\u001b[0m\u001b[0;34m\u001b[0m\u001b[0m\n\u001b[1;32m      3\u001b[0m                     \u001b[0mvalidation_steps\u001b[0m\u001b[0;34m=\u001b[0m\u001b[0;36m30\u001b[0m\u001b[0;34m,\u001b[0m\u001b[0;34m\u001b[0m\u001b[0;34m\u001b[0m\u001b[0m\n\u001b[1;32m      4\u001b[0m                     callbacks = [es_loss_callback])\n",
      "\u001b[0;32m/usr/local/lib/python3.9/site-packages/keras/engine/training.py\u001b[0m in \u001b[0;36mfit\u001b[0;34m(self, x, y, batch_size, epochs, verbose, callbacks, validation_split, validation_data, shuffle, class_weight, sample_weight, initial_epoch, steps_per_epoch, validation_steps, validation_batch_size, validation_freq, max_queue_size, workers, use_multiprocessing)\u001b[0m\n\u001b[1;32m   1182\u001b[0m                 _r=1):\n\u001b[1;32m   1183\u001b[0m               \u001b[0mcallbacks\u001b[0m\u001b[0;34m.\u001b[0m\u001b[0mon_train_batch_begin\u001b[0m\u001b[0;34m(\u001b[0m\u001b[0mstep\u001b[0m\u001b[0;34m)\u001b[0m\u001b[0;34m\u001b[0m\u001b[0;34m\u001b[0m\u001b[0m\n\u001b[0;32m-> 1184\u001b[0;31m               \u001b[0mtmp_logs\u001b[0m \u001b[0;34m=\u001b[0m \u001b[0mself\u001b[0m\u001b[0;34m.\u001b[0m\u001b[0mtrain_function\u001b[0m\u001b[0;34m(\u001b[0m\u001b[0miterator\u001b[0m\u001b[0;34m)\u001b[0m\u001b[0;34m\u001b[0m\u001b[0;34m\u001b[0m\u001b[0m\n\u001b[0m\u001b[1;32m   1185\u001b[0m               \u001b[0;32mif\u001b[0m \u001b[0mdata_handler\u001b[0m\u001b[0;34m.\u001b[0m\u001b[0mshould_sync\u001b[0m\u001b[0;34m:\u001b[0m\u001b[0;34m\u001b[0m\u001b[0;34m\u001b[0m\u001b[0m\n\u001b[1;32m   1186\u001b[0m                 \u001b[0mcontext\u001b[0m\u001b[0;34m.\u001b[0m\u001b[0masync_wait\u001b[0m\u001b[0;34m(\u001b[0m\u001b[0;34m)\u001b[0m\u001b[0;34m\u001b[0m\u001b[0;34m\u001b[0m\u001b[0m\n",
      "\u001b[0;32m/usr/local/lib/python3.9/site-packages/tensorflow/python/eager/def_function.py\u001b[0m in \u001b[0;36m__call__\u001b[0;34m(self, *args, **kwds)\u001b[0m\n\u001b[1;32m    883\u001b[0m \u001b[0;34m\u001b[0m\u001b[0m\n\u001b[1;32m    884\u001b[0m       \u001b[0;32mwith\u001b[0m \u001b[0mOptionalXlaContext\u001b[0m\u001b[0;34m(\u001b[0m\u001b[0mself\u001b[0m\u001b[0;34m.\u001b[0m\u001b[0m_jit_compile\u001b[0m\u001b[0;34m)\u001b[0m\u001b[0;34m:\u001b[0m\u001b[0;34m\u001b[0m\u001b[0;34m\u001b[0m\u001b[0m\n\u001b[0;32m--> 885\u001b[0;31m         \u001b[0mresult\u001b[0m \u001b[0;34m=\u001b[0m \u001b[0mself\u001b[0m\u001b[0;34m.\u001b[0m\u001b[0m_call\u001b[0m\u001b[0;34m(\u001b[0m\u001b[0;34m*\u001b[0m\u001b[0margs\u001b[0m\u001b[0;34m,\u001b[0m \u001b[0;34m**\u001b[0m\u001b[0mkwds\u001b[0m\u001b[0;34m)\u001b[0m\u001b[0;34m\u001b[0m\u001b[0;34m\u001b[0m\u001b[0m\n\u001b[0m\u001b[1;32m    886\u001b[0m \u001b[0;34m\u001b[0m\u001b[0m\n\u001b[1;32m    887\u001b[0m       \u001b[0mnew_tracing_count\u001b[0m \u001b[0;34m=\u001b[0m \u001b[0mself\u001b[0m\u001b[0;34m.\u001b[0m\u001b[0mexperimental_get_tracing_count\u001b[0m\u001b[0;34m(\u001b[0m\u001b[0;34m)\u001b[0m\u001b[0;34m\u001b[0m\u001b[0;34m\u001b[0m\u001b[0m\n",
      "\u001b[0;32m/usr/local/lib/python3.9/site-packages/tensorflow/python/eager/def_function.py\u001b[0m in \u001b[0;36m_call\u001b[0;34m(self, *args, **kwds)\u001b[0m\n\u001b[1;32m    915\u001b[0m       \u001b[0;31m# In this case we have created variables on the first call, so we run the\u001b[0m\u001b[0;34m\u001b[0m\u001b[0;34m\u001b[0m\u001b[0m\n\u001b[1;32m    916\u001b[0m       \u001b[0;31m# defunned version which is guaranteed to never create variables.\u001b[0m\u001b[0;34m\u001b[0m\u001b[0;34m\u001b[0m\u001b[0m\n\u001b[0;32m--> 917\u001b[0;31m       \u001b[0;32mreturn\u001b[0m \u001b[0mself\u001b[0m\u001b[0;34m.\u001b[0m\u001b[0m_stateless_fn\u001b[0m\u001b[0;34m(\u001b[0m\u001b[0;34m*\u001b[0m\u001b[0margs\u001b[0m\u001b[0;34m,\u001b[0m \u001b[0;34m**\u001b[0m\u001b[0mkwds\u001b[0m\u001b[0;34m)\u001b[0m  \u001b[0;31m# pylint: disable=not-callable\u001b[0m\u001b[0;34m\u001b[0m\u001b[0;34m\u001b[0m\u001b[0m\n\u001b[0m\u001b[1;32m    918\u001b[0m     \u001b[0;32melif\u001b[0m \u001b[0mself\u001b[0m\u001b[0;34m.\u001b[0m\u001b[0m_stateful_fn\u001b[0m \u001b[0;32mis\u001b[0m \u001b[0;32mnot\u001b[0m \u001b[0;32mNone\u001b[0m\u001b[0;34m:\u001b[0m\u001b[0;34m\u001b[0m\u001b[0;34m\u001b[0m\u001b[0m\n\u001b[1;32m    919\u001b[0m       \u001b[0;31m# Release the lock early so that multiple threads can perform the call\u001b[0m\u001b[0;34m\u001b[0m\u001b[0;34m\u001b[0m\u001b[0m\n",
      "\u001b[0;32m/usr/local/lib/python3.9/site-packages/tensorflow/python/eager/function.py\u001b[0m in \u001b[0;36m__call__\u001b[0;34m(self, *args, **kwargs)\u001b[0m\n\u001b[1;32m   3037\u001b[0m       (graph_function,\n\u001b[1;32m   3038\u001b[0m        filtered_flat_args) = self._maybe_define_function(args, kwargs)\n\u001b[0;32m-> 3039\u001b[0;31m     return graph_function._call_flat(\n\u001b[0m\u001b[1;32m   3040\u001b[0m         filtered_flat_args, captured_inputs=graph_function.captured_inputs)  # pylint: disable=protected-access\n\u001b[1;32m   3041\u001b[0m \u001b[0;34m\u001b[0m\u001b[0m\n",
      "\u001b[0;32m/usr/local/lib/python3.9/site-packages/tensorflow/python/eager/function.py\u001b[0m in \u001b[0;36m_call_flat\u001b[0;34m(self, args, captured_inputs, cancellation_manager)\u001b[0m\n\u001b[1;32m   1961\u001b[0m         and executing_eagerly):\n\u001b[1;32m   1962\u001b[0m       \u001b[0;31m# No tape is watching; skip to running the function.\u001b[0m\u001b[0;34m\u001b[0m\u001b[0;34m\u001b[0m\u001b[0m\n\u001b[0;32m-> 1963\u001b[0;31m       return self._build_call_outputs(self._inference_function.call(\n\u001b[0m\u001b[1;32m   1964\u001b[0m           ctx, args, cancellation_manager=cancellation_manager))\n\u001b[1;32m   1965\u001b[0m     forward_backward = self._select_forward_and_backward_functions(\n",
      "\u001b[0;32m/usr/local/lib/python3.9/site-packages/tensorflow/python/eager/function.py\u001b[0m in \u001b[0;36mcall\u001b[0;34m(self, ctx, args, cancellation_manager)\u001b[0m\n\u001b[1;32m    589\u001b[0m       \u001b[0;32mwith\u001b[0m \u001b[0m_InterpolateFunctionError\u001b[0m\u001b[0;34m(\u001b[0m\u001b[0mself\u001b[0m\u001b[0;34m)\u001b[0m\u001b[0;34m:\u001b[0m\u001b[0;34m\u001b[0m\u001b[0;34m\u001b[0m\u001b[0m\n\u001b[1;32m    590\u001b[0m         \u001b[0;32mif\u001b[0m \u001b[0mcancellation_manager\u001b[0m \u001b[0;32mis\u001b[0m \u001b[0;32mNone\u001b[0m\u001b[0;34m:\u001b[0m\u001b[0;34m\u001b[0m\u001b[0;34m\u001b[0m\u001b[0m\n\u001b[0;32m--> 591\u001b[0;31m           outputs = execute.execute(\n\u001b[0m\u001b[1;32m    592\u001b[0m               \u001b[0mstr\u001b[0m\u001b[0;34m(\u001b[0m\u001b[0mself\u001b[0m\u001b[0;34m.\u001b[0m\u001b[0msignature\u001b[0m\u001b[0;34m.\u001b[0m\u001b[0mname\u001b[0m\u001b[0;34m)\u001b[0m\u001b[0;34m,\u001b[0m\u001b[0;34m\u001b[0m\u001b[0;34m\u001b[0m\u001b[0m\n\u001b[1;32m    593\u001b[0m               \u001b[0mnum_outputs\u001b[0m\u001b[0;34m=\u001b[0m\u001b[0mself\u001b[0m\u001b[0;34m.\u001b[0m\u001b[0m_num_outputs\u001b[0m\u001b[0;34m,\u001b[0m\u001b[0;34m\u001b[0m\u001b[0;34m\u001b[0m\u001b[0m\n",
      "\u001b[0;32m/usr/local/lib/python3.9/site-packages/tensorflow/python/eager/execute.py\u001b[0m in \u001b[0;36mquick_execute\u001b[0;34m(op_name, num_outputs, inputs, attrs, ctx, name)\u001b[0m\n\u001b[1;32m     57\u001b[0m   \u001b[0;32mtry\u001b[0m\u001b[0;34m:\u001b[0m\u001b[0;34m\u001b[0m\u001b[0;34m\u001b[0m\u001b[0m\n\u001b[1;32m     58\u001b[0m     \u001b[0mctx\u001b[0m\u001b[0;34m.\u001b[0m\u001b[0mensure_initialized\u001b[0m\u001b[0;34m(\u001b[0m\u001b[0;34m)\u001b[0m\u001b[0;34m\u001b[0m\u001b[0;34m\u001b[0m\u001b[0m\n\u001b[0;32m---> 59\u001b[0;31m     tensors = pywrap_tfe.TFE_Py_Execute(ctx._handle, device_name, op_name,\n\u001b[0m\u001b[1;32m     60\u001b[0m                                         inputs, attrs, num_outputs)\n\u001b[1;32m     61\u001b[0m   \u001b[0;32mexcept\u001b[0m \u001b[0mcore\u001b[0m\u001b[0;34m.\u001b[0m\u001b[0m_NotOkStatusException\u001b[0m \u001b[0;32mas\u001b[0m \u001b[0me\u001b[0m\u001b[0;34m:\u001b[0m\u001b[0;34m\u001b[0m\u001b[0;34m\u001b[0m\u001b[0m\n",
      "\u001b[0;31mKeyboardInterrupt\u001b[0m: "
     ]
    }
   ],
   "source": [
    "history = model.fit(X_train, y_train, epochs=10,\n",
    "                    validation_data=(X_val, y_val),\n",
    "                    validation_steps=30, \n",
    "                    callbacks = [es_loss_callback])"
   ]
  },
  {
   "cell_type": "code",
   "execution_count": 153,
   "id": "34ae3f3f",
   "metadata": {},
   "outputs": [
    {
     "name": "stdout",
     "output_type": "stream",
     "text": [
      "4125/4125 [==============================] - 99s 24ms/step - loss: 0.2980 - accuracy: 0.8693\n"
     ]
    }
   ],
   "source": [
    "test_loss, test_acc = model.evaluate(X_test, y_test)"
   ]
  },
  {
   "cell_type": "code",
   "execution_count": 152,
   "id": "c1dc5e71",
   "metadata": {},
   "outputs": [
    {
     "name": "stdout",
     "output_type": "stream",
     "text": [
      "Deep Neural Network using biLSTM\n",
      "--------------------------------\n",
      "Accuracy : 0.8686\n",
      "Loss     : 0.2896\n",
      "F1 Score : 0.8733\n"
     ]
    }
   ],
   "source": [
    "pred = model.predict(X_test)\n",
    "print(\"Deep Neural Network using biLSTM\")\n",
    "print(\"--------------------------------\")\n",
    "print(f\"Accuracy : {round(test_acc,4)}\")\n",
    "print(f\"Loss     : {round(test_loss,4)}\")\n",
    "print(f\"F1 Score : {round(f1_score(list(y_test),prediction_score(pred)),4)}\")"
   ]
  },
  {
   "cell_type": "markdown",
   "id": "896914ea",
   "metadata": {},
   "source": [
    "#### Results"
   ]
  },
  {
   "cell_type": "code",
   "execution_count": 156,
   "id": "4747b1c8",
   "metadata": {},
   "outputs": [
    {
     "data": {
      "text/plain": [
       "(0.0, 0.3034839078783989)"
      ]
     },
     "execution_count": 156,
     "metadata": {},
     "output_type": "execute_result"
    },
    {
     "data": {
      "image/png": "[encoded data removed]",
      "text/plain": [
       "<Figure size 1152x576 with 2 Axes>"
      ]
     },
     "metadata": {
      "needs_background": "light"
     },
     "output_type": "display_data"
    }
   ],
   "source": [
    "plt.figure(figsize=(16, 8))\n",
    "plt.subplot(1, 2, 1)\n",
    "plot_graphs(history, 'accuracy')\n",
    "plt.ylim(None, 1)\n",
    "plt.subplot(1, 2, 2)\n",
    "plot_graphs(history, 'loss')\n",
    "plt.ylim(0, None)"
   ]
  },
  {
   "cell_type": "markdown",
   "id": "92345798",
   "metadata": {},
   "source": [
    "### BERT model"
   ]
  },
  {
   "cell_type": "code",
   "execution_count": null,
   "id": "07acdfc9",
   "metadata": {},
   "outputs": [],
   "source": [
    "import tensorflow_hub as hub\n",
    "import tensorflow_text as text\n",
    "from official.nlp import optimization"
   ]
  },
  {
   "cell_type": "markdown",
   "id": "07250bab",
   "metadata": {},
   "source": [
    "#### Load pre-trained model"
   ]
  },
  {
   "cell_type": "code",
   "execution_count": null,
   "id": "efb7da67",
   "metadata": {},
   "outputs": [],
   "source": [
    "encoder = 'https://tfhub.dev/tensorflow/bert_en_uncased_L-12_H-768_A-12/3'\n",
    "preprocess = 'https://tfhub.dev/tensorflow/bert_en_uncased_preprocess/3'"
   ]
  },
  {
   "cell_type": "markdown",
   "id": "b001eb81",
   "metadata": {},
   "source": [
    "#### Using pre-processing model to prepare data"
   ]
  },
  {
   "cell_type": "markdown",
   "id": "44ca246d",
   "metadata": {},
   "source": [
    "Text inputs need to be transformed to numeric token ids and arranged in several Tensors before being input to BERT. If we want to mantain consistency with the pre-trained BERT model, we will use the same tensorflow Hub model for the preprocessing of the current pre-trained one used."
   ]
  },
  {
   "cell_type": "code",
   "execution_count": null,
   "id": "f23f4479",
   "metadata": {},
   "outputs": [],
   "source": [
    "bert_preprocess_model = hub.KerasLayer(preprocess)"
   ]
  },
  {
   "cell_type": "markdown",
   "id": "a658c684",
   "metadata": {},
   "source": [
    "We can now initialize the pre-trained model too, following the same keras layer construction on the Tensorflow hub."
   ]
  },
  {
   "cell_type": "code",
   "execution_count": null,
   "id": "7e5209eb",
   "metadata": {},
   "outputs": [],
   "source": [
    "bert_encoder_model = hub.KerasLayer(encoder)"
   ]
  },
  {
   "cell_type": "code",
   "execution_count": null,
   "id": "bcac8846",
   "metadata": {},
   "outputs": [],
   "source": [
    "def bert_model(preprocessing, encoder):\n",
    "    text_input = tf.keras.layers.Input(shape=(), dtype=tf.string)\n",
    "    preprocessing_layer = hub.KerasLayer(preprocessing)\n",
    "    encoder_inputs = preprocessing_layer(text_input)\n",
    "    encoder = hub.KerasLayer(encoder, trainable=True)\n",
    "    outputs = encoder(encoder_inputs)\n",
    "    net = outputs['pooled_output']\n",
    "    net = tf.keras.layers.Dropout(0.1)(net)\n",
    "    net = tf.keras.layers.Dense(1, activation=None)(net)\n",
    "    return tf.keras.Model(text_input, net)\n",
    "\n",
    "bert = bert_model(bert_preprocess_model, bert_encoder_model)\n",
    "bert.summary()"
   ]
  },
  {
   "cell_type": "code",
   "execution_count": null,
   "id": "834fb94d",
   "metadata": {},
   "outputs": [],
   "source": [
    "bert.compile(optimizer=tf.keras.optimizers.Adam(1e-4),\n",
    "                         loss=tf.keras.losses.BinaryCrossentropy(from_logits=True),\n",
    "                         metrics=tf.metrics.BinaryAccuracy())"
   ]
  },
  {
   "cell_type": "code",
   "execution_count": null,
   "id": "8baa500d",
   "metadata": {},
   "outputs": [],
   "source": []
  },
  {
   "cell_type": "markdown",
   "id": "596a8f6e",
   "metadata": {},
   "source": [
    "### Conclusion"
   ]
  },
  {
   "cell_type": "code",
   "execution_count": null,
   "id": "9ddf0848",
   "metadata": {},
   "outputs": [],
   "source": []
  }
 ],
 "metadata": {
  "kernelspec": {
   "display_name": "Python 3 (ipykernel)",
   "language": "python",
   "name": "python3"
  },
  "language_info": {
   "codemirror_mode": {
    "name": "ipython",
    "version": 3
   },
   "file_extension": ".py",
   "mimetype": "text/x-python",
   "name": "python",
   "nbconvert_exporter": "python",
   "pygments_lexer": "ipython3",
   "version": "3.9.7"
  }
 },
 "nbformat": 4,
 "nbformat_minor": 5
}
