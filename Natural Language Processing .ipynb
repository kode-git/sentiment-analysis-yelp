{
 "cells": [
  {
   "cell_type": "code",
   "execution_count": 51,
   "id": "e738748b",
   "metadata": {},
   "outputs": [],
   "source": [
    "import pandas as pd\n",
    "import numpy as np\n",
    "\n",
    "import matplotlib.pyplot as plt\n",
    "import seaborn as sns\n",
    "\n",
    "from sklearn.feature_extraction.text import CountVectorizer\n",
    "from sklearn.model_selection import train_test_split\n",
    "from sklearn.naive_bayes import MultinomialNB\n",
    "from sklearn.metrics import confusion_matrix, classification_report\n"
   ]
  },
  {
   "cell_type": "code",
   "execution_count": 64,
   "id": "56325afb",
   "metadata": {},
   "outputs": [
    {
     "name": "stdout",
     "output_type": "stream",
     "text": [
      "CPU times: user 1min 34s, sys: 14.6 s, total: 1min 49s\n",
      "Wall time: 1min 49s\n"
     ]
    }
   ],
   "source": [
    "%%time \n",
    "\n",
    "df_rev = []\n",
    "r_dtypes = {\"stars\": np.float16, \n",
    "            \"useful\": np.int32, \n",
    "            \"funny\": np.int32,\n",
    "            \"cool\": np.int32,\n",
    "           }\n",
    "with open(\"yelp_academic_dataset_review.json\", \"r\") as dataset:\n",
    "    reader = pd.read_json(dataset, orient=\"records\", lines=True, \n",
    "                          dtype=r_dtypes, chunksize=10000)\n",
    "        \n",
    "    for chunk in reader:\n",
    "        reduced_chunk = chunk.drop(columns=['business_id','review_id', 'user_id']).query(\"`date` >= '2018-12-01'\")\n",
    "        df_rev.append(reduced_chunk)\n",
    "    \n",
    "df_rev = pd.concat(df_rev, ignore_index=True)"
   ]
  },
  {
   "cell_type": "code",
   "execution_count": 7,
   "id": "32057015",
   "metadata": {},
   "outputs": [
    {
     "name": "stdout",
     "output_type": "stream",
     "text": [
      "<class 'pandas.core.frame.DataFrame'>\n",
      "RangeIndex: 1765254 entries, 0 to 1765253\n",
      "Data columns (total 6 columns):\n",
      " #   Column  Dtype         \n",
      "---  ------  -----         \n",
      " 0   stars   float16       \n",
      " 1   useful  int32         \n",
      " 2   funny   int32         \n",
      " 3   cool    int32         \n",
      " 4   text    object        \n",
      " 5   date    datetime64[ns]\n",
      "dtypes: datetime64[ns](1), float16(1), int32(3), object(1)\n",
      "memory usage: 50.5+ MB\n"
     ]
    }
   ],
   "source": [
    "# show head dataframe\n",
    "df_rev.info()"
   ]
  },
  {
   "cell_type": "code",
   "execution_count": 8,
   "id": "9630a6d8",
   "metadata": {},
   "outputs": [
    {
     "data": {
      "text/html": [
       "<div>\n",
       "<style scoped>\n",
       "    .dataframe tbody tr th:only-of-type {\n",
       "        vertical-align: middle;\n",
       "    }\n",
       "\n",
       "    .dataframe tbody tr th {\n",
       "        vertical-align: top;\n",
       "    }\n",
       "\n",
       "    .dataframe thead th {\n",
       "        text-align: right;\n",
       "    }\n",
       "</style>\n",
       "<table border=\"1\" class=\"dataframe\">\n",
       "  <thead>\n",
       "    <tr style=\"text-align: right;\">\n",
       "      <th></th>\n",
       "      <th>stars</th>\n",
       "      <th>useful</th>\n",
       "      <th>funny</th>\n",
       "      <th>cool</th>\n",
       "    </tr>\n",
       "  </thead>\n",
       "  <tbody>\n",
       "    <tr>\n",
       "      <th>count</th>\n",
       "      <td>1765254.0</td>\n",
       "      <td>1.765254e+06</td>\n",
       "      <td>1.765254e+06</td>\n",
       "      <td>1.765254e+06</td>\n",
       "    </tr>\n",
       "    <tr>\n",
       "      <th>mean</th>\n",
       "      <td>NaN</td>\n",
       "      <td>8.499236e-01</td>\n",
       "      <td>2.535459e-01</td>\n",
       "      <td>4.561145e-01</td>\n",
       "    </tr>\n",
       "    <tr>\n",
       "      <th>std</th>\n",
       "      <td>0.0</td>\n",
       "      <td>3.252142e+00</td>\n",
       "      <td>1.788608e+00</td>\n",
       "      <td>2.820824e+00</td>\n",
       "    </tr>\n",
       "    <tr>\n",
       "      <th>min</th>\n",
       "      <td>1.0</td>\n",
       "      <td>0.000000e+00</td>\n",
       "      <td>0.000000e+00</td>\n",
       "      <td>0.000000e+00</td>\n",
       "    </tr>\n",
       "    <tr>\n",
       "      <th>25%</th>\n",
       "      <td>2.0</td>\n",
       "      <td>0.000000e+00</td>\n",
       "      <td>0.000000e+00</td>\n",
       "      <td>0.000000e+00</td>\n",
       "    </tr>\n",
       "    <tr>\n",
       "      <th>50%</th>\n",
       "      <td>5.0</td>\n",
       "      <td>0.000000e+00</td>\n",
       "      <td>0.000000e+00</td>\n",
       "      <td>0.000000e+00</td>\n",
       "    </tr>\n",
       "    <tr>\n",
       "      <th>75%</th>\n",
       "      <td>5.0</td>\n",
       "      <td>1.000000e+00</td>\n",
       "      <td>0.000000e+00</td>\n",
       "      <td>0.000000e+00</td>\n",
       "    </tr>\n",
       "    <tr>\n",
       "      <th>max</th>\n",
       "      <td>5.0</td>\n",
       "      <td>4.460000e+02</td>\n",
       "      <td>2.880000e+02</td>\n",
       "      <td>3.920000e+02</td>\n",
       "    </tr>\n",
       "  </tbody>\n",
       "</table>\n",
       "</div>"
      ],
      "text/plain": [
       "           stars        useful         funny          cool\n",
       "count  1765254.0  1.765254e+06  1.765254e+06  1.765254e+06\n",
       "mean         NaN  8.499236e-01  2.535459e-01  4.561145e-01\n",
       "std          0.0  3.252142e+00  1.788608e+00  2.820824e+00\n",
       "min          1.0  0.000000e+00  0.000000e+00  0.000000e+00\n",
       "25%          2.0  0.000000e+00  0.000000e+00  0.000000e+00\n",
       "50%          5.0  0.000000e+00  0.000000e+00  0.000000e+00\n",
       "75%          5.0  1.000000e+00  0.000000e+00  0.000000e+00\n",
       "max          5.0  4.460000e+02  2.880000e+02  3.920000e+02"
      ]
     },
     "execution_count": 8,
     "metadata": {},
     "output_type": "execute_result"
    }
   ],
   "source": [
    "df_rev.describe()"
   ]
  },
  {
   "cell_type": "code",
   "execution_count": 12,
   "id": "27c5b08a",
   "metadata": {},
   "outputs": [],
   "source": [
    "# Adding a text length for the text field\n",
    "df_rev['text length'] = df_rev['text'].apply(len)"
   ]
  },
  {
   "cell_type": "code",
   "execution_count": 13,
   "id": "5a8803af",
   "metadata": {},
   "outputs": [
    {
     "name": "stdout",
     "output_type": "stream",
     "text": [
      "<class 'pandas.core.frame.DataFrame'>\n",
      "RangeIndex: 1765254 entries, 0 to 1765253\n",
      "Data columns (total 7 columns):\n",
      " #   Column       Dtype         \n",
      "---  ------       -----         \n",
      " 0   stars        float16       \n",
      " 1   useful       int32         \n",
      " 2   funny        int32         \n",
      " 3   cool         int32         \n",
      " 4   text         object        \n",
      " 5   date         datetime64[ns]\n",
      " 6   text length  int64         \n",
      "dtypes: datetime64[ns](1), float16(1), int32(3), int64(1), object(1)\n",
      "memory usage: 64.0+ MB\n"
     ]
    }
   ],
   "source": [
    "df_rev.info()"
   ]
  },
  {
   "cell_type": "code",
   "execution_count": 14,
   "id": "8e3c95cf",
   "metadata": {},
   "outputs": [
    {
     "data": {
      "text/html": [
       "<div>\n",
       "<style scoped>\n",
       "    .dataframe tbody tr th:only-of-type {\n",
       "        vertical-align: middle;\n",
       "    }\n",
       "\n",
       "    .dataframe tbody tr th {\n",
       "        vertical-align: top;\n",
       "    }\n",
       "\n",
       "    .dataframe thead th {\n",
       "        text-align: right;\n",
       "    }\n",
       "</style>\n",
       "<table border=\"1\" class=\"dataframe\">\n",
       "  <thead>\n",
       "    <tr style=\"text-align: right;\">\n",
       "      <th></th>\n",
       "      <th>stars</th>\n",
       "      <th>useful</th>\n",
       "      <th>funny</th>\n",
       "      <th>cool</th>\n",
       "      <th>text</th>\n",
       "      <th>date</th>\n",
       "      <th>text length</th>\n",
       "    </tr>\n",
       "  </thead>\n",
       "  <tbody>\n",
       "    <tr>\n",
       "      <th>0</th>\n",
       "      <td>5.0</td>\n",
       "      <td>0</td>\n",
       "      <td>0</td>\n",
       "      <td>0</td>\n",
       "      <td>Vegan donuts! What else can I say!?!? I am so ...</td>\n",
       "      <td>2018-12-04 03:27:14</td>\n",
       "      <td>207</td>\n",
       "    </tr>\n",
       "    <tr>\n",
       "      <th>1</th>\n",
       "      <td>5.0</td>\n",
       "      <td>0</td>\n",
       "      <td>0</td>\n",
       "      <td>0</td>\n",
       "      <td>I will definitely be coming back!  If you like...</td>\n",
       "      <td>2018-12-02 18:11:06</td>\n",
       "      <td>172</td>\n",
       "    </tr>\n",
       "    <tr>\n",
       "      <th>2</th>\n",
       "      <td>3.0</td>\n",
       "      <td>0</td>\n",
       "      <td>0</td>\n",
       "      <td>0</td>\n",
       "      <td>The waiter who greeted me was very helpful and...</td>\n",
       "      <td>2018-12-04 21:13:20</td>\n",
       "      <td>507</td>\n",
       "    </tr>\n",
       "    <tr>\n",
       "      <th>3</th>\n",
       "      <td>2.0</td>\n",
       "      <td>0</td>\n",
       "      <td>0</td>\n",
       "      <td>0</td>\n",
       "      <td>Had a salad to go today. Guy behind the counte...</td>\n",
       "      <td>2018-12-10 23:25:48</td>\n",
       "      <td>449</td>\n",
       "    </tr>\n",
       "    <tr>\n",
       "      <th>4</th>\n",
       "      <td>4.0</td>\n",
       "      <td>0</td>\n",
       "      <td>0</td>\n",
       "      <td>0</td>\n",
       "      <td>I could honestly spend my whole paycheck here....</td>\n",
       "      <td>2018-12-04 18:39:58</td>\n",
       "      <td>309</td>\n",
       "    </tr>\n",
       "  </tbody>\n",
       "</table>\n",
       "</div>"
      ],
      "text/plain": [
       "   stars  useful  funny  cool  \\\n",
       "0    5.0       0      0     0   \n",
       "1    5.0       0      0     0   \n",
       "2    3.0       0      0     0   \n",
       "3    2.0       0      0     0   \n",
       "4    4.0       0      0     0   \n",
       "\n",
       "                                                text                date  \\\n",
       "0  Vegan donuts! What else can I say!?!? I am so ... 2018-12-04 03:27:14   \n",
       "1  I will definitely be coming back!  If you like... 2018-12-02 18:11:06   \n",
       "2  The waiter who greeted me was very helpful and... 2018-12-04 21:13:20   \n",
       "3  Had a salad to go today. Guy behind the counte... 2018-12-10 23:25:48   \n",
       "4  I could honestly spend my whole paycheck here.... 2018-12-04 18:39:58   \n",
       "\n",
       "   text length  \n",
       "0          207  \n",
       "1          172  \n",
       "2          507  \n",
       "3          449  \n",
       "4          309  "
      ]
     },
     "execution_count": 14,
     "metadata": {},
     "output_type": "execute_result"
    }
   ],
   "source": [
    "df_rev.head()"
   ]
  },
  {
   "cell_type": "code",
   "execution_count": 17,
   "id": "5a50386c",
   "metadata": {},
   "outputs": [
    {
     "data": {
      "text/plain": [
       "<seaborn.axisgrid.FacetGrid at 0x7fc504242160>"
      ]
     },
     "execution_count": 17,
     "metadata": {},
     "output_type": "execute_result"
    },
    {
     "data": {
      "image/png": "[encoded data removed]",
      "text/plain": [
       "<Figure size 1080x216 with 5 Axes>"
      ]
     },
     "metadata": {},
     "output_type": "display_data"
    }
   ],
   "source": [
    "sns.set_style('white')\n",
    "g1 = sns.FacetGrid(df_rev, col='stars')\n",
    "g1.map(plt.hist, 'text length', bins=100)"
   ]
  },
  {
   "cell_type": "code",
   "execution_count": 18,
   "id": "0b9198b7",
   "metadata": {},
   "outputs": [
    {
     "data": {
      "text/plain": [
       "<AxesSubplot:xlabel='stars', ylabel='text length'>"
      ]
     },
     "execution_count": 18,
     "metadata": {},
     "output_type": "execute_result"
    },
    {
     "data": {
      "image/png": "[encoded data removed]",
      "text/plain": [
       "<Figure size 432x288 with 1 Axes>"
      ]
     },
     "metadata": {},
     "output_type": "display_data"
    }
   ],
   "source": [
    "sns.boxplot(x='stars', y='text length', data=df_rev)"
   ]
  },
  {
   "cell_type": "code",
   "execution_count": 22,
   "id": "1767fa4d",
   "metadata": {},
   "outputs": [
    {
     "data": {
      "text/plain": [
       "<AxesSubplot:>"
      ]
     },
     "execution_count": 22,
     "metadata": {},
     "output_type": "execute_result"
    },
    {
     "data": {
      "image/png": "[encoded data removed]",
      "text/plain": [
       "<Figure size 432x288 with 2 Axes>"
      ]
     },
     "metadata": {},
     "output_type": "display_data"
    }
   ],
   "source": [
    "sns.heatmap(df_rev.groupby('stars').mean().corr(), annot=True)"
   ]
  },
  {
   "cell_type": "code",
   "execution_count": 47,
   "id": "7c9e9f84",
   "metadata": {},
   "outputs": [
    {
     "data": {
      "text/plain": [
       "<AxesSubplot:xlabel='stars', ylabel='count'>"
      ]
     },
     "execution_count": 47,
     "metadata": {},
     "output_type": "execute_result"
    },
    {
     "data": {
      "image/png": "[encoded data removed]",
      "text/plain": [
       "<Figure size 432x288 with 1 Axes>"
      ]
     },
     "metadata": {},
     "output_type": "display_data"
    }
   ],
   "source": [
    "sns.countplot(x='stars', data=df_rev)"
   ]
  },
  {
   "cell_type": "code",
   "execution_count": 37,
   "id": "37986479",
   "metadata": {},
   "outputs": [
    {
     "data": {
      "text/html": [
       "<div>\n",
       "<style scoped>\n",
       "    .dataframe tbody tr th:only-of-type {\n",
       "        vertical-align: middle;\n",
       "    }\n",
       "\n",
       "    .dataframe tbody tr th {\n",
       "        vertical-align: top;\n",
       "    }\n",
       "\n",
       "    .dataframe thead th {\n",
       "        text-align: right;\n",
       "    }\n",
       "</style>\n",
       "<table border=\"1\" class=\"dataframe\">\n",
       "  <thead>\n",
       "    <tr style=\"text-align: right;\">\n",
       "      <th></th>\n",
       "      <th>stars</th>\n",
       "      <th>useful</th>\n",
       "      <th>funny</th>\n",
       "      <th>cool</th>\n",
       "      <th>text</th>\n",
       "      <th>date</th>\n",
       "      <th>text length</th>\n",
       "    </tr>\n",
       "  </thead>\n",
       "  <tbody>\n",
       "    <tr>\n",
       "      <th>3</th>\n",
       "      <td>2.0</td>\n",
       "      <td>0</td>\n",
       "      <td>0</td>\n",
       "      <td>0</td>\n",
       "      <td>Had a salad to go today. Guy behind the counte...</td>\n",
       "      <td>2018-12-10 23:25:48</td>\n",
       "      <td>449</td>\n",
       "    </tr>\n",
       "    <tr>\n",
       "      <th>8</th>\n",
       "      <td>1.0</td>\n",
       "      <td>0</td>\n",
       "      <td>0</td>\n",
       "      <td>0</td>\n",
       "      <td>Go to any other chili's but this location. Ser...</td>\n",
       "      <td>2018-12-11 04:31:42</td>\n",
       "      <td>542</td>\n",
       "    </tr>\n",
       "    <tr>\n",
       "      <th>25</th>\n",
       "      <td>1.0</td>\n",
       "      <td>0</td>\n",
       "      <td>0</td>\n",
       "      <td>0</td>\n",
       "      <td>The food here is reflective of the low prices ...</td>\n",
       "      <td>2018-12-15 02:25:15</td>\n",
       "      <td>244</td>\n",
       "    </tr>\n",
       "    <tr>\n",
       "      <th>30</th>\n",
       "      <td>1.0</td>\n",
       "      <td>0</td>\n",
       "      <td>0</td>\n",
       "      <td>0</td>\n",
       "      <td>Although the food and decor of this establishm...</td>\n",
       "      <td>2018-12-02 22:18:01</td>\n",
       "      <td>598</td>\n",
       "    </tr>\n",
       "    <tr>\n",
       "      <th>31</th>\n",
       "      <td>1.0</td>\n",
       "      <td>0</td>\n",
       "      <td>0</td>\n",
       "      <td>0</td>\n",
       "      <td>My pizza has literally never shown up 3 times....</td>\n",
       "      <td>2018-12-02 03:07:55</td>\n",
       "      <td>1134</td>\n",
       "    </tr>\n",
       "    <tr>\n",
       "      <th>...</th>\n",
       "      <td>...</td>\n",
       "      <td>...</td>\n",
       "      <td>...</td>\n",
       "      <td>...</td>\n",
       "      <td>...</td>\n",
       "      <td>...</td>\n",
       "      <td>...</td>\n",
       "    </tr>\n",
       "    <tr>\n",
       "      <th>1765239</th>\n",
       "      <td>2.0</td>\n",
       "      <td>0</td>\n",
       "      <td>0</td>\n",
       "      <td>0</td>\n",
       "      <td>Terrible pho. Literally zero flavor. And the c...</td>\n",
       "      <td>2021-01-17 22:09:10</td>\n",
       "      <td>97</td>\n",
       "    </tr>\n",
       "    <tr>\n",
       "      <th>1765247</th>\n",
       "      <td>1.0</td>\n",
       "      <td>1</td>\n",
       "      <td>1</td>\n",
       "      <td>0</td>\n",
       "      <td>This was absolutely the most egregious display...</td>\n",
       "      <td>2020-10-23 23:28:09</td>\n",
       "      <td>1636</td>\n",
       "    </tr>\n",
       "    <tr>\n",
       "      <th>1765249</th>\n",
       "      <td>1.0</td>\n",
       "      <td>0</td>\n",
       "      <td>0</td>\n",
       "      <td>0</td>\n",
       "      <td>In December, I called in (as a returning custo...</td>\n",
       "      <td>2021-01-26 04:07:14</td>\n",
       "      <td>2586</td>\n",
       "    </tr>\n",
       "    <tr>\n",
       "      <th>1765250</th>\n",
       "      <td>1.0</td>\n",
       "      <td>13</td>\n",
       "      <td>1</td>\n",
       "      <td>0</td>\n",
       "      <td>This guy is a moron that will stalk and harass...</td>\n",
       "      <td>2019-05-01 21:21:43</td>\n",
       "      <td>407</td>\n",
       "    </tr>\n",
       "    <tr>\n",
       "      <th>1765252</th>\n",
       "      <td>2.0</td>\n",
       "      <td>2</td>\n",
       "      <td>0</td>\n",
       "      <td>0</td>\n",
       "      <td>This used to be my car wash of choice. They di...</td>\n",
       "      <td>2020-06-22 21:54:10</td>\n",
       "      <td>1420</td>\n",
       "    </tr>\n",
       "  </tbody>\n",
       "</table>\n",
       "<p>444075 rows × 7 columns</p>\n",
       "</div>"
      ],
      "text/plain": [
       "         stars  useful  funny  cool  \\\n",
       "3          2.0       0      0     0   \n",
       "8          1.0       0      0     0   \n",
       "25         1.0       0      0     0   \n",
       "30         1.0       0      0     0   \n",
       "31         1.0       0      0     0   \n",
       "...        ...     ...    ...   ...   \n",
       "1765239    2.0       0      0     0   \n",
       "1765247    1.0       1      1     0   \n",
       "1765249    1.0       0      0     0   \n",
       "1765250    1.0      13      1     0   \n",
       "1765252    2.0       2      0     0   \n",
       "\n",
       "                                                      text  \\\n",
       "3        Had a salad to go today. Guy behind the counte...   \n",
       "8        Go to any other chili's but this location. Ser...   \n",
       "25       The food here is reflective of the low prices ...   \n",
       "30       Although the food and decor of this establishm...   \n",
       "31       My pizza has literally never shown up 3 times....   \n",
       "...                                                    ...   \n",
       "1765239  Terrible pho. Literally zero flavor. And the c...   \n",
       "1765247  This was absolutely the most egregious display...   \n",
       "1765249  In December, I called in (as a returning custo...   \n",
       "1765250  This guy is a moron that will stalk and harass...   \n",
       "1765252  This used to be my car wash of choice. They di...   \n",
       "\n",
       "                       date  text length  \n",
       "3       2018-12-10 23:25:48          449  \n",
       "8       2018-12-11 04:31:42          542  \n",
       "25      2018-12-15 02:25:15          244  \n",
       "30      2018-12-02 22:18:01          598  \n",
       "31      2018-12-02 03:07:55         1134  \n",
       "...                     ...          ...  \n",
       "1765239 2021-01-17 22:09:10           97  \n",
       "1765247 2020-10-23 23:28:09         1636  \n",
       "1765249 2021-01-26 04:07:14         2586  \n",
       "1765250 2019-05-01 21:21:43          407  \n",
       "1765252 2020-06-22 21:54:10         1420  \n",
       "\n",
       "[444075 rows x 7 columns]"
      ]
     },
     "execution_count": 37,
     "metadata": {},
     "output_type": "execute_result"
    }
   ],
   "source": [
    "df_neg = df_rev[(df_rev['stars']==1) | (df_rev['stars']==2)]\n",
    "df_neg"
   ]
  },
  {
   "cell_type": "code",
   "execution_count": 45,
   "id": "e5cec651",
   "metadata": {},
   "outputs": [
    {
     "data": {
      "text/html": [
       "<div>\n",
       "<style scoped>\n",
       "    .dataframe tbody tr th:only-of-type {\n",
       "        vertical-align: middle;\n",
       "    }\n",
       "\n",
       "    .dataframe tbody tr th {\n",
       "        vertical-align: top;\n",
       "    }\n",
       "\n",
       "    .dataframe thead th {\n",
       "        text-align: right;\n",
       "    }\n",
       "</style>\n",
       "<table border=\"1\" class=\"dataframe\">\n",
       "  <thead>\n",
       "    <tr style=\"text-align: right;\">\n",
       "      <th></th>\n",
       "      <th>stars</th>\n",
       "      <th>useful</th>\n",
       "      <th>funny</th>\n",
       "      <th>cool</th>\n",
       "      <th>text length</th>\n",
       "    </tr>\n",
       "  </thead>\n",
       "  <tbody>\n",
       "    <tr>\n",
       "      <th>count</th>\n",
       "      <td>1321179.0</td>\n",
       "      <td>1.321179e+06</td>\n",
       "      <td>1.321179e+06</td>\n",
       "      <td>1.321179e+06</td>\n",
       "      <td>1.321179e+06</td>\n",
       "    </tr>\n",
       "    <tr>\n",
       "      <th>mean</th>\n",
       "      <td>NaN</td>\n",
       "      <td>8.221755e-01</td>\n",
       "      <td>2.586130e-01</td>\n",
       "      <td>5.671344e-01</td>\n",
       "      <td>4.834850e+02</td>\n",
       "    </tr>\n",
       "    <tr>\n",
       "      <th>std</th>\n",
       "      <td>0.0</td>\n",
       "      <td>3.485058e+00</td>\n",
       "      <td>1.965480e+00</td>\n",
       "      <td>3.194442e+00</td>\n",
       "      <td>4.349510e+02</td>\n",
       "    </tr>\n",
       "    <tr>\n",
       "      <th>min</th>\n",
       "      <td>3.0</td>\n",
       "      <td>0.000000e+00</td>\n",
       "      <td>0.000000e+00</td>\n",
       "      <td>0.000000e+00</td>\n",
       "      <td>1.000000e+00</td>\n",
       "    </tr>\n",
       "    <tr>\n",
       "      <th>25%</th>\n",
       "      <td>4.0</td>\n",
       "      <td>0.000000e+00</td>\n",
       "      <td>0.000000e+00</td>\n",
       "      <td>0.000000e+00</td>\n",
       "      <td>2.050000e+02</td>\n",
       "    </tr>\n",
       "    <tr>\n",
       "      <th>50%</th>\n",
       "      <td>5.0</td>\n",
       "      <td>0.000000e+00</td>\n",
       "      <td>0.000000e+00</td>\n",
       "      <td>0.000000e+00</td>\n",
       "      <td>3.520000e+02</td>\n",
       "    </tr>\n",
       "    <tr>\n",
       "      <th>75%</th>\n",
       "      <td>5.0</td>\n",
       "      <td>1.000000e+00</td>\n",
       "      <td>0.000000e+00</td>\n",
       "      <td>0.000000e+00</td>\n",
       "      <td>6.090000e+02</td>\n",
       "    </tr>\n",
       "    <tr>\n",
       "      <th>max</th>\n",
       "      <td>5.0</td>\n",
       "      <td>4.460000e+02</td>\n",
       "      <td>2.880000e+02</td>\n",
       "      <td>3.920000e+02</td>\n",
       "      <td>5.000000e+03</td>\n",
       "    </tr>\n",
       "  </tbody>\n",
       "</table>\n",
       "</div>"
      ],
      "text/plain": [
       "           stars        useful         funny          cool   text length\n",
       "count  1321179.0  1.321179e+06  1.321179e+06  1.321179e+06  1.321179e+06\n",
       "mean         NaN  8.221755e-01  2.586130e-01  5.671344e-01  4.834850e+02\n",
       "std          0.0  3.485058e+00  1.965480e+00  3.194442e+00  4.349510e+02\n",
       "min          3.0  0.000000e+00  0.000000e+00  0.000000e+00  1.000000e+00\n",
       "25%          4.0  0.000000e+00  0.000000e+00  0.000000e+00  2.050000e+02\n",
       "50%          5.0  0.000000e+00  0.000000e+00  0.000000e+00  3.520000e+02\n",
       "75%          5.0  1.000000e+00  0.000000e+00  0.000000e+00  6.090000e+02\n",
       "max          5.0  4.460000e+02  2.880000e+02  3.920000e+02  5.000000e+03"
      ]
     },
     "execution_count": 45,
     "metadata": {},
     "output_type": "execute_result"
    }
   ],
   "source": [
    "df_pos = df_rev[(df_rev['stars'] == 3) | (df_rev['stars'] == 4) | (df_rev['stars'] == 5)]\n",
    "df_pos.describe()"
   ]
  },
  {
   "cell_type": "code",
   "execution_count": 48,
   "id": "52fca8cf",
   "metadata": {},
   "outputs": [],
   "source": [
    "X = df_rev['text']\n",
    "Y = df_rev['stars']\n",
    "\n",
    "cv = CountVectorizer()\n",
    "X = cv.fit_transform(X)\n",
    "X_train, X_test, Y_train, Y_test = train_test_split(X, Y, test_size=0.3, random_state=101)\n"
   ]
  },
  {
   "cell_type": "code",
   "execution_count": 49,
   "id": "2b19e925",
   "metadata": {},
   "outputs": [],
   "source": [
    "# Multinomial NB\n",
    "nb = MultinomialNB()\n"
   ]
  },
  {
   "cell_type": "code",
   "execution_count": 52,
   "id": "8d0d5361",
   "metadata": {},
   "outputs": [
    {
     "data": {
      "text/plain": [
       "MultinomialNB()"
      ]
     },
     "execution_count": 52,
     "metadata": {},
     "output_type": "execute_result"
    }
   ],
   "source": [
    "nb.fit(X_train, Y_train)"
   ]
  },
  {
   "cell_type": "code",
   "execution_count": 55,
   "id": "3db28af1",
   "metadata": {},
   "outputs": [],
   "source": [
    "model = nb.predict(X_test)"
   ]
  },
  {
   "cell_type": "code",
   "execution_count": 57,
   "id": "d678bd09",
   "metadata": {},
   "outputs": [
    {
     "name": "stdout",
     "output_type": "stream",
     "text": [
      "[[ 70691  15754   6369   1544   1424]\n",
      " [ 11543  10020  11164   3308   1108]\n",
      " [  5172   5345  14225  14570   2467]\n",
      " [  3349   1932   5709  49654  20398]\n",
      " [ 13747   1391   2031  58772 197890]]\n",
      "/n\n",
      "              precision    recall  f1-score   support\n",
      "\n",
      "         1.0       0.68      0.74      0.71     95782\n",
      "         2.0       0.29      0.27      0.28     37143\n",
      "         3.0       0.36      0.34      0.35     41779\n",
      "         4.0       0.39      0.61      0.48     81042\n",
      "         5.0       0.89      0.72      0.80    273831\n",
      "\n",
      "    accuracy                           0.65    529577\n",
      "   macro avg       0.52      0.54      0.52    529577\n",
      "weighted avg       0.69      0.65      0.66    529577\n",
      "\n"
     ]
    }
   ],
   "source": [
    "print(confusion_matrix(Y_test, model))\n",
    "print('/n')\n",
    "print(classification_report(Y_test, model))"
   ]
  }
 ],
 "metadata": {
  "kernelspec": {
   "display_name": "Python 3",
   "language": "python",
   "name": "python3"
  },
  "language_info": {
   "codemirror_mode": {
    "name": "ipython",
    "version": 3
   },
   "file_extension": ".py",
   "mimetype": "text/x-python",
   "name": "python",
   "nbconvert_exporter": "python",
   "pygments_lexer": "ipython3",
   "version": "3.8.8"
  }
 },
 "nbformat": 4,
 "nbformat_minor": 5
}
