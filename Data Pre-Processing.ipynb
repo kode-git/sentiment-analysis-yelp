{
 "cells": [
  {
   "cell_type": "markdown",
   "id": "e9e1d8b7",
   "metadata": {},
   "source": [
    "## Import Libraries and Load Dataset"
   ]
  },
  {
   "cell_type": "code",
   "execution_count": 10,
   "id": "b3fdb424",
   "metadata": {
    "ExecuteTime": {
     "end_time": "2021-09-07T09:57:29.081684Z",
     "start_time": "2021-09-07T09:57:28.964718Z"
    }
   },
   "outputs": [
    {
     "ename": "ModuleNotFoundError",
     "evalue": "No module named 'whatthelang'",
     "output_type": "error",
     "traceback": [
      "\u001b[0;31m---------------------------------------------------------------------------\u001b[0m",
      "\u001b[0;31mModuleNotFoundError\u001b[0m                       Traceback (most recent call last)",
      "\u001b[0;32m/var/folders/hp/y_p2cf_d4575l24bws2nk5fh0000gn/T/ipykernel_7606/2700921094.py\u001b[0m in \u001b[0;36m<module>\u001b[0;34m\u001b[0m\n\u001b[1;32m      3\u001b[0m \u001b[0;32mimport\u001b[0m \u001b[0mseaborn\u001b[0m \u001b[0;32mas\u001b[0m \u001b[0msns\u001b[0m\u001b[0;34m\u001b[0m\u001b[0;34m\u001b[0m\u001b[0m\n\u001b[1;32m      4\u001b[0m \u001b[0;34m\u001b[0m\u001b[0m\n\u001b[0;32m----> 5\u001b[0;31m \u001b[0;32mfrom\u001b[0m \u001b[0mwhatthelang\u001b[0m \u001b[0;32mimport\u001b[0m \u001b[0mWhatTheLang\u001b[0m\u001b[0;34m\u001b[0m\u001b[0;34m\u001b[0m\u001b[0m\n\u001b[0m\u001b[1;32m      6\u001b[0m \u001b[0;32mimport\u001b[0m \u001b[0mswifter\u001b[0m \u001b[0;32mas\u001b[0m \u001b[0mswf\u001b[0m\u001b[0;34m\u001b[0m\u001b[0;34m\u001b[0m\u001b[0m\n\u001b[1;32m      7\u001b[0m \u001b[0;34m\u001b[0m\u001b[0m\n",
      "\u001b[0;31mModuleNotFoundError\u001b[0m: No module named 'whatthelang'"
     ]
    }
   ],
   "source": [
    "import pandas as pd\n",
    "import numpy as np\n",
    "import seaborn as sns\n",
    "\n",
    "from whatthelang import WhatTheLang\n",
    "import swifter as swf\n",
    "\n",
    "%matplotlib inline"
   ]
  },
  {
   "cell_type": "code",
   "execution_count": 13,
   "id": "267acbc5",
   "metadata": {
    "ExecuteTime": {
     "end_time": "2021-09-07T10:00:50.622419Z",
     "start_time": "2021-09-07T10:00:00.476679Z"
    }
   },
   "outputs": [
    {
     "name": "stdout",
     "output_type": "stream",
     "text": [
      "Collecting future\n",
      "  Using cached future-0.18.2.tar.gz (829 kB)\n",
      "Building wheels for collected packages: future\n",
      "  Building wheel for future (setup.py) ... \u001b[?25ldone\n",
      "\u001b[?25h  Created wheel for future: filename=future-0.18.2-py3-none-any.whl size=491058 sha256=bbb5048b46c9773d2f1c68bb7585a9541e1cc3e6d7f88952f1845b3b1c098eb2\n",
      "  Stored in directory: /Users/kode/Library/Caches/pip/wheels/2f/a0/d3/4030d9f80e6b3be787f19fc911b8e7aa462986a40ab1e4bb94\n",
      "Successfully built future\n",
      "Installing collected packages: future\n",
      "Successfully installed future-0.18.2\n",
      "Collecting Cython\n",
      "  Using cached Cython-0.29.24-cp39-cp39-macosx_10_9_x86_64.whl (1.9 MB)\n",
      "Installing collected packages: Cython\n",
      "Successfully installed Cython-0.29.24\n",
      "Collecting cysignals\n",
      "  Using cached cysignals-1.10.3.tar.gz (455 kB)\n",
      "Requirement already satisfied: Cython>=0.28 in /Library/Frameworks/Python.framework/Versions/3.9/lib/python3.9/site-packages (from cysignals) (0.29.24)\n",
      "Building wheels for collected packages: cysignals\n",
      "  Building wheel for cysignals (setup.py) ... \u001b[?25ldone\n",
      "\u001b[?25h  Created wheel for cysignals: filename=cysignals-1.10.3-cp39-cp39-macosx_10_9_x86_64.whl size=232583 sha256=5e6ae0b9e2c2d9942d06a583c5acfe6d0e72bb1cb411d979df33debdb3401c82\n",
      "  Stored in directory: /Users/kode/Library/Caches/pip/wheels/ad/04/20/a429b9738957c356da8626021df60f9532c7b622a7a72ed96d\n",
      "Successfully built cysignals\n",
      "Installing collected packages: cysignals\n",
      "Successfully installed cysignals-1.10.3\n",
      "Collecting pyfasttext\n",
      "  Using cached pyfasttext-0.4.6.tar.gz (244 kB)\n",
      "Requirement already satisfied: future in /Library/Frameworks/Python.framework/Versions/3.9/lib/python3.9/site-packages (from pyfasttext) (0.18.2)\n",
      "Requirement already satisfied: cysignals in /Library/Frameworks/Python.framework/Versions/3.9/lib/python3.9/site-packages (from pyfasttext) (1.10.3)\n",
      "Requirement already satisfied: numpy in /Library/Frameworks/Python.framework/Versions/3.9/lib/python3.9/site-packages (from pyfasttext) (1.19.5)\n",
      "Requirement already satisfied: Cython>=0.28 in /Library/Frameworks/Python.framework/Versions/3.9/lib/python3.9/site-packages (from cysignals->pyfasttext) (0.29.24)\n",
      "Building wheels for collected packages: pyfasttext\n",
      "  Building wheel for pyfasttext (setup.py) ... \u001b[?25lerror\n",
      "\u001b[31m  ERROR: Command errored out with exit status 1:\n",
      "   command: /Library/Frameworks/Python.framework/Versions/3.9/bin/python3.9 -u -c 'import io, os, sys, setuptools, tokenize; sys.argv[0] = '\"'\"'/private/var/folders/hp/y_p2cf_d4575l24bws2nk5fh0000gn/T/pip-install-9te4_b3z/pyfasttext_fd395458f2f34b8cba7594ffe52cde08/setup.py'\"'\"'; __file__='\"'\"'/private/var/folders/hp/y_p2cf_d4575l24bws2nk5fh0000gn/T/pip-install-9te4_b3z/pyfasttext_fd395458f2f34b8cba7594ffe52cde08/setup.py'\"'\"';f = getattr(tokenize, '\"'\"'open'\"'\"', open)(__file__) if os.path.exists(__file__) else io.StringIO('\"'\"'from setuptools import setup; setup()'\"'\"');code = f.read().replace('\"'\"'\\r\\n'\"'\"', '\"'\"'\\n'\"'\"');f.close();exec(compile(code, __file__, '\"'\"'exec'\"'\"'))' bdist_wheel -d /private/var/folders/hp/y_p2cf_d4575l24bws2nk5fh0000gn/T/pip-wheel-2wgt1df_\n",
      "       cwd: /private/var/folders/hp/y_p2cf_d4575l24bws2nk5fh0000gn/T/pip-install-9te4_b3z/pyfasttext_fd395458f2f34b8cba7594ffe52cde08/\n",
      "  Complete output (51 lines):\n",
      "  running bdist_wheel\n",
      "  running build\n",
      "  running build_ext\n",
      "  building 'pyfasttext' extension\n",
      "  creating build\n",
      "  creating build/temp.macosx-10.9-x86_64-3.9\n",
      "  creating build/temp.macosx-10.9-x86_64-3.9/src\n",
      "  creating build/temp.macosx-10.9-x86_64-3.9/src/fastText\n",
      "  creating build/temp.macosx-10.9-x86_64-3.9/src/fastText/src\n",
      "  gcc -Wno-unused-result -Wsign-compare -Wunreachable-code -fno-common -dynamic -DNDEBUG -g -fwrapv -O3 -Wall -arch x86_64 -g -iquote . -include src/custom_exit.h -Isrc -I/Library/Frameworks/Python.framework/Versions/3.9/lib/python3.9/site-packages/cysignals -I. -Isrc/variant/include -I/Library/Frameworks/Python.framework/Versions/3.9/include/python3.9 -I/Library/Frameworks/Python.framework/Versions/3.9/lib/python3.9/site-packages/numpy/core/include -c src/fastText/src/args.cc -o build/temp.macosx-10.9-x86_64-3.9/src/fastText/src/args.o -Wno-sign-compare -std=c++0x\n",
      "  gcc -Wno-unused-result -Wsign-compare -Wunreachable-code -fno-common -dynamic -DNDEBUG -g -fwrapv -O3 -Wall -arch x86_64 -g -iquote . -include src/custom_exit.h -Isrc -I/Library/Frameworks/Python.framework/Versions/3.9/lib/python3.9/site-packages/cysignals -I. -Isrc/variant/include -I/Library/Frameworks/Python.framework/Versions/3.9/include/python3.9 -I/Library/Frameworks/Python.framework/Versions/3.9/lib/python3.9/site-packages/numpy/core/include -c src/fastText/src/dictionary.cc -o build/temp.macosx-10.9-x86_64-3.9/src/fastText/src/dictionary.o -Wno-sign-compare -std=c++0x\n",
      "  gcc -Wno-unused-result -Wsign-compare -Wunreachable-code -fno-common -dynamic -DNDEBUG -g -fwrapv -O3 -Wall -arch x86_64 -g -iquote . -include src/custom_exit.h -Isrc -I/Library/Frameworks/Python.framework/Versions/3.9/lib/python3.9/site-packages/cysignals -I. -Isrc/variant/include -I/Library/Frameworks/Python.framework/Versions/3.9/include/python3.9 -I/Library/Frameworks/Python.framework/Versions/3.9/lib/python3.9/site-packages/numpy/core/include -c src/fastText/src/fasttext.cc -o build/temp.macosx-10.9-x86_64-3.9/src/fastText/src/fasttext.o -Wno-sign-compare -std=c++0x\n",
      "  gcc -Wno-unused-result -Wsign-compare -Wunreachable-code -fno-common -dynamic -DNDEBUG -g -fwrapv -O3 -Wall -arch x86_64 -g -iquote . -include src/custom_exit.h -Isrc -I/Library/Frameworks/Python.framework/Versions/3.9/lib/python3.9/site-packages/cysignals -I. -Isrc/variant/include -I/Library/Frameworks/Python.framework/Versions/3.9/include/python3.9 -I/Library/Frameworks/Python.framework/Versions/3.9/lib/python3.9/site-packages/numpy/core/include -c src/fastText/src/matrix.cc -o build/temp.macosx-10.9-x86_64-3.9/src/fastText/src/matrix.o -Wno-sign-compare -std=c++0x\n",
      "  gcc -Wno-unused-result -Wsign-compare -Wunreachable-code -fno-common -dynamic -DNDEBUG -g -fwrapv -O3 -Wall -arch x86_64 -g -iquote . -include src/custom_exit.h -Isrc -I/Library/Frameworks/Python.framework/Versions/3.9/lib/python3.9/site-packages/cysignals -I. -Isrc/variant/include -I/Library/Frameworks/Python.framework/Versions/3.9/include/python3.9 -I/Library/Frameworks/Python.framework/Versions/3.9/lib/python3.9/site-packages/numpy/core/include -c src/fastText/src/model.cc -o build/temp.macosx-10.9-x86_64-3.9/src/fastText/src/model.o -Wno-sign-compare -std=c++0x\n",
      "  gcc -Wno-unused-result -Wsign-compare -Wunreachable-code -fno-common -dynamic -DNDEBUG -g -fwrapv -O3 -Wall -arch x86_64 -g -iquote . -include src/custom_exit.h -Isrc -I/Library/Frameworks/Python.framework/Versions/3.9/lib/python3.9/site-packages/cysignals -I. -Isrc/variant/include -I/Library/Frameworks/Python.framework/Versions/3.9/include/python3.9 -I/Library/Frameworks/Python.framework/Versions/3.9/lib/python3.9/site-packages/numpy/core/include -c src/fastText/src/productquantizer.cc -o build/temp.macosx-10.9-x86_64-3.9/src/fastText/src/productquantizer.o -Wno-sign-compare -std=c++0x\n",
      "  gcc -Wno-unused-result -Wsign-compare -Wunreachable-code -fno-common -dynamic -DNDEBUG -g -fwrapv -O3 -Wall -arch x86_64 -g -iquote . -include src/custom_exit.h -Isrc -I/Library/Frameworks/Python.framework/Versions/3.9/lib/python3.9/site-packages/cysignals -I. -Isrc/variant/include -I/Library/Frameworks/Python.framework/Versions/3.9/include/python3.9 -I/Library/Frameworks/Python.framework/Versions/3.9/lib/python3.9/site-packages/numpy/core/include -c src/fastText/src/qmatrix.cc -o build/temp.macosx-10.9-x86_64-3.9/src/fastText/src/qmatrix.o -Wno-sign-compare -std=c++0x\n",
      "  gcc -Wno-unused-result -Wsign-compare -Wunreachable-code -fno-common -dynamic -DNDEBUG -g -fwrapv -O3 -Wall -arch x86_64 -g -iquote . -include src/custom_exit.h -Isrc -I/Library/Frameworks/Python.framework/Versions/3.9/lib/python3.9/site-packages/cysignals -I. -Isrc/variant/include -I/Library/Frameworks/Python.framework/Versions/3.9/include/python3.9 -I/Library/Frameworks/Python.framework/Versions/3.9/lib/python3.9/site-packages/numpy/core/include -c src/fastText/src/utils.cc -o build/temp.macosx-10.9-x86_64-3.9/src/fastText/src/utils.o -Wno-sign-compare -std=c++0x\n",
      "  gcc -Wno-unused-result -Wsign-compare -Wunreachable-code -fno-common -dynamic -DNDEBUG -g -fwrapv -O3 -Wall -arch x86_64 -g -iquote . -include src/custom_exit.h -Isrc -I/Library/Frameworks/Python.framework/Versions/3.9/lib/python3.9/site-packages/cysignals -I. -Isrc/variant/include -I/Library/Frameworks/Python.framework/Versions/3.9/include/python3.9 -I/Library/Frameworks/Python.framework/Versions/3.9/lib/python3.9/site-packages/numpy/core/include -c src/fastText/src/vector.cc -o build/temp.macosx-10.9-x86_64-3.9/src/fastText/src/vector.o -Wno-sign-compare -std=c++0x\n",
      "  gcc -Wno-unused-result -Wsign-compare -Wunreachable-code -fno-common -dynamic -DNDEBUG -g -fwrapv -O3 -Wall -arch x86_64 -g -iquote . -include src/custom_exit.h -Isrc -I/Library/Frameworks/Python.framework/Versions/3.9/lib/python3.9/site-packages/cysignals -I. -Isrc/variant/include -I/Library/Frameworks/Python.framework/Versions/3.9/include/python3.9 -I/Library/Frameworks/Python.framework/Versions/3.9/lib/python3.9/site-packages/numpy/core/include -c src/fasttext_access.cpp -o build/temp.macosx-10.9-x86_64-3.9/src/fasttext_access.o -Wno-sign-compare -std=c++0x\n",
      "  src/fasttext_access.cpp:43:1: error: non-type template argument is not a pointer to member constant\n",
      "  ALLOW_METHOD_ACCESS(FastText, bool, checkModel, std::istream&);\n",
      "  ^~~~~~~~~~~~~~~~~~~~~~~~~~~~~~~~~~~~~~~~~~~~~~~~~~~~~~~~~~~~~~\n",
      "  src/private_access.h:55:38: note: expanded from macro 'ALLOW_METHOD_ACCESS'\n",
      "    template struct rob<Only_##MEMBER, (RET_TYPE(CLASS::*)(__VA_ARGS__))(&CLASS::MEMBER)>\n",
      "                                       ^~~~~~~~~~~~~~~~~~~~~~~~~~~~~~~~~~~~~~~~~~~~~~~~~\n",
      "  src/fasttext_access.cpp:54:1: error: non-type template argument is not a pointer to member constant\n",
      "  ALLOW_CONST_METHOD_ACCESS(Dictionary, int32_t, find, const std::string&);\n",
      "  ^~~~~~~~~~~~~~~~~~~~~~~~~~~~~~~~~~~~~~~~~~~~~~~~~~~~~~~~~~~~~~~~~~~~~~~~\n",
      "  src/private_access.h:59:38: note: expanded from macro 'ALLOW_CONST_METHOD_ACCESS'\n",
      "    template struct rob<Only_##MEMBER, (RET_TYPE(CLASS::*)(__VA_ARGS__) const)(&CLASS::MEMBER)>\n",
      "                                       ^~~~~~~~~~~~~~~~~~~~~~~~~~~~~~~~~~~~~~~~~~~~~~~~~~~~~~~\n",
      "  src/fasttext_access.cpp:55:1: error: non-type template argument is not a pointer to member constant\n",
      "  ALLOW_CONST_METHOD_ACCESS(Dictionary, void, pushHash, std::vector<int32_t>&, int32_t);\n",
      "  ^~~~~~~~~~~~~~~~~~~~~~~~~~~~~~~~~~~~~~~~~~~~~~~~~~~~~~~~~~~~~~~~~~~~~~~~~~~~~~~~~~~~~\n",
      "  src/private_access.h:59:38: note: expanded from macro 'ALLOW_CONST_METHOD_ACCESS'\n",
      "    template struct rob<Only_##MEMBER, (RET_TYPE(CLASS::*)(__VA_ARGS__) const)(&CLASS::MEMBER)>\n",
      "                                       ^~~~~~~~~~~~~~~~~~~~~~~~~~~~~~~~~~~~~~~~~~~~~~~~~~~~~~~\n",
      "  src/fasttext_access.cpp:56:1: error: non-type template argument is not a pointer to member constant\n",
      "  ALLOW_METHOD_ACCESS(Dictionary, void, initTableDiscard, );\n",
      "  ^~~~~~~~~~~~~~~~~~~~~~~~~~~~~~~~~~~~~~~~~~~~~~~~~~~~~~~~~\n",
      "  src/private_access.h:55:38: note: expanded from macro 'ALLOW_METHOD_ACCESS'\n",
      "    template struct rob<Only_##MEMBER, (RET_TYPE(CLASS::*)(__VA_ARGS__))(&CLASS::MEMBER)>\n",
      "                                       ^~~~~~~~~~~~~~~~~~~~~~~~~~~~~~~~~~~~~~~~~~~~~~~~~\n",
      "  src/fasttext_access.cpp:57:1: error: non-type template argument is not a pointer to member constant\n",
      "  ALLOW_METHOD_ACCESS(Dictionary, void, initNgrams, );\n",
      "  ^~~~~~~~~~~~~~~~~~~~~~~~~~~~~~~~~~~~~~~~~~~~~~~~~~~\n",
      "  src/private_access.h:55:38: note: expanded from macro 'ALLOW_METHOD_ACCESS'\n",
      "    template struct rob<Only_##MEMBER, (RET_TYPE(CLASS::*)(__VA_ARGS__))(&CLASS::MEMBER)>\n",
      "                                       ^~~~~~~~~~~~~~~~~~~~~~~~~~~~~~~~~~~~~~~~~~~~~~~~~\n",
      "  5 errors generated.\n",
      "  error: command '/usr/bin/gcc' failed with exit code 1\n",
      "  ----------------------------------------\u001b[0m\n",
      "\u001b[31m  ERROR: Failed building wheel for pyfasttext\u001b[0m\n",
      "\u001b[?25h  Running setup.py clean for pyfasttext\n"
     ]
    },
    {
     "name": "stdout",
     "output_type": "stream",
     "text": [
      "Failed to build pyfasttext\n",
      "Installing collected packages: pyfasttext\n",
      "    Running setup.py install for pyfasttext ... \u001b[?25lerror\n",
      "\u001b[31m    ERROR: Command errored out with exit status 1:\n",
      "     command: /Library/Frameworks/Python.framework/Versions/3.9/bin/python3.9 -u -c 'import io, os, sys, setuptools, tokenize; sys.argv[0] = '\"'\"'/private/var/folders/hp/y_p2cf_d4575l24bws2nk5fh0000gn/T/pip-install-9te4_b3z/pyfasttext_fd395458f2f34b8cba7594ffe52cde08/setup.py'\"'\"'; __file__='\"'\"'/private/var/folders/hp/y_p2cf_d4575l24bws2nk5fh0000gn/T/pip-install-9te4_b3z/pyfasttext_fd395458f2f34b8cba7594ffe52cde08/setup.py'\"'\"';f = getattr(tokenize, '\"'\"'open'\"'\"', open)(__file__) if os.path.exists(__file__) else io.StringIO('\"'\"'from setuptools import setup; setup()'\"'\"');code = f.read().replace('\"'\"'\\r\\n'\"'\"', '\"'\"'\\n'\"'\"');f.close();exec(compile(code, __file__, '\"'\"'exec'\"'\"'))' install --record /private/var/folders/hp/y_p2cf_d4575l24bws2nk5fh0000gn/T/pip-record-b7a4krpp/install-record.txt --single-version-externally-managed --compile --install-headers /Library/Frameworks/Python.framework/Versions/3.9/include/python3.9/pyfasttext\n",
      "         cwd: /private/var/folders/hp/y_p2cf_d4575l24bws2nk5fh0000gn/T/pip-install-9te4_b3z/pyfasttext_fd395458f2f34b8cba7594ffe52cde08/\n",
      "    Complete output (51 lines):\n",
      "    running install\n",
      "    running build\n",
      "    running build_ext\n",
      "    building 'pyfasttext' extension\n",
      "    creating build\n",
      "    creating build/temp.macosx-10.9-x86_64-3.9\n",
      "    creating build/temp.macosx-10.9-x86_64-3.9/src\n",
      "    creating build/temp.macosx-10.9-x86_64-3.9/src/fastText\n",
      "    creating build/temp.macosx-10.9-x86_64-3.9/src/fastText/src\n",
      "    gcc -Wno-unused-result -Wsign-compare -Wunreachable-code -fno-common -dynamic -DNDEBUG -g -fwrapv -O3 -Wall -arch x86_64 -g -iquote . -include src/custom_exit.h -Isrc -I/Library/Frameworks/Python.framework/Versions/3.9/lib/python3.9/site-packages/cysignals -I. -Isrc/variant/include -I/Library/Frameworks/Python.framework/Versions/3.9/include/python3.9 -I/Library/Frameworks/Python.framework/Versions/3.9/lib/python3.9/site-packages/numpy/core/include -c src/fastText/src/args.cc -o build/temp.macosx-10.9-x86_64-3.9/src/fastText/src/args.o -Wno-sign-compare -std=c++0x\n",
      "    gcc -Wno-unused-result -Wsign-compare -Wunreachable-code -fno-common -dynamic -DNDEBUG -g -fwrapv -O3 -Wall -arch x86_64 -g -iquote . -include src/custom_exit.h -Isrc -I/Library/Frameworks/Python.framework/Versions/3.9/lib/python3.9/site-packages/cysignals -I. -Isrc/variant/include -I/Library/Frameworks/Python.framework/Versions/3.9/include/python3.9 -I/Library/Frameworks/Python.framework/Versions/3.9/lib/python3.9/site-packages/numpy/core/include -c src/fastText/src/dictionary.cc -o build/temp.macosx-10.9-x86_64-3.9/src/fastText/src/dictionary.o -Wno-sign-compare -std=c++0x\n",
      "    gcc -Wno-unused-result -Wsign-compare -Wunreachable-code -fno-common -dynamic -DNDEBUG -g -fwrapv -O3 -Wall -arch x86_64 -g -iquote . -include src/custom_exit.h -Isrc -I/Library/Frameworks/Python.framework/Versions/3.9/lib/python3.9/site-packages/cysignals -I. -Isrc/variant/include -I/Library/Frameworks/Python.framework/Versions/3.9/include/python3.9 -I/Library/Frameworks/Python.framework/Versions/3.9/lib/python3.9/site-packages/numpy/core/include -c src/fastText/src/fasttext.cc -o build/temp.macosx-10.9-x86_64-3.9/src/fastText/src/fasttext.o -Wno-sign-compare -std=c++0x\n",
      "    gcc -Wno-unused-result -Wsign-compare -Wunreachable-code -fno-common -dynamic -DNDEBUG -g -fwrapv -O3 -Wall -arch x86_64 -g -iquote . -include src/custom_exit.h -Isrc -I/Library/Frameworks/Python.framework/Versions/3.9/lib/python3.9/site-packages/cysignals -I. -Isrc/variant/include -I/Library/Frameworks/Python.framework/Versions/3.9/include/python3.9 -I/Library/Frameworks/Python.framework/Versions/3.9/lib/python3.9/site-packages/numpy/core/include -c src/fastText/src/matrix.cc -o build/temp.macosx-10.9-x86_64-3.9/src/fastText/src/matrix.o -Wno-sign-compare -std=c++0x\n",
      "    gcc -Wno-unused-result -Wsign-compare -Wunreachable-code -fno-common -dynamic -DNDEBUG -g -fwrapv -O3 -Wall -arch x86_64 -g -iquote . -include src/custom_exit.h -Isrc -I/Library/Frameworks/Python.framework/Versions/3.9/lib/python3.9/site-packages/cysignals -I. -Isrc/variant/include -I/Library/Frameworks/Python.framework/Versions/3.9/include/python3.9 -I/Library/Frameworks/Python.framework/Versions/3.9/lib/python3.9/site-packages/numpy/core/include -c src/fastText/src/model.cc -o build/temp.macosx-10.9-x86_64-3.9/src/fastText/src/model.o -Wno-sign-compare -std=c++0x\n",
      "    gcc -Wno-unused-result -Wsign-compare -Wunreachable-code -fno-common -dynamic -DNDEBUG -g -fwrapv -O3 -Wall -arch x86_64 -g -iquote . -include src/custom_exit.h -Isrc -I/Library/Frameworks/Python.framework/Versions/3.9/lib/python3.9/site-packages/cysignals -I. -Isrc/variant/include -I/Library/Frameworks/Python.framework/Versions/3.9/include/python3.9 -I/Library/Frameworks/Python.framework/Versions/3.9/lib/python3.9/site-packages/numpy/core/include -c src/fastText/src/productquantizer.cc -o build/temp.macosx-10.9-x86_64-3.9/src/fastText/src/productquantizer.o -Wno-sign-compare -std=c++0x\n",
      "    gcc -Wno-unused-result -Wsign-compare -Wunreachable-code -fno-common -dynamic -DNDEBUG -g -fwrapv -O3 -Wall -arch x86_64 -g -iquote . -include src/custom_exit.h -Isrc -I/Library/Frameworks/Python.framework/Versions/3.9/lib/python3.9/site-packages/cysignals -I. -Isrc/variant/include -I/Library/Frameworks/Python.framework/Versions/3.9/include/python3.9 -I/Library/Frameworks/Python.framework/Versions/3.9/lib/python3.9/site-packages/numpy/core/include -c src/fastText/src/qmatrix.cc -o build/temp.macosx-10.9-x86_64-3.9/src/fastText/src/qmatrix.o -Wno-sign-compare -std=c++0x\n",
      "    gcc -Wno-unused-result -Wsign-compare -Wunreachable-code -fno-common -dynamic -DNDEBUG -g -fwrapv -O3 -Wall -arch x86_64 -g -iquote . -include src/custom_exit.h -Isrc -I/Library/Frameworks/Python.framework/Versions/3.9/lib/python3.9/site-packages/cysignals -I. -Isrc/variant/include -I/Library/Frameworks/Python.framework/Versions/3.9/include/python3.9 -I/Library/Frameworks/Python.framework/Versions/3.9/lib/python3.9/site-packages/numpy/core/include -c src/fastText/src/utils.cc -o build/temp.macosx-10.9-x86_64-3.9/src/fastText/src/utils.o -Wno-sign-compare -std=c++0x\n",
      "    gcc -Wno-unused-result -Wsign-compare -Wunreachable-code -fno-common -dynamic -DNDEBUG -g -fwrapv -O3 -Wall -arch x86_64 -g -iquote . -include src/custom_exit.h -Isrc -I/Library/Frameworks/Python.framework/Versions/3.9/lib/python3.9/site-packages/cysignals -I. -Isrc/variant/include -I/Library/Frameworks/Python.framework/Versions/3.9/include/python3.9 -I/Library/Frameworks/Python.framework/Versions/3.9/lib/python3.9/site-packages/numpy/core/include -c src/fastText/src/vector.cc -o build/temp.macosx-10.9-x86_64-3.9/src/fastText/src/vector.o -Wno-sign-compare -std=c++0x\n",
      "    gcc -Wno-unused-result -Wsign-compare -Wunreachable-code -fno-common -dynamic -DNDEBUG -g -fwrapv -O3 -Wall -arch x86_64 -g -iquote . -include src/custom_exit.h -Isrc -I/Library/Frameworks/Python.framework/Versions/3.9/lib/python3.9/site-packages/cysignals -I. -Isrc/variant/include -I/Library/Frameworks/Python.framework/Versions/3.9/include/python3.9 -I/Library/Frameworks/Python.framework/Versions/3.9/lib/python3.9/site-packages/numpy/core/include -c src/fasttext_access.cpp -o build/temp.macosx-10.9-x86_64-3.9/src/fasttext_access.o -Wno-sign-compare -std=c++0x\n",
      "    src/fasttext_access.cpp:43:1: error: non-type template argument is not a pointer to member constant\n",
      "    ALLOW_METHOD_ACCESS(FastText, bool, checkModel, std::istream&);\n",
      "    ^~~~~~~~~~~~~~~~~~~~~~~~~~~~~~~~~~~~~~~~~~~~~~~~~~~~~~~~~~~~~~\n",
      "    src/private_access.h:55:38: note: expanded from macro 'ALLOW_METHOD_ACCESS'\n",
      "      template struct rob<Only_##MEMBER, (RET_TYPE(CLASS::*)(__VA_ARGS__))(&CLASS::MEMBER)>\n",
      "                                         ^~~~~~~~~~~~~~~~~~~~~~~~~~~~~~~~~~~~~~~~~~~~~~~~~\n",
      "    src/fasttext_access.cpp:54:1: error: non-type template argument is not a pointer to member constant\n",
      "    ALLOW_CONST_METHOD_ACCESS(Dictionary, int32_t, find, const std::string&);\n",
      "    ^~~~~~~~~~~~~~~~~~~~~~~~~~~~~~~~~~~~~~~~~~~~~~~~~~~~~~~~~~~~~~~~~~~~~~~~\n",
      "    src/private_access.h:59:38: note: expanded from macro 'ALLOW_CONST_METHOD_ACCESS'\n",
      "      template struct rob<Only_##MEMBER, (RET_TYPE(CLASS::*)(__VA_ARGS__) const)(&CLASS::MEMBER)>\n",
      "                                         ^~~~~~~~~~~~~~~~~~~~~~~~~~~~~~~~~~~~~~~~~~~~~~~~~~~~~~~\n",
      "    src/fasttext_access.cpp:55:1: error: non-type template argument is not a pointer to member constant\n",
      "    ALLOW_CONST_METHOD_ACCESS(Dictionary, void, pushHash, std::vector<int32_t>&, int32_t);\n",
      "    ^~~~~~~~~~~~~~~~~~~~~~~~~~~~~~~~~~~~~~~~~~~~~~~~~~~~~~~~~~~~~~~~~~~~~~~~~~~~~~~~~~~~~\n",
      "    src/private_access.h:59:38: note: expanded from macro 'ALLOW_CONST_METHOD_ACCESS'\n",
      "      template struct rob<Only_##MEMBER, (RET_TYPE(CLASS::*)(__VA_ARGS__) const)(&CLASS::MEMBER)>\n",
      "                                         ^~~~~~~~~~~~~~~~~~~~~~~~~~~~~~~~~~~~~~~~~~~~~~~~~~~~~~~\n",
      "    src/fasttext_access.cpp:56:1: error: non-type template argument is not a pointer to member constant\n",
      "    ALLOW_METHOD_ACCESS(Dictionary, void, initTableDiscard, );\n",
      "    ^~~~~~~~~~~~~~~~~~~~~~~~~~~~~~~~~~~~~~~~~~~~~~~~~~~~~~~~~\n",
      "    src/private_access.h:55:38: note: expanded from macro 'ALLOW_METHOD_ACCESS'\n",
      "      template struct rob<Only_##MEMBER, (RET_TYPE(CLASS::*)(__VA_ARGS__))(&CLASS::MEMBER)>\n",
      "                                         ^~~~~~~~~~~~~~~~~~~~~~~~~~~~~~~~~~~~~~~~~~~~~~~~~\n",
      "    src/fasttext_access.cpp:57:1: error: non-type template argument is not a pointer to member constant\n",
      "    ALLOW_METHOD_ACCESS(Dictionary, void, initNgrams, );\n",
      "    ^~~~~~~~~~~~~~~~~~~~~~~~~~~~~~~~~~~~~~~~~~~~~~~~~~~\n",
      "    src/private_access.h:55:38: note: expanded from macro 'ALLOW_METHOD_ACCESS'\n",
      "      template struct rob<Only_##MEMBER, (RET_TYPE(CLASS::*)(__VA_ARGS__))(&CLASS::MEMBER)>\n",
      "                                         ^~~~~~~~~~~~~~~~~~~~~~~~~~~~~~~~~~~~~~~~~~~~~~~~~\n",
      "    5 errors generated.\n",
      "    error: command '/usr/bin/gcc' failed with exit code 1\n",
      "    ----------------------------------------\u001b[0m\n",
      "\u001b[31mERROR: Command errored out with exit status 1: /Library/Frameworks/Python.framework/Versions/3.9/bin/python3.9 -u -c 'import io, os, sys, setuptools, tokenize; sys.argv[0] = '\"'\"'/private/var/folders/hp/y_p2cf_d4575l24bws2nk5fh0000gn/T/pip-install-9te4_b3z/pyfasttext_fd395458f2f34b8cba7594ffe52cde08/setup.py'\"'\"'; __file__='\"'\"'/private/var/folders/hp/y_p2cf_d4575l24bws2nk5fh0000gn/T/pip-install-9te4_b3z/pyfasttext_fd395458f2f34b8cba7594ffe52cde08/setup.py'\"'\"';f = getattr(tokenize, '\"'\"'open'\"'\"', open)(__file__) if os.path.exists(__file__) else io.StringIO('\"'\"'from setuptools import setup; setup()'\"'\"');code = f.read().replace('\"'\"'\\r\\n'\"'\"', '\"'\"'\\n'\"'\"');f.close();exec(compile(code, __file__, '\"'\"'exec'\"'\"'))' install --record /private/var/folders/hp/y_p2cf_d4575l24bws2nk5fh0000gn/T/pip-record-b7a4krpp/install-record.txt --single-version-externally-managed --compile --install-headers /Library/Frameworks/Python.framework/Versions/3.9/include/python3.9/pyfasttext Check the logs for full command output.\u001b[0m\n",
      "\u001b[?25h"
     ]
    }
   ],
   "source": [
    "!pip install future \n",
    "!pip install Cython \n",
    "!pip install cysignals \n",
    "!pip install pyfasttext "
   ]
  },
  {
   "cell_type": "code",
   "execution_count": 2,
   "id": "ce309331",
   "metadata": {
    "ExecuteTime": {
     "end_time": "2021-09-07T09:52:14.968904Z",
     "start_time": "2021-09-07T09:51:30.610818Z"
    }
   },
   "outputs": [
    {
     "name": "stdout",
     "output_type": "stream",
     "text": [
      "CPU times: user 39.3 s, sys: 4.6 s, total: 43.9 s\n",
      "Wall time: 44.4 s\n"
     ]
    }
   ],
   "source": [
    "%%time\n",
    "df = pd.read_csv('./data/yelp_academic_base_dataset.csv')"
   ]
  },
  {
   "cell_type": "code",
   "execution_count": 3,
   "id": "713157bd",
   "metadata": {
    "ExecuteTime": {
     "end_time": "2021-09-07T09:52:15.015534Z",
     "start_time": "2021-09-07T09:52:15.001947Z"
    }
   },
   "outputs": [
    {
     "data": {
      "text/html": [
       "<div>\n",
       "<style scoped>\n",
       "    .dataframe tbody tr th:only-of-type {\n",
       "        vertical-align: middle;\n",
       "    }\n",
       "\n",
       "    .dataframe tbody tr th {\n",
       "        vertical-align: top;\n",
       "    }\n",
       "\n",
       "    .dataframe thead th {\n",
       "        text-align: right;\n",
       "    }\n",
       "</style>\n",
       "<table border=\"1\" class=\"dataframe\">\n",
       "  <thead>\n",
       "    <tr style=\"text-align: right;\">\n",
       "      <th></th>\n",
       "      <th>businessId</th>\n",
       "      <th>meanStars</th>\n",
       "      <th>reviewCount</th>\n",
       "      <th>reviewStars</th>\n",
       "      <th>text</th>\n",
       "      <th>date</th>\n",
       "    </tr>\n",
       "  </thead>\n",
       "  <tbody>\n",
       "    <tr>\n",
       "      <th>0</th>\n",
       "      <td>6iYb2HFDywm3zjuRg0shjw</td>\n",
       "      <td>4.0</td>\n",
       "      <td>86</td>\n",
       "      <td>5.0</td>\n",
       "      <td>Stopped in on a busy Friday night. Despite the...</td>\n",
       "      <td>2018-03-04 00:59:21</td>\n",
       "    </tr>\n",
       "    <tr>\n",
       "      <th>1</th>\n",
       "      <td>tCbdrRPZA0oiIYSmHG3J0w</td>\n",
       "      <td>4.0</td>\n",
       "      <td>126</td>\n",
       "      <td>4.0</td>\n",
       "      <td>Elephant's contacted me the same day I posted ...</td>\n",
       "      <td>2012-07-16 05:04:05</td>\n",
       "    </tr>\n",
       "    <tr>\n",
       "      <th>2</th>\n",
       "      <td>tCbdrRPZA0oiIYSmHG3J0w</td>\n",
       "      <td>4.0</td>\n",
       "      <td>126</td>\n",
       "      <td>5.0</td>\n",
       "      <td>I'm not usually a fan of airport food. I usual...</td>\n",
       "      <td>2015-04-28 21:11:10</td>\n",
       "    </tr>\n",
       "    <tr>\n",
       "      <th>3</th>\n",
       "      <td>tCbdrRPZA0oiIYSmHG3J0w</td>\n",
       "      <td>4.0</td>\n",
       "      <td>126</td>\n",
       "      <td>4.0</td>\n",
       "      <td>If one must have breakfast at the airport, per...</td>\n",
       "      <td>2015-11-18 18:50:05</td>\n",
       "    </tr>\n",
       "    <tr>\n",
       "      <th>4</th>\n",
       "      <td>tCbdrRPZA0oiIYSmHG3J0w</td>\n",
       "      <td>4.0</td>\n",
       "      <td>126</td>\n",
       "      <td>5.0</td>\n",
       "      <td>Reasonably priced, tasty local joint. Lots of ...</td>\n",
       "      <td>2011-11-30 20:15:41</td>\n",
       "    </tr>\n",
       "  </tbody>\n",
       "</table>\n",
       "</div>"
      ],
      "text/plain": [
       "               businessId  meanStars  reviewCount  reviewStars  \\\n",
       "0  6iYb2HFDywm3zjuRg0shjw        4.0           86          5.0   \n",
       "1  tCbdrRPZA0oiIYSmHG3J0w        4.0          126          4.0   \n",
       "2  tCbdrRPZA0oiIYSmHG3J0w        4.0          126          5.0   \n",
       "3  tCbdrRPZA0oiIYSmHG3J0w        4.0          126          4.0   \n",
       "4  tCbdrRPZA0oiIYSmHG3J0w        4.0          126          5.0   \n",
       "\n",
       "                                                text                 date  \n",
       "0  Stopped in on a busy Friday night. Despite the...  2018-03-04 00:59:21  \n",
       "1  Elephant's contacted me the same day I posted ...  2012-07-16 05:04:05  \n",
       "2  I'm not usually a fan of airport food. I usual...  2015-04-28 21:11:10  \n",
       "3  If one must have breakfast at the airport, per...  2015-11-18 18:50:05  \n",
       "4  Reasonably priced, tasty local joint. Lots of ...  2011-11-30 20:15:41  "
      ]
     },
     "execution_count": 3,
     "metadata": {},
     "output_type": "execute_result"
    }
   ],
   "source": [
    "df.head()"
   ]
  },
  {
   "cell_type": "markdown",
   "id": "d8bc3814",
   "metadata": {},
   "source": [
    "## Data Cleaning"
   ]
  },
  {
   "cell_type": "code",
   "execution_count": 4,
   "id": "108c14d3",
   "metadata": {
    "ExecuteTime": {
     "end_time": "2021-09-07T09:52:18.057341Z",
     "start_time": "2021-09-07T09:52:15.042711Z"
    }
   },
   "outputs": [
    {
     "name": "stdout",
     "output_type": "stream",
     "text": [
      "Removing of 2 values and respective rows...\n"
     ]
    }
   ],
   "source": [
    "# Removing rows with missing values\n",
    "print(f'Removing of {df.isna().values.sum()} values and respective rows...')\n",
    "df.dropna(inplace=True)"
   ]
  },
  {
   "cell_type": "code",
   "execution_count": 5,
   "id": "9591757e",
   "metadata": {
    "ExecuteTime": {
     "end_time": "2021-09-07T09:52:19.295547Z",
     "start_time": "2021-09-07T09:52:18.082745Z"
    }
   },
   "outputs": [
    {
     "data": {
      "text/plain": [
       "False"
      ]
     },
     "execution_count": 5,
     "metadata": {},
     "output_type": "execute_result"
    }
   ],
   "source": [
    "df.isna().values.any()"
   ]
  },
  {
   "cell_type": "code",
   "execution_count": 6,
   "id": "ed9d4777",
   "metadata": {
    "ExecuteTime": {
     "end_time": "2021-09-07T09:52:20.538914Z",
     "start_time": "2021-09-07T09:52:19.320081Z"
    }
   },
   "outputs": [
    {
     "data": {
      "text/plain": [
       "businessId     6968547\n",
       "meanStars      6968547\n",
       "reviewCount    6968547\n",
       "reviewStars    6968547\n",
       "text           6968547\n",
       "date           6968547\n",
       "dtype: int64"
      ]
     },
     "execution_count": 6,
     "metadata": {},
     "output_type": "execute_result"
    }
   ],
   "source": [
    "df.count()"
   ]
  },
  {
   "cell_type": "code",
   "execution_count": 7,
   "id": "e3d2776f",
   "metadata": {
    "ExecuteTime": {
     "end_time": "2021-09-07T09:52:22.354285Z",
     "start_time": "2021-09-07T09:52:20.559430Z"
    }
   },
   "outputs": [
    {
     "data": {
      "text/plain": [
       "businessId     4215151\n",
       "meanStars      4215151\n",
       "reviewCount    4215151\n",
       "reviewStars    4215151\n",
       "text           4215151\n",
       "date           4215151\n",
       "dtype: int64"
      ]
     },
     "execution_count": 7,
     "metadata": {},
     "output_type": "execute_result"
    }
   ],
   "source": [
    "# removing old rows\n",
    "df = df[df['date'] > '2016-01-01']\n",
    "df.count()"
   ]
  },
  {
   "cell_type": "code",
   "execution_count": 8,
   "id": "c5d42518",
   "metadata": {
    "ExecuteTime": {
     "end_time": "2021-09-07T09:52:24.467282Z",
     "start_time": "2021-09-07T09:52:22.374714Z"
    }
   },
   "outputs": [
    {
     "name": "stdout",
     "output_type": "stream",
     "text": [
      "Positive reviews: 2845008\n",
      "Negative reviews: 1370143\n",
      "--------------------------\n",
      "Counting: 17070048, 8220858, 25290906\n",
      "After balance phase :-> Positive: 500000, Negative: 500000\n",
      "Unify datasets\n"
     ]
    },
    {
     "data": {
      "text/html": [
       "<div>\n",
       "<style scoped>\n",
       "    .dataframe tbody tr th:only-of-type {\n",
       "        vertical-align: middle;\n",
       "    }\n",
       "\n",
       "    .dataframe tbody tr th {\n",
       "        vertical-align: top;\n",
       "    }\n",
       "\n",
       "    .dataframe thead th {\n",
       "        text-align: right;\n",
       "    }\n",
       "</style>\n",
       "<table border=\"1\" class=\"dataframe\">\n",
       "  <thead>\n",
       "    <tr style=\"text-align: right;\">\n",
       "      <th></th>\n",
       "      <th>businessId</th>\n",
       "      <th>meanStars</th>\n",
       "      <th>reviewCount</th>\n",
       "      <th>reviewStars</th>\n",
       "      <th>text</th>\n",
       "      <th>date</th>\n",
       "    </tr>\n",
       "  </thead>\n",
       "  <tbody>\n",
       "    <tr>\n",
       "      <th>0</th>\n",
       "      <td>6iYb2HFDywm3zjuRg0shjw</td>\n",
       "      <td>4.0</td>\n",
       "      <td>86</td>\n",
       "      <td>5.0</td>\n",
       "      <td>Stopped in on a busy Friday night. Despite the...</td>\n",
       "      <td>2018-03-04 00:59:21</td>\n",
       "    </tr>\n",
       "    <tr>\n",
       "      <th>5</th>\n",
       "      <td>bvN78flM8NLprQ1a1y5dRg</td>\n",
       "      <td>4.5</td>\n",
       "      <td>13</td>\n",
       "      <td>4.0</td>\n",
       "      <td>Quaint little store with tons of amazing items...</td>\n",
       "      <td>2016-08-25 16:52:19</td>\n",
       "    </tr>\n",
       "    <tr>\n",
       "      <th>7</th>\n",
       "      <td>PE9uqAjdw0E4-8mjGl3wVA</td>\n",
       "      <td>4.0</td>\n",
       "      <td>14</td>\n",
       "      <td>5.0</td>\n",
       "      <td>I came in as a drop in.  Casey Castleberry is ...</td>\n",
       "      <td>2016-08-12 23:38:16</td>\n",
       "    </tr>\n",
       "    <tr>\n",
       "      <th>10</th>\n",
       "      <td>D4JtQNTI4X3KcbzacDJsMw</td>\n",
       "      <td>3.5</td>\n",
       "      <td>169</td>\n",
       "      <td>4.0</td>\n",
       "      <td>Good food, and good sized portions for the pri...</td>\n",
       "      <td>2016-05-19 06:56:54</td>\n",
       "    </tr>\n",
       "    <tr>\n",
       "      <th>11</th>\n",
       "      <td>HPA_qyMEddpAEtFof02ixg</td>\n",
       "      <td>4.0</td>\n",
       "      <td>39</td>\n",
       "      <td>4.0</td>\n",
       "      <td>Pizza here is delicious. I tried it once a few...</td>\n",
       "      <td>2016-03-07 17:58:53</td>\n",
       "    </tr>\n",
       "  </tbody>\n",
       "</table>\n",
       "</div>"
      ],
      "text/plain": [
       "                businessId  meanStars  reviewCount  reviewStars  \\\n",
       "0   6iYb2HFDywm3zjuRg0shjw        4.0           86          5.0   \n",
       "5   bvN78flM8NLprQ1a1y5dRg        4.5           13          4.0   \n",
       "7   PE9uqAjdw0E4-8mjGl3wVA        4.0           14          5.0   \n",
       "10  D4JtQNTI4X3KcbzacDJsMw        3.5          169          4.0   \n",
       "11  HPA_qyMEddpAEtFof02ixg        4.0           39          4.0   \n",
       "\n",
       "                                                 text                 date  \n",
       "0   Stopped in on a busy Friday night. Despite the...  2018-03-04 00:59:21  \n",
       "5   Quaint little store with tons of amazing items...  2016-08-25 16:52:19  \n",
       "7   I came in as a drop in.  Casey Castleberry is ...  2016-08-12 23:38:16  \n",
       "10  Good food, and good sized portions for the pri...  2016-05-19 06:56:54  \n",
       "11  Pizza here is delicious. I tried it once a few...  2016-03-07 17:58:53  "
      ]
     },
     "execution_count": 8,
     "metadata": {},
     "output_type": "execute_result"
    }
   ],
   "source": [
    "# balancing positive and negative reviews\n",
    "negative = df[df['reviewStars'] <= 3]['text'].count()\n",
    "positive = df[df['reviewStars'] > 3]['text'].count()\n",
    "print(f'Positive reviews: {positive}')\n",
    "print(f'Negative reviews: {negative}')\n",
    "print('--------------------------')\n",
    "\n",
    "# Splitting positive and negative dataframe\n",
    "df_pos = df[df['reviewStars'] > 3]\n",
    "df_neg = df[df['reviewStars'] <= 3]\n",
    "print(f'Counting: {df_pos.size}, {df_neg.size}, {df.size}')\n",
    "\n",
    "if positive > negative:\n",
    "    df_pos = df_pos.iloc[:-(positive - negative)]\n",
    "else:\n",
    "    df_neg = df_neg.iloc[:-(negative - positive)]\n",
    "\n",
    "df_pos = df_pos[:500000]\n",
    "df_neg = df_neg[:500000]\n",
    "# df_pos and df_neg has the same number of reviews\n",
    "print(f'After balance phase :-> Positive: {df_pos.text.count()}, Negative: {df_pos.text.count()}')\n",
    "print('Unify datasets')\n",
    "df= pd.concat([df_pos,df_neg], axis=0)\n",
    "df.head()"
   ]
  },
  {
   "cell_type": "code",
   "execution_count": null,
   "id": "4690132d",
   "metadata": {
    "ExecuteTime": {
     "start_time": "2021-09-07T09:47:30.332Z"
    }
   },
   "outputs": [],
   "source": [
    "%%time\n",
    "language = [detect_langs(i) for i in df_pos.text]\n",
    "languages = [str(i[0]).split(' ')[0] for i in language]\n",
    "print(f'{languages}')\n",
    "df['language'] = languages"
   ]
  },
  {
   "cell_type": "code",
   "execution_count": null,
   "id": "a8f84594",
   "metadata": {},
   "outputs": [],
   "source": [
    "# Removing not-english rows"
   ]
  },
  {
   "cell_type": "code",
   "execution_count": null,
   "id": "e52365c5",
   "metadata": {},
   "outputs": [],
   "source": []
  }
 ],
 "metadata": {
  "kernelspec": {
   "display_name": "Python 3 (ipykernel)",
   "language": "python",
   "name": "python3"
  },
  "language_info": {
   "codemirror_mode": {
    "name": "ipython",
    "version": 3
   },
   "file_extension": ".py",
   "mimetype": "text/x-python",
   "name": "python",
   "nbconvert_exporter": "python",
   "pygments_lexer": "ipython3",
   "version": "3.9.4"
  },
  "latex_envs": {
   "LaTeX_envs_menu_present": true,
   "autoclose": false,
   "autocomplete": true,
   "bibliofile": "biblio.bib",
   "cite_by": "apalike",
   "current_citInitial": 1,
   "eqLabelWithNumbers": true,
   "eqNumInitial": 1,
   "hotkeys": {
    "equation": "Ctrl-E",
    "itemize": "Ctrl-I"
   },
   "labels_anchors": false,
   "latex_user_defs": false,
   "report_style_numbering": false,
   "user_envs_cfg": false
  },
  "toc": {
   "base_numbering": 1,
   "nav_menu": {},
   "number_sections": true,
   "sideBar": true,
   "skip_h1_title": false,
   "title_cell": "Table of Contents",
   "title_sidebar": "Contents",
   "toc_cell": false,
   "toc_position": {},
   "toc_section_display": true,
   "toc_window_display": false
  },
  "varInspector": {
   "cols": {
    "lenName": 16,
    "lenType": 16,
    "lenVar": 40
   },
   "kernels_config": {
    "python": {
     "delete_cmd_postfix": "",
     "delete_cmd_prefix": "del ",
     "library": "var_list.py",
     "varRefreshCmd": "print(var_dic_list())"
    },
    "r": {
     "delete_cmd_postfix": ") ",
     "delete_cmd_prefix": "rm(",
     "library": "var_list.r",
     "varRefreshCmd": "cat(var_dic_list()) "
    }
   },
   "types_to_exclude": [
    "module",
    "function",
    "builtin_function_or_method",
    "instance",
    "_Feature"
   ],
   "window_display": false
  }
 },
 "nbformat": 4,
 "nbformat_minor": 5
}
