{
 "cells": [
  {
   "cell_type": "markdown",
   "id": "2d35b8db",
   "metadata": {},
   "source": [
    "# Sentiment Analysis on Yelp Open Dataset for Review Classification"
   ]
  },
  {
   "cell_type": "markdown",
   "id": "96cfcc62",
   "metadata": {},
   "source": [
    "Il Sentiment Analysis rappresenta uno dei tipi di Natural Language Processing più diffusi insieme alla Speech Recognition. Ciò che si intede fare all'interno del progetto è di studiare vari modelli di apprendimento per trovare un classificatore binario efficiente in grado di poter definire se una recensione Yelp sia positiva o negativa. Il progetto consisterà nello studio di un dataset open-source messo a disposizione da Yelp per scopi accademici, definirne le proprietà, manipolare i dati per prepararli all'addestramento di modelli, generare modelli secondo particolari strutture, salvarli e analizzarne i risultati."
   ]
  },
  {
   "cell_type": "markdown",
   "id": "77beb0bf",
   "metadata": {},
   "source": [
    "### Import Libraries"
   ]
  },
  {
   "cell_type": "markdown",
   "id": "258f8185",
   "metadata": {},
   "source": [
    "Le librerie sono stati divisi per categorie, in base a come vengono utilizzati all'interno del notebook. Sono stati utilizzate funzioni basate su librerie classiche del ML come tensorflow e sklearn, per la gestione di manipolazione di testi come nltk e gensim, e metodi di analisi di dati forniti da seaborn, matplotlib e worldcloud."
   ]
  },
  {
   "cell_type": "code",
   "execution_count": 11,
   "id": "9816f0aa",
   "metadata": {},
   "outputs": [
    {
     "name": "stderr",
     "output_type": "stream",
     "text": [
      "[nltk_data] Downloading package averaged_perceptron_tagger to\n",
      "[nltk_data]     /Users/kode/nltk_data...\n",
      "[nltk_data]   Package averaged_perceptron_tagger is already up-to-\n",
      "[nltk_data]       date!\n",
      "[nltk_data] Downloading package wordnet to /Users/kode/nltk_data...\n",
      "[nltk_data]   Package wordnet is already up-to-date!\n"
     ]
    }
   ],
   "source": [
    "# data collections\n",
    "import pandas as pd\n",
    "import numpy as np\n",
    "\n",
    "# data analysis\n",
    "import seaborn as sns\n",
    "import matplotlib.pyplot as plt\n",
    "from wordcloud import WordCloud\n",
    "%matplotlib inline\n",
    "\n",
    "# text manipulation\n",
    "import gensim\n",
    "from gensim.parsing.preprocessing import remove_stopwords\n",
    "import nltk as nltk\n",
    "from nltk.tokenize import word_tokenize\n",
    "from nltk.probability import FreqDist\n",
    "from nltk.corpus import wordnet\n",
    "from nltk.stem import WordNetLemmatizer\n",
    "import nltk\n",
    "nltk.download('averaged_perceptron_tagger')\n",
    "nltk.download('wordnet')\n",
    "\n",
    "# dataset manipulation\n",
    "from collections import Counter, defaultdict\n",
    "from datetime import datetime\n",
    "from keras.preprocessing.text import Tokenizer\n",
    "from keras.preprocessing.sequence import pad_sequences\n",
    "from sklearn.model_selection import train_test_split\n",
    "from sklearn.metrics import f1_score\n",
    "\n",
    "# data modelling\n",
    "import tensorflow as tf\n",
    "from tensorflow import keras\n",
    "from tensorflow.keras import layers\n",
    "import tensorflow_addons as tfa\n",
    "\n",
    "\n",
    "# save models\n",
    "from keras.models import load_model\n",
    "from keras.preprocessing.sequence import pad_sequences\n",
    "import pickle"
   ]
  },
  {
   "cell_type": "markdown",
   "id": "787e548f",
   "metadata": {},
   "source": [
    "## 1. Data Loading"
   ]
  },
  {
   "cell_type": "markdown",
   "id": "7b0e9e55",
   "metadata": {},
   "source": [
    "Uno dei primi ostacoli del progetto è stato il caricamento del dataset. Le sue dimensioni erano al più di 5 GB, questo significa che caricare direttamente tutto il file data poteva impiegare un uso non appropriato della memoria. Per risolvere questo problema, abbiamo diviso il file in blocchi o porzioni di dati con grandezza prefissata, in modo da allegerire il carico di caricamento in memoria e facilitare il lavoro della CPU. Per poter ottenere un procedimento performante, il processo prendeva in considerazione i tipi della struttura dati JSON, cosi da poter sapere a priori la quantità di byte da dover analizzare durante il caricamento. Alla fine del procedimento, i vari blocchi venivano unificati all'interno di un dataframe, una struttura dati messa a disposizione dalla libreria pandas di Python."
   ]
  },
  {
   "cell_type": "code",
   "execution_count": 12,
   "id": "de54f167",
   "metadata": {},
   "outputs": [],
   "source": [
    "# definiamo i tipi degli attributi JSON per l'attributo dtype di read_json\n",
    "rtypes = {  \"review_id\": str,\n",
    "            \"user_id\":str,\n",
    "            \"business_id\":str,\n",
    "            \"stars\": np.float16, \n",
    "            \"useful\": np.int32, \n",
    "            \"funny\": np.int32,\n",
    "            \"cool\": np.int32,\n",
    "            \"text\" : str,\n",
    "           }\n",
    "\n",
    "# file path del dataset json\n",
    "path = './data/yelp_academic_dataset_review.json'\n",
    "\n",
    "# grandezza dei chunk\n",
    "chunkSize = 10000"
   ]
  },
  {
   "cell_type": "code",
   "execution_count": 13,
   "id": "3fe4db53",
   "metadata": {},
   "outputs": [
    {
     "name": "stdout",
     "output_type": "stream",
     "text": [
      "CPU times: user 1min 27s, sys: 14.3 s, total: 1min 41s\n",
      "Wall time: 1min 42s\n"
     ]
    }
   ],
   "source": [
    "%%time\n",
    "# creazione del JsonReader\n",
    "review = pd.read_json(path, lines=True,\n",
    "                      orient=\"records\",\n",
    "                      dtype=rtypes,\n",
    "                      chunksize=chunkSize)\n",
    "chunkList = []\n",
    "\n",
    "# utilizzo della segmentazione in chunk per creare dal JsonReader il dataframe\n",
    "for chunkReview in review:\n",
    "    # rimozione degli attributi id\n",
    "    chunkReview = chunkReview.drop(['review_id', 'user_id','business_id'], axis=1)\n",
    "    chunkList.append(chunkReview)\n",
    "    \n",
    "# concatenazione degli elementi nella chunkList per righe\n",
    "df = pd.concat(chunkList, ignore_index=True, axis=0)"
   ]
  },
  {
   "cell_type": "markdown",
   "id": "ebe3e369",
   "metadata": {},
   "source": [
    "Mantenedo l'idea della divisione in blocchi, l'utilizzo della CPU e, in generale, del processo di caricamento dati, è stato ridotto fino a raggiungere 1 minuto e 42 secondi effettivi."
   ]
  },
  {
   "cell_type": "code",
   "execution_count": 14,
   "id": "1102210d",
   "metadata": {},
   "outputs": [
    {
     "data": {
      "text/html": [
       "<div>\n",
       "<style scoped>\n",
       "    .dataframe tbody tr th:only-of-type {\n",
       "        vertical-align: middle;\n",
       "    }\n",
       "\n",
       "    .dataframe tbody tr th {\n",
       "        vertical-align: top;\n",
       "    }\n",
       "\n",
       "    .dataframe thead th {\n",
       "        text-align: right;\n",
       "    }\n",
       "</style>\n",
       "<table border=\"1\" class=\"dataframe\">\n",
       "  <thead>\n",
       "    <tr style=\"text-align: right;\">\n",
       "      <th></th>\n",
       "      <th>stars</th>\n",
       "      <th>useful</th>\n",
       "      <th>funny</th>\n",
       "      <th>cool</th>\n",
       "      <th>text</th>\n",
       "      <th>date</th>\n",
       "    </tr>\n",
       "  </thead>\n",
       "  <tbody>\n",
       "    <tr>\n",
       "      <th>0</th>\n",
       "      <td>4.0</td>\n",
       "      <td>3</td>\n",
       "      <td>1</td>\n",
       "      <td>1</td>\n",
       "      <td>Apparently Prides Osteria had a rough summer a...</td>\n",
       "      <td>2014-10-11 03:34:02</td>\n",
       "    </tr>\n",
       "    <tr>\n",
       "      <th>1</th>\n",
       "      <td>4.0</td>\n",
       "      <td>1</td>\n",
       "      <td>0</td>\n",
       "      <td>0</td>\n",
       "      <td>This store is pretty good. Not as great as Wal...</td>\n",
       "      <td>2015-07-03 20:38:25</td>\n",
       "    </tr>\n",
       "    <tr>\n",
       "      <th>2</th>\n",
       "      <td>5.0</td>\n",
       "      <td>0</td>\n",
       "      <td>0</td>\n",
       "      <td>0</td>\n",
       "      <td>I called WVM on the recommendation of a couple...</td>\n",
       "      <td>2013-05-28 20:38:06</td>\n",
       "    </tr>\n",
       "    <tr>\n",
       "      <th>3</th>\n",
       "      <td>2.0</td>\n",
       "      <td>1</td>\n",
       "      <td>1</td>\n",
       "      <td>1</td>\n",
       "      <td>I've stayed at many Marriott and Renaissance M...</td>\n",
       "      <td>2010-01-08 02:29:15</td>\n",
       "    </tr>\n",
       "    <tr>\n",
       "      <th>4</th>\n",
       "      <td>4.0</td>\n",
       "      <td>0</td>\n",
       "      <td>0</td>\n",
       "      <td>0</td>\n",
       "      <td>The food is always great here. The service fro...</td>\n",
       "      <td>2011-07-28 18:05:01</td>\n",
       "    </tr>\n",
       "  </tbody>\n",
       "</table>\n",
       "</div>"
      ],
      "text/plain": [
       "   stars  useful  funny  cool  \\\n",
       "0    4.0       3      1     1   \n",
       "1    4.0       1      0     0   \n",
       "2    5.0       0      0     0   \n",
       "3    2.0       1      1     1   \n",
       "4    4.0       0      0     0   \n",
       "\n",
       "                                                text                date  \n",
       "0  Apparently Prides Osteria had a rough summer a... 2014-10-11 03:34:02  \n",
       "1  This store is pretty good. Not as great as Wal... 2015-07-03 20:38:25  \n",
       "2  I called WVM on the recommendation of a couple... 2013-05-28 20:38:06  \n",
       "3  I've stayed at many Marriott and Renaissance M... 2010-01-08 02:29:15  \n",
       "4  The food is always great here. The service fro... 2011-07-28 18:05:01  "
      ]
     },
     "execution_count": 14,
     "metadata": {},
     "output_type": "execute_result"
    }
   ],
   "source": [
    "# visualizzazione degli elementi in testa\n",
    "df.head()"
   ]
  },
  {
   "cell_type": "markdown",
   "id": "86da8a1d",
   "metadata": {},
   "source": [
    "Il dataframe finale si presenta pien di informazioni ipoteticaente non utile agli scopi del progetto, tuttavia è stata presa in considerazione la scelta di analizzarne le proprietà totali per trovare possibili correlazioni con i campi principali e, nel caso vi siano, poterle sfruttare per la creazione dei modelli."
   ]
  },
  {
   "cell_type": "markdown",
   "id": "6835a436",
   "metadata": {},
   "source": [
    "## 2. Data Analysis"
   ]
  },
  {
   "cell_type": "markdown",
   "id": "ca906c7e",
   "metadata": {},
   "source": [
    "Il data analysis raffigura uno dei procedimenti che ha lo scopo di dover rilevare proprietà nascoste sui dati in modo da poter capire a pieno la loro qualità e come poterla sfruttare al meglio per allenare i modelli. Successivamente, andremo a scansione i tipi di dati del dataframe andando ad analizzare campo per campo e trovare possibili informazioni utili per definire: distribuzione dei dati, tipi di dati, correlazioni o dipendenze con altri tipi di dato."
   ]
  },
  {
   "cell_type": "code",
   "execution_count": 15,
   "id": "791a1d83",
   "metadata": {},
   "outputs": [
    {
     "name": "stdout",
     "output_type": "stream",
     "text": [
      "<class 'pandas.core.frame.DataFrame'>\n",
      "RangeIndex: 8635403 entries, 0 to 8635402\n",
      "Data columns (total 6 columns):\n",
      " #   Column  Dtype         \n",
      "---  ------  -----         \n",
      " 0   stars   float16       \n",
      " 1   useful  int32         \n",
      " 2   funny   int32         \n",
      " 3   cool    int32         \n",
      " 4   text    object        \n",
      " 5   date    datetime64[ns]\n",
      "dtypes: datetime64[ns](1), float16(1), int32(3), object(1)\n",
      "memory usage: 247.1+ MB\n"
     ]
    }
   ],
   "source": [
    "# informazioni sulle colonne del dataframe e su quante entries o righe si hanno\n",
    "df.info()"
   ]
  },
  {
   "cell_type": "markdown",
   "id": "905d3170",
   "metadata": {},
   "source": [
    "### 2.1 Stars Analysis"
   ]
  },
  {
   "cell_type": "markdown",
   "id": "01bf39f8",
   "metadata": {},
   "source": [
    "La feature \"star\" rappresenta uno dei tipi di dato più importanti dell'intero dataset. Rappresenta una valutazione numerica associata al testo di una reviews che, secondo la documentazione Yelp ufficiale, ha un dominio da 1 a 5. Dato che il nostro scopoo è quello di dover definire una classificazione binaria, andremo ad aggregare le classi in modo da distinguere se le valutazioni siano positive o negative; prima di ciò, dobbiamo analizzarne la struttura e capire come i valori siano distributiti all'internoo del dataset."
   ]
  },
  {
   "cell_type": "code",
   "execution_count": 16,
   "id": "fb555473",
   "metadata": {},
   "outputs": [
    {
     "data": {
      "text/plain": [
       "Text(0.5, 1.0, \"Distribuzione dei valori per l'attributo stars\")"
      ]
     },
     "execution_count": 16,
     "metadata": {},
     "output_type": "execute_result"
    },
    {
     "data": {
      "image/png": "[encoded data removed]",
      "text/plain": [
       "<Figure size 576x576 with 1 Axes>"
      ]
     },
     "metadata": {},
     "output_type": "display_data"
    }
   ],
   "source": [
    "# definire la grandezza della figura\n",
    "plt.figure(figsize=(8,8))\n",
    "\n",
    "# contare i vari valori di stars e visualizzarli su un diagramma a torta\n",
    "df['stars'].value_counts().plot.pie(startangle=60)\n",
    "\n",
    "# definire il titolo del plot\n",
    "plt.title('Distribuzione dei valori per l\\'attributo stars')"
   ]
  },
  {
   "cell_type": "markdown",
   "id": "8c08912e",
   "metadata": {},
   "source": [
    "Da come si può notare dal grafico precedente, le classi non sono bilanciate. La massima valutazione di \"stars\" rende attualmente impossibile dividere il dataset in due categorie opposte, per questo motivo, andremo a ribilanciare i valori andando a prendere un sottoinsieme di recensioni e dividerle tra training, validation e testing set. "
   ]
  },
  {
   "cell_type": "code",
   "execution_count": 17,
   "id": "26dd9c32",
   "metadata": {},
   "outputs": [
    {
     "data": {
      "text/plain": [
       "Text(0.5, 1.0, 'Distribuzione dei valori positivi e negativi')"
      ]
     },
     "execution_count": 17,
     "metadata": {},
     "output_type": "execute_result"
    },
    {
     "data": {
      "image/png": "[encoded data removed]",
      "text/plain": [
       "<Figure size 576x576 with 1 Axes>"
      ]
     },
     "metadata": {},
     "output_type": "display_data"
    }
   ],
   "source": [
    "# distribuzione dei valori in reviews positive e negative\n",
    "binstars = pd.DataFrame()\n",
    "binstars['stars'] = [0 if star <= 3.0 else 1 for star in df['stars']]\n",
    "# definire la grandezza della figura\n",
    "plt.figure(figsize=(8,8))\n",
    "\n",
    "\n",
    "# contare i vari valori di stars e visualizzarli su un diagramma a torta\n",
    "binstars['stars'].value_counts().plot.pie(startangle=60)\n",
    "\n",
    "# definire il titolo del plot\n",
    "plt.title('Distribuzione dei valori positivi e negativi')"
   ]
  },
  {
   "cell_type": "markdown",
   "id": "0600adc2",
   "metadata": {},
   "source": [
    "Come detto anche precedentemente, seguendo una divisione binaria in cui le valutazioni con valore superiore a 3 vadano classificate come \"positive\" mentre le restanti come \"negative\", non rende il dataset bilanciato. Da come si può notare dal grafico, le recensioni 1 (positive) hanno una quantità maggiore rispetto alle recensioni con valutazione 0 (negativa)."
   ]
  },
  {
   "cell_type": "markdown",
   "id": "7315455f",
   "metadata": {},
   "source": [
    "### 2.2 Cool, Fun and Useful Analysis"
   ]
  },
  {
   "cell_type": "code",
   "execution_count": 18,
   "id": "8d714e8a",
   "metadata": {},
   "outputs": [],
   "source": [
    "# Aggiunta di una feature per l'analisi della lunghezza dei testi\n",
    "df['textLength']  = df['text'].str.len()"
   ]
  },
  {
   "cell_type": "code",
   "execution_count": 19,
   "id": "63264560",
   "metadata": {},
   "outputs": [
    {
     "data": {
      "text/plain": [
       "<AxesSubplot:>"
      ]
     },
     "execution_count": 19,
     "metadata": {},
     "output_type": "execute_result"
    },
    {
     "data": {
      "image/png": "[encoded data removed]",
      "text/plain": [
       "<Figure size 432x288 with 2 Axes>"
      ]
     },
     "metadata": {
      "needs_background": "light"
     },
     "output_type": "display_data"
    }
   ],
   "source": [
    "# definire le correlazioni\n",
    "corr = df.corr()\n",
    "\n",
    "# generazione dell'heatmap\n",
    "sns.heatmap(corr)"
   ]
  },
  {
   "cell_type": "markdown",
   "id": "008f57a4",
   "metadata": {},
   "source": [
    "Abbiamo tentato di trovare delle possibili correlazioni tra le proprietà dei campi di stars e di testo con le altre feature secondarie. Seguendo i risultati forniti dall'heatmap, non abbiamo tali correlazioni; quindi le feature secondarie non sono state giudicate utili nel raggiungere gli obiettivi del progetto."
   ]
  },
  {
   "cell_type": "markdown",
   "id": "084367cf",
   "metadata": {},
   "source": [
    "### 2.3 Text Analysis"
   ]
  },
  {
   "cell_type": "markdown",
   "id": "211af97c",
   "metadata": {},
   "source": [
    "L'analisi sui testi è stata fondamentale per capire quali siano i termini utilizzati all'interno del vocabolario delle recensioni e come essi potevano essere classificati univocamente come una delle due categorie. L'obiettivo di tale sezione è quello di poter rendere noti quali siano i termini più utilizzati, se vi sia necessità di rimuovere alcuni termini fuorvianti, quali siano le parole più utilizzate e in quale forma."
   ]
  },
  {
   "cell_type": "code",
   "execution_count": 20,
   "id": "0ab1bd9a",
   "metadata": {},
   "outputs": [
    {
     "data": {
      "image/png": "[encoded data removed]",
      "text/plain": [
       "<Figure size 432x288 with 1 Axes>"
      ]
     },
     "metadata": {
      "needs_background": "light"
     },
     "output_type": "display_data"
    },
    {
     "name": "stdout",
     "output_type": "stream",
     "text": [
      "CPU times: user 19.9 s, sys: 748 ms, total: 20.7 s\n",
      "Wall time: 20.6 s\n"
     ]
    }
   ],
   "source": [
    "%%time\n",
    "\n",
    "# definisce un sottoinsieme delle righe del dataset\n",
    "subset = df[:100000]\n",
    "# concatenazione dei testi di ogni riga in una singola stringa\n",
    "inputText = ' '.join(subset['text']).lower()\n",
    "\n",
    "# creazione di un wordcloud andando ad ignorare le stopwords\n",
    "wordCloud = WordCloud(background_color='white', stopwords=gensim.parsing.preprocessing.STOPWORDS).generate(inputText)\n",
    "# setting della visualizzazione utilizzando una interpolazione bilineare\n",
    "plt.imshow(wordCloud, interpolation='bilinear')\n",
    "\n",
    "# rimozione degli assi\n",
    "plt.axis('off')\n",
    "# visualizzazione del wordcloud rappresentante le parole più usate nel testo di una recensione\n",
    "plt.show()"
   ]
  },
  {
   "cell_type": "markdown",
   "id": "199ba73b",
   "metadata": {},
   "source": [
    "Dato lo sbilanciamento del dataset verso le recensioni positive, era naturale aspettarci che termini positivi avrebbero avuto una frequenza maggiore rispetto a quelli negativi. Nello specifico, dal worldlcloud precedente, è possibile vedere termini come \"good\", \"delicious\" siano utilizzati più frequentemente per descrivere caratteristiche del servizio da recensire. Da parole come \"food\", \"service\", \"place\" o\"restaurant\", possiamo dedurre come la maggior parte delle recensioni siano collegate ad attività di ristorazione o culinarie. Da ciò, quindi, possiamo intuire già quali possa essere il vocabolario utilizzato ma, per maggior precisione, abbiamo deciso di poterne visualizzare i dati graficamente, cosi da poter avere una visione più precisa."
   ]
  },
  {
   "cell_type": "code",
   "execution_count": 21,
   "id": "7ceabfac",
   "metadata": {},
   "outputs": [],
   "source": [
    "# calcolo della frequenza dei termini più utilizzati\n",
    "wordTokens = word_tokenize(inputText)\n",
    "tokens = list()\n",
    "for word in wordTokens:\n",
    "    if word.isalpha() and word not in gensim.parsing.preprocessing.STOPWORDS:\n",
    "        tokens.append(word)\n",
    "tokenDist = FreqDist(tokens)\n",
    "# per questioni di visualizzazione, andiamo a prendere solamente i primi 20 termini utilizzati\n",
    "dist = pd.DataFrame(tokenDist.most_common(20),columns=['term', 'freq'])"
   ]
  },
  {
   "cell_type": "code",
   "execution_count": 22,
   "id": "00b4f358",
   "metadata": {},
   "outputs": [
    {
     "data": {
      "image/png": "[encoded data removed]",
      "text/plain": [
       "<Figure size 1008x576 with 1 Axes>"
      ]
     },
     "metadata": {
      "needs_background": "light"
     },
     "output_type": "display_data"
    }
   ],
   "source": [
    "# rappresentazione grafica dei risultati\n",
    "fig = plt.figure(figsize=(14,8))\n",
    "ax = fig.add_axes([0,0,1,1])\n",
    "x = dist['term']\n",
    "y = dist['freq']\n",
    "ax.bar(x,y)\n",
    "plt.title('Frequenza dei termini più utilizzati')\n",
    "plt.show()"
   ]
  },
  {
   "cell_type": "markdown",
   "id": "7edef1df",
   "metadata": {},
   "source": [
    "L'analisi sui termini utilizzati all'interno di testi delle recensioni, ci fa notare come stopwords senza un significato concettuale non siano presenti tra le prime parole più frequenti. Ciò non toglie che dovremmmo eliminare per ridurre la varianza di termini utilizzati all'interno del dataset, questo perchè se la quantità di parole utilizzata è minore, è possibile ottenere un classificatore addestrato più velocemente e che tenga conto solamente delle parole chiavi piuttosto che sull'utilizzo di termini secondari e non rilevanti al fine della classificazione."
   ]
  },
  {
   "cell_type": "code",
   "execution_count": 23,
   "id": "0fb126a8",
   "metadata": {},
   "outputs": [
    {
     "data": {
      "text/html": [
       "<div>\n",
       "<style scoped>\n",
       "    .dataframe tbody tr th:only-of-type {\n",
       "        vertical-align: middle;\n",
       "    }\n",
       "\n",
       "    .dataframe tbody tr th {\n",
       "        vertical-align: top;\n",
       "    }\n",
       "\n",
       "    .dataframe thead th {\n",
       "        text-align: right;\n",
       "    }\n",
       "</style>\n",
       "<table border=\"1\" class=\"dataframe\">\n",
       "  <thead>\n",
       "    <tr style=\"text-align: right;\">\n",
       "      <th></th>\n",
       "      <th>stars</th>\n",
       "      <th>useful</th>\n",
       "      <th>funny</th>\n",
       "      <th>cool</th>\n",
       "      <th>text</th>\n",
       "      <th>date</th>\n",
       "      <th>textLength</th>\n",
       "    </tr>\n",
       "  </thead>\n",
       "  <tbody>\n",
       "    <tr>\n",
       "      <th>0</th>\n",
       "      <td>4.0</td>\n",
       "      <td>3</td>\n",
       "      <td>1</td>\n",
       "      <td>1</td>\n",
       "      <td>Apparently Prides Osteria had a rough summer a...</td>\n",
       "      <td>2014-10-11 03:34:02</td>\n",
       "      <td>1856</td>\n",
       "    </tr>\n",
       "    <tr>\n",
       "      <th>1</th>\n",
       "      <td>4.0</td>\n",
       "      <td>1</td>\n",
       "      <td>0</td>\n",
       "      <td>0</td>\n",
       "      <td>This store is pretty good. Not as great as Wal...</td>\n",
       "      <td>2015-07-03 20:38:25</td>\n",
       "      <td>701</td>\n",
       "    </tr>\n",
       "    <tr>\n",
       "      <th>2</th>\n",
       "      <td>5.0</td>\n",
       "      <td>0</td>\n",
       "      <td>0</td>\n",
       "      <td>0</td>\n",
       "      <td>I called WVM on the recommendation of a couple...</td>\n",
       "      <td>2013-05-28 20:38:06</td>\n",
       "      <td>578</td>\n",
       "    </tr>\n",
       "    <tr>\n",
       "      <th>3</th>\n",
       "      <td>2.0</td>\n",
       "      <td>1</td>\n",
       "      <td>1</td>\n",
       "      <td>1</td>\n",
       "      <td>I've stayed at many Marriott and Renaissance M...</td>\n",
       "      <td>2010-01-08 02:29:15</td>\n",
       "      <td>390</td>\n",
       "    </tr>\n",
       "    <tr>\n",
       "      <th>4</th>\n",
       "      <td>4.0</td>\n",
       "      <td>0</td>\n",
       "      <td>0</td>\n",
       "      <td>0</td>\n",
       "      <td>The food is always great here. The service fro...</td>\n",
       "      <td>2011-07-28 18:05:01</td>\n",
       "      <td>181</td>\n",
       "    </tr>\n",
       "  </tbody>\n",
       "</table>\n",
       "</div>"
      ],
      "text/plain": [
       "   stars  useful  funny  cool  \\\n",
       "0    4.0       3      1     1   \n",
       "1    4.0       1      0     0   \n",
       "2    5.0       0      0     0   \n",
       "3    2.0       1      1     1   \n",
       "4    4.0       0      0     0   \n",
       "\n",
       "                                                text                date  \\\n",
       "0  Apparently Prides Osteria had a rough summer a... 2014-10-11 03:34:02   \n",
       "1  This store is pretty good. Not as great as Wal... 2015-07-03 20:38:25   \n",
       "2  I called WVM on the recommendation of a couple... 2013-05-28 20:38:06   \n",
       "3  I've stayed at many Marriott and Renaissance M... 2010-01-08 02:29:15   \n",
       "4  The food is always great here. The service fro... 2011-07-28 18:05:01   \n",
       "\n",
       "   textLength  \n",
       "0        1856  \n",
       "1         701  \n",
       "2         578  \n",
       "3         390  \n",
       "4         181  "
      ]
     },
     "execution_count": 23,
     "metadata": {},
     "output_type": "execute_result"
    }
   ],
   "source": [
    "df.head()"
   ]
  },
  {
   "cell_type": "code",
   "execution_count": 24,
   "id": "c51cee57",
   "metadata": {},
   "outputs": [
    {
     "data": {
      "text/plain": [
       "<seaborn.axisgrid.FacetGrid at 0x2070c21f0>"
      ]
     },
     "execution_count": 24,
     "metadata": {},
     "output_type": "execute_result"
    },
    {
     "data": {
      "image/png": "[encoded data removed]",
      "text/plain": [
       "<Figure size 1080x216 with 5 Axes>"
      ]
     },
     "metadata": {
      "needs_background": "light"
     },
     "output_type": "display_data"
    }
   ],
   "source": [
    "# Differenziazione della lunghezza dei testi in relazione alla valutazione data a stars\n",
    "graph = sns.FacetGrid(data=df,col='stars')\n",
    "graph.map(plt.hist,'textLength',bins=50,color='blue')"
   ]
  },
  {
   "cell_type": "markdown",
   "id": "71ceb6ae",
   "metadata": {},
   "source": [
    "Un altra caratteristica che abbiamo notato, è stata l'omogeneità nella lunghezza delle recensioni. Normalizzando le curve dei grafici sull'asse della quantità, si puà notare come la distribuzione della lunghezza dei testi sia molto simile tra le recensioni con differente valutazione."
   ]
  },
  {
   "cell_type": "markdown",
   "id": "dc785fb3",
   "metadata": {},
   "source": [
    "## 3. Data Pre-processing"
   ]
  },
  {
   "cell_type": "markdown",
   "id": "d2df9d4e",
   "metadata": {},
   "source": [
    "La procedura di data manipulation per il pre-processamento dei dati, consisterà nell'effettuare una serie di modifiche sul dataset in modo da poterlo utilizzare in maniera più efficiente per le fasi di addestramento e di testing su modelli di classificazione. Nello specifico, andremo a rimuovere le feature non inutilizzate per gli obiettivi del progetto, i valori nulli e inconsistenti, ridurremo i testi nella stessa forma andando a diminuire tutti i caratteri nella loro forma minuscola e lemmatizzare le parole in modo da poter aggregare varie forme di uno stesso termine, rimuovere le stopwords (termini frequenti non rilevanti), rimozione dei caratteri non alfanumerici (segni di punteggiatura o caratteri speciali) e, infine, tokenizzazione di testi e polarizzazione delle valutazioni per la feature \"star\" in modo da ottenerne un dominio binario (0 e 1)."
   ]
  },
  {
   "cell_type": "markdown",
   "id": "40b587a0",
   "metadata": {},
   "source": [
    "### 3.1 Rimozione features inutilizzate e valori nulli"
   ]
  },
  {
   "cell_type": "code",
   "execution_count": 25,
   "id": "971f53e6",
   "metadata": {},
   "outputs": [],
   "source": [
    "# cancellazione delle caratteristiche cool, funny, useful e textLength poichè non hanno correlazioni con stars.\n",
    "df = df.drop(['cool', 'funny', 'useful', 'textLength'], axis=1)"
   ]
  },
  {
   "cell_type": "code",
   "execution_count": 26,
   "id": "3f634de5",
   "metadata": {},
   "outputs": [
    {
     "data": {
      "text/html": [
       "<div>\n",
       "<style scoped>\n",
       "    .dataframe tbody tr th:only-of-type {\n",
       "        vertical-align: middle;\n",
       "    }\n",
       "\n",
       "    .dataframe tbody tr th {\n",
       "        vertical-align: top;\n",
       "    }\n",
       "\n",
       "    .dataframe thead th {\n",
       "        text-align: right;\n",
       "    }\n",
       "</style>\n",
       "<table border=\"1\" class=\"dataframe\">\n",
       "  <thead>\n",
       "    <tr style=\"text-align: right;\">\n",
       "      <th></th>\n",
       "      <th>stars</th>\n",
       "      <th>text</th>\n",
       "      <th>date</th>\n",
       "    </tr>\n",
       "  </thead>\n",
       "  <tbody>\n",
       "    <tr>\n",
       "      <th>0</th>\n",
       "      <td>4.0</td>\n",
       "      <td>Apparently Prides Osteria had a rough summer a...</td>\n",
       "      <td>2014-10-11 03:34:02</td>\n",
       "    </tr>\n",
       "    <tr>\n",
       "      <th>1</th>\n",
       "      <td>4.0</td>\n",
       "      <td>This store is pretty good. Not as great as Wal...</td>\n",
       "      <td>2015-07-03 20:38:25</td>\n",
       "    </tr>\n",
       "    <tr>\n",
       "      <th>2</th>\n",
       "      <td>5.0</td>\n",
       "      <td>I called WVM on the recommendation of a couple...</td>\n",
       "      <td>2013-05-28 20:38:06</td>\n",
       "    </tr>\n",
       "    <tr>\n",
       "      <th>3</th>\n",
       "      <td>2.0</td>\n",
       "      <td>I've stayed at many Marriott and Renaissance M...</td>\n",
       "      <td>2010-01-08 02:29:15</td>\n",
       "    </tr>\n",
       "    <tr>\n",
       "      <th>4</th>\n",
       "      <td>4.0</td>\n",
       "      <td>The food is always great here. The service fro...</td>\n",
       "      <td>2011-07-28 18:05:01</td>\n",
       "    </tr>\n",
       "  </tbody>\n",
       "</table>\n",
       "</div>"
      ],
      "text/plain": [
       "   stars                                               text  \\\n",
       "0    4.0  Apparently Prides Osteria had a rough summer a...   \n",
       "1    4.0  This store is pretty good. Not as great as Wal...   \n",
       "2    5.0  I called WVM on the recommendation of a couple...   \n",
       "3    2.0  I've stayed at many Marriott and Renaissance M...   \n",
       "4    4.0  The food is always great here. The service fro...   \n",
       "\n",
       "                 date  \n",
       "0 2014-10-11 03:34:02  \n",
       "1 2015-07-03 20:38:25  \n",
       "2 2013-05-28 20:38:06  \n",
       "3 2010-01-08 02:29:15  \n",
       "4 2011-07-28 18:05:01  "
      ]
     },
     "execution_count": 26,
     "metadata": {},
     "output_type": "execute_result"
    }
   ],
   "source": [
    "df.head()"
   ]
  },
  {
   "cell_type": "code",
   "execution_count": 27,
   "id": "5a24dbc3",
   "metadata": {},
   "outputs": [],
   "source": [
    "# rimozione di possibili testi vuoti\n",
    "df['text'].dropna(inplace=True)"
   ]
  },
  {
   "cell_type": "markdown",
   "id": "09dd3d5f",
   "metadata": {},
   "source": [
    "### 3.2 Riduzione dei testi in lowercase"
   ]
  },
  {
   "cell_type": "markdown",
   "id": "05563d10",
   "metadata": {},
   "source": [
    "Effettuando tale cambiamento, non vi sarà il rischio che i modelli possano classificare parole come \"Hello\" e \"hello\" poichè nella logica umana e grammaticale, rappresentano due forme di espressione di una stessa parola."
   ]
  },
  {
   "cell_type": "code",
   "execution_count": 28,
   "id": "b0549018",
   "metadata": {},
   "outputs": [],
   "source": [
    "# ridurre la forma delle parole in minuscolo\n",
    "df['text'] = [review_text.lower() for review_text in df['text']]"
   ]
  },
  {
   "cell_type": "code",
   "execution_count": 29,
   "id": "593189b2",
   "metadata": {},
   "outputs": [
    {
     "data": {
      "text/plain": [
       "0    apparently prides osteria had a rough summer a...\n",
       "1    this store is pretty good. not as great as wal...\n",
       "2    i called wvm on the recommendation of a couple...\n",
       "3    i've stayed at many marriott and renaissance m...\n",
       "4    the food is always great here. the service fro...\n",
       "Name: text, dtype: object"
      ]
     },
     "execution_count": 29,
     "metadata": {},
     "output_type": "execute_result"
    }
   ],
   "source": [
    "df['text'].head()"
   ]
  },
  {
   "cell_type": "markdown",
   "id": "c7b54a60",
   "metadata": {},
   "source": [
    "### 3.3 Polarizzazione dei labels (stars) e bilanciamento del dataset"
   ]
  },
  {
   "cell_type": "markdown",
   "id": "c1f09dcc",
   "metadata": {},
   "source": [
    "Per allegerire il carico di lavoro associato alla trasformazione del dataset, abbiamo anticipato il pre-processing sulla polarizzazione dei valori di stars cosi da poter lavorare su un sottoinsieme bilanciato che, per realizzarlo, ha bisogno del selezionamento di recensioni appartenenti ad una delle due classi binarie nelle stesse quantità. "
   ]
  },
  {
   "cell_type": "code",
   "execution_count": 118,
   "id": "2a393a26",
   "metadata": {},
   "outputs": [],
   "source": [
    "# polarizzazione delle valutazioni a stars in due categorie: 1 = positiva, 0 = negativa\n",
    "\n",
    "# isoliamo la colonna di testo del dataframe in texts\n",
    "texts =  df['text']\n",
    "\n",
    "# andiamo ad impostare negative tutte le recensioni con 3 o meno stelle e positive quelle con 4 e 5 stelle.\n",
    "stars = [0 if star <= 3.0 else 1 for star in df['stars']]\n",
    "\n",
    "balancedTexts = [] # rappresenta la collezione di testi presi in considerazione dal dataframe di input\n",
    "balancedLabels = [] # rappresenta il nuovo valore polarizzato assegnato all'entry (0,1)\n",
    "\n",
    "# andiamo a bilanciare il dataset andando a dividere recensioni positive e negative con limite di 1.000.000 per categoria\n",
    "limit = 200000  \n",
    "\n",
    "# posizione 0 per conteggio di recensioni negative, posizione 1 per quelle positive\n",
    "negPosCounts = [0, 0] \n",
    "\n",
    "for i in range(0,len(texts)):\n",
    "    polarity = stars[i]\n",
    "    if negPosCounts[polarity] < limit: # se non si è raggiunto il limite per la categoria di polarizzazione\n",
    "        balancedTexts.append(texts[i])\n",
    "        balancedLabels.append(stars[i])\n",
    "        negPosCounts[polarity] += 1"
   ]
  },
  {
   "cell_type": "code",
   "execution_count": 119,
   "id": "fd735018",
   "metadata": {},
   "outputs": [
    {
     "data": {
      "text/html": [
       "<div>\n",
       "<style scoped>\n",
       "    .dataframe tbody tr th:only-of-type {\n",
       "        vertical-align: middle;\n",
       "    }\n",
       "\n",
       "    .dataframe tbody tr th {\n",
       "        vertical-align: top;\n",
       "    }\n",
       "\n",
       "    .dataframe thead th {\n",
       "        text-align: right;\n",
       "    }\n",
       "</style>\n",
       "<table border=\"1\" class=\"dataframe\">\n",
       "  <thead>\n",
       "    <tr style=\"text-align: right;\">\n",
       "      <th></th>\n",
       "      <th>text</th>\n",
       "      <th>labels</th>\n",
       "    </tr>\n",
       "  </thead>\n",
       "  <tbody>\n",
       "    <tr>\n",
       "      <th>0</th>\n",
       "      <td>apparently prides osteria had a rough summer a...</td>\n",
       "      <td>1</td>\n",
       "    </tr>\n",
       "    <tr>\n",
       "      <th>1</th>\n",
       "      <td>this store is pretty good. not as great as wal...</td>\n",
       "      <td>1</td>\n",
       "    </tr>\n",
       "    <tr>\n",
       "      <th>2</th>\n",
       "      <td>i called wvm on the recommendation of a couple...</td>\n",
       "      <td>1</td>\n",
       "    </tr>\n",
       "    <tr>\n",
       "      <th>3</th>\n",
       "      <td>i've stayed at many marriott and renaissance m...</td>\n",
       "      <td>0</td>\n",
       "    </tr>\n",
       "    <tr>\n",
       "      <th>4</th>\n",
       "      <td>the food is always great here. the service fro...</td>\n",
       "      <td>1</td>\n",
       "    </tr>\n",
       "  </tbody>\n",
       "</table>\n",
       "</div>"
      ],
      "text/plain": [
       "                                                text  labels\n",
       "0  apparently prides osteria had a rough summer a...       1\n",
       "1  this store is pretty good. not as great as wal...       1\n",
       "2  i called wvm on the recommendation of a couple...       1\n",
       "3  i've stayed at many marriott and renaissance m...       0\n",
       "4  the food is always great here. the service fro...       1"
      ]
     },
     "execution_count": 119,
     "metadata": {},
     "output_type": "execute_result"
    }
   ],
   "source": [
    "df_balanced = pd.DataFrame()\n",
    "df_balanced['text'] = balancedTexts\n",
    "df_balanced['labels'] = balancedLabels\n",
    "df_balanced.head()"
   ]
  },
  {
   "cell_type": "code",
   "execution_count": 120,
   "id": "b11e8cb1",
   "metadata": {},
   "outputs": [
    {
     "name": "stdout",
     "output_type": "stream",
     "text": [
      "Ci sono 200000 recensioni positive e 200000 recensioni negative\n"
     ]
    }
   ],
   "source": [
    "# verifica del conteggio\n",
    "counter = Counter(df_balanced['labels'])\n",
    "print(f'Ci sono {counter[1]} recensioni positive e {counter[0]} recensioni negative')"
   ]
  },
  {
   "cell_type": "markdown",
   "id": "706874dc",
   "metadata": {},
   "source": [
    "Come risultato del bilanciamento, abbiamo un dataset formato da 400.000 recensioni in cui il 50% sono positive e le restanti negative."
   ]
  },
  {
   "cell_type": "markdown",
   "id": "1390066f",
   "metadata": {},
   "source": [
    "### 3.3 Lemmatizzazione"
   ]
  },
  {
   "cell_type": "markdown",
   "id": "41eebeb5",
   "metadata": {},
   "source": [
    "La lemmatizzazione prevede un procedimento oneroso sul dataset bilanciato. Nello specifico, andremo ad associare un tag semantico ad ogni parola in modo da differenziare quale tipo di termine si stia analizzando e, a secondo della classe semantica di appartenenza, effettuare una lemmatizzazione ad-hoc in modo da ottenere la corretta forma normalizzata."
   ]
  },
  {
   "cell_type": "code",
   "execution_count": 121,
   "id": "13106c92",
   "metadata": {},
   "outputs": [
    {
     "name": "stdout",
     "output_type": "stream",
     "text": [
      "apparently prides osteria had a rough summer as evidenced by the almost empty dining room at 6:30 on a friday night. however new blood in the kitchen seems to have revitalized the food from other customers recent visits. waitstaff was warm but unobtrusive. by 8 pm or so when we left the bar was full and the dining room was much more lively than it had been. perhaps beverly residents prefer a later seating. \n",
      "\n",
      "after reading the mixed reviews of late i was a little tentative over our choice but luckily there was nothing to worry about in the food department. we started with the fried dough, burrata and prosciutto which were all lovely. then although they don't offer half portions of pasta we each ordered the entree size and split them. we chose the tagliatelle bolognese and a four cheese filled pasta in a creamy sauce with bacon, asparagus and grana frita. both were very good. we split a secondi which was the special berkshire pork secreto, which was described as a pork skirt steak with garlic potato purée and romanesco broccoli (incorrectly described as a romanesco sauce). some tables received bread before the meal but for some reason we did not. \n",
      "\n",
      "management also seems capable for when the tenants in the apartment above began playing basketball she intervened and also comped the tables a dessert. we ordered the apple dumpling with gelato and it was also quite tasty. portions are not huge which i particularly like because i prefer to order courses. if you are someone who orders just a meal you may leave hungry depending on you appetite. dining room was mostly younger crowd while the bar was definitely the over 40 set. would recommend that the naysayers return to see the improvement although i personally don't know the former glory to be able to compare. easy access to downtown salem without the crowds on this month of october.\n",
      "\n",
      "\n",
      "apparently pride osteria have a rough summer as evidence by the almost empty dining room at 6:30 on a friday night . however new blood in the kitchen seem to have revitalize the food from other customer recent visit . waitstaff be warm but unobtrusive . by 8 pm or so when we leave the bar be full and the dining room be much more lively than it have be . perhaps beverly resident prefer a later seating . after read the mixed review of late i be a little tentative over our choice but luckily there be nothing to worry about in the food department . we start with the fried dough , burrata and prosciutto which be all lovely . then although they do n't offer half portion of pasta we each order the entree size and split them . we choose the tagliatelle bolognese and a four cheese fill pasta in a creamy sauce with bacon , asparagus and grana frita . both be very good . we split a secondo which be the special berkshire pork secreto , which be describe as a pork skirt steak with garlic potato purée and romanesco broccoli ( incorrectly describe as a romanesco sauce ) . some table receive bread before the meal but for some reason we do not . management also seem capable for when the tenant in the apartment above begin play basketball she intervene and also comped the table a dessert . we order the apple dumpling with gelato and it be also quite tasty . portion be not huge which i particularly like because i prefer to order course . if you be someone who order just a meal you may leave hungry depend on you appetite . din room be mostly young crowd while the bar be definitely the over 40 set . would recommend that the naysayer return to see the improvement although i personally do n't know the former glory to be able to compare . easy access to downtown salem without the crowd on this month of october .\n",
      "CPU times: user 30min 22s, sys: 11.8 s, total: 30min 33s\n",
      "Wall time: 31min 56s\n"
     ]
    }
   ],
   "source": [
    "%%time\n",
    "# creazione del lemmatizer\n",
    "lemmatizer = WordNetLemmatizer()\n",
    "\n",
    "# funzione per l'aggiunta del tag semantico che evidenzia il tipo di parola da dover selezionare\n",
    "def word_tagger(nltk_tag):\n",
    "    if nltk_tag.startswith('J'):\n",
    "        return wordnet.ADJ\n",
    "    elif nltk_tag.startswith('V'):\n",
    "        return wordnet.VERB\n",
    "    elif nltk_tag.startswith('N'):\n",
    "        return wordnet.NOUN\n",
    "    elif nltk_tag.startswith('R'):\n",
    "        return wordnet.ADV\n",
    "    else:         \n",
    "        return None\n",
    "\n",
    "\n",
    "# elaborazione sui testi del dataset\n",
    "texts = df_balanced['text']\n",
    "\n",
    "def lemmatize_reviews(texts):\n",
    "    df_texts = []\n",
    "    for text in texts:\n",
    "        # tokenizzazione del text per l'aggiunta dei tag\n",
    "        word_tagged = nltk.pos_tag(nltk.word_tokenize(text))\n",
    "        # mapping parole:tag del testo analizzato\n",
    "        map_word_tag = list(map(lambda x: (x[0], word_tagger(x[1])), word_tagged))\n",
    "        # costruzione del testo lemmatizzato\n",
    "        lemmatized_text = []\n",
    "        for word, tag in map_word_tag:\n",
    "            if tag is None:\n",
    "                # elemento non tokenizzabile\n",
    "                lemmatized_text.append(word)\n",
    "            else:\n",
    "                # lemmmatizzazione della parola in relazione al \n",
    "                # tipo di elemento\n",
    "                lemmatized_text.append(lemmatizer.lemmatize(word, tag))\n",
    "        # aggiunta della parola post-lemmatizzazione al testo selezionato\n",
    "        lemmatized_text = \" \".join(lemmatized_text)\n",
    "        # aggiunta del testo nella collezione dei testi lemmatizzati\n",
    "        df_texts.append(lemmatized_text)\n",
    "    return df_texts\n",
    "df_texts = lemmatize_reviews(texts)\n",
    "print(texts[0] + \"\\n\\n\")\n",
    "print(df_texts[0])"
   ]
  },
  {
   "cell_type": "code",
   "execution_count": 122,
   "id": "b19e9428",
   "metadata": {},
   "outputs": [],
   "source": [
    "df_balanced['text'] = df_texts"
   ]
  },
  {
   "cell_type": "markdown",
   "id": "43c9a2b4",
   "metadata": {},
   "source": [
    "### 3.4 Rimozione delle stop words e di caratteri non alfanumerici"
   ]
  },
  {
   "cell_type": "markdown",
   "id": "d7b428aa",
   "metadata": {},
   "source": [
    "Come insieme di stopwords, non è stato possibile utilizzare il set offerto da nltk poichè vi erano presenti termini di negazione che, per gli obiettivi del progetto, sono molto importanti per poter distinguere l'appartenenza di una classe di una recensione. Per risolvere tale problema, abbiamo utilizzato un insieme alternativo fornito dalla libreria gensim."
   ]
  },
  {
   "cell_type": "code",
   "execution_count": 123,
   "id": "d7c06e4c",
   "metadata": {},
   "outputs": [
    {
     "name": "stdout",
     "output_type": "stream",
     "text": [
      "frozenset({'co', 'indeed', 'eight', 'by', 'thick', 'nor', 'some', 'inc', 'ever', 'interest', 'whose', 'without', 'behind', 'computer', 'were', 'where', 'ours', 'else', 'in', 'yet', 'few', 'could', 'i', 'mine', 'go', 'him', 'however', 'still', 'nothing', 'forty', 'back', 'yourselves', 'throughout', 'otherwise', 'becomes', 'your', 'thus', 'per', 'give', 'up', 'couldnt', 'along', 'she', 'front', 'am', 'too', 'various', 'both', 'someone', 'anyone', 'on', 'them', 'so', 'becoming', 'latterly', 'since', 'own', 'together', 'same', 'during', 'which', 'full', 'hers', 'seemed', 'fifteen', 'nowhere', 'whereupon', 'thin', 'toward', 'serious', 'kg', 'bottom', 'from', 'don', 'while', 'first', 'unless', 'when', 'became', 'used', 'its', 'should', 'anyhow', 'everywhere', 'always', 'system', 'anywhere', 'and', 'had', 'call', 'now', 'been', 'neither', 'noone', 'among', 'empty', 'of', 'are', 'can', 'put', 'hereupon', 'hereby', 'may', 'fifty', 'or', 'because', 'above', 'others', 'much', 'sixty', 'does', 'mostly', 'anyway', 'thereupon', 'our', 'the', 'former', 'alone', 'myself', 'four', 'un', 'whole', 'they', 'side', 'we', 'around', 'under', 'before', 'name', 'also', 'most', 'see', 'twelve', 'fire', 'those', 'onto', 'he', 'fill', 'amoungst', 'hence', 'than', 'would', 'namely', 'against', 'due', 'whereby', 'part', 'any', 'six', 'beyond', 'whence', 'detail', 'three', 'have', 'whenever', 'themselves', 'cant', 'made', 'between', 'perhaps', 'anything', 'her', 'you', 'rather', 'at', 'wherein', 'several', 'not', 'a', 'only', 'each', 'ltd', 'what', 'being', 'about', 'nine', 'ten', 'after', 'yourself', 'km', 'then', 'sometimes', 'wherever', 'another', 'there', 'cry', 'meanwhile', 'found', 'all', 'within', 'nobody', 'amount', 'keep', 'somehow', 'thereby', 'amongst', 'none', 'thru', 'thereafter', 'make', 'twenty', 'done', 'who', 'enough', 'somewhere', 'whatever', 'more', 'doesn', 'top', 'beside', 'that', 'must', 'seems', 'de', 'an', 'just', 'take', 'whereas', 'except', 'below', 'two', 'until', 'whom', 'move', 'everyone', 'thence', 'often', 'whoever', 'off', 'one', 'mill', 'really', 'something', 'this', 'though', 'was', 'everything', 'itself', 'every', 'herself', 'sincere', 'formerly', 'eleven', 'as', 'besides', 'regarding', 'show', 'us', 'therein', 'many', 'into', 'beforehand', 'their', 'such', 'over', 'yours', 'less', 'already', 'ourselves', 'even', 'herein', 'no', 'through', 'to', 'via', 'say', 're', 'across', 'well', 'but', 'sometime', 'find', 'upon', 'my', 'for', 'whereafter', 'do', 'out', 'did', 'with', 'quite', 'other', 'hundred', 'didn', 'using', 'these', 'why', 'therefore', 'doing', 'nevertheless', 'seem', 'hasnt', 'almost', 'whether', 'last', 'very', 'whither', 'cannot', 'will', 'be', 'elsewhere', 'me', 'his', 'con', 'hereafter', 'down', 'here', 'afterwards', 'again', 'how', 'once', 'describe', 'get', 'next', 'might', 'latter', 'please', 'etc', 'has', 'five', 'moreover', 'become', 'third', 'further', 'never', 'bill', 'himself', 'least', 'although', 'it', 'is', 'seeming', 'ie', 'either', 'towards', 'eg', 'if'})\n"
     ]
    }
   ],
   "source": [
    "# Stop words da rimuovere\n",
    "print(gensim.parsing.preprocessing.STOPWORDS)"
   ]
  },
  {
   "cell_type": "code",
   "execution_count": 124,
   "id": "c5d93279",
   "metadata": {},
   "outputs": [],
   "source": [
    "# Rimozione delle stop words\n",
    "df_texts = []\n",
    "for text in df_balanced['text']:\n",
    "    df_texts.append(remove_stopwords(text))\n",
    "\n",
    "df_balanced['text'] = df_texts\n",
    "\n",
    "# Rimozione dei caratteri non alfanumerici\n",
    "df_texts = []\n",
    "for text in df_balanced['text']:\n",
    "    df_texts.append(''.join(ch for ch in text if ch.isalnum() or ch == ' '))\n",
    "\n",
    "df_balanced['text'] = df_texts"
   ]
  },
  {
   "cell_type": "code",
   "execution_count": 125,
   "id": "ad80eab7",
   "metadata": {},
   "outputs": [
    {
     "name": "stdout",
     "output_type": "stream",
     "text": [
      "0         apparently pride osteria rough summer evidence...\n",
      "1         store pretty good  great walmart  preferred  m...\n",
      "2         wvm recommendation couple friend use past thin...\n",
      "3         ve stay marriott renaissance marriott s huge d...\n",
      "4         food great  service manager staff super  draw ...\n",
      "                                ...                        \n",
      "399995    m yelper guy deserve time  lesson car wash bus...\n",
      "399996    finger nail use  weird place  felt uncomfortab...\n",
      "399997    soon walk  re ask groupon  base information re...\n",
      "399998    thing palate threeyearold  receive box valenti...\n",
      "399999    know difference  tall straw   venti straw  tim...\n",
      "Name: text, Length: 400000, dtype: object\n"
     ]
    }
   ],
   "source": [
    "print(df_balanced['text'])"
   ]
  },
  {
   "cell_type": "markdown",
   "id": "a89c9c97",
   "metadata": {},
   "source": [
    "### 3.5 Text Tokenization"
   ]
  },
  {
   "cell_type": "markdown",
   "id": "04c3011f",
   "metadata": {},
   "source": [
    "La tokenizzazione di testi prevede semplicemente la trasformazione di un testo in una lista o sequenza ordinata di parole in modo da poter avere una indicizzazione di ogni termine all'interno di una struttura matriciale."
   ]
  },
  {
   "cell_type": "code",
   "execution_count": 126,
   "id": "381069a9",
   "metadata": {},
   "outputs": [
    {
     "name": "stdout",
     "output_type": "stream",
     "text": [
      "CPU times: user 1min 28s, sys: 727 ms, total: 1min 29s\n",
      "Wall time: 1min 29s\n"
     ]
    }
   ],
   "source": [
    "%%time\n",
    "# tokenizzazione del testo andando a dividere le stringhe in una lista di lemmi\n",
    "df_balanced['text'] = [nltk.word_tokenize(text) for text in df_balanced['text']]"
   ]
  },
  {
   "cell_type": "code",
   "execution_count": 127,
   "id": "c0b5bfcc",
   "metadata": {},
   "outputs": [
    {
     "data": {
      "text/plain": [
       "0         [apparently, pride, osteria, rough, summer, ev...\n",
       "1         [store, pretty, good, great, walmart, preferre...\n",
       "2         [wvm, recommendation, couple, friend, use, pas...\n",
       "3         [ve, stay, marriott, renaissance, marriott, s,...\n",
       "4         [food, great, service, manager, staff, super, ...\n",
       "                                ...                        \n",
       "399995    [m, yelper, guy, deserve, time, lesson, car, w...\n",
       "399996    [finger, nail, use, weird, place, felt, uncomf...\n",
       "399997    [soon, walk, re, ask, groupon, base, informati...\n",
       "399998    [thing, palate, threeyearold, receive, box, va...\n",
       "399999    [know, difference, tall, straw, venti, straw, ...\n",
       "Name: text, Length: 400000, dtype: object"
      ]
     },
     "execution_count": 127,
     "metadata": {},
     "output_type": "execute_result"
    }
   ],
   "source": [
    "df_balanced['text']"
   ]
  },
  {
   "cell_type": "markdown",
   "id": "cff653e0",
   "metadata": {},
   "source": [
    "### 3.6 Word Reviews Representation"
   ]
  },
  {
   "cell_type": "markdown",
   "id": "1cf9462a",
   "metadata": {},
   "source": [
    "Dato che i modelli predittivi e i classificatori lavorano su valori numerici, abbiamo bisogno di trasformare i nostri token letterali in valori numerici. Tali valori, rappresenteranno una identificazione nel campo dei numeri reali per i termini. Parole che inizialmente erano poste in varie forme, grazie alla lemmatizzazione, verranno classificate sotto un unico identificatore numerico, cosi facendo non solo si ridurrà la quantità di valori interi presenti all'interno di ogni recensione, ma si avrà anche una maggior precisione sulla percezione semantica dei testi e, di conseguenza, migliorare le prestazioni dei modelli."
   ]
  },
  {
   "cell_type": "code",
   "execution_count": 128,
   "id": "fb23c27e",
   "metadata": {},
   "outputs": [
    {
     "name": "stdout",
     "output_type": "stream",
     "text": [
      "There are 202903 different words\n"
     ]
    }
   ],
   "source": [
    "# definire il numero di parole da passare all'oggetto Tokenizer\n",
    "# bisogna analizzare la quantità di parole che si ha nel dataframe selezionato\n",
    "map_terms = dict()\n",
    "for text in df_balanced['text']:\n",
    "    for word in text:\n",
    "        if word not in map_terms:\n",
    "            map_terms[word] = 1\n",
    "\n",
    "print(f'There are {len(map_terms)} different words') # number of words"
   ]
  },
  {
   "cell_type": "code",
   "execution_count": 129,
   "id": "6637a1b5",
   "metadata": {},
   "outputs": [
    {
     "name": "stdout",
     "output_type": "stream",
     "text": [
      "CPU times: user 22.8 s, sys: 316 ms, total: 23.1 s\n",
      "Wall time: 23.2 s\n"
     ]
    }
   ],
   "source": [
    "%%time\n",
    "# definizione di un tokenizer delle prime 15.000 parole più utilizzate\n",
    "tokenizer = Tokenizer(num_words=15000)\n",
    "tokenizer.fit_on_texts(df_balanced['text'])\n",
    "# trasformazione della sequenza di lemmi in sequenze di interi in modo da valutare più velocemente le parole\n",
    "sequences = tokenizer.texts_to_sequences(df_balanced['text'])\n",
    "# Sequenze di massimo 200 unità. Se vi sono testi con sequenze più lunghe esse vengono troncate, altrimenti si avrà \n",
    "# un riempimenti di 0 per testi undersized.\n",
    "text_sequence = pad_sequences(sequences, maxlen=300)\n",
    "labels = np.array(df_balanced['labels'])"
   ]
  },
  {
   "cell_type": "code",
   "execution_count": 130,
   "id": "e66db667",
   "metadata": {},
   "outputs": [
    {
     "name": "stdout",
     "output_type": "stream",
     "text": [
      "{'nt': 1, 's': 2, 'good': 3, 'food': 4, 'place': 5, 'time': 6, 'like': 7, 'great': 8, 'order': 9, 'come': 10, 'service': 11, 'try': 12, 've': 13, 'wait': 14, 'want': 15, 'look': 16, 'restaurant': 17, 'nice': 18, 'm': 19, 'love': 20, 'price': 21, 'ask': 22, 'know': 23, 'think': 24, 'tell': 25, 'eat': 26, 'day': 27, 'people': 28, 'staff': 29, 'experience': 30, 'best': 31, 'little': 32, 'drink': 33, 'work': 34, 'bad': 35, 'chicken': 36, 'table': 37, 'thing': 38, 'menu': 39, 'need': 40, 'minute': 41, 'pretty': 42, 'friendly': 43, 'taste': 44, 'way': 45, 'use': 46, 'definitely': 47, 'bar': 48, 'friend': 49, 'delicious': 50}\n"
     ]
    }
   ],
   "source": [
    "# check parziale degli indici delle parole \n",
    "word_index = tokenizer.word_index\n",
    "# prendiamo le prime 50 parole indicizzate\n",
    "check = {key: value for key, value in word_index.items() if value <= 50}\n",
    "print(check)"
   ]
  },
  {
   "cell_type": "markdown",
   "id": "d896f003",
   "metadata": {},
   "source": [
    "Il vettore dei valori numerici ha un dominio pari a 15.000 tipi parole differenti tra le 132.062 totali. Si andrà, quindi, a selezionare più di 1/10 delle parole presenti nelle reviews che, però, ha una rilevanza maggiore rispetto ai 9/10 date le occorrenze maggiori. Inoltre, la sequenza ordinata creata andrà a seguire l'ordine di occorenza dei termini all'interno dei testi di 300 parole (grandezza massima)."
   ]
  },
  {
   "cell_type": "markdown",
   "id": "0285bbcc",
   "metadata": {},
   "source": [
    "## 4. Modelling"
   ]
  },
  {
   "cell_type": "markdown",
   "id": "e7de35bd",
   "metadata": {},
   "source": [
    "In questa fase è possibile trovare modelli alternativi utilizzati oggigiorno nel campo NLP. Nello specifico, si propone una triplice alternativa che vede l'utilizzo di un modello basato su LSTM, un modello di convulational neural network che va a supporto di LSTM e, infine, un modello di LSTM bidirezionale. Possiamo affermare che tutti i modelli hanno raggiunto un livello di precisione accettabile; ciò non toglie che vi possano essere vari miglioramenti che possano incrementarne le prestazioni."
   ]
  },
  {
   "cell_type": "code",
   "execution_count": 88,
   "id": "3dbcc790",
   "metadata": {},
   "outputs": [
    {
     "name": "stdout",
     "output_type": "stream",
     "text": [
      "['-I/usr/local/lib/python3.9/site-packages/tensorflow/include', '-D_GLIBCXX_USE_CXX11_ABI=0', '-DEIGEN_MAX_ALIGN_BYTES=64']\n",
      "2.6.0\n"
     ]
    }
   ],
   "source": [
    "# checking sulle compile flags di tensorflow\n",
    "print(tf.sysconfig.get_compile_flags())\n",
    "print(tf.__version__)"
   ]
  },
  {
   "cell_type": "markdown",
   "id": "90e59721",
   "metadata": {},
   "source": [
    "Uno degli elementi che prenderemo come parametro è F/F1-Score che misura l'accuratezza di un modello su un particolare insieme di dati (testing e validation set nel nostro caso) basandosi sui parametri di precisione e recall. Per calcolarlo basta dividere il doppio prodotto della precisione per il recall con la loro somma."
   ]
  },
  {
   "cell_type": "code",
   "execution_count": 171,
   "id": "2c41c099",
   "metadata": {},
   "outputs": [],
   "source": [
    "# gestione del callback\n",
    "# creazione del F-Score sul validation e training set\n",
    "class f1_score_callback(tf.keras.callbacks.Callback):\n",
    "\n",
    "    def __init__(self, train, validation=None):\n",
    "        super(f1_score_callback, self).__init__()\n",
    "        self.validation = validation\n",
    "        self.train = train\n",
    "\n",
    "    # stampa dei valori di F1-Score alla fine di ogni epoch\n",
    "    def on_epoch_end(self, epoch, logs={}):\n",
    "\n",
    "        logs['f1_score_train'] = float('-inf')\n",
    "        X_train, y_train = self.train[0], self.train[1]\n",
    "        y_pred = (self.model.predict(X_train).ravel()>0.5)+0\n",
    "        score = f1_score(y_train, y_pred)  \n",
    "\n",
    "        if (self.validation):\n",
    "            logs['f1_score_val'] = float('-inf')\n",
    "            X_valid, y_valid = self.validation[0], self.validation[1]\n",
    "            y_val_pred = (self.model.predict(X_valid).ravel()>0.5) + 0\n",
    "            val_score = f1_score(y_valid, y_val_pred)\n",
    "            logs['f1_score_train'] = np.round(score, 5)\n",
    "            logs['f1_score_val'] = np.round(val_score, 5)\n",
    "        else:\n",
    "            logs['f1_score_train'] = np.round(score, 5)"
   ]
  },
  {
   "cell_type": "code",
   "execution_count": null,
   "id": "30c0ff54",
   "metadata": {},
   "outputs": [],
   "source": [
    "# early stopping\n",
    "es_acc_callback = keras.callbacks.EarlyStopping(monitor='val_accuracy', patience=1, verbose=0)\n",
    "es_loss_callback = keras.callbacks.EarlyStopping(monitor='val_loss', patience=1, verbose=0)"
   ]
  },
  {
   "cell_type": "code",
   "execution_count": 193,
   "id": "4176dd66",
   "metadata": {},
   "outputs": [],
   "source": [
    "# train and test splitting\n",
    "x_train, x_test, y_train, y_test = train_test_split(text_sequence , labels ,random_state=520, test_size=0.33, shuffle=True)\n",
    "\n",
    "# train and validation splitting\n",
    "x_train, x_val, y_train, y_val = train_test_split(\n",
    "    x_train, y_train, test_size=0.5, random_state=1)"
   ]
  },
  {
   "cell_type": "code",
   "execution_count": 194,
   "id": "cd17eb30",
   "metadata": {},
   "outputs": [
    {
     "name": "stdout",
     "output_type": "stream",
     "text": [
      "134000\n",
      "134000\n",
      "132000\n"
     ]
    }
   ],
   "source": [
    "print(len(x_train))\n",
    "print(len(x_val))\n",
    "print(len(x_test))"
   ]
  },
  {
   "cell_type": "markdown",
   "id": "1981654f",
   "metadata": {},
   "source": [
    "### 4.1 LSTM"
   ]
  },
  {
   "cell_type": "markdown",
   "id": "4b738482",
   "metadata": {},
   "source": [
    "Il modello proposto è formato da uno strato LSTM che è costituito da diverse celle in grado di elaborate sequenzialmente. La prima cella prende un embedding input dallo strato precedente (parola vettorializzata), inizializza un hidden state e processa sul proprio input restituendo un input e un hidden state (informazioni sulla parola). Le celle successive utilizzeranno tale hidden state per calcolare l'output sulla parola di input. Dato che abbiamo impostato return_sequences a True, alla fine della computazione, andremo a prendere tutti gli hidden state che andranno ad essere ridimensionati e classificati nei layer successivi. "
   ]
  },
  {
   "cell_type": "code",
   "execution_count": 219,
   "id": "f2650a32",
   "metadata": {},
   "outputs": [
    {
     "name": "stdout",
     "output_type": "stream",
     "text": [
      "Model: \"sequential_40\"\n",
      "_________________________________________________________________\n",
      "Layer (type)                 Output Shape              Param #   \n",
      "=================================================================\n",
      "embedding_42 (Embedding)     (None, 300, 128)          1920000   \n",
      "_________________________________________________________________\n",
      "lstm_29 (LSTM)               (None, 300, 128)          131584    \n",
      "_________________________________________________________________\n",
      "flatten_14 (Flatten)         (None, 38400)             0         \n",
      "_________________________________________________________________\n",
      "dense_63 (Dense)             (None, 256)               9830656   \n",
      "_________________________________________________________________\n",
      "dense_64 (Dense)             (None, 1)                 257       \n",
      "=================================================================\n",
      "Total params: 11,882,497\n",
      "Trainable params: 11,882,497\n",
      "Non-trainable params: 0\n",
      "_________________________________________________________________\n"
     ]
    }
   ],
   "source": [
    "# creazione di un modello sequenziale vuoto in cui aggiungere i vari layers\n",
    "lstm = keras.Sequential([\n",
    "    layers.Embedding(15000,128,input_length=300), # word embedding\n",
    "    layers.LSTM(128,return_sequences = True,  dropout=0.2), # long-short-term-memory layer per l'acquisizione di informazioni\n",
    "    layers.Flatten(), # flattering della matrice in un vettore\n",
    "    layers.Dense(256, activation=\"relu\"), # hidden states\n",
    "    layers.Dense(1, activation=\"sigmoid\") # output layer che restituisce il tipo di review\n",
    "]); \n",
    "\n",
    "lstm.compile(\n",
    "    loss='binary_crossentropy', # loss function\n",
    "    optimizer='adam', # adam optimizer\n",
    "    metrics=['accuracy']) # accuracy come metrica esplicita\n",
    "\n",
    "lstm.summary()"
   ]
  },
  {
   "cell_type": "code",
   "execution_count": 220,
   "id": "aeb406e9",
   "metadata": {
    "scrolled": true
   },
   "outputs": [
    {
     "name": "stdout",
     "output_type": "stream",
     "text": [
      "Epoch 1/3\n",
      "4188/4188 [==============================] - 1113s 263ms/step - loss: 0.3187 - accuracy: 0.8612 - val_loss: 0.2900 - val_accuracy: 0.8773\n",
      "Epoch 2/3\n",
      "4188/4188 [==============================] - 1145s 273ms/step - loss: 0.2443 - accuracy: 0.8976 - val_loss: 0.2903 - val_accuracy: 0.8776\n",
      "Epoch 3/3\n",
      "4188/4188 [==============================] - 1118s 267ms/step - loss: 0.1854 - accuracy: 0.9246 - val_loss: 0.3309 - val_accuracy: 0.8719\n"
     ]
    }
   ],
   "source": [
    "results_lstm = lstm.fit(x_train, y_train, epochs=3, \n",
    "                              validation_data=(x_val, y_val), \n",
    "                              callbacks=[f1_score_callback(train=(x_train,y_train),validation=(x_val,y_val)), \n",
    "                                         es_acc_callback, es_loss_callback])"
   ]
  },
  {
   "cell_type": "code",
   "execution_count": 221,
   "id": "2791e52c",
   "metadata": {},
   "outputs": [
    {
     "name": "stdout",
     "output_type": "stream",
     "text": [
      "4125/4125 [==============================] - 225s 55ms/step - loss: 0.3331 - accuracy: 0.8720\n"
     ]
    },
    {
     "data": {
      "text/plain": [
       "[0.33312979340553284, 0.8719696998596191]"
      ]
     },
     "execution_count": 221,
     "metadata": {},
     "output_type": "execute_result"
    }
   ],
   "source": [
    "lstm.evaluate(x_test, y_test)"
   ]
  },
  {
   "cell_type": "markdown",
   "id": "024fdafd",
   "metadata": {},
   "source": [
    "modelLSTM.evaluate(xTest, yTest)"
   ]
  },
  {
   "cell_type": "markdown",
   "id": "495a67ee",
   "metadata": {},
   "source": [
    "### 4.2 Convulational Neural Network"
   ]
  },
  {
   "cell_type": "markdown",
   "id": "8039fe42",
   "metadata": {},
   "source": [
    "Le convulational neural network riescono a riconoscere patterns all'interno di immagini cosi da poter riconoscere, ad esempio, se un gatto si trovi in alto a destra o in basso a sinistra. All'interno di classificazioni come quelle del Sentiment Analysis, è possibile utilizzare la stessa tecnica di pattern matching andando a lavorare su informazioni testuali, ossia su sequenze di parole che, in genere, fanno parte di una delle classi del dataset (nel nostro caso positive o negative). Successivamente, tramite il pooling, è possibile aggregare tali sequenze indipendentemente dalla loro posizione e darli in input ai layer successivi."
   ]
  },
  {
   "cell_type": "code",
   "execution_count": 215,
   "id": "1891b39d",
   "metadata": {
    "scrolled": false
   },
   "outputs": [
    {
     "name": "stdout",
     "output_type": "stream",
     "text": [
      "Model: \"sequential_39\"\n",
      "_________________________________________________________________\n",
      "Layer (type)                 Output Shape              Param #   \n",
      "=================================================================\n",
      "embedding_41 (Embedding)     (None, 300, 128)          1920000   \n",
      "_________________________________________________________________\n",
      "conv1d_26 (Conv1D)           (None, 299, 128)          32896     \n",
      "_________________________________________________________________\n",
      "conv1d_27 (Conv1D)           (None, 298, 128)          32896     \n",
      "_________________________________________________________________\n",
      "max_pooling1d_24 (MaxPooling (None, 37, 128)           0         \n",
      "_________________________________________________________________\n",
      "dense_61 (Dense)             (None, 37, 256)           33024     \n",
      "_________________________________________________________________\n",
      "flatten_13 (Flatten)         (None, 9472)              0         \n",
      "_________________________________________________________________\n",
      "dense_62 (Dense)             (None, 1)                 9473      \n",
      "=================================================================\n",
      "Total params: 2,028,289\n",
      "Trainable params: 2,028,289\n",
      "Non-trainable params: 0\n",
      "_________________________________________________________________\n"
     ]
    }
   ],
   "source": [
    "cnn = keras.Sequential([\n",
    "    layers.Embedding(15000,128,input_length=300), # word embedding\n",
    "    layers.Conv1D(128, 2, activation=\"relu\"), # convulational layer per il text pattern matching tra coppie di parole\n",
    "    layers.Conv1D(128, 2, activation=\"relu\"), # secondo convulational layer\n",
    "    layers.MaxPooling1D(pool_size=8), # max pooling per l'aggregazione dei pattern\n",
    "    layers.Dense(256, activation=\"relu\"), # strato fortemente connesso\n",
    "    layers.Flatten(), # flattering delle dimensioni da 2D a 1D\n",
    "    layers.Dense(1, activation=\"sigmoid\") # strato di output che ritorna l'immagine della sigmoid activation function\n",
    "])\n",
    "\n",
    "\n",
    "cnn.compile(\n",
    "    loss='binary_crossentropy', \n",
    "    optimizer='adam', \n",
    "    metrics=['accuracy'])\n",
    "\n",
    "\n",
    "\n",
    "cnn.summary()"
   ]
  },
  {
   "cell_type": "code",
   "execution_count": 216,
   "id": "4c044609",
   "metadata": {
    "scrolled": true
   },
   "outputs": [
    {
     "name": "stdout",
     "output_type": "stream",
     "text": [
      "Epoch 1/3\n",
      "2000/2000 [==============================] - 177s 88ms/step - loss: 0.3477 - accuracy: 0.8469 - val_loss: 0.3066 - val_accuracy: 0.8700\n",
      "Epoch 2/3\n",
      "2000/2000 [==============================] - 176s 88ms/step - loss: 0.2695 - accuracy: 0.8885 - val_loss: 0.3503 - val_accuracy: 0.8561\n",
      "Epoch 3/3\n",
      "2000/2000 [==============================] - 178s 89ms/step - loss: 0.2167 - accuracy: 0.9121 - val_loss: 0.3404 - val_accuracy: 0.8614\n"
     ]
    }
   ],
   "source": [
    "results_cnn = cnn.fit(x_train, y_train, epochs=3, \n",
    "                               validation_data=(x_val, y_val), \n",
    "                              callbacks=[f1_score_callback(train=(x_train,y_train),validation=(x_val,y_val)), \n",
    "                                         es_acc_callback, es_loss_callback], \n",
    "                              batch_size=67)"
   ]
  },
  {
   "cell_type": "code",
   "execution_count": 222,
   "id": "d6d38370",
   "metadata": {},
   "outputs": [
    {
     "name": "stdout",
     "output_type": "stream",
     "text": [
      "4125/4125 [==============================] - 30s 7ms/step - loss: 0.3433 - accuracy: 0.8609\n"
     ]
    },
    {
     "data": {
      "text/plain": [
       "[0.34329962730407715, 0.8609393835067749]"
      ]
     },
     "execution_count": 222,
     "metadata": {},
     "output_type": "execute_result"
    }
   ],
   "source": [
    "cnn.evaluate(x_test, y_test)"
   ]
  },
  {
   "cell_type": "markdown",
   "id": "3892c2b6",
   "metadata": {},
   "source": [
    "### 4.1.1 Modello basato con layer della Convulational Neural Network seguiti da LSTM"
   ]
  },
  {
   "cell_type": "markdown",
   "id": "b9455eb7",
   "metadata": {},
   "source": [
    "Dato che il modello LSTM è ottimo per la classificazione di testi andando a gestire sequenzialmente le informazioni e riutilizzarle tra parole, mentre il modello della convulational neural network è ottimo per associare blocchi di parole a pattern informativi presenti in una delle due classi, potremmo combinare i modelli in modo da ottenere sfruttare la convulational neural network per la features extractions, per poi utilizzare LSTM per definire una classificazione sequenziale in grado di fornire informazioni di correlazione tra le features e darle in input agli strati successivi."
   ]
  },
  {
   "cell_type": "code",
   "execution_count": 223,
   "id": "d02543de",
   "metadata": {},
   "outputs": [
    {
     "name": "stdout",
     "output_type": "stream",
     "text": [
      "Model: \"sequential_41\"\n",
      "_________________________________________________________________\n",
      "Layer (type)                 Output Shape              Param #   \n",
      "=================================================================\n",
      "embedding_43 (Embedding)     (None, 300, 128)          1920000   \n",
      "_________________________________________________________________\n",
      "conv1d_28 (Conv1D)           (None, 299, 128)          32896     \n",
      "_________________________________________________________________\n",
      "conv1d_29 (Conv1D)           (None, 298, 128)          32896     \n",
      "_________________________________________________________________\n",
      "max_pooling1d_25 (MaxPooling (None, 37, 128)           0         \n",
      "_________________________________________________________________\n",
      "lstm_30 (LSTM)               (None, 37, 128)           131584    \n",
      "_________________________________________________________________\n",
      "flatten_15 (Flatten)         (None, 4736)              0         \n",
      "_________________________________________________________________\n",
      "dense_65 (Dense)             (None, 256)               1212672   \n",
      "_________________________________________________________________\n",
      "dense_66 (Dense)             (None, 1)                 257       \n",
      "=================================================================\n",
      "Total params: 3,330,305\n",
      "Trainable params: 3,330,305\n",
      "Non-trainable params: 0\n",
      "_________________________________________________________________\n"
     ]
    }
   ],
   "source": [
    "# creazione di un modello sequenziale vuoto in cui aggiungere i vari layers\n",
    "clstm = keras.Sequential([\n",
    "    layers.Embedding(15000,128,input_length=300), # word embedding\n",
    "    layers.Conv1D(128, 2, activation=\"relu\"), # convulational layer per il text pattern matching tra coppie di parole\n",
    "    layers.Conv1D(128, 2, activation=\"relu\"), # secondo convulational layer\n",
    "    layers.MaxPooling1D(pool_size=8), # max pooling per l'aggregazione dei pattern\n",
    "    layers.LSTM(128,return_sequences = True,  dropout=0.2), # long-short-term-memory layer per l'acquisizione di informazioni\n",
    "    layers.Flatten(), # flattering della matrice in un vettore\n",
    "    layers.Dense(256, activation=\"relu\"), # hidden states\n",
    "    layers.Dense(1, activation=\"sigmoid\") # output layer che restituisce il tipo di review\n",
    "])\n",
    "\n",
    "\n",
    "clstm.compile(\n",
    "    loss='binary_crossentropy', \n",
    "    optimizer='adam',\n",
    "    metrics=['accuracy'])\n",
    "\n",
    "clstm.summary()"
   ]
  },
  {
   "cell_type": "code",
   "execution_count": 224,
   "id": "32db6b84",
   "metadata": {},
   "outputs": [
    {
     "name": "stdout",
     "output_type": "stream",
     "text": [
      "Epoch 1/3\n",
      "2000/2000 [==============================] - 285s 142ms/step - loss: 0.3407 - accuracy: 0.8485 - val_loss: 0.3024 - val_accuracy: 0.8686\n",
      "Epoch 2/3\n",
      "2000/2000 [==============================] - 314s 157ms/step - loss: 0.2638 - accuracy: 0.8889 - val_loss: 0.3042 - val_accuracy: 0.8680\n",
      "Epoch 3/3\n",
      "2000/2000 [==============================] - 304s 152ms/step - loss: 0.2142 - accuracy: 0.9128 - val_loss: 0.3268 - val_accuracy: 0.8639\n"
     ]
    }
   ],
   "source": [
    "results_clstm = clstm.fit(x_train, y_train, epochs=3, \n",
    "                              validation_data=(x_val, y_val), \n",
    "                              callbacks=[f1_score_callback(train=(x_train,y_train),validation=(x_val,y_val)), \n",
    "                                         es_acc_callback, es_loss_callback], \n",
    "                              batch_size=67)"
   ]
  },
  {
   "cell_type": "code",
   "execution_count": 225,
   "id": "37f0803f",
   "metadata": {},
   "outputs": [
    {
     "name": "stdout",
     "output_type": "stream",
     "text": [
      "4125/4125 [==============================] - 80s 19ms/step - loss: 0.3289 - accuracy: 0.8637\n"
     ]
    },
    {
     "data": {
      "text/plain": [
       "[0.32887187600135803, 0.8636817932128906]"
      ]
     },
     "execution_count": 225,
     "metadata": {},
     "output_type": "execute_result"
    }
   ],
   "source": [
    "clstm.evaluate(x_test, y_test)"
   ]
  },
  {
   "cell_type": "markdown",
   "id": "2d53c8e7",
   "metadata": {},
   "source": [
    "### 4.3 Modello basato con layer della Convulational Neural Network seguita da biLSTM (LSTM bidirezionale)"
   ]
  },
  {
   "cell_type": "markdown",
   "id": "7c80b96e",
   "metadata": {},
   "source": [
    "Il modello proposto utilizza la stessa logica di features extractions precedente andando ad utilizzare una convulational neural network per rilevare informazioni ricorrenti che distinguono le reviews positive da quelle negative. La differenza risiede nella fase di classificazione, in cui si ha uno strato LSTM bidirezionale in cui le informazioni date dal convulational neural network su una particolare feature sono in date sia dalle feature precedenti, nelle celle del primo strato, che da quelle successive, nelle celle del secondo strato alle medesime posizioni. Alla fine, le informazioni computate andranno in input agli strati successivi."
   ]
  },
  {
   "cell_type": "code",
   "execution_count": 284,
   "id": "d7253c86",
   "metadata": {},
   "outputs": [
    {
     "name": "stdout",
     "output_type": "stream",
     "text": [
      "Model: \"sequential_43\"\n",
      "_________________________________________________________________\n",
      "Layer (type)                 Output Shape              Param #   \n",
      "=================================================================\n",
      "embedding_45 (Embedding)     (None, 300, 128)          1920000   \n",
      "_________________________________________________________________\n",
      "conv1d_32 (Conv1D)           (None, 299, 128)          32896     \n",
      "_________________________________________________________________\n",
      "conv1d_33 (Conv1D)           (None, 298, 128)          32896     \n",
      "_________________________________________________________________\n",
      "max_pooling1d_27 (MaxPooling (None, 37, 128)           0         \n",
      "_________________________________________________________________\n",
      "bidirectional_3 (Bidirection (None, 37, 256)           263168    \n",
      "_________________________________________________________________\n",
      "dense_69 (Dense)             (None, 37, 256)           65792     \n",
      "_________________________________________________________________\n",
      "flatten_17 (Flatten)         (None, 9472)              0         \n",
      "_________________________________________________________________\n",
      "dense_70 (Dense)             (None, 1)                 9473      \n",
      "=================================================================\n",
      "Total params: 2,324,225\n",
      "Trainable params: 2,324,225\n",
      "Non-trainable params: 0\n",
      "_________________________________________________________________\n"
     ]
    }
   ],
   "source": [
    "bilstm= keras.Sequential([\n",
    "    layers.Embedding(15000,128,input_length=300), # word embedding\n",
    "    layers.Conv1D(128, 2, activation=\"relu\"), # convulational layer per il text pattern matching tra coppie di parole\n",
    "    layers.Conv1D(128, 2, activation=\"relu\"), # secondo convulational layer\n",
    "    layers.MaxPooling1D(pool_size=8), # max pooling per l'aggregazione dei pattern\n",
    "    layers.Bidirectional(layers.LSTM(128,return_sequences = True,  dropout=0.2)), # long-short-term-memory layer per l'acquisizione di informazioni\n",
    "    layers.Dense(256, activation=\"relu\"), # hidden states\n",
    "    layers.Flatten(), # flattering della matrice in un vettore\n",
    "    layers.Dense(1, activation=\"sigmoid\") # output layer che restituisce il tipo di review\n",
    "])\n",
    "\n",
    "bilstm.compile(\n",
    "    loss='binary_crossentropy', \n",
    "    optimizer='adam', \n",
    "    metrics=['accuracy'])\n",
    "\n",
    "bilstm.summary()"
   ]
  },
  {
   "cell_type": "code",
   "execution_count": 285,
   "id": "9feab0e7",
   "metadata": {},
   "outputs": [
    {
     "name": "stdout",
     "output_type": "stream",
     "text": [
      "Epoch 1/3\n",
      "  28/2000 [..............................] - ETA: 4:49 - loss: 0.6868 - accuracy: 0.5570"
     ]
    },
    {
     "ename": "KeyboardInterrupt",
     "evalue": "",
     "output_type": "error",
     "traceback": [
      "\u001b[0;31m---------------------------------------------------------------------------\u001b[0m",
      "\u001b[0;31mKeyboardInterrupt\u001b[0m                         Traceback (most recent call last)",
      "\u001b[0;32m/var/folders/qb/p83v38z97hv8wnqwnk4s37h80000gn/T/ipykernel_632/118121236.py\u001b[0m in \u001b[0;36m<module>\u001b[0;34m\u001b[0m\n\u001b[0;32m----> 1\u001b[0;31m results_bidlstm = bilstm.fit(x_train, y_train, epochs=3, \n\u001b[0m\u001b[1;32m      2\u001b[0m                               \u001b[0mvalidation_data\u001b[0m\u001b[0;34m=\u001b[0m\u001b[0;34m(\u001b[0m\u001b[0mx_val\u001b[0m\u001b[0;34m,\u001b[0m \u001b[0my_val\u001b[0m\u001b[0;34m)\u001b[0m\u001b[0;34m,\u001b[0m\u001b[0;34m\u001b[0m\u001b[0;34m\u001b[0m\u001b[0m\n\u001b[1;32m      3\u001b[0m                               callbacks=[f1_score_callback(train=(x_train,y_train),validation=(x_val,y_val)), \n\u001b[1;32m      4\u001b[0m                                          es_acc_callback, es_loss_callback], \n\u001b[1;32m      5\u001b[0m                               batch_size=67)\n",
      "\u001b[0;32m/usr/local/lib/python3.9/site-packages/keras/engine/training.py\u001b[0m in \u001b[0;36mfit\u001b[0;34m(self, x, y, batch_size, epochs, verbose, callbacks, validation_split, validation_data, shuffle, class_weight, sample_weight, initial_epoch, steps_per_epoch, validation_steps, validation_batch_size, validation_freq, max_queue_size, workers, use_multiprocessing)\u001b[0m\n\u001b[1;32m   1182\u001b[0m                 _r=1):\n\u001b[1;32m   1183\u001b[0m               \u001b[0mcallbacks\u001b[0m\u001b[0;34m.\u001b[0m\u001b[0mon_train_batch_begin\u001b[0m\u001b[0;34m(\u001b[0m\u001b[0mstep\u001b[0m\u001b[0;34m)\u001b[0m\u001b[0;34m\u001b[0m\u001b[0;34m\u001b[0m\u001b[0m\n\u001b[0;32m-> 1184\u001b[0;31m               \u001b[0mtmp_logs\u001b[0m \u001b[0;34m=\u001b[0m \u001b[0mself\u001b[0m\u001b[0;34m.\u001b[0m\u001b[0mtrain_function\u001b[0m\u001b[0;34m(\u001b[0m\u001b[0miterator\u001b[0m\u001b[0;34m)\u001b[0m\u001b[0;34m\u001b[0m\u001b[0;34m\u001b[0m\u001b[0m\n\u001b[0m\u001b[1;32m   1185\u001b[0m               \u001b[0;32mif\u001b[0m \u001b[0mdata_handler\u001b[0m\u001b[0;34m.\u001b[0m\u001b[0mshould_sync\u001b[0m\u001b[0;34m:\u001b[0m\u001b[0;34m\u001b[0m\u001b[0;34m\u001b[0m\u001b[0m\n\u001b[1;32m   1186\u001b[0m                 \u001b[0mcontext\u001b[0m\u001b[0;34m.\u001b[0m\u001b[0masync_wait\u001b[0m\u001b[0;34m(\u001b[0m\u001b[0;34m)\u001b[0m\u001b[0;34m\u001b[0m\u001b[0;34m\u001b[0m\u001b[0m\n",
      "\u001b[0;32m/usr/local/lib/python3.9/site-packages/tensorflow/python/eager/def_function.py\u001b[0m in \u001b[0;36m__call__\u001b[0;34m(self, *args, **kwds)\u001b[0m\n\u001b[1;32m    883\u001b[0m \u001b[0;34m\u001b[0m\u001b[0m\n\u001b[1;32m    884\u001b[0m       \u001b[0;32mwith\u001b[0m \u001b[0mOptionalXlaContext\u001b[0m\u001b[0;34m(\u001b[0m\u001b[0mself\u001b[0m\u001b[0;34m.\u001b[0m\u001b[0m_jit_compile\u001b[0m\u001b[0;34m)\u001b[0m\u001b[0;34m:\u001b[0m\u001b[0;34m\u001b[0m\u001b[0;34m\u001b[0m\u001b[0m\n\u001b[0;32m--> 885\u001b[0;31m         \u001b[0mresult\u001b[0m \u001b[0;34m=\u001b[0m \u001b[0mself\u001b[0m\u001b[0;34m.\u001b[0m\u001b[0m_call\u001b[0m\u001b[0;34m(\u001b[0m\u001b[0;34m*\u001b[0m\u001b[0margs\u001b[0m\u001b[0;34m,\u001b[0m \u001b[0;34m**\u001b[0m\u001b[0mkwds\u001b[0m\u001b[0;34m)\u001b[0m\u001b[0;34m\u001b[0m\u001b[0;34m\u001b[0m\u001b[0m\n\u001b[0m\u001b[1;32m    886\u001b[0m \u001b[0;34m\u001b[0m\u001b[0m\n\u001b[1;32m    887\u001b[0m       \u001b[0mnew_tracing_count\u001b[0m \u001b[0;34m=\u001b[0m \u001b[0mself\u001b[0m\u001b[0;34m.\u001b[0m\u001b[0mexperimental_get_tracing_count\u001b[0m\u001b[0;34m(\u001b[0m\u001b[0;34m)\u001b[0m\u001b[0;34m\u001b[0m\u001b[0;34m\u001b[0m\u001b[0m\n",
      "\u001b[0;32m/usr/local/lib/python3.9/site-packages/tensorflow/python/eager/def_function.py\u001b[0m in \u001b[0;36m_call\u001b[0;34m(self, *args, **kwds)\u001b[0m\n\u001b[1;32m    915\u001b[0m       \u001b[0;31m# In this case we have created variables on the first call, so we run the\u001b[0m\u001b[0;34m\u001b[0m\u001b[0;34m\u001b[0m\u001b[0m\n\u001b[1;32m    916\u001b[0m       \u001b[0;31m# defunned version which is guaranteed to never create variables.\u001b[0m\u001b[0;34m\u001b[0m\u001b[0;34m\u001b[0m\u001b[0m\n\u001b[0;32m--> 917\u001b[0;31m       \u001b[0;32mreturn\u001b[0m \u001b[0mself\u001b[0m\u001b[0;34m.\u001b[0m\u001b[0m_stateless_fn\u001b[0m\u001b[0;34m(\u001b[0m\u001b[0;34m*\u001b[0m\u001b[0margs\u001b[0m\u001b[0;34m,\u001b[0m \u001b[0;34m**\u001b[0m\u001b[0mkwds\u001b[0m\u001b[0;34m)\u001b[0m  \u001b[0;31m# pylint: disable=not-callable\u001b[0m\u001b[0;34m\u001b[0m\u001b[0;34m\u001b[0m\u001b[0m\n\u001b[0m\u001b[1;32m    918\u001b[0m     \u001b[0;32melif\u001b[0m \u001b[0mself\u001b[0m\u001b[0;34m.\u001b[0m\u001b[0m_stateful_fn\u001b[0m \u001b[0;32mis\u001b[0m \u001b[0;32mnot\u001b[0m \u001b[0;32mNone\u001b[0m\u001b[0;34m:\u001b[0m\u001b[0;34m\u001b[0m\u001b[0;34m\u001b[0m\u001b[0m\n\u001b[1;32m    919\u001b[0m       \u001b[0;31m# Release the lock early so that multiple threads can perform the call\u001b[0m\u001b[0;34m\u001b[0m\u001b[0;34m\u001b[0m\u001b[0m\n",
      "\u001b[0;32m/usr/local/lib/python3.9/site-packages/tensorflow/python/eager/function.py\u001b[0m in \u001b[0;36m__call__\u001b[0;34m(self, *args, **kwargs)\u001b[0m\n\u001b[1;32m   3037\u001b[0m       (graph_function,\n\u001b[1;32m   3038\u001b[0m        filtered_flat_args) = self._maybe_define_function(args, kwargs)\n\u001b[0;32m-> 3039\u001b[0;31m     return graph_function._call_flat(\n\u001b[0m\u001b[1;32m   3040\u001b[0m         filtered_flat_args, captured_inputs=graph_function.captured_inputs)  # pylint: disable=protected-access\n\u001b[1;32m   3041\u001b[0m \u001b[0;34m\u001b[0m\u001b[0m\n",
      "\u001b[0;32m/usr/local/lib/python3.9/site-packages/tensorflow/python/eager/function.py\u001b[0m in \u001b[0;36m_call_flat\u001b[0;34m(self, args, captured_inputs, cancellation_manager)\u001b[0m\n\u001b[1;32m   1961\u001b[0m         and executing_eagerly):\n\u001b[1;32m   1962\u001b[0m       \u001b[0;31m# No tape is watching; skip to running the function.\u001b[0m\u001b[0;34m\u001b[0m\u001b[0;34m\u001b[0m\u001b[0m\n\u001b[0;32m-> 1963\u001b[0;31m       return self._build_call_outputs(self._inference_function.call(\n\u001b[0m\u001b[1;32m   1964\u001b[0m           ctx, args, cancellation_manager=cancellation_manager))\n\u001b[1;32m   1965\u001b[0m     forward_backward = self._select_forward_and_backward_functions(\n",
      "\u001b[0;32m/usr/local/lib/python3.9/site-packages/tensorflow/python/eager/function.py\u001b[0m in \u001b[0;36mcall\u001b[0;34m(self, ctx, args, cancellation_manager)\u001b[0m\n\u001b[1;32m    589\u001b[0m       \u001b[0;32mwith\u001b[0m \u001b[0m_InterpolateFunctionError\u001b[0m\u001b[0;34m(\u001b[0m\u001b[0mself\u001b[0m\u001b[0;34m)\u001b[0m\u001b[0;34m:\u001b[0m\u001b[0;34m\u001b[0m\u001b[0;34m\u001b[0m\u001b[0m\n\u001b[1;32m    590\u001b[0m         \u001b[0;32mif\u001b[0m \u001b[0mcancellation_manager\u001b[0m \u001b[0;32mis\u001b[0m \u001b[0;32mNone\u001b[0m\u001b[0;34m:\u001b[0m\u001b[0;34m\u001b[0m\u001b[0;34m\u001b[0m\u001b[0m\n\u001b[0;32m--> 591\u001b[0;31m           outputs = execute.execute(\n\u001b[0m\u001b[1;32m    592\u001b[0m               \u001b[0mstr\u001b[0m\u001b[0;34m(\u001b[0m\u001b[0mself\u001b[0m\u001b[0;34m.\u001b[0m\u001b[0msignature\u001b[0m\u001b[0;34m.\u001b[0m\u001b[0mname\u001b[0m\u001b[0;34m)\u001b[0m\u001b[0;34m,\u001b[0m\u001b[0;34m\u001b[0m\u001b[0;34m\u001b[0m\u001b[0m\n\u001b[1;32m    593\u001b[0m               \u001b[0mnum_outputs\u001b[0m\u001b[0;34m=\u001b[0m\u001b[0mself\u001b[0m\u001b[0;34m.\u001b[0m\u001b[0m_num_outputs\u001b[0m\u001b[0;34m,\u001b[0m\u001b[0;34m\u001b[0m\u001b[0;34m\u001b[0m\u001b[0m\n",
      "\u001b[0;32m/usr/local/lib/python3.9/site-packages/tensorflow/python/eager/execute.py\u001b[0m in \u001b[0;36mquick_execute\u001b[0;34m(op_name, num_outputs, inputs, attrs, ctx, name)\u001b[0m\n\u001b[1;32m     57\u001b[0m   \u001b[0;32mtry\u001b[0m\u001b[0;34m:\u001b[0m\u001b[0;34m\u001b[0m\u001b[0;34m\u001b[0m\u001b[0m\n\u001b[1;32m     58\u001b[0m     \u001b[0mctx\u001b[0m\u001b[0;34m.\u001b[0m\u001b[0mensure_initialized\u001b[0m\u001b[0;34m(\u001b[0m\u001b[0;34m)\u001b[0m\u001b[0;34m\u001b[0m\u001b[0;34m\u001b[0m\u001b[0m\n\u001b[0;32m---> 59\u001b[0;31m     tensors = pywrap_tfe.TFE_Py_Execute(ctx._handle, device_name, op_name,\n\u001b[0m\u001b[1;32m     60\u001b[0m                                         inputs, attrs, num_outputs)\n\u001b[1;32m     61\u001b[0m   \u001b[0;32mexcept\u001b[0m \u001b[0mcore\u001b[0m\u001b[0;34m.\u001b[0m\u001b[0m_NotOkStatusException\u001b[0m \u001b[0;32mas\u001b[0m \u001b[0me\u001b[0m\u001b[0;34m:\u001b[0m\u001b[0;34m\u001b[0m\u001b[0;34m\u001b[0m\u001b[0m\n",
      "\u001b[0;31mKeyboardInterrupt\u001b[0m: "
     ]
    }
   ],
   "source": [
    "results_bidlstm = bilstm.fit(x_train, y_train, epochs=3, \n",
    "                              validation_data=(x_val, y_val), \n",
    "                              callbacks=[f1_score_callback(train=(x_train,y_train),validation=(x_val,y_val)), \n",
    "                                         es_acc_callback, es_loss_callback], \n",
    "                              batch_size=67)"
   ]
  },
  {
   "cell_type": "code",
   "execution_count": 228,
   "id": "272f09fd",
   "metadata": {},
   "outputs": [
    {
     "name": "stdout",
     "output_type": "stream",
     "text": [
      "4125/4125 [==============================] - 104s 25ms/step - loss: 0.3561 - accuracy: 0.8595\n"
     ]
    },
    {
     "data": {
      "text/plain": [
       "[0.35607245564460754, 0.859499990940094]"
      ]
     },
     "execution_count": 228,
     "metadata": {},
     "output_type": "execute_result"
    }
   ],
   "source": [
    "bilstm.evaluate(x_test,y_test)"
   ]
  },
  {
   "cell_type": "markdown",
   "id": "ba29c919",
   "metadata": {},
   "source": [
    "## 5. Save Models"
   ]
  },
  {
   "cell_type": "markdown",
   "id": "93fbde99",
   "metadata": {},
   "source": [
    "Data l'eccessiva tempo speso per l'addestramento dei modelli, abbiamo deciso di salvarli in file appositi utilizzando la libreria pickle di Python, cosi da poterli tenere sempre a disposizione per l'esecuzione di test futuri. Da come si può notare negli esempi, i classificatori non sono ottimali ma forniscono un buon strumento di supporto per poter definire se una recensione sia positiva o negativa."
   ]
  },
  {
   "cell_type": "code",
   "execution_count": 231,
   "id": "010bbab0",
   "metadata": {},
   "outputs": [],
   "source": [
    "import pickle\n",
    "\n",
    "# salviamo il tokenizer e i modelli su file\n",
    "with open(\"dump/tokenizer/keras_tokenizer.pickle\", \"wb\") as f:\n",
    "    pickle.dump(tokenizer, f)\n",
    "\n",
    "lstm.save(\"dump/model/yelp_lstm.hdf5\")\n",
    "cnn.save(\"dump/model/yelp_cnn.hdf5\")\n",
    "clstm.save(\"dump/model/yelp_clstm.hdf5\")\n",
    "bilstm.save(\"dump/model/yelp_bilstm.hdf5\")\n"
   ]
  },
  {
   "cell_type": "code",
   "execution_count": 274,
   "id": "1b849dbe",
   "metadata": {},
   "outputs": [
    {
     "data": {
      "text/plain": [
       "[1, 0, 1]"
      ]
     },
     "execution_count": 274,
     "metadata": {},
     "output_type": "execute_result"
    }
   ],
   "source": [
    "# classe per la definizione di esiti\n",
    "def predict_conv(predictions):\n",
    "    res = []\n",
    "    for pred in predictions:\n",
    "        if pred >= 0.5:\n",
    "            res.append(1)\n",
    "        else:\n",
    "            res.append(0)\n",
    "            \n",
    "    return res   \n",
    "predict_conv([0.8,0.4,0.5])"
   ]
  },
  {
   "cell_type": "code",
   "execution_count": 301,
   "id": "edf5ca51",
   "metadata": {},
   "outputs": [
    {
     "name": "stdout",
     "output_type": "stream",
     "text": [
      "['this a great place to go to be social with a group.  i went yesterday and had to wait in line ten minutes just to get in, but no big deal, as the newest addition to kendall square the \"new\" factor of state park delivers on the hype and is worth the wait!\\n\\nthe place was packed but it somehow did not feel crowded and while we were only there for drinks i will be back for the southern food. \\n\\nthe bar tenders kept everyone happy in the crowded restaurant and with good juke box tunes, fun shuffle board and great decor all of the ingredients were primed for a fun fueled night. \\n\\nkudos to the female bartender for making me and my friends 8  moscow mules and one great dirty vodka martini.  the group all agreed - delicious, 8 for 8! \\n\\na raucous good time in the always fun and classy kendall square.  if you\\'re bar hopping near inman and kendall save yourself the walk to central and crash the party at state park.']\n",
      "Random review\n",
      ":     stars                                               text  \\\n",
      "50    4.0  this a great place to go to be social with a g...   \n",
      "\n",
      "                  date  \n",
      "50 2014-02-23 22:02:44  \n",
      "Risultati LSTM:\n",
      " [1]\n",
      "\n",
      "\n",
      "Risultati Convulational Neural Network:\n",
      " [1]\n",
      "\n",
      "\n",
      "Risultati Convulational Neural Network concatenata a LSTM:\n",
      " [1]\n",
      "\n",
      "\n",
      "Risultati Convulational Neural Network concatenata a biLSTM:\n",
      " [0]\n",
      "\n",
      "\n"
     ]
    }
   ],
   "source": [
    "# carichiamo il tokenizer e il modello da file\n",
    "with open(\"dump/tokenizer/keras_tokenizer.pickle\", \"rb\") as f:\n",
    "    tokenizer = pickle.load(f)\n",
    "\n",
    "# caricamento dei modelli\n",
    "lstm = load_model(\"dump/model/yelp_lstm.hdf5\")\n",
    "cnn = load_model(\"dump/model/yelp_cnn.hdf5\")\n",
    "clstm = load_model(\"dump/model/yelp_clstm.hdf5\")\n",
    "bilstm = load_model(\"dump/model/yelp_bilstm.hdf5\")\n",
    "\n",
    "# definiamo gli esempi su cui testare il modello\n",
    "sample = df[:100].sample()\n",
    "text_sample = np.array(sample.text)\n",
    "print(text_sample)\n",
    "# usiamo il tokenizer per creare sequenze di interi da dare al modello\n",
    "sequences = tokenizer.texts_to_sequences(text_sample)\n",
    "data_examples = pad_sequences(sequences, maxlen=300)\n",
    "\n",
    "# effettuare le predizioni e stampare i risultati\n",
    "predictions_lstm = lstm.predict(data_examples)\n",
    "predictions_cnn = cnn.predict(data_examples)\n",
    "predictions_clstm = clstm.predict(data_examples)\n",
    "predictions_bid = bilstm.predict(data_examples)\n",
    "print(f\"Random review\\n: {sample}\")\n",
    "print(f\"Risultati LSTM:\\n {predict(predictions_lstm)}\\n\\n\")\n",
    "print(f\"Risultati Convulational Neural Network:\\n {predict(predictions_cnn)}\\n\\n\")\n",
    "print(f\"Risultati Convulational Neural Network concatenata a LSTM:\\n {predict(predictions_clstm)}\\n\\n\")\n",
    "print(f\"Risultati Convulational Neural Network concatenata a biLSTM:\\n {predict(predictions_bid)}\\n\\n\")"
   ]
  },
  {
   "cell_type": "markdown",
   "id": "616dafe1",
   "metadata": {},
   "source": [
    "## 6. Risultati Raggiunti"
   ]
  },
  {
   "cell_type": "markdown",
   "id": "2e3006af",
   "metadata": {},
   "source": [
    "In questa sezione, andiamo a proporre una rappresentazione grafica dei risultati andando a rappresentare i parametri di valutazione delle performance presi in considerazione: accuracy, loss, e f-score. I risultati ad essere differenziati per modello e per epoche di addestramento."
   ]
  },
  {
   "cell_type": "code",
   "execution_count": 80,
   "id": "e0881c38",
   "metadata": {},
   "outputs": [
    {
     "data": {
      "image/png": "[encoded data removed]",
      "text/plain": [
       "<Figure size 432x288 with 1 Axes>"
      ]
     },
     "metadata": {
      "needs_background": "light"
     },
     "output_type": "display_data"
    },
    {
     "data": {
      "image/png": "[encoded data removed]",
      "text/plain": [
       "<Figure size 432x288 with 1 Axes>"
      ]
     },
     "metadata": {
      "needs_background": "light"
     },
     "output_type": "display_data"
    }
   ],
   "source": [
    "# grafico di paragone per i valori della training accuracy tra i modelli proposti\n",
    "plt.plot(results_lstm.history['accuracy'])\n",
    "plt.plot(results_cnn.history['accuracy'])\n",
    "plt.plot(results_clstm.history['accuracy'])\n",
    "plt.plot(results_bid.history['accuracy'])\n",
    "plt.title('Analisi training accuracy dei modelli')\n",
    "plt.ylabel('Accuracy')\n",
    "plt.xlabel('epoch')\n",
    "plt.legend(['LSTM', 'CNN', 'CNN e LSTM', 'CNN e biLSTM'], loc='best')\n",
    "plt.show()\n",
    "\n",
    "\n",
    "# grafico di paragone per i valori dell'accuracy in validazione\n",
    "plt.plot(results_lstm.history['val_accuracy'])\n",
    "plt.plot(results_cnn.history['val_accuracy'])\n",
    "plt.plot(results_clstm.history['val_accuracy'])\n",
    "plt.plot(results_bid.history['val_accuracy'])\n",
    "plt.title('Analisi validation accuracy dei modelli')\n",
    "plt.ylabel('Accuracy')\n",
    "plt.xlabel('epoch')\n",
    "plt.legend(['LSTM', 'CNN', 'CNN e LSTM', 'CNN e biLSTM'], loc='best')\n",
    "plt.show()\n",
    "\n"
   ]
  },
  {
   "cell_type": "code",
   "execution_count": 81,
   "id": "b16303df",
   "metadata": {},
   "outputs": [
    {
     "data": {
      "image/png": "[encoded data removed]",
      "text/plain": [
       "<Figure size 432x288 with 1 Axes>"
      ]
     },
     "metadata": {
      "needs_background": "light"
     },
     "output_type": "display_data"
    },
    {
     "data": {
      "image/png": "[encoded data removed]",
      "text/plain": [
       "<Figure size 432x288 with 1 Axes>"
      ]
     },
     "metadata": {
      "needs_background": "light"
     },
     "output_type": "display_data"
    }
   ],
   "source": [
    "# grafico di paragone per i valori della loss function tra i modelli proposti\n",
    "plt.plot(results_lstm.history['loss'])\n",
    "plt.plot(results_cnn.history['loss'])\n",
    "plt.plot(results_clstm.history['loss'])\n",
    "plt.plot(results_bid.history['loss'])\n",
    "plt.title('Analisi training loss dei modelli')\n",
    "plt.ylabel('Loss')\n",
    "plt.xlabel('Epoch')\n",
    "plt.legend(['LSTM', 'CNN', 'CNN e LSTM', 'CNN e biLSTM'], loc='best')\n",
    "plt.show()\n",
    "\n",
    "\n",
    "\n",
    "# grafico di paragone per i valori della loss function tra i modelli proposti\n",
    "plt.plot(results_lstm.history['val_loss'])\n",
    "plt.plot(results_cnn.history['val_loss'])\n",
    "plt.plot(results_clstm.history['val_loss'])\n",
    "plt.plot(results_bid.history['val_loss'])\n",
    "plt.title('Analisi validation loss dei modelli')\n",
    "plt.ylabel('Loss')\n",
    "plt.xlabel('Epoch')\n",
    "plt.legend(['LSTM', 'CNN', 'CNN e LSTM', 'CNN e biLSTM'], loc='best')\n",
    "plt.show()"
   ]
  },
  {
   "cell_type": "code",
   "execution_count": 82,
   "id": "36081a8e",
   "metadata": {},
   "outputs": [
    {
     "data": {
      "image/png": "[encoded data removed]",
      "text/plain": [
       "<Figure size 432x288 with 1 Axes>"
      ]
     },
     "metadata": {
      "needs_background": "light"
     },
     "output_type": "display_data"
    },
    {
     "data": {
      "image/png": "[encoded data removed]",
      "text/plain": [
       "<Figure size 432x288 with 1 Axes>"
      ]
     },
     "metadata": {
      "needs_background": "light"
     },
     "output_type": "display_data"
    }
   ],
   "source": [
    "# grafico di paragone per i valori del F1-Score in validation\n",
    "\n",
    "plt.plot(results_lstm.history['f1_score_train'])\n",
    "plt.plot(results_cnn.history['f1_score_train'])\n",
    "plt.plot(results_clstm.history['f1_score_train'])\n",
    "plt.plot(results_bid.history['f1_score_train'])\n",
    "plt.title('Analisi training f-score dei modelli')\n",
    "plt.ylabel('F-Score')\n",
    "plt.xlabel('Epoch')\n",
    "plt.legend(['LSTM', 'CNN', 'CNN e LSTM', 'CNN e biLSTM'], loc='best')\n",
    "plt.show()\n",
    "\n",
    "plt.plot(results_lstm.history['f1_score_val'])\n",
    "plt.plot(results_cnn.history['f1_score_val'])\n",
    "plt.plot(results_clstm.history['f1_score_val'])\n",
    "plt.plot(results_bid.history['f1_score_val'])\n",
    "plt.title('Analisi validation f-score dei modelli')\n",
    "plt.ylabel('F-Score')\n",
    "plt.xlabel('Epoch')\n",
    "plt.legend(['LSTM', 'CNN', 'CNN e LSTM', 'CNN e biLSTM'], loc='best')\n",
    "plt.show()"
   ]
  },
  {
   "cell_type": "code",
   "execution_count": null,
   "id": "8cb02d2c",
   "metadata": {},
   "outputs": [],
   "source": []
  },
  {
   "cell_type": "code",
   "execution_count": null,
   "id": "0f7521c4",
   "metadata": {},
   "outputs": [],
   "source": []
  }
 ],
 "metadata": {
  "kernelspec": {
   "display_name": "Python 3 (ipykernel)",
   "language": "python",
   "name": "python3"
  },
  "language_info": {
   "codemirror_mode": {
    "name": "ipython",
    "version": 3
   },
   "file_extension": ".py",
   "mimetype": "text/x-python",
   "name": "python",
   "nbconvert_exporter": "python",
   "pygments_lexer": "ipython3",
   "version": "3.9.7"
  }
 },
 "nbformat": 4,
 "nbformat_minor": 5
}
