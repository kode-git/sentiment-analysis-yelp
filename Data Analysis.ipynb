{
 "cells": [
  {
   "cell_type": "markdown",
   "id": "739c4f7a",
   "metadata": {},
   "source": [
    "# NLP on Yelp Open Dataset for Review Classification - Data Analysis"
   ]
  },
  {
   "cell_type": "markdown",
   "id": "2889c826",
   "metadata": {},
   "source": [
    "## Import Libraries and Load Dataset"
   ]
  },
  {
   "cell_type": "code",
   "execution_count": 43,
   "id": "3871d246",
   "metadata": {},
   "outputs": [],
   "source": [
    "import pandas as pd\n",
    "import numpy as np\n",
    "import seaborn as sns\n",
    "import matplotlib.pyplot as plt\n",
    "%matplotlib inline"
   ]
  },
  {
   "cell_type": "code",
   "execution_count": 44,
   "id": "5e321d4f",
   "metadata": {},
   "outputs": [
    {
     "name": "stdout",
     "output_type": "stream",
     "text": [
      "CPU times: user 40.1 s, sys: 8.14 s, total: 48.2 s\n",
      "Wall time: 48.9 s\n"
     ]
    }
   ],
   "source": [
    "%%time\n",
    "df = pd.read_csv('./data/yelp_academic_base_dataset.csv')"
   ]
  },
  {
   "cell_type": "markdown",
   "id": "a50e3e62",
   "metadata": {},
   "source": [
    "## Show Dataset "
   ]
  },
  {
   "cell_type": "code",
   "execution_count": 45,
   "id": "b0dec5ce",
   "metadata": {},
   "outputs": [
    {
     "data": {
      "text/html": [
       "<div>\n",
       "<style scoped>\n",
       "    .dataframe tbody tr th:only-of-type {\n",
       "        vertical-align: middle;\n",
       "    }\n",
       "\n",
       "    .dataframe tbody tr th {\n",
       "        vertical-align: top;\n",
       "    }\n",
       "\n",
       "    .dataframe thead th {\n",
       "        text-align: right;\n",
       "    }\n",
       "</style>\n",
       "<table border=\"1\" class=\"dataframe\">\n",
       "  <thead>\n",
       "    <tr style=\"text-align: right;\">\n",
       "      <th></th>\n",
       "      <th>businessId</th>\n",
       "      <th>meanStars</th>\n",
       "      <th>reviewCount</th>\n",
       "      <th>reviewStars</th>\n",
       "      <th>text</th>\n",
       "      <th>date</th>\n",
       "    </tr>\n",
       "  </thead>\n",
       "  <tbody>\n",
       "    <tr>\n",
       "      <th>0</th>\n",
       "      <td>6iYb2HFDywm3zjuRg0shjw</td>\n",
       "      <td>4.0</td>\n",
       "      <td>86</td>\n",
       "      <td>5.0</td>\n",
       "      <td>Stopped in on a busy Friday night. Despite the...</td>\n",
       "      <td>2018-03-04 00:59:21</td>\n",
       "    </tr>\n",
       "    <tr>\n",
       "      <th>1</th>\n",
       "      <td>tCbdrRPZA0oiIYSmHG3J0w</td>\n",
       "      <td>4.0</td>\n",
       "      <td>126</td>\n",
       "      <td>4.0</td>\n",
       "      <td>Elephant's contacted me the same day I posted ...</td>\n",
       "      <td>2012-07-16 05:04:05</td>\n",
       "    </tr>\n",
       "    <tr>\n",
       "      <th>2</th>\n",
       "      <td>tCbdrRPZA0oiIYSmHG3J0w</td>\n",
       "      <td>4.0</td>\n",
       "      <td>126</td>\n",
       "      <td>5.0</td>\n",
       "      <td>I'm not usually a fan of airport food. I usual...</td>\n",
       "      <td>2015-04-28 21:11:10</td>\n",
       "    </tr>\n",
       "    <tr>\n",
       "      <th>3</th>\n",
       "      <td>tCbdrRPZA0oiIYSmHG3J0w</td>\n",
       "      <td>4.0</td>\n",
       "      <td>126</td>\n",
       "      <td>4.0</td>\n",
       "      <td>If one must have breakfast at the airport, per...</td>\n",
       "      <td>2015-11-18 18:50:05</td>\n",
       "    </tr>\n",
       "    <tr>\n",
       "      <th>4</th>\n",
       "      <td>tCbdrRPZA0oiIYSmHG3J0w</td>\n",
       "      <td>4.0</td>\n",
       "      <td>126</td>\n",
       "      <td>5.0</td>\n",
       "      <td>Reasonably priced, tasty local joint. Lots of ...</td>\n",
       "      <td>2011-11-30 20:15:41</td>\n",
       "    </tr>\n",
       "  </tbody>\n",
       "</table>\n",
       "</div>"
      ],
      "text/plain": [
       "               businessId  meanStars  reviewCount  reviewStars  \\\n",
       "0  6iYb2HFDywm3zjuRg0shjw        4.0           86          5.0   \n",
       "1  tCbdrRPZA0oiIYSmHG3J0w        4.0          126          4.0   \n",
       "2  tCbdrRPZA0oiIYSmHG3J0w        4.0          126          5.0   \n",
       "3  tCbdrRPZA0oiIYSmHG3J0w        4.0          126          4.0   \n",
       "4  tCbdrRPZA0oiIYSmHG3J0w        4.0          126          5.0   \n",
       "\n",
       "                                                text                 date  \n",
       "0  Stopped in on a busy Friday night. Despite the...  2018-03-04 00:59:21  \n",
       "1  Elephant's contacted me the same day I posted ...  2012-07-16 05:04:05  \n",
       "2  I'm not usually a fan of airport food. I usual...  2015-04-28 21:11:10  \n",
       "3  If one must have breakfast at the airport, per...  2015-11-18 18:50:05  \n",
       "4  Reasonably priced, tasty local joint. Lots of ...  2011-11-30 20:15:41  "
      ]
     },
     "execution_count": 45,
     "metadata": {},
     "output_type": "execute_result"
    }
   ],
   "source": [
    "df.head()"
   ]
  },
  {
   "cell_type": "code",
   "execution_count": 46,
   "id": "20d4f0c1",
   "metadata": {},
   "outputs": [
    {
     "name": "stdout",
     "output_type": "stream",
     "text": [
      "<class 'pandas.core.frame.DataFrame'>\n",
      "RangeIndex: 6968549 entries, 0 to 6968548\n",
      "Data columns (total 6 columns):\n",
      " #   Column       Dtype  \n",
      "---  ------       -----  \n",
      " 0   businessId   object \n",
      " 1   meanStars    float64\n",
      " 2   reviewCount  int64  \n",
      " 3   reviewStars  float64\n",
      " 4   text         object \n",
      " 5   date         object \n",
      "dtypes: float64(2), int64(1), object(3)\n",
      "memory usage: 319.0+ MB\n"
     ]
    }
   ],
   "source": [
    "df.info()"
   ]
  },
  {
   "cell_type": "code",
   "execution_count": 47,
   "id": "7dcc35f4",
   "metadata": {},
   "outputs": [
    {
     "data": {
      "text/html": [
       "<div>\n",
       "<style scoped>\n",
       "    .dataframe tbody tr th:only-of-type {\n",
       "        vertical-align: middle;\n",
       "    }\n",
       "\n",
       "    .dataframe tbody tr th {\n",
       "        vertical-align: top;\n",
       "    }\n",
       "\n",
       "    .dataframe thead th {\n",
       "        text-align: right;\n",
       "    }\n",
       "</style>\n",
       "<table border=\"1\" class=\"dataframe\">\n",
       "  <thead>\n",
       "    <tr style=\"text-align: right;\">\n",
       "      <th></th>\n",
       "      <th>meanStars</th>\n",
       "      <th>reviewCount</th>\n",
       "      <th>reviewStars</th>\n",
       "    </tr>\n",
       "  </thead>\n",
       "  <tbody>\n",
       "    <tr>\n",
       "      <th>count</th>\n",
       "      <td>6.968549e+06</td>\n",
       "      <td>6.968549e+06</td>\n",
       "      <td>6.968549e+06</td>\n",
       "    </tr>\n",
       "    <tr>\n",
       "      <th>mean</th>\n",
       "      <td>3.770948e+00</td>\n",
       "      <td>4.040217e+02</td>\n",
       "      <td>3.765686e+00</td>\n",
       "    </tr>\n",
       "    <tr>\n",
       "      <th>std</th>\n",
       "      <td>7.329119e-01</td>\n",
       "      <td>7.504751e+02</td>\n",
       "      <td>1.463478e+00</td>\n",
       "    </tr>\n",
       "    <tr>\n",
       "      <th>min</th>\n",
       "      <td>1.000000e+00</td>\n",
       "      <td>5.000000e+00</td>\n",
       "      <td>1.000000e+00</td>\n",
       "    </tr>\n",
       "    <tr>\n",
       "      <th>25%</th>\n",
       "      <td>3.500000e+00</td>\n",
       "      <td>5.600000e+01</td>\n",
       "      <td>3.000000e+00</td>\n",
       "    </tr>\n",
       "    <tr>\n",
       "      <th>50%</th>\n",
       "      <td>4.000000e+00</td>\n",
       "      <td>1.740000e+02</td>\n",
       "      <td>4.000000e+00</td>\n",
       "    </tr>\n",
       "    <tr>\n",
       "      <th>75%</th>\n",
       "      <td>4.500000e+00</td>\n",
       "      <td>4.440000e+02</td>\n",
       "      <td>5.000000e+00</td>\n",
       "    </tr>\n",
       "    <tr>\n",
       "      <th>max</th>\n",
       "      <td>5.000000e+00</td>\n",
       "      <td>9.185000e+03</td>\n",
       "      <td>5.000000e+00</td>\n",
       "    </tr>\n",
       "  </tbody>\n",
       "</table>\n",
       "</div>"
      ],
      "text/plain": [
       "          meanStars   reviewCount   reviewStars\n",
       "count  6.968549e+06  6.968549e+06  6.968549e+06\n",
       "mean   3.770948e+00  4.040217e+02  3.765686e+00\n",
       "std    7.329119e-01  7.504751e+02  1.463478e+00\n",
       "min    1.000000e+00  5.000000e+00  1.000000e+00\n",
       "25%    3.500000e+00  5.600000e+01  3.000000e+00\n",
       "50%    4.000000e+00  1.740000e+02  4.000000e+00\n",
       "75%    4.500000e+00  4.440000e+02  5.000000e+00\n",
       "max    5.000000e+00  9.185000e+03  5.000000e+00"
      ]
     },
     "execution_count": 47,
     "metadata": {},
     "output_type": "execute_result"
    }
   ],
   "source": [
    "df.describe()"
   ]
  },
  {
   "cell_type": "markdown",
   "id": "ee9c397d",
   "metadata": {},
   "source": [
    "## Plotting Data"
   ]
  },
  {
   "cell_type": "code",
   "execution_count": 48,
   "id": "43bb3b58",
   "metadata": {},
   "outputs": [
    {
     "data": {
      "text/plain": [
       "Text(0.5, 1.0, 'Stars Rating Distribution')"
      ]
     },
     "execution_count": 48,
     "metadata": {},
     "output_type": "execute_result"
    },
    {
     "data": {
      "image/png": "[encoded data removed]",
      "text/plain": [
       "<Figure size 576x576 with 1 Axes>"
      ]
     },
     "metadata": {},
     "output_type": "display_data"
    }
   ],
   "source": [
    "plt.figure(figsize=(8,8))\n",
    "df['reviewStars'].value_counts().plot.pie(autopct='%1.1f%%', startangle=60)\n",
    "plt.title('Stars Rating Distribution')"
   ]
  },
  {
   "cell_type": "markdown",
   "id": "7bdaf1a8",
   "metadata": {},
   "source": [
    "There are almost 50% of the reviews with 5 stars. The splitting between positive and negative reviews could be unbalanced with almost 70% of positive reviews. We may to balance dataset reducing the amount of positive reviews to consider during the training phase."
   ]
  },
  {
   "cell_type": "code",
   "execution_count": 49,
   "id": "17cf6959",
   "metadata": {},
   "outputs": [
    {
     "data": {
      "text/plain": [
       "Text(0.5, 1.0, 'Stars Means Rating Distribution')"
      ]
     },
     "execution_count": 49,
     "metadata": {},
     "output_type": "execute_result"
    },
    {
     "data": {
      "image/png": "[encoded data removed]",
      "text/plain": [
       "<Figure size 576x576 with 1 Axes>"
      ]
     },
     "metadata": {},
     "output_type": "display_data"
    }
   ],
   "source": [
    "plt.figure(figsize=(8,8))\n",
    "df['meanStars'].value_counts().plot.pie(autopct='%1.1f%%', startangle=60)\n",
    "plt.title('Stars Means Rating Distribution')"
   ]
  },
  {
   "cell_type": "markdown",
   "id": "a52edde4",
   "metadata": {},
   "source": [
    "In according with the stars reviesws rating "
   ]
  },
  {
   "cell_type": "code",
   "execution_count": 50,
   "id": "6464fade",
   "metadata": {},
   "outputs": [],
   "source": [
    "# Adding text length for data analysis\n",
    "df['textLength']  = df['text'].str.len()"
   ]
  },
  {
   "cell_type": "code",
   "execution_count": 51,
   "id": "bd08baa2",
   "metadata": {},
   "outputs": [
    {
     "data": {
      "text/plain": [
       "<seaborn.axisgrid.FacetGrid at 0x7fc38e972670>"
      ]
     },
     "execution_count": 51,
     "metadata": {},
     "output_type": "execute_result"
    },
    {
     "data": {
      "image/png": "[encoded data removed]",
      "text/plain": [
       "<Figure size 1080x216 with 5 Axes>"
      ]
     },
     "metadata": {
      "needs_background": "light"
     },
     "output_type": "display_data"
    }
   ],
   "source": [
    "graph = sns.FacetGrid(data=df,col='reviewStars')\n",
    "graph.map(plt.hist,'textLength',bins=50,color='blue')"
   ]
  },
  {
   "cell_type": "markdown",
   "id": "83a9cc1e",
   "metadata": {},
   "source": [
    "Splitting on stars values, most reviews have between 0 - 1000 words in their text column."
   ]
  },
  {
   "cell_type": "code",
   "execution_count": 52,
   "id": "93e4728b",
   "metadata": {},
   "outputs": [
    {
     "data": {
      "text/html": [
       "<div>\n",
       "<style scoped>\n",
       "    .dataframe tbody tr th:only-of-type {\n",
       "        vertical-align: middle;\n",
       "    }\n",
       "\n",
       "    .dataframe tbody tr th {\n",
       "        vertical-align: top;\n",
       "    }\n",
       "\n",
       "    .dataframe thead th {\n",
       "        text-align: right;\n",
       "    }\n",
       "</style>\n",
       "<table border=\"1\" class=\"dataframe\">\n",
       "  <thead>\n",
       "    <tr style=\"text-align: right;\">\n",
       "      <th></th>\n",
       "      <th>meanStars</th>\n",
       "      <th>reviewCount</th>\n",
       "      <th>reviewStars</th>\n",
       "      <th>textLength</th>\n",
       "    </tr>\n",
       "  </thead>\n",
       "  <tbody>\n",
       "    <tr>\n",
       "      <th>meanStars</th>\n",
       "      <td>1.000000</td>\n",
       "      <td>0.032057</td>\n",
       "      <td>0.987082</td>\n",
       "      <td>-0.211441</td>\n",
       "    </tr>\n",
       "    <tr>\n",
       "      <th>reviewCount</th>\n",
       "      <td>0.032057</td>\n",
       "      <td>1.000000</td>\n",
       "      <td>0.033209</td>\n",
       "      <td>-0.009019</td>\n",
       "    </tr>\n",
       "    <tr>\n",
       "      <th>reviewStars</th>\n",
       "      <td>0.987082</td>\n",
       "      <td>0.033209</td>\n",
       "      <td>1.000000</td>\n",
       "      <td>-0.217405</td>\n",
       "    </tr>\n",
       "    <tr>\n",
       "      <th>textLength</th>\n",
       "      <td>-0.211441</td>\n",
       "      <td>-0.009019</td>\n",
       "      <td>-0.217405</td>\n",
       "      <td>1.000000</td>\n",
       "    </tr>\n",
       "  </tbody>\n",
       "</table>\n",
       "</div>"
      ],
      "text/plain": [
       "             meanStars  reviewCount  reviewStars  textLength\n",
       "meanStars     1.000000     0.032057     0.987082   -0.211441\n",
       "reviewCount   0.032057     1.000000     0.033209   -0.009019\n",
       "reviewStars   0.987082     0.033209     1.000000   -0.217405\n",
       "textLength   -0.211441    -0.009019    -0.217405    1.000000"
      ]
     },
     "execution_count": 52,
     "metadata": {},
     "output_type": "execute_result"
    }
   ],
   "source": [
    "stval = df.groupby('businessId').mean()\n",
    "stval.corr()"
   ]
  },
  {
   "cell_type": "markdown",
   "id": "b4a1218b",
   "metadata": {},
   "source": [
    "There are correlations between meanStars and reviewStars"
   ]
  },
  {
   "cell_type": "code",
   "execution_count": 60,
   "id": "2799184b",
   "metadata": {},
   "outputs": [
    {
     "name": "stdout",
     "output_type": "stream",
     "text": [
      "Missing value: True on:\n"
     ]
    },
    {
     "data": {
      "text/plain": [
       "businessId     0\n",
       "meanStars      0\n",
       "reviewCount    0\n",
       "reviewStars    0\n",
       "text           2\n",
       "textLength     2\n",
       "dtype: int64"
      ]
     },
     "execution_count": 60,
     "metadata": {},
     "output_type": "execute_result"
    }
   ],
   "source": [
    "df.isna().values.any()\n",
    "print(f'Missing value: {df.isna().values.any()} on:')\n",
    "df.isna().sum()"
   ]
  },
  {
   "cell_type": "markdown",
   "id": "d44730d5",
   "metadata": {},
   "source": [
    "Rows with missing values will be removed during data pre-processing phase."
   ]
  },
  {
   "cell_type": "code",
   "execution_count": 54,
   "id": "4369fc05",
   "metadata": {},
   "outputs": [
    {
     "data": {
      "image/png": "[encoded data removed]",
      "text/plain": [
       "<Figure size 432x288 with 1 Axes>"
      ]
     },
     "metadata": {
      "needs_background": "light"
     },
     "output_type": "display_data"
    }
   ],
   "source": [
    "df['date'] = pd.to_datetime(df['date'])\n",
    "df = df.set_index('date')\n",
    "plt.plot(df['reviewStars'].resample('M').count())\n",
    "plt.xlabel('Year')\n",
    "plt.ylabel('Number of reviews')\n",
    "plt.title('Number of reviews per month')\n",
    "plt.show()"
   ]
  },
  {
   "cell_type": "markdown",
   "id": "7e618a07",
   "metadata": {},
   "source": [
    "The number of reviews increases over time until 2020 (impact of COVID lockdown)."
   ]
  }
 ],
 "metadata": {
  "kernelspec": {
   "display_name": "Python 3 (ipykernel)",
   "language": "python",
   "name": "python3"
  },
  "language_info": {
   "codemirror_mode": {
    "name": "ipython",
    "version": 3
   },
   "file_extension": ".py",
   "mimetype": "text/x-python",
   "name": "python",
   "nbconvert_exporter": "python",
   "pygments_lexer": "ipython3",
   "version": "3.9.4"
  },
  "latex_envs": {
   "LaTeX_envs_menu_present": true,
   "autoclose": false,
   "autocomplete": true,
   "bibliofile": "biblio.bib",
   "cite_by": "apalike",
   "current_citInitial": 1,
   "eqLabelWithNumbers": true,
   "eqNumInitial": 1,
   "hotkeys": {
    "equation": "Ctrl-E",
    "itemize": "Ctrl-I"
   },
   "labels_anchors": false,
   "latex_user_defs": false,
   "report_style_numbering": false,
   "user_envs_cfg": false
  },
  "toc": {
   "base_numbering": 1,
   "nav_menu": {},
   "number_sections": true,
   "sideBar": true,
   "skip_h1_title": false,
   "title_cell": "Table of Contents",
   "title_sidebar": "Contents",
   "toc_cell": false,
   "toc_position": {},
   "toc_section_display": true,
   "toc_window_display": false
  },
  "varInspector": {
   "cols": {
    "lenName": 16,
    "lenType": 16,
    "lenVar": 40
   },
   "kernels_config": {
    "python": {
     "delete_cmd_postfix": "",
     "delete_cmd_prefix": "del ",
     "library": "var_list.py",
     "varRefreshCmd": "print(var_dic_list())"
    },
    "r": {
     "delete_cmd_postfix": ") ",
     "delete_cmd_prefix": "rm(",
     "library": "var_list.r",
     "varRefreshCmd": "cat(var_dic_list()) "
    }
   },
   "types_to_exclude": [
    "module",
    "function",
    "builtin_function_or_method",
    "instance",
    "_Feature"
   ],
   "window_display": false
  }
 },
 "nbformat": 4,
 "nbformat_minor": 5
}
