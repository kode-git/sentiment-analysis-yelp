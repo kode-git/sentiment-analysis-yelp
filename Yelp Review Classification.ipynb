{
 "cells": [
  {
   "cell_type": "code",
   "execution_count": 2,
   "id": "e738748b",
   "metadata": {},
   "outputs": [],
   "source": [
    "import pandas as pd\n",
    "import numpy as np\n",
    "import matplotlib.pyplot as plt\n",
    "import seaborn as sns\n",
    "import nltk\n",
    "from nltk.corpus import stopwords"
   ]
  },
  {
   "cell_type": "code",
   "execution_count": null,
   "id": "56325afb",
   "metadata": {},
   "outputs": [],
   "source": [
    "yelp = pd.read_json('yelp_academic_dataset_review.json')\n"
   ]
  },
  {
   "cell_type": "code",
   "execution_count": null,
   "id": "32057015",
   "metadata": {},
   "outputs": [],
   "source": [
    "yelp.shape()"
   ]
  },
  {
   "cell_type": "code",
   "execution_count": null,
   "id": "9630a6d8",
   "metadata": {},
   "outputs": [],
   "source": [
    "yelp.head()\n",
    "yelp.info()"
   ]
  },
  {
   "cell_type": "code",
   "execution_count": null,
   "id": "27c5b08a",
   "metadata": {},
   "outputs": [],
   "source": [
    "# describe\n",
    "yelp.describe()"
   ]
  },
  {
   "cell_type": "code",
   "execution_count": null,
   "id": "1d3303f1",
   "metadata": {},
   "outputs": [],
   "source": [
    "yelp['text length'] = yelp['text'].apply(len)\n",
    "yelp.head()"
   ]
  },
  {
   "cell_type": "code",
   "execution_count": null,
   "id": "8e3c95cf",
   "metadata": {},
   "outputs": [],
   "source": [
    "# Dataset mapping\n",
    "g = sns.FacetGrid(data=yelp, col='stars')\n",
    "g.map(plt.hist, 'text length', bins=50)"
   ]
  },
  {
   "cell_type": "code",
   "execution_count": null,
   "id": "5a50386c",
   "metadata": {},
   "outputs": [],
   "source": [
    "# Stars plotting for text length \n",
    "sns.boxplot(x='stars', y='text length', data=yelp)"
   ]
  },
  {
   "cell_type": "code",
   "execution_count": null,
   "id": "0b9198b7",
   "metadata": {},
   "outputs": [],
   "source": [
    "stars = yelp.groupby('stars').mean()\n",
    "stars.corr()"
   ]
  },
  {
   "cell_type": "code",
   "execution_count": null,
   "id": "1767fa4d",
   "metadata": {},
   "outputs": [],
   "source": [
    "# Visualize correlations\n",
    "sns.heatmap(data=stars.corr(), annot=True)\n"
   ]
  }
 ],
 "metadata": {
  "kernelspec": {
   "display_name": "Python 3",
   "language": "python",
   "name": "python3"
  },
  "language_info": {
   "codemirror_mode": {
    "name": "ipython",
    "version": 3
   },
   "file_extension": ".py",
   "mimetype": "text/x-python",
   "name": "python",
   "nbconvert_exporter": "python",
   "pygments_lexer": "ipython3",
   "version": "3.8.8"
  }
 },
 "nbformat": 4,
 "nbformat_minor": 5
}
