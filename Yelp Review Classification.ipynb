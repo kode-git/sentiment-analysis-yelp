{
 "cells": [
  {
   "cell_type": "markdown",
   "id": "2d35b8db",
   "metadata": {},
   "source": [
    "# NLP on Yelp Open Dataset for Review Classification"
   ]
  },
  {
   "cell_type": "markdown",
   "id": "96cfcc62",
   "metadata": {},
   "source": [
    "Questo notebook ha il compito di effettuare tramite NLP una classificazione delle reviews in positive e negative andando ad analizzare testi tokenizzati all'interno del dataset fornito da Open Yelp Dataset. Ci soffermeremo solamente sulla tabella dedicata alla review poichè si giudicano sufficiente, per raggiungere un livello di precisione accettabile, le informazioni contenute all'interno delle colonne della tabella review fornita in input."
   ]
  },
  {
   "cell_type": "markdown",
   "id": "77beb0bf",
   "metadata": {},
   "source": [
    "### Import Libraries"
   ]
  },
  {
   "cell_type": "code",
   "execution_count": 34,
   "id": "9816f0aa",
   "metadata": {},
   "outputs": [
    {
     "name": "stderr",
     "output_type": "stream",
     "text": [
      "[nltk_data] Downloading package punkt to /Users/kode/nltk_data...\n",
      "[nltk_data]   Package punkt is already up-to-date!\n"
     ]
    }
   ],
   "source": [
    "# librerie di default\n",
    "import pandas as pd\n",
    "import numpy as np\n",
    "\n",
    "# librerie per il data analysis\n",
    "import seaborn as sns\n",
    "import matplotlib.pyplot as plt\n",
    "from wordcloud import WordCloud, STOPWORDS, ImageColorGenerator\n",
    "%matplotlib inline\n",
    "\n",
    "import nltk as nltk\n",
    "from nltk.tokenize import word_tokenize\n",
    "from nltk import FreqDist\n",
    "nltk.download('punkt')\n",
    "\n",
    "# librerie per il data pre-processing\n",
    "from collections import Counter\n",
    "from datetime import datetime\n",
    "from keras.preprocessing.text import Tokenizer\n",
    "from keras.preprocessing.sequence import pad_sequences\n",
    "\n",
    "from sklearn.model_selection import train_test_split\n",
    "\n",
    "# librerie per il data modelling\n",
    "import tensorflow as tf\n",
    "from tensorflow import keras\n",
    "from tensorflow.keras import layers"
   ]
  },
  {
   "cell_type": "markdown",
   "id": "787e548f",
   "metadata": {},
   "source": [
    "## 1. Data Loading"
   ]
  },
  {
   "cell_type": "markdown",
   "id": "7b0e9e55",
   "metadata": {},
   "source": [
    "La fase di data loading non fa altro che caricare all'interno di un pandas dataframe le informazioni contenute nel dataset JSON in formato tabellare per poi utilizzarlo nella fase di data analysis per visualizzare le correlazioni e i valori al suo interno tramite visualizzazione grafica in modo da rendersi conto di che tipo e in che quantità sono distribuiti i dati."
   ]
  },
  {
   "cell_type": "code",
   "execution_count": 2,
   "id": "de54f167",
   "metadata": {},
   "outputs": [],
   "source": [
    "# definiamo i tipi degli attributi JSON per l'attributo dtype di read_json\n",
    "rtypes = {\"stars\": np.float16, \n",
    "            \"useful\": np.int32, \n",
    "            \"funny\": np.int32,\n",
    "            \"cool\": np.int32,\n",
    "            \"text\" : str,\n",
    "           }\n",
    "\n",
    "# file path del dataset json\n",
    "path = './data/yelp_academic_dataset_review.json'\n",
    "\n",
    "# grandezza dei chunk\n",
    "chunkSize = 100000"
   ]
  },
  {
   "cell_type": "code",
   "execution_count": 3,
   "id": "3fe4db53",
   "metadata": {},
   "outputs": [
    {
     "name": "stdout",
     "output_type": "stream",
     "text": [
      "CPU times: user 1min 21s, sys: 16.3 s, total: 1min 37s\n",
      "Wall time: 1min 38s\n"
     ]
    }
   ],
   "source": [
    "%%time\n",
    "# creazione del JsonReader\n",
    "review = pd.read_json(path, lines=True,\n",
    "                      dtype=rtypes,\n",
    "                      chunksize=chunkSize)\n",
    "chunkList = []\n",
    "\n",
    "# utilizzo della segmentazione in chunk per creare dal JsonReader il dataframe\n",
    "for chunkReview in review:\n",
    "    # rimozione degli attributi id\n",
    "    chunkReview = chunkReview.drop(['review_id', 'user_id','business_id'], axis=1)\n",
    "    chunkList.append(chunkReview)\n",
    "    \n",
    "# concatenazione degli elementi nella chunkList per righe\n",
    "df = pd.concat(chunkList, ignore_index=True, axis=0)"
   ]
  },
  {
   "cell_type": "code",
   "execution_count": 4,
   "id": "1102210d",
   "metadata": {},
   "outputs": [
    {
     "data": {
      "text/html": [
       "<div>\n",
       "<style scoped>\n",
       "    .dataframe tbody tr th:only-of-type {\n",
       "        vertical-align: middle;\n",
       "    }\n",
       "\n",
       "    .dataframe tbody tr th {\n",
       "        vertical-align: top;\n",
       "    }\n",
       "\n",
       "    .dataframe thead th {\n",
       "        text-align: right;\n",
       "    }\n",
       "</style>\n",
       "<table border=\"1\" class=\"dataframe\">\n",
       "  <thead>\n",
       "    <tr style=\"text-align: right;\">\n",
       "      <th></th>\n",
       "      <th>stars</th>\n",
       "      <th>useful</th>\n",
       "      <th>funny</th>\n",
       "      <th>cool</th>\n",
       "      <th>text</th>\n",
       "      <th>date</th>\n",
       "    </tr>\n",
       "  </thead>\n",
       "  <tbody>\n",
       "    <tr>\n",
       "      <th>0</th>\n",
       "      <td>4.0</td>\n",
       "      <td>3</td>\n",
       "      <td>1</td>\n",
       "      <td>1</td>\n",
       "      <td>Apparently Prides Osteria had a rough summer a...</td>\n",
       "      <td>2014-10-11 03:34:02</td>\n",
       "    </tr>\n",
       "    <tr>\n",
       "      <th>1</th>\n",
       "      <td>4.0</td>\n",
       "      <td>1</td>\n",
       "      <td>0</td>\n",
       "      <td>0</td>\n",
       "      <td>This store is pretty good. Not as great as Wal...</td>\n",
       "      <td>2015-07-03 20:38:25</td>\n",
       "    </tr>\n",
       "    <tr>\n",
       "      <th>2</th>\n",
       "      <td>5.0</td>\n",
       "      <td>0</td>\n",
       "      <td>0</td>\n",
       "      <td>0</td>\n",
       "      <td>I called WVM on the recommendation of a couple...</td>\n",
       "      <td>2013-05-28 20:38:06</td>\n",
       "    </tr>\n",
       "    <tr>\n",
       "      <th>3</th>\n",
       "      <td>2.0</td>\n",
       "      <td>1</td>\n",
       "      <td>1</td>\n",
       "      <td>1</td>\n",
       "      <td>I've stayed at many Marriott and Renaissance M...</td>\n",
       "      <td>2010-01-08 02:29:15</td>\n",
       "    </tr>\n",
       "    <tr>\n",
       "      <th>4</th>\n",
       "      <td>4.0</td>\n",
       "      <td>0</td>\n",
       "      <td>0</td>\n",
       "      <td>0</td>\n",
       "      <td>The food is always great here. The service fro...</td>\n",
       "      <td>2011-07-28 18:05:01</td>\n",
       "    </tr>\n",
       "  </tbody>\n",
       "</table>\n",
       "</div>"
      ],
      "text/plain": [
       "   stars  useful  funny  cool  \\\n",
       "0    4.0       3      1     1   \n",
       "1    4.0       1      0     0   \n",
       "2    5.0       0      0     0   \n",
       "3    2.0       1      1     1   \n",
       "4    4.0       0      0     0   \n",
       "\n",
       "                                                text                date  \n",
       "0  Apparently Prides Osteria had a rough summer a... 2014-10-11 03:34:02  \n",
       "1  This store is pretty good. Not as great as Wal... 2015-07-03 20:38:25  \n",
       "2  I called WVM on the recommendation of a couple... 2013-05-28 20:38:06  \n",
       "3  I've stayed at many Marriott and Renaissance M... 2010-01-08 02:29:15  \n",
       "4  The food is always great here. The service fro... 2011-07-28 18:05:01  "
      ]
     },
     "execution_count": 4,
     "metadata": {},
     "output_type": "execute_result"
    }
   ],
   "source": [
    "# visualizzazione degli elementi in testa\n",
    "df.head()"
   ]
  },
  {
   "cell_type": "markdown",
   "id": "6835a436",
   "metadata": {},
   "source": [
    "## 2. Data Analysis"
   ]
  },
  {
   "cell_type": "markdown",
   "id": "ca906c7e",
   "metadata": {},
   "source": [
    "Durante la fase di data analysis andremo ad ispezionare il dataframe caricato andando a visualizzare graficamente come sono distribuiti i valori associati ad ogni attributo."
   ]
  },
  {
   "cell_type": "code",
   "execution_count": 5,
   "id": "791a1d83",
   "metadata": {},
   "outputs": [
    {
     "name": "stdout",
     "output_type": "stream",
     "text": [
      "<class 'pandas.core.frame.DataFrame'>\n",
      "RangeIndex: 8635403 entries, 0 to 8635402\n",
      "Data columns (total 6 columns):\n",
      " #   Column  Dtype         \n",
      "---  ------  -----         \n",
      " 0   stars   float16       \n",
      " 1   useful  int32         \n",
      " 2   funny   int32         \n",
      " 3   cool    int32         \n",
      " 4   text    object        \n",
      " 5   date    datetime64[ns]\n",
      "dtypes: datetime64[ns](1), float16(1), int32(3), object(1)\n",
      "memory usage: 247.1+ MB\n"
     ]
    }
   ],
   "source": [
    "# informazioni sulle colonne del dataframe e su quante entries o righe si hanno\n",
    "df.info()"
   ]
  },
  {
   "cell_type": "markdown",
   "id": "905d3170",
   "metadata": {},
   "source": [
    "### 2.1 Stars Analysis"
   ]
  },
  {
   "cell_type": "code",
   "execution_count": 6,
   "id": "fb555473",
   "metadata": {},
   "outputs": [
    {
     "data": {
      "text/plain": [
       "Text(0.5, 1.0, \"Distribuzione dei valori per l'attributo stars\")"
      ]
     },
     "execution_count": 6,
     "metadata": {},
     "output_type": "execute_result"
    },
    {
     "data": {
      "image/png": "[encoded data removed]",
      "text/plain": [
       "<Figure size 576x576 with 1 Axes>"
      ]
     },
     "metadata": {},
     "output_type": "display_data"
    }
   ],
   "source": [
    "# definire la grandezza della figura\n",
    "plt.figure(figsize=(8,8))\n",
    "\n",
    "# contare i vari valori di stars e visualizzarli su un diagramma a torta\n",
    "df['stars'].value_counts().plot.pie(startangle=60)\n",
    "\n",
    "# definire il titolo del plot\n",
    "plt.title('Distribuzione dei valori per l\\'attributo stars')"
   ]
  },
  {
   "cell_type": "markdown",
   "id": "8c08912e",
   "metadata": {},
   "source": [
    "Le quantità di recensioni, classificate in base al numero di stelle assegnate, è sbilanciata. Si ha un maggior numero per le recensioni con 5 e 4 stelle rispetto a quelle con 1, 2 o 3 stelle."
   ]
  },
  {
   "cell_type": "code",
   "execution_count": 7,
   "id": "63264560",
   "metadata": {},
   "outputs": [
    {
     "data": {
      "text/plain": [
       "<AxesSubplot:>"
      ]
     },
     "execution_count": 7,
     "metadata": {},
     "output_type": "execute_result"
    },
    {
     "data": {
      "image/png": "[encoded data removed]",
      "text/plain": [
       "<Figure size 432x288 with 2 Axes>"
      ]
     },
     "metadata": {
      "needs_background": "light"
     },
     "output_type": "display_data"
    }
   ],
   "source": [
    "# definire le correlazioni\n",
    "corr = df.corr()\n",
    "\n",
    "# generazione dell'heatmap\n",
    "sns.heatmap(corr)"
   ]
  },
  {
   "cell_type": "markdown",
   "id": "008f57a4",
   "metadata": {},
   "source": [
    "Non sono presenti particolari correlazioni forti tra i funny, useful e cool con i valori dati a stars."
   ]
  },
  {
   "cell_type": "markdown",
   "id": "084367cf",
   "metadata": {},
   "source": [
    "### Text Analysis"
   ]
  },
  {
   "cell_type": "code",
   "execution_count": 8,
   "id": "0ab1bd9a",
   "metadata": {},
   "outputs": [
    {
     "data": {
      "image/png": "[encoded data removed]",
      "text/plain": [
       "<Figure size 432x288 with 1 Axes>"
      ]
     },
     "metadata": {
      "needs_background": "light"
     },
     "output_type": "display_data"
    },
    {
     "name": "stdout",
     "output_type": "stream",
     "text": [
      "CPU times: user 21.6 s, sys: 865 ms, total: 22.4 s\n",
      "Wall time: 22.4 s\n"
     ]
    }
   ],
   "source": [
    "%%time\n",
    "\n",
    "# definisce un sottoinsieme delle righe del dataset\n",
    "subset = df[:100000]\n",
    "# concatenazione dei testi di ogni riga in una singola stringa\n",
    "inputText = ' '.join(subset['text']).lower()\n",
    "\n",
    "# creazione di un wordcloud andando ad ignorare le stopwords\n",
    "wordCloud = WordCloud(background_color='white', stopwords=STOPWORDS).generate(inputText)\n",
    "# setting della visualizzazione utilizzando una interpolazione bilineare\n",
    "plt.imshow(wordCloud, interpolation='bilinear')\n",
    "\n",
    "# rimozione degli assi\n",
    "plt.axis('off')\n",
    "# visualizzazione del wordcloud rappresentante le parole più usate nel testo di una recensione\n",
    "plt.show()"
   ]
  },
  {
   "cell_type": "code",
   "execution_count": 9,
   "id": "7ceabfac",
   "metadata": {},
   "outputs": [],
   "source": [
    "# calcolo della frequenza dei termini più utilizzati\n",
    "wordTokens = word_tokenize(inputText)\n",
    "tokens = list()\n",
    "for word in wordTokens:\n",
    "    if word.isalpha() and word not in STOPWORDS:\n",
    "        tokens.append(word)\n",
    "tokenDist = FreqDist(tokens)\n",
    "# per questioni di visualizzazione, andiamo a prendere solamente i primi 20 termini utilizzati\n",
    "dist = pd.DataFrame(tokenDist.most_common(20),columns=['term', 'freq'])"
   ]
  },
  {
   "cell_type": "code",
   "execution_count": 10,
   "id": "00b4f358",
   "metadata": {},
   "outputs": [
    {
     "data": {
      "image/png": "[encoded data removed]",
      "text/plain": [
       "<Figure size 1008x576 with 1 Axes>"
      ]
     },
     "metadata": {
      "needs_background": "light"
     },
     "output_type": "display_data"
    }
   ],
   "source": [
    "# rappresentazione grafica dei risultati\n",
    "fig = plt.figure(figsize=(14,8))\n",
    "ax = fig.add_axes([0,0,1,1])\n",
    "x = dist['term']\n",
    "y = dist['freq']\n",
    "ax.bar(x,y)\n",
    "plt.title('Frequenza dei termini più utilizzati')\n",
    "plt.show()"
   ]
  },
  {
   "cell_type": "code",
   "execution_count": 11,
   "id": "8d714e8a",
   "metadata": {},
   "outputs": [],
   "source": [
    "# Aggiunta di una feature per l'analisi della lunghezza dei testi\n",
    "df['textLength']  = df['text'].str.len()"
   ]
  },
  {
   "cell_type": "code",
   "execution_count": 12,
   "id": "0fb126a8",
   "metadata": {},
   "outputs": [
    {
     "data": {
      "text/html": [
       "<div>\n",
       "<style scoped>\n",
       "    .dataframe tbody tr th:only-of-type {\n",
       "        vertical-align: middle;\n",
       "    }\n",
       "\n",
       "    .dataframe tbody tr th {\n",
       "        vertical-align: top;\n",
       "    }\n",
       "\n",
       "    .dataframe thead th {\n",
       "        text-align: right;\n",
       "    }\n",
       "</style>\n",
       "<table border=\"1\" class=\"dataframe\">\n",
       "  <thead>\n",
       "    <tr style=\"text-align: right;\">\n",
       "      <th></th>\n",
       "      <th>stars</th>\n",
       "      <th>useful</th>\n",
       "      <th>funny</th>\n",
       "      <th>cool</th>\n",
       "      <th>text</th>\n",
       "      <th>date</th>\n",
       "      <th>textLength</th>\n",
       "    </tr>\n",
       "  </thead>\n",
       "  <tbody>\n",
       "    <tr>\n",
       "      <th>0</th>\n",
       "      <td>4.0</td>\n",
       "      <td>3</td>\n",
       "      <td>1</td>\n",
       "      <td>1</td>\n",
       "      <td>Apparently Prides Osteria had a rough summer a...</td>\n",
       "      <td>2014-10-11 03:34:02</td>\n",
       "      <td>1856</td>\n",
       "    </tr>\n",
       "    <tr>\n",
       "      <th>1</th>\n",
       "      <td>4.0</td>\n",
       "      <td>1</td>\n",
       "      <td>0</td>\n",
       "      <td>0</td>\n",
       "      <td>This store is pretty good. Not as great as Wal...</td>\n",
       "      <td>2015-07-03 20:38:25</td>\n",
       "      <td>701</td>\n",
       "    </tr>\n",
       "    <tr>\n",
       "      <th>2</th>\n",
       "      <td>5.0</td>\n",
       "      <td>0</td>\n",
       "      <td>0</td>\n",
       "      <td>0</td>\n",
       "      <td>I called WVM on the recommendation of a couple...</td>\n",
       "      <td>2013-05-28 20:38:06</td>\n",
       "      <td>578</td>\n",
       "    </tr>\n",
       "    <tr>\n",
       "      <th>3</th>\n",
       "      <td>2.0</td>\n",
       "      <td>1</td>\n",
       "      <td>1</td>\n",
       "      <td>1</td>\n",
       "      <td>I've stayed at many Marriott and Renaissance M...</td>\n",
       "      <td>2010-01-08 02:29:15</td>\n",
       "      <td>390</td>\n",
       "    </tr>\n",
       "    <tr>\n",
       "      <th>4</th>\n",
       "      <td>4.0</td>\n",
       "      <td>0</td>\n",
       "      <td>0</td>\n",
       "      <td>0</td>\n",
       "      <td>The food is always great here. The service fro...</td>\n",
       "      <td>2011-07-28 18:05:01</td>\n",
       "      <td>181</td>\n",
       "    </tr>\n",
       "  </tbody>\n",
       "</table>\n",
       "</div>"
      ],
      "text/plain": [
       "   stars  useful  funny  cool  \\\n",
       "0    4.0       3      1     1   \n",
       "1    4.0       1      0     0   \n",
       "2    5.0       0      0     0   \n",
       "3    2.0       1      1     1   \n",
       "4    4.0       0      0     0   \n",
       "\n",
       "                                                text                date  \\\n",
       "0  Apparently Prides Osteria had a rough summer a... 2014-10-11 03:34:02   \n",
       "1  This store is pretty good. Not as great as Wal... 2015-07-03 20:38:25   \n",
       "2  I called WVM on the recommendation of a couple... 2013-05-28 20:38:06   \n",
       "3  I've stayed at many Marriott and Renaissance M... 2010-01-08 02:29:15   \n",
       "4  The food is always great here. The service fro... 2011-07-28 18:05:01   \n",
       "\n",
       "   textLength  \n",
       "0        1856  \n",
       "1         701  \n",
       "2         578  \n",
       "3         390  \n",
       "4         181  "
      ]
     },
     "execution_count": 12,
     "metadata": {},
     "output_type": "execute_result"
    }
   ],
   "source": [
    "df.head()"
   ]
  },
  {
   "cell_type": "code",
   "execution_count": 13,
   "id": "c51cee57",
   "metadata": {},
   "outputs": [
    {
     "data": {
      "text/plain": [
       "<seaborn.axisgrid.FacetGrid at 0x1d94a1be0>"
      ]
     },
     "execution_count": 13,
     "metadata": {},
     "output_type": "execute_result"
    },
    {
     "data": {
      "image/png": "[encoded data removed]",
      "text/plain": [
       "<Figure size 1080x216 with 5 Axes>"
      ]
     },
     "metadata": {
      "needs_background": "light"
     },
     "output_type": "display_data"
    }
   ],
   "source": [
    "# Differenziazione della lunghezza dei testi in relazione alla valutazione data a stars\n",
    "graph = sns.FacetGrid(data=df,col='stars')\n",
    "graph.map(plt.hist,'textLength',bins=50,color='blue')"
   ]
  },
  {
   "cell_type": "markdown",
   "id": "dc785fb3",
   "metadata": {},
   "source": [
    "## 3. Data Pre-processing"
   ]
  },
  {
   "cell_type": "markdown",
   "id": "a7498a85",
   "metadata": {},
   "source": [
    "Durante la fase di pre-processing, andiamo a pulire e bilanciare il dataframe in modo da poterlo utilizzare per il data modelling."
   ]
  },
  {
   "cell_type": "code",
   "execution_count": 14,
   "id": "971f53e6",
   "metadata": {},
   "outputs": [],
   "source": [
    "# cancellazione delle caratteristiche cool, funny, useful e textLength poichè non hanno correlazioni con stars.\n",
    "df = df.drop(['cool', 'funny', 'useful', 'textLength'], axis=1)"
   ]
  },
  {
   "cell_type": "code",
   "execution_count": 15,
   "id": "3f634de5",
   "metadata": {},
   "outputs": [
    {
     "data": {
      "text/html": [
       "<div>\n",
       "<style scoped>\n",
       "    .dataframe tbody tr th:only-of-type {\n",
       "        vertical-align: middle;\n",
       "    }\n",
       "\n",
       "    .dataframe tbody tr th {\n",
       "        vertical-align: top;\n",
       "    }\n",
       "\n",
       "    .dataframe thead th {\n",
       "        text-align: right;\n",
       "    }\n",
       "</style>\n",
       "<table border=\"1\" class=\"dataframe\">\n",
       "  <thead>\n",
       "    <tr style=\"text-align: right;\">\n",
       "      <th></th>\n",
       "      <th>stars</th>\n",
       "      <th>text</th>\n",
       "      <th>date</th>\n",
       "    </tr>\n",
       "  </thead>\n",
       "  <tbody>\n",
       "    <tr>\n",
       "      <th>0</th>\n",
       "      <td>4.0</td>\n",
       "      <td>Apparently Prides Osteria had a rough summer a...</td>\n",
       "      <td>2014-10-11 03:34:02</td>\n",
       "    </tr>\n",
       "    <tr>\n",
       "      <th>1</th>\n",
       "      <td>4.0</td>\n",
       "      <td>This store is pretty good. Not as great as Wal...</td>\n",
       "      <td>2015-07-03 20:38:25</td>\n",
       "    </tr>\n",
       "    <tr>\n",
       "      <th>2</th>\n",
       "      <td>5.0</td>\n",
       "      <td>I called WVM on the recommendation of a couple...</td>\n",
       "      <td>2013-05-28 20:38:06</td>\n",
       "    </tr>\n",
       "    <tr>\n",
       "      <th>3</th>\n",
       "      <td>2.0</td>\n",
       "      <td>I've stayed at many Marriott and Renaissance M...</td>\n",
       "      <td>2010-01-08 02:29:15</td>\n",
       "    </tr>\n",
       "    <tr>\n",
       "      <th>4</th>\n",
       "      <td>4.0</td>\n",
       "      <td>The food is always great here. The service fro...</td>\n",
       "      <td>2011-07-28 18:05:01</td>\n",
       "    </tr>\n",
       "  </tbody>\n",
       "</table>\n",
       "</div>"
      ],
      "text/plain": [
       "   stars                                               text  \\\n",
       "0    4.0  Apparently Prides Osteria had a rough summer a...   \n",
       "1    4.0  This store is pretty good. Not as great as Wal...   \n",
       "2    5.0  I called WVM on the recommendation of a couple...   \n",
       "3    2.0  I've stayed at many Marriott and Renaissance M...   \n",
       "4    4.0  The food is always great here. The service fro...   \n",
       "\n",
       "                 date  \n",
       "0 2014-10-11 03:34:02  \n",
       "1 2015-07-03 20:38:25  \n",
       "2 2013-05-28 20:38:06  \n",
       "3 2010-01-08 02:29:15  \n",
       "4 2011-07-28 18:05:01  "
      ]
     },
     "execution_count": 15,
     "metadata": {},
     "output_type": "execute_result"
    }
   ],
   "source": [
    "df.head()"
   ]
  },
  {
   "cell_type": "code",
   "execution_count": 16,
   "id": "2a393a26",
   "metadata": {},
   "outputs": [],
   "source": [
    "# polarizzazione delle valutazioni a stars in due categorie: 1 = positiva, 0 = negativa\n",
    "\n",
    "# isoliamo la colonna di testo del dataframe in texts\n",
    "texts =  df['text']\n",
    "\n",
    "# andiamo ad impostare negative tutte le recensioni con 3 o meno stelle e positive quelle con 4 e 5 stelle.\n",
    "stars = [0 if star <= 3.0 else 1 for star in df['stars']]\n",
    "\n",
    "balancedTexts = [] # rappresenta la collezione di testi presi in considerazione dal dataframe di input\n",
    "balancedLabels = [] # rappresenta il nuovo valore polarizzato assegnato all'entry (0,1)\n",
    "\n",
    "# andiamo a bilanciare il dataset andando a dividere recensioni positive e negative con limite di 1.000.000 per categoria\n",
    "limit = 100000  \n",
    "\n",
    "# posizione 0 per conteggio di recensioni negative, posizione 1 per quelle positive\n",
    "negPosCounts = [0, 0] \n",
    "\n",
    "for i in range(0,len(texts)):\n",
    "    polarity = stars[i]\n",
    "    if negPosCounts[polarity] < limit: # se non si è raggiunto il limite per la categoria di polarizzazione\n",
    "        balancedTexts.append(texts[i])\n",
    "        balancedLabels.append(stars[i])\n",
    "        negPosCounts[polarity] += 1"
   ]
  },
  {
   "cell_type": "code",
   "execution_count": 17,
   "id": "b11e8cb1",
   "metadata": {},
   "outputs": [
    {
     "name": "stdout",
     "output_type": "stream",
     "text": [
      "Ci sono 100000 recensioni positive e 100000 recensioni negative\n"
     ]
    }
   ],
   "source": [
    "# verifica del conteggio\n",
    "counter = Counter(balancedLabels)\n",
    "print(f'Ci sono {counter[1]} recensioni positive e {counter[0]} recensioni negative')"
   ]
  },
  {
   "cell_type": "markdown",
   "id": "a89c9c97",
   "metadata": {},
   "source": [
    "### 3.1 Text Tokenization"
   ]
  },
  {
   "cell_type": "code",
   "execution_count": 51,
   "id": "0b3908e9",
   "metadata": {},
   "outputs": [
    {
     "name": "stdout",
     "output_type": "stream",
     "text": [
      "CPU times: user 26.4 s, sys: 798 ms, total: 27.2 s\n",
      "Wall time: 27.3 s\n"
     ]
    }
   ],
   "source": [
    "%%time\n",
    "# definizione di un tokenizer di 25.000 parole prese dal dataframe\n",
    "tokenizer = Tokenizer(num_words=25000)\n",
    "tokenizer.fit_on_texts(balancedTexts)\n",
    "# trasformazione del testo in sequenze di interi in modo da valutare più velocemente le parole\n",
    "sequences = tokenizer.texts_to_sequences(balancedTexts)\n",
    "# Sequenze di massimo 250 unità. Se vi sono testi con sequenze più lunghe esse vengono troncate, altrimenti si avrà \n",
    "# un riempimenti di 0 per testi undersized.\n",
    "data = pad_sequences(sequences, maxlen=250) "
   ]
  },
  {
   "cell_type": "markdown",
   "id": "84c1d392",
   "metadata": {},
   "source": [
    "## 4. Data Modelling"
   ]
  },
  {
   "cell_type": "code",
   "execution_count": 57,
   "id": "3dbcc790",
   "metadata": {},
   "outputs": [
    {
     "name": "stdout",
     "output_type": "stream",
     "text": [
      "['-I/usr/local/lib/python3.9/site-packages/tensorflow/include', '-D_GLIBCXX_USE_CXX11_ABI=0', '-DEIGEN_MAX_ALIGN_BYTES=64']\n",
      "2.6.0\n"
     ]
    }
   ],
   "source": [
    "# Checking sulle compile flags di tensorflow\n",
    "print(tf.sysconfig.get_compile_flags())\n",
    "print(tf.__version__)"
   ]
  },
  {
   "cell_type": "code",
   "execution_count": 54,
   "id": "4176dd66",
   "metadata": {},
   "outputs": [],
   "source": [
    "# train and test splitting\n",
    "x_train, x_test, y_train, y_test = train_test_split(data, np.array(balancedLabels), random_state=64)"
   ]
  },
  {
   "cell_type": "code",
   "execution_count": 61,
   "id": "f2650a32",
   "metadata": {},
   "outputs": [
    {
     "name": "stdout",
     "output_type": "stream",
     "text": [
      "Model: \"sequential_3\"\n",
      "_________________________________________________________________\n",
      "Layer (type)                 Output Shape              Param #   \n",
      "=================================================================\n",
      "embedding_1 (Embedding)      (None, 250, 128)          3200000   \n",
      "_________________________________________________________________\n",
      "lstm_1 (LSTM)                (None, 128)               131584    \n",
      "_________________________________________________________________\n",
      "dense_1 (Dense)              (None, 1)                 129       \n",
      "=================================================================\n",
      "Total params: 3,331,713\n",
      "Trainable params: 3,331,713\n",
      "Non-trainable params: 0\n",
      "_________________________________________________________________\n"
     ]
    }
   ],
   "source": [
    "# creazione di un modello sequenziale vuoto in cui aggiungere i vari layers\n",
    "model_lstm = keras.Sequential()\n",
    "\n",
    "# aggiunta dei layers\n",
    "model_lstm.add(layers.Embedding(25000, 128, input_length=250))\n",
    "model_lstm.add(layers.LSTM(128, dropout=0.2, recurrent_dropout=0.2)) # dropout dentro il layer LSTM\n",
    "model_lstm.add(layers.Dense(1, activation='sigmoid'))\n",
    "\n",
    "model_lstm.compile(\n",
    "    loss='binary_crossentropy', \n",
    "    optimizer='adam', \n",
    "    metrics=['accuracy'])\n",
    "\n",
    "model_lstm.summary()"
   ]
  },
  {
   "cell_type": "code",
   "execution_count": 62,
   "id": "aeb406e9",
   "metadata": {},
   "outputs": [
    {
     "name": "stdout",
     "output_type": "stream",
     "text": [
      "Epoch 1/3\n",
      "3141/3141 [==============================] - 1146s 364ms/step - loss: 0.3326 - accuracy: 0.8584 - val_loss: 0.2744 - val_accuracy: 0.8861\n",
      "Epoch 2/3\n",
      "3141/3141 [==============================] - 1252s 399ms/step - loss: 0.2387 - accuracy: 0.9052 - val_loss: 0.2672 - val_accuracy: 0.8913\n",
      "Epoch 3/3\n",
      "3141/3141 [==============================] - 1179s 375ms/step - loss: 0.1903 - accuracy: 0.9261 - val_loss: 0.2878 - val_accuracy: 0.8871\n"
     ]
    }
   ],
   "source": [
    "results_lstm = model_lstm.fit(x_train, y_train, validation_split=0.33, epochs=3)"
   ]
  },
  {
   "cell_type": "code",
   "execution_count": 63,
   "id": "2791e52c",
   "metadata": {},
   "outputs": [
    {
     "name": "stdout",
     "output_type": "stream",
     "text": [
      "1563/1563 [==============================] - 68s 43ms/step - loss: 0.2879 - accuracy: 0.8870\n"
     ]
    },
    {
     "data": {
      "text/plain": [
       "[0.2879026532173157, 0.8870000243186951]"
      ]
     },
     "execution_count": 63,
     "metadata": {},
     "output_type": "execute_result"
    }
   ],
   "source": [
    "model_lstm.evaluate(x_test, y_test)"
   ]
  },
  {
   "cell_type": "markdown",
   "id": "024fdafd",
   "metadata": {},
   "source": [
    "modelLSTM.evaluate(xTest, yTest)"
   ]
  },
  {
   "cell_type": "code",
   "execution_count": 64,
   "id": "1891b39d",
   "metadata": {},
   "outputs": [
    {
     "name": "stdout",
     "output_type": "stream",
     "text": [
      "Model: \"sequential_4\"\n",
      "_________________________________________________________________\n",
      "Layer (type)                 Output Shape              Param #   \n",
      "=================================================================\n",
      "embedding_2 (Embedding)      (None, 250, 128)          3200000   \n",
      "_________________________________________________________________\n",
      "dropout (Dropout)            (None, 250, 128)          0         \n",
      "_________________________________________________________________\n",
      "conv1d (Conv1D)              (None, 246, 64)           41024     \n",
      "_________________________________________________________________\n",
      "max_pooling1d (MaxPooling1D) (None, 61, 64)            0         \n",
      "_________________________________________________________________\n",
      "lstm_2 (LSTM)                (None, 128)               98816     \n",
      "_________________________________________________________________\n",
      "dense_2 (Dense)              (None, 1)                 129       \n",
      "=================================================================\n",
      "Total params: 3,339,969\n",
      "Trainable params: 3,339,969\n",
      "Non-trainable params: 0\n",
      "_________________________________________________________________\n"
     ]
    }
   ],
   "source": [
    "model_lstm_v2 = keras.Sequential()\n",
    "model_lstm_v2.add(layers.Embedding(25000, 128, input_length=250))\n",
    "model_lstm_v2.add(layers.Dropout(0.5)) # layer di dropout esterno in seguito ad Embedding\n",
    "model_lstm_v2.add(layers.Conv1D(64, 5, activation='relu'))\n",
    "model_lstm_v2.add(layers.MaxPooling1D(pool_size=4))\n",
    "model_lstm_v2.add(layers.LSTM(128))\n",
    "model_lstm_v2.add(layers.Dense(1, activation='sigmoid'))\n",
    "\n",
    "\n",
    "model_lstm_v2.compile(\n",
    "    loss='binary_crossentropy', \n",
    "    optimizer='adam', \n",
    "    metrics=['accuracy'])\n",
    "\n",
    "model_lstm_v2.summary()"
   ]
  },
  {
   "cell_type": "code",
   "execution_count": 65,
   "id": "4c044609",
   "metadata": {
    "scrolled": true
   },
   "outputs": [
    {
     "name": "stdout",
     "output_type": "stream",
     "text": [
      "Epoch 1/5\n",
      "3141/3141 [==============================] - 286s 90ms/step - loss: 0.3110 - accuracy: 0.8672 - val_loss: 0.2578 - val_accuracy: 0.8908\n",
      "Epoch 2/5\n",
      "3141/3141 [==============================] - 4006s 1s/step - loss: 0.2280 - accuracy: 0.9075 - val_loss: 0.2782 - val_accuracy: 0.8792\n",
      "Epoch 3/5\n",
      "3141/3141 [==============================] - 277s 88ms/step - loss: 0.1852 - accuracy: 0.9263 - val_loss: 0.2681 - val_accuracy: 0.8882\n",
      "Epoch 4/5\n",
      "3141/3141 [==============================] - 277s 88ms/step - loss: 0.1495 - accuracy: 0.9414 - val_loss: 0.3143 - val_accuracy: 0.8846\n",
      "Epoch 5/5\n",
      "3141/3141 [==============================] - 572s 182ms/step - loss: 0.1233 - accuracy: 0.9519 - val_loss: 0.3191 - val_accuracy: 0.8838\n"
     ]
    },
    {
     "data": {
      "text/plain": [
       "<keras.callbacks.History at 0x1e6f7f3d0>"
      ]
     },
     "execution_count": 65,
     "metadata": {},
     "output_type": "execute_result"
    }
   ],
   "source": [
    "model_lstm_v2.fit(x_train, y_train, validation_split=0.33, epochs=5)"
   ]
  },
  {
   "cell_type": "code",
   "execution_count": 66,
   "id": "d6d38370",
   "metadata": {},
   "outputs": [
    {
     "name": "stdout",
     "output_type": "stream",
     "text": [
      "1563/1563 [==============================] - 24s 15ms/step - loss: 0.3227 - accuracy: 0.8852\n"
     ]
    },
    {
     "data": {
      "text/plain": [
       "[0.322697252035141, 0.885200023651123]"
      ]
     },
     "execution_count": 66,
     "metadata": {},
     "output_type": "execute_result"
    }
   ],
   "source": [
    "model_lstm_v2.evaluate(x_test, y_test)"
   ]
  },
  {
   "cell_type": "code",
   "execution_count": 67,
   "id": "d7253c86",
   "metadata": {},
   "outputs": [
    {
     "name": "stdout",
     "output_type": "stream",
     "text": [
      "Model: \"sequential_5\"\n",
      "_________________________________________________________________\n",
      "Layer (type)                 Output Shape              Param #   \n",
      "=================================================================\n",
      "embedding_3 (Embedding)      (None, 250, 128)          3200000   \n",
      "_________________________________________________________________\n",
      "dropout_1 (Dropout)          (None, 250, 128)          0         \n",
      "_________________________________________________________________\n",
      "conv1d_1 (Conv1D)            (None, 246, 64)           41024     \n",
      "_________________________________________________________________\n",
      "bidirectional (Bidirectional (None, 256)               197632    \n",
      "_________________________________________________________________\n",
      "dense_3 (Dense)              (None, 1)                 257       \n",
      "=================================================================\n",
      "Total params: 3,438,913\n",
      "Trainable params: 3,438,913\n",
      "Non-trainable params: 0\n",
      "_________________________________________________________________\n"
     ]
    }
   ],
   "source": [
    "model_bid = keras.Sequential()\n",
    "model_bid.add(layers.Embedding(25000, 128, input_length=250))\n",
    "model_bid.add(layers.Dropout(0.5))\n",
    "model_bid.add(layers.Conv1D(64, 5, activation='relu'))\n",
    "model_bid.add(layers.Bidirectional(LSTM(128)))\n",
    "model_bid.add(layers.Dense(1, activation='sigmoid'))\n",
    "model_bid.compile(\n",
    "    loss='binary_crossentropy', \n",
    "    optimizer='adam', \n",
    "    metrics=['accuracy'])\n",
    "\n",
    "model_bid.summary()"
   ]
  },
  {
   "cell_type": "code",
   "execution_count": null,
   "id": "d6ea821a",
   "metadata": {},
   "outputs": [
    {
     "name": "stdout",
     "output_type": "stream",
     "text": [
      "Epoch 1/3\n",
      "3141/3141 [==============================] - 731s 231ms/step - loss: 0.3366 - accuracy: 0.8581 - val_loss: 0.2765 - val_accuracy: 0.8872\n",
      "Epoch 2/3\n",
      "3141/3141 [==============================] - 825s 263ms/step - loss: 0.2409 - accuracy: 0.9035 - val_loss: 0.2592 - val_accuracy: 0.8933\n",
      "Epoch 3/3\n",
      "2049/3141 [==================>...........] - ETA: 6:27:37 - loss: 0.2006 - accuracy: 0.9213"
     ]
    }
   ],
   "source": [
    "model_bid.fit(x_train, y_train, validation_split=0.33, epochs=3)"
   ]
  },
  {
   "cell_type": "code",
   "execution_count": null,
   "id": "272f09fd",
   "metadata": {},
   "outputs": [],
   "source": [
    "model_bid.evaluate(xTest,yTest)"
   ]
  },
  {
   "cell_type": "markdown",
   "id": "130a83ec",
   "metadata": {},
   "source": [
    "## 5. Model Testing"
   ]
  },
  {
   "cell_type": "code",
   "execution_count": null,
   "id": "71432b27",
   "metadata": {},
   "outputs": [],
   "source": [
    "## 4.2 Save model"
   ]
  },
  {
   "cell_type": "code",
   "execution_count": null,
   "id": "010bbab0",
   "metadata": {},
   "outputs": [],
   "source": [
    "import pickle\n",
    "\n",
    "# salviamo il tokenizer e i modelli su file\n",
    "with open(\"dump/keras_tokenizer.pickle\", \"wb\") as f:\n",
    "   pickle.dump(tokenizer, f)\n",
    "with open(\"dump/tokenizer/yelp_model_lstm.hdf5\",\"wb\") as lstm_file:\n",
    "    model_lstm.save(lstm_file)\n",
    "          \n",
    "with open(\"dump/model/yelp_model_lstm_v2.hdf5\", \"wb\") as lstm_v2_file:\n",
    "    model_lstm_v2.save(lstm_v2_file)\n",
    "    \n",
    "with open(\"dump/model/yelp_bidirectional.hdf5\", \"wb\") as bid_file:\n",
    "    model_bid.save(bid_file)"
   ]
  },
  {
   "cell_type": "code",
   "execution_count": null,
   "id": "f4a0eb30",
   "metadata": {},
   "outputs": [],
   "source": [
    "from keras.models import load_model\n",
    "from keras.preprocessing.sequence import pad_sequences\n",
    "import pickle\n",
    "\n",
    "# carichiamo il tokenizer e il modello da file\n",
    "with open(\"keras_tokenizer.pickle\", \"rb\") as f:\n",
    "   tokenizer = pickle.load(f)\n",
    "\n",
    "# TODO: load other models\n",
    "model_lstm = load_model(\"dump/model/yelp_model_lstm.hdf5\")\n",
    "model_lstm_v2 = load_model(\"dump/model/yelp_model_lstm_v2.hdf5\")\n",
    "model_bid = load_model(\"dump/model/yelp_bidirectional.hdf5\")\n",
    "\n",
    "# definiamo gli esempi su cui testare il modello\n",
    "examples_reviews = [\"slow orders but good food\", \"Delicious foods! Awesome!\", \"Bad food, bad people... horrible!\"]\n",
    "\n",
    "# usiamo il tokenizer per creare sequenze di interi da dare al modello\n",
    "sequences = tokenizer.texts_to_sequences(examples_reviews)\n",
    "data_examples = pad_sequences(sequences, maxlen=250)\n",
    "\n",
    "# effettuare le predizioni e stampare i risultati\n",
    "predictions_lstm = model_lstm.predict(data_examples)\n",
    "predictions_lstm_v2 = model_lstm_v2.predict(data_examples)\n",
    "predictions_bid = model_bid.predict(data_examples)\n",
    "\n",
    "print(f\"Risultati model_lstm: {predictions_lstm}\\n\"+\n",
    "    f\"Risultati model_lstm_v2: {predictions_lstm_v2}\\n\" + \n",
    "      f\"Risultati model_bid: {predictions_bid}\")"
   ]
  },
  {
   "cell_type": "code",
   "execution_count": null,
   "id": "a9a50486",
   "metadata": {},
   "outputs": [],
   "source": [
    "# TODO: Data Analytics sui risultati"
   ]
  },
  {
   "cell_type": "code",
   "execution_count": null,
   "id": "068150a4",
   "metadata": {},
   "outputs": [],
   "source": []
  },
  {
   "cell_type": "code",
   "execution_count": null,
   "id": "8b3aca55",
   "metadata": {},
   "outputs": [],
   "source": []
  },
  {
   "cell_type": "code",
   "execution_count": null,
   "id": "0e38efd6",
   "metadata": {},
   "outputs": [],
   "source": []
  },
  {
   "cell_type": "code",
   "execution_count": null,
   "id": "fe437376",
   "metadata": {},
   "outputs": [],
   "source": []
  },
  {
   "cell_type": "code",
   "execution_count": null,
   "id": "dce3d4de",
   "metadata": {},
   "outputs": [],
   "source": []
  },
  {
   "cell_type": "code",
   "execution_count": null,
   "id": "9736890a",
   "metadata": {},
   "outputs": [],
   "source": []
  },
  {
   "cell_type": "code",
   "execution_count": null,
   "id": "6e9d64a8",
   "metadata": {},
   "outputs": [],
   "source": []
  }
 ],
 "metadata": {
  "kernelspec": {
   "display_name": "Python 3 (ipykernel)",
   "language": "python",
   "name": "python3"
  },
  "language_info": {
   "codemirror_mode": {
    "name": "ipython",
    "version": 3
   },
   "file_extension": ".py",
   "mimetype": "text/x-python",
   "name": "python",
   "nbconvert_exporter": "python",
   "pygments_lexer": "ipython3",
   "version": "3.9.7"
  }
 },
 "nbformat": 4,
 "nbformat_minor": 5
}
