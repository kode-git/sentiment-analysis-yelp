{
 "cells": [
  {
   "cell_type": "markdown",
   "id": "02d26ac0",
   "metadata": {},
   "source": [
    "# NLP on Yelp Open Dataset for Review Classification - Data Preparation"
   ]
  },
  {
   "cell_type": "markdown",
   "id": "11b4555b",
   "metadata": {},
   "source": [
    "## Import Libraries"
   ]
  },
  {
   "cell_type": "code",
   "execution_count": 1,
   "id": "e738748b",
   "metadata": {},
   "outputs": [],
   "source": [
    "import pandas as pd\n",
    "import numpy as np"
   ]
  },
  {
   "cell_type": "markdown",
   "id": "89b0fbb6",
   "metadata": {},
   "source": [
    "## Data Preparation"
   ]
  },
  {
   "cell_type": "markdown",
   "id": "9c7fca1c",
   "metadata": {},
   "source": [
    "Durante questa fase, abbiamo caricato i file JSON dei business e delle review per selezionare solamente le colonne di interesse e ricaricarlo in un dataset in formato CSV per le fasi successive.\n",
    "\n",
    "Durante tale processo, abbiamo rimosso alcune colonne relative ai business chiusi per allegerire il carico di reviews presenti nel dataset di origine."
   ]
  },
  {
   "cell_type": "code",
   "execution_count": 2,
   "id": "56325afb",
   "metadata": {},
   "outputs": [
    {
     "name": "stderr",
     "output_type": "stream",
     "text": [
      "/var/folders/0y/xx8wd2q52rb755q1lgxwycdm0000gn/T/ipykernel_42180/3316573510.py:5: DeprecationWarning: `np.str` is a deprecated alias for the builtin `str`. To silence this warning, use `str` by itself. Doing this will not modify any behavior and is safe. If you specifically wanted the numpy scalar type, use `np.str_` here.\n",
      "Deprecated in NumPy 1.20; for more details and guidance: https://numpy.org/devdocs/release/1.20.0-notes.html#deprecations\n",
      "  \"text\" : np.str,\n"
     ]
    }
   ],
   "source": [
    "rtypes = {\"stars\": np.float16, \n",
    "            \"useful\": np.int32, \n",
    "            \"funny\": np.int32,\n",
    "            \"cool\": np.int32,\n",
    "            \"text\" : str,\n",
    "           }\n",
    "reviewPath = './data/yelp_academic_dataset_review.json'\n",
    "businessPath = './data/yelp_academic_dataset_business.json'\n",
    "chunkSize = 100000"
   ]
  },
  {
   "cell_type": "code",
   "execution_count": 3,
   "id": "e056e7f3",
   "metadata": {},
   "outputs": [
    {
     "name": "stdout",
     "output_type": "stream",
     "text": [
      "CPU times: user 2.77 s, sys: 527 ms, total: 3.29 s\n",
      "Wall time: 3.31 s\n"
     ]
    }
   ],
   "source": [
    "%%time\n",
    "\n",
    "bs = pd.read_json(businessPath, lines=True)"
   ]
  },
  {
   "cell_type": "code",
   "execution_count": 4,
   "id": "1992cab8",
   "metadata": {},
   "outputs": [
    {
     "data": {
      "text/html": [
       "<div>\n",
       "<style scoped>\n",
       "    .dataframe tbody tr th:only-of-type {\n",
       "        vertical-align: middle;\n",
       "    }\n",
       "\n",
       "    .dataframe tbody tr th {\n",
       "        vertical-align: top;\n",
       "    }\n",
       "\n",
       "    .dataframe thead th {\n",
       "        text-align: right;\n",
       "    }\n",
       "</style>\n",
       "<table border=\"1\" class=\"dataframe\">\n",
       "  <thead>\n",
       "    <tr style=\"text-align: right;\">\n",
       "      <th></th>\n",
       "      <th>business_id</th>\n",
       "      <th>name</th>\n",
       "      <th>address</th>\n",
       "      <th>city</th>\n",
       "      <th>state</th>\n",
       "      <th>postal_code</th>\n",
       "      <th>latitude</th>\n",
       "      <th>longitude</th>\n",
       "      <th>stars</th>\n",
       "      <th>review_count</th>\n",
       "      <th>is_open</th>\n",
       "      <th>attributes</th>\n",
       "      <th>categories</th>\n",
       "      <th>hours</th>\n",
       "    </tr>\n",
       "  </thead>\n",
       "  <tbody>\n",
       "    <tr>\n",
       "      <th>0</th>\n",
       "      <td>6iYb2HFDywm3zjuRg0shjw</td>\n",
       "      <td>Oskar Blues Taproom</td>\n",
       "      <td>921 Pearl St</td>\n",
       "      <td>Boulder</td>\n",
       "      <td>CO</td>\n",
       "      <td>80302</td>\n",
       "      <td>40.017544</td>\n",
       "      <td>-105.283348</td>\n",
       "      <td>4.0</td>\n",
       "      <td>86</td>\n",
       "      <td>1</td>\n",
       "      <td>{'RestaurantsTableService': 'True', 'WiFi': 'u...</td>\n",
       "      <td>Gastropubs, Food, Beer Gardens, Restaurants, B...</td>\n",
       "      <td>{'Monday': '11:0-23:0', 'Tuesday': '11:0-23:0'...</td>\n",
       "    </tr>\n",
       "    <tr>\n",
       "      <th>1</th>\n",
       "      <td>tCbdrRPZA0oiIYSmHG3J0w</td>\n",
       "      <td>Flying Elephants at PDX</td>\n",
       "      <td>7000 NE Airport Way</td>\n",
       "      <td>Portland</td>\n",
       "      <td>OR</td>\n",
       "      <td>97218</td>\n",
       "      <td>45.588906</td>\n",
       "      <td>-122.593331</td>\n",
       "      <td>4.0</td>\n",
       "      <td>126</td>\n",
       "      <td>1</td>\n",
       "      <td>{'RestaurantsTakeOut': 'True', 'RestaurantsAtt...</td>\n",
       "      <td>Salad, Soup, Sandwiches, Delis, Restaurants, C...</td>\n",
       "      <td>{'Monday': '5:0-18:0', 'Tuesday': '5:0-17:0', ...</td>\n",
       "    </tr>\n",
       "    <tr>\n",
       "      <th>2</th>\n",
       "      <td>bvN78flM8NLprQ1a1y5dRg</td>\n",
       "      <td>The Reclaimory</td>\n",
       "      <td>4720 Hawthorne Ave</td>\n",
       "      <td>Portland</td>\n",
       "      <td>OR</td>\n",
       "      <td>97214</td>\n",
       "      <td>45.511907</td>\n",
       "      <td>-122.613693</td>\n",
       "      <td>4.5</td>\n",
       "      <td>13</td>\n",
       "      <td>1</td>\n",
       "      <td>{'BusinessAcceptsCreditCards': 'True', 'Restau...</td>\n",
       "      <td>Antiques, Fashion, Used, Vintage &amp; Consignment...</td>\n",
       "      <td>{'Thursday': '11:0-18:0', 'Friday': '11:0-18:0...</td>\n",
       "    </tr>\n",
       "    <tr>\n",
       "      <th>3</th>\n",
       "      <td>oaepsyvc0J17qwi8cfrOWg</td>\n",
       "      <td>Great Clips</td>\n",
       "      <td>2566 Enterprise Rd</td>\n",
       "      <td>Orange City</td>\n",
       "      <td>FL</td>\n",
       "      <td>32763</td>\n",
       "      <td>28.914482</td>\n",
       "      <td>-81.295979</td>\n",
       "      <td>3.0</td>\n",
       "      <td>8</td>\n",
       "      <td>1</td>\n",
       "      <td>{'RestaurantsPriceRange2': '1', 'BusinessAccep...</td>\n",
       "      <td>Beauty &amp; Spas, Hair Salons</td>\n",
       "      <td>None</td>\n",
       "    </tr>\n",
       "    <tr>\n",
       "      <th>4</th>\n",
       "      <td>PE9uqAjdw0E4-8mjGl3wVA</td>\n",
       "      <td>Crossfit Terminus</td>\n",
       "      <td>1046 Memorial Dr SE</td>\n",
       "      <td>Atlanta</td>\n",
       "      <td>GA</td>\n",
       "      <td>30316</td>\n",
       "      <td>33.747027</td>\n",
       "      <td>-84.353424</td>\n",
       "      <td>4.0</td>\n",
       "      <td>14</td>\n",
       "      <td>1</td>\n",
       "      <td>{'GoodForKids': 'False', 'BusinessParking': '{...</td>\n",
       "      <td>Gyms, Active Life, Interval Training Gyms, Fit...</td>\n",
       "      <td>{'Monday': '16:0-19:0', 'Tuesday': '16:0-19:0'...</td>\n",
       "    </tr>\n",
       "  </tbody>\n",
       "</table>\n",
       "</div>"
      ],
      "text/plain": [
       "              business_id                     name              address  \\\n",
       "0  6iYb2HFDywm3zjuRg0shjw      Oskar Blues Taproom         921 Pearl St   \n",
       "1  tCbdrRPZA0oiIYSmHG3J0w  Flying Elephants at PDX  7000 NE Airport Way   \n",
       "2  bvN78flM8NLprQ1a1y5dRg           The Reclaimory   4720 Hawthorne Ave   \n",
       "3  oaepsyvc0J17qwi8cfrOWg              Great Clips   2566 Enterprise Rd   \n",
       "4  PE9uqAjdw0E4-8mjGl3wVA        Crossfit Terminus  1046 Memorial Dr SE   \n",
       "\n",
       "          city state postal_code   latitude   longitude  stars  review_count  \\\n",
       "0      Boulder    CO       80302  40.017544 -105.283348    4.0            86   \n",
       "1     Portland    OR       97218  45.588906 -122.593331    4.0           126   \n",
       "2     Portland    OR       97214  45.511907 -122.613693    4.5            13   \n",
       "3  Orange City    FL       32763  28.914482  -81.295979    3.0             8   \n",
       "4      Atlanta    GA       30316  33.747027  -84.353424    4.0            14   \n",
       "\n",
       "   is_open                                         attributes  \\\n",
       "0        1  {'RestaurantsTableService': 'True', 'WiFi': 'u...   \n",
       "1        1  {'RestaurantsTakeOut': 'True', 'RestaurantsAtt...   \n",
       "2        1  {'BusinessAcceptsCreditCards': 'True', 'Restau...   \n",
       "3        1  {'RestaurantsPriceRange2': '1', 'BusinessAccep...   \n",
       "4        1  {'GoodForKids': 'False', 'BusinessParking': '{...   \n",
       "\n",
       "                                          categories  \\\n",
       "0  Gastropubs, Food, Beer Gardens, Restaurants, B...   \n",
       "1  Salad, Soup, Sandwiches, Delis, Restaurants, C...   \n",
       "2  Antiques, Fashion, Used, Vintage & Consignment...   \n",
       "3                         Beauty & Spas, Hair Salons   \n",
       "4  Gyms, Active Life, Interval Training Gyms, Fit...   \n",
       "\n",
       "                                               hours  \n",
       "0  {'Monday': '11:0-23:0', 'Tuesday': '11:0-23:0'...  \n",
       "1  {'Monday': '5:0-18:0', 'Tuesday': '5:0-17:0', ...  \n",
       "2  {'Thursday': '11:0-18:0', 'Friday': '11:0-18:0...  \n",
       "3                                               None  \n",
       "4  {'Monday': '16:0-19:0', 'Tuesday': '16:0-19:0'...  "
      ]
     },
     "execution_count": 4,
     "metadata": {},
     "output_type": "execute_result"
    }
   ],
   "source": [
    "bs.head()"
   ]
  },
  {
   "cell_type": "code",
   "execution_count": 5,
   "id": "3437f4c6",
   "metadata": {},
   "outputs": [],
   "source": [
    "# cleaning business dataframe\n",
    "bs = bs[bs['is_open']==1] # removing closed business\n",
    "bs = bs.drop(['name', 'address', 'city', 'postal_code', \n",
    "              'latitude','longitude','is_open', 'attributes', \n",
    "              'categories','hours','state'], axis=1)\n",
    "bs = bs.rename(columns={'stars' : 'meanStars','review_count' : 'reviewCount'})\n"
   ]
  },
  {
   "cell_type": "code",
   "execution_count": 6,
   "id": "66b31d74",
   "metadata": {},
   "outputs": [
    {
     "data": {
      "text/html": [
       "<div>\n",
       "<style scoped>\n",
       "    .dataframe tbody tr th:only-of-type {\n",
       "        vertical-align: middle;\n",
       "    }\n",
       "\n",
       "    .dataframe tbody tr th {\n",
       "        vertical-align: top;\n",
       "    }\n",
       "\n",
       "    .dataframe thead th {\n",
       "        text-align: right;\n",
       "    }\n",
       "</style>\n",
       "<table border=\"1\" class=\"dataframe\">\n",
       "  <thead>\n",
       "    <tr style=\"text-align: right;\">\n",
       "      <th></th>\n",
       "      <th>business_id</th>\n",
       "      <th>meanStars</th>\n",
       "      <th>reviewCount</th>\n",
       "    </tr>\n",
       "  </thead>\n",
       "  <tbody>\n",
       "    <tr>\n",
       "      <th>0</th>\n",
       "      <td>6iYb2HFDywm3zjuRg0shjw</td>\n",
       "      <td>4.0</td>\n",
       "      <td>86</td>\n",
       "    </tr>\n",
       "    <tr>\n",
       "      <th>1</th>\n",
       "      <td>tCbdrRPZA0oiIYSmHG3J0w</td>\n",
       "      <td>4.0</td>\n",
       "      <td>126</td>\n",
       "    </tr>\n",
       "    <tr>\n",
       "      <th>2</th>\n",
       "      <td>bvN78flM8NLprQ1a1y5dRg</td>\n",
       "      <td>4.5</td>\n",
       "      <td>13</td>\n",
       "    </tr>\n",
       "    <tr>\n",
       "      <th>3</th>\n",
       "      <td>oaepsyvc0J17qwi8cfrOWg</td>\n",
       "      <td>3.0</td>\n",
       "      <td>8</td>\n",
       "    </tr>\n",
       "    <tr>\n",
       "      <th>4</th>\n",
       "      <td>PE9uqAjdw0E4-8mjGl3wVA</td>\n",
       "      <td>4.0</td>\n",
       "      <td>14</td>\n",
       "    </tr>\n",
       "  </tbody>\n",
       "</table>\n",
       "</div>"
      ],
      "text/plain": [
       "              business_id  meanStars  reviewCount\n",
       "0  6iYb2HFDywm3zjuRg0shjw        4.0           86\n",
       "1  tCbdrRPZA0oiIYSmHG3J0w        4.0          126\n",
       "2  bvN78flM8NLprQ1a1y5dRg        4.5           13\n",
       "3  oaepsyvc0J17qwi8cfrOWg        3.0            8\n",
       "4  PE9uqAjdw0E4-8mjGl3wVA        4.0           14"
      ]
     },
     "execution_count": 6,
     "metadata": {},
     "output_type": "execute_result"
    }
   ],
   "source": [
    "bs.head()"
   ]
  },
  {
   "cell_type": "code",
   "execution_count": null,
   "id": "48853247",
   "metadata": {},
   "outputs": [
    {
     "name": "stdout",
     "output_type": "stream",
     "text": [
      "77431 out of 100,000 related reviews\n",
      "76794 out of 100,000 related reviews\n",
      "77136 out of 100,000 related reviews\n",
      "77267 out of 100,000 related reviews\n",
      "78070 out of 100,000 related reviews\n",
      "79371 out of 100,000 related reviews\n",
      "91631 out of 100,000 related reviews\n",
      "91609 out of 100,000 related reviews\n",
      "86662 out of 100,000 related reviews\n",
      "75255 out of 100,000 related reviews\n",
      "75165 out of 100,000 related reviews\n",
      "75227 out of 100,000 related reviews\n",
      "74574 out of 100,000 related reviews\n",
      "76393 out of 100,000 related reviews\n",
      "86019 out of 100,000 related reviews\n",
      "89643 out of 100,000 related reviews\n",
      "93400 out of 100,000 related reviews\n",
      "76016 out of 100,000 related reviews\n",
      "75950 out of 100,000 related reviews\n",
      "76230 out of 100,000 related reviews\n",
      "76265 out of 100,000 related reviews\n",
      "76432 out of 100,000 related reviews\n",
      "77578 out of 100,000 related reviews\n",
      "89857 out of 100,000 related reviews\n",
      "90317 out of 100,000 related reviews\n",
      "90179 out of 100,000 related reviews\n",
      "75351 out of 100,000 related reviews\n"
     ]
    }
   ],
   "source": [
    "%%time\n",
    "review = pd.read_json(reviewPath, lines=True,\n",
    "                      dtype=rtypes,\n",
    "                      chunksize=chunkSize)\n",
    "chunkList = []\n",
    "for chunkReview in review:\n",
    "    chunkReview = chunkReview.drop(['review_id','useful','funny','cool', 'user_id'], axis=1)\n",
    "    chunkReview = chunkReview.rename(columns={'stars': 'reviewStars'})\n",
    "    chunkMerged = pd.merge(bs, chunkReview, on='business_id', how='inner')\n",
    "    print(f\"{chunkMerged.shape[0]} out of {chunkSize:,} related reviews\")\n",
    "    chunkList.append(chunkMerged)\n",
    "df = pd.concat(chunkList, ignore_index=True, join='outer', axis=0)"
   ]
  },
  {
   "cell_type": "code",
   "execution_count": null,
   "id": "3faff9c0",
   "metadata": {},
   "outputs": [],
   "source": [
    "df.head()"
   ]
  },
  {
   "cell_type": "code",
   "execution_count": null,
   "id": "0333d763",
   "metadata": {},
   "outputs": [],
   "source": [
    "df = df.rename(columns={'business_id' : 'businessId'})"
   ]
  },
  {
   "cell_type": "code",
   "execution_count": null,
   "id": "61d7620e",
   "metadata": {},
   "outputs": [],
   "source": [
    "df.head()"
   ]
  },
  {
   "cell_type": "code",
   "execution_count": null,
   "id": "d6a6b1c2",
   "metadata": {},
   "outputs": [],
   "source": [
    "df.to_csv('./data/yelp_academic_base_dataset.csv', index=False)"
   ]
  },
  {
   "cell_type": "code",
   "execution_count": null,
   "id": "9de2ccfd",
   "metadata": {},
   "outputs": [],
   "source": []
  }
 ],
 "metadata": {
  "kernelspec": {
   "display_name": "Python 3 (ipykernel)",
   "language": "python",
   "name": "python3"
  },
  "language_info": {
   "codemirror_mode": {
    "name": "ipython",
    "version": 3
   },
   "file_extension": ".py",
   "mimetype": "text/x-python",
   "name": "python",
   "nbconvert_exporter": "python",
   "pygments_lexer": "ipython3",
   "version": "3.9.7"
  }
 },
 "nbformat": 4,
 "nbformat_minor": 5
}
