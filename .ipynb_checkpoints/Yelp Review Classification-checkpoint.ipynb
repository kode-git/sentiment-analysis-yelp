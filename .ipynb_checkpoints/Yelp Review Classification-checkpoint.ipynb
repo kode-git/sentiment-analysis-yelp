{
 "cells": [
  {
   "cell_type": "markdown",
   "id": "2d35b8db",
   "metadata": {},
   "source": [
    "# NLP on Yelp Open Dataset for Review Classification"
   ]
  },
  {
   "cell_type": "markdown",
   "id": "96cfcc62",
   "metadata": {},
   "source": [
    "Questo notebook ha il compito di effettuare tramite NLP una classificazione delle reviews in positive e negative andando ad analizzare testi tokenizzati all'interno del dataset fornito da Open Yelp Dataset. Ci soffermeremo solamente sulla tabella dedicata alla review poichè si giudicano sufficiente, per raggiungere un livello di precisione accettabile, le informazioni contenute all'interno delle colonne della tabella review fornita in input."
   ]
  },
  {
   "cell_type": "markdown",
   "id": "77beb0bf",
   "metadata": {},
   "source": [
    "### Import Libraries"
   ]
  },
  {
   "cell_type": "code",
   "execution_count": 28,
   "id": "9816f0aa",
   "metadata": {},
   "outputs": [
    {
     "name": "stderr",
     "output_type": "stream",
     "text": [
      "[nltk_data] Downloading package wordnet to /Users/kode/nltk_data...\n",
      "[nltk_data]   Package wordnet is already up-to-date!\n"
     ]
    }
   ],
   "source": [
    "# librerie di default\n",
    "import pandas as pd\n",
    "import numpy as np\n",
    "\n",
    "# librerie per il data analysis\n",
    "import seaborn as sns\n",
    "import matplotlib.pyplot as plt\n",
    "from wordcloud import WordCloud\n",
    "%matplotlib inline\n",
    "\n",
    "# librerie per il text manipulation\n",
    "import gensim\n",
    "from gensim.parsing.preprocessing import remove_stopwords\n",
    "import nltk as nltk\n",
    "from nltk.tokenize import word_tokenize\n",
    "from nltk.probability import FreqDist\n",
    "from nltk.corpus import wordnet as wn\n",
    "nltk.download('wordnet')\n",
    "\n",
    "from collections import Counter, defaultdict\n",
    "from datetime import datetime\n",
    "from keras.preprocessing.text import Tokenizer\n",
    "from keras.preprocessing.sequence import pad_sequences\n",
    "\n",
    "from sklearn.model_selection import train_test_split\n",
    "from sklearn.feature_extraction.text import TfidfVectorizer\n",
    "\n",
    "# librerie per il data modelling\n",
    "import tensorflow as tf\n",
    "from tensorflow import keras\n",
    "from tensorflow.keras import layers"
   ]
  },
  {
   "cell_type": "markdown",
   "id": "787e548f",
   "metadata": {},
   "source": [
    "## 1. Data Loading"
   ]
  },
  {
   "cell_type": "markdown",
   "id": "7b0e9e55",
   "metadata": {},
   "source": [
    "La fase di data loading non fa altro che caricare all'interno di un pandas dataframe le informazioni contenute nel dataset JSON in formato tabellare per poi utilizzarlo nella fase di data analysis per visualizzare le correlazioni e i valori al suo interno tramite visualizzazione grafica in modo da rendersi conto di che tipo e in che quantità sono distribuiti i dati."
   ]
  },
  {
   "cell_type": "code",
   "execution_count": 107,
   "id": "de54f167",
   "metadata": {},
   "outputs": [],
   "source": [
    "# definiamo i tipi degli attributi JSON per l'attributo dtype di read_json\n",
    "rtypes = {  \"review_id\": str,\n",
    "            \"user_id\":str,\n",
    "            \"business_id\":str,\n",
    "            \"stars\": np.float16, \n",
    "            \"useful\": np.int32, \n",
    "            \"funny\": np.int32,\n",
    "            \"cool\": np.int32,\n",
    "            \"text\" : str,\n",
    "           }\n",
    "\n",
    "# file path del dataset json\n",
    "path = './data/yelp_academic_dataset_review.json'\n",
    "\n",
    "# grandezza dei chunk\n",
    "chunkSize = 1000"
   ]
  },
  {
   "cell_type": "code",
   "execution_count": 108,
   "id": "3fe4db53",
   "metadata": {},
   "outputs": [
    {
     "name": "stdout",
     "output_type": "stream",
     "text": [
      "CPU times: user 1min 35s, sys: 30.1 s, total: 2min 6s\n",
      "Wall time: 2min 16s\n"
     ]
    }
   ],
   "source": [
    "%%time\n",
    "# creazione del JsonReader\n",
    "review = pd.read_json(path, lines=True,\n",
    "                      orient=\"records\",\n",
    "                      dtype=rtypes,\n",
    "                      chunksize=chunkSize)\n",
    "chunkList = []\n",
    "\n",
    "# utilizzo della segmentazione in chunk per creare dal JsonReader il dataframe\n",
    "for chunkReview in review:\n",
    "    # rimozione degli attributi id\n",
    "    chunkReview = chunkReview.drop(['review_id', 'user_id','business_id'], axis=1)\n",
    "    chunkList.append(chunkReview)\n",
    "    \n",
    "# concatenazione degli elementi nella chunkList per righe\n",
    "df = pd.concat(chunkList, ignore_index=True, axis=0)"
   ]
  },
  {
   "cell_type": "code",
   "execution_count": 4,
   "id": "1102210d",
   "metadata": {},
   "outputs": [
    {
     "data": {
      "text/html": [
       "<div>\n",
       "<style scoped>\n",
       "    .dataframe tbody tr th:only-of-type {\n",
       "        vertical-align: middle;\n",
       "    }\n",
       "\n",
       "    .dataframe tbody tr th {\n",
       "        vertical-align: top;\n",
       "    }\n",
       "\n",
       "    .dataframe thead th {\n",
       "        text-align: right;\n",
       "    }\n",
       "</style>\n",
       "<table border=\"1\" class=\"dataframe\">\n",
       "  <thead>\n",
       "    <tr style=\"text-align: right;\">\n",
       "      <th></th>\n",
       "      <th>stars</th>\n",
       "      <th>useful</th>\n",
       "      <th>funny</th>\n",
       "      <th>cool</th>\n",
       "      <th>text</th>\n",
       "      <th>date</th>\n",
       "    </tr>\n",
       "  </thead>\n",
       "  <tbody>\n",
       "    <tr>\n",
       "      <th>0</th>\n",
       "      <td>4.0</td>\n",
       "      <td>3</td>\n",
       "      <td>1</td>\n",
       "      <td>1</td>\n",
       "      <td>Apparently Prides Osteria had a rough summer a...</td>\n",
       "      <td>2014-10-11 03:34:02</td>\n",
       "    </tr>\n",
       "    <tr>\n",
       "      <th>1</th>\n",
       "      <td>4.0</td>\n",
       "      <td>1</td>\n",
       "      <td>0</td>\n",
       "      <td>0</td>\n",
       "      <td>This store is pretty good. Not as great as Wal...</td>\n",
       "      <td>2015-07-03 20:38:25</td>\n",
       "    </tr>\n",
       "    <tr>\n",
       "      <th>2</th>\n",
       "      <td>5.0</td>\n",
       "      <td>0</td>\n",
       "      <td>0</td>\n",
       "      <td>0</td>\n",
       "      <td>I called WVM on the recommendation of a couple...</td>\n",
       "      <td>2013-05-28 20:38:06</td>\n",
       "    </tr>\n",
       "    <tr>\n",
       "      <th>3</th>\n",
       "      <td>2.0</td>\n",
       "      <td>1</td>\n",
       "      <td>1</td>\n",
       "      <td>1</td>\n",
       "      <td>I've stayed at many Marriott and Renaissance M...</td>\n",
       "      <td>2010-01-08 02:29:15</td>\n",
       "    </tr>\n",
       "    <tr>\n",
       "      <th>4</th>\n",
       "      <td>4.0</td>\n",
       "      <td>0</td>\n",
       "      <td>0</td>\n",
       "      <td>0</td>\n",
       "      <td>The food is always great here. The service fro...</td>\n",
       "      <td>2011-07-28 18:05:01</td>\n",
       "    </tr>\n",
       "  </tbody>\n",
       "</table>\n",
       "</div>"
      ],
      "text/plain": [
       "   stars  useful  funny  cool  \\\n",
       "0    4.0       3      1     1   \n",
       "1    4.0       1      0     0   \n",
       "2    5.0       0      0     0   \n",
       "3    2.0       1      1     1   \n",
       "4    4.0       0      0     0   \n",
       "\n",
       "                                                text                date  \n",
       "0  Apparently Prides Osteria had a rough summer a... 2014-10-11 03:34:02  \n",
       "1  This store is pretty good. Not as great as Wal... 2015-07-03 20:38:25  \n",
       "2  I called WVM on the recommendation of a couple... 2013-05-28 20:38:06  \n",
       "3  I've stayed at many Marriott and Renaissance M... 2010-01-08 02:29:15  \n",
       "4  The food is always great here. The service fro... 2011-07-28 18:05:01  "
      ]
     },
     "execution_count": 4,
     "metadata": {},
     "output_type": "execute_result"
    }
   ],
   "source": [
    "# visualizzazione degli elementi in testa\n",
    "df.head()"
   ]
  },
  {
   "cell_type": "markdown",
   "id": "6835a436",
   "metadata": {},
   "source": [
    "## 2. Data Analysis"
   ]
  },
  {
   "cell_type": "markdown",
   "id": "ca906c7e",
   "metadata": {},
   "source": [
    "Durante la fase di data analysis andremo ad ispezionare il dataframe caricato andando a visualizzare graficamente come sono distribuiti i valori associati ad ogni attributo."
   ]
  },
  {
   "cell_type": "code",
   "execution_count": 5,
   "id": "791a1d83",
   "metadata": {},
   "outputs": [
    {
     "name": "stdout",
     "output_type": "stream",
     "text": [
      "<class 'pandas.core.frame.DataFrame'>\n",
      "RangeIndex: 8635403 entries, 0 to 8635402\n",
      "Data columns (total 6 columns):\n",
      " #   Column  Dtype         \n",
      "---  ------  -----         \n",
      " 0   stars   float16       \n",
      " 1   useful  int32         \n",
      " 2   funny   int32         \n",
      " 3   cool    int32         \n",
      " 4   text    object        \n",
      " 5   date    datetime64[ns]\n",
      "dtypes: datetime64[ns](1), float16(1), int32(3), object(1)\n",
      "memory usage: 247.1+ MB\n"
     ]
    }
   ],
   "source": [
    "# informazioni sulle colonne del dataframe e su quante entries o righe si hanno\n",
    "df.info()"
   ]
  },
  {
   "cell_type": "markdown",
   "id": "905d3170",
   "metadata": {},
   "source": [
    "### 2.1 Stars Analysis"
   ]
  },
  {
   "cell_type": "code",
   "execution_count": 6,
   "id": "fb555473",
   "metadata": {},
   "outputs": [
    {
     "data": {
      "text/plain": [
       "Text(0.5, 1.0, \"Distribuzione dei valori per l'attributo stars\")"
      ]
     },
     "execution_count": 6,
     "metadata": {},
     "output_type": "execute_result"
    },
    {
     "data": {
      "image/png": "[encoded data removed]",
      "text/plain": [
       "<Figure size 576x576 with 1 Axes>"
      ]
     },
     "metadata": {},
     "output_type": "display_data"
    }
   ],
   "source": [
    "# definire la grandezza della figura\n",
    "plt.figure(figsize=(8,8))\n",
    "\n",
    "# contare i vari valori di stars e visualizzarli su un diagramma a torta\n",
    "df['stars'].value_counts().plot.pie(startangle=60)\n",
    "\n",
    "# definire il titolo del plot\n",
    "plt.title('Distribuzione dei valori per l\\'attributo stars')"
   ]
  },
  {
   "cell_type": "markdown",
   "id": "8c08912e",
   "metadata": {},
   "source": [
    "Le quantità di recensioni, classificate in base al numero di stelle assegnate, è sbilanciata. Si ha un maggior numero per le recensioni con 5 e 4 stelle rispetto a quelle con 1, 2 o 3 stelle."
   ]
  },
  {
   "cell_type": "code",
   "execution_count": 7,
   "id": "26dd9c32",
   "metadata": {},
   "outputs": [
    {
     "data": {
      "text/plain": [
       "Text(0.5, 1.0, 'Distribuzione dei valori positivi e negativi')"
      ]
     },
     "execution_count": 7,
     "metadata": {},
     "output_type": "execute_result"
    },
    {
     "data": {
      "image/png": "[encoded data removed]",
      "text/plain": [
       "<Figure size 576x576 with 1 Axes>"
      ]
     },
     "metadata": {},
     "output_type": "display_data"
    }
   ],
   "source": [
    "# distribuzione dei valori in reviews positive e negative\n",
    "binstars = pd.DataFrame()\n",
    "binstars['stars'] = [0 if star <= 3.0 else 1 for star in df['stars']]\n",
    "# definire la grandezza della figura\n",
    "plt.figure(figsize=(8,8))\n",
    "\n",
    "\n",
    "# contare i vari valori di stars e visualizzarli su un diagramma a torta\n",
    "binstars['stars'].value_counts().plot.pie(startangle=60)\n",
    "\n",
    "# definire il titolo del plot\n",
    "plt.title('Distribuzione dei valori positivi e negativi')"
   ]
  },
  {
   "cell_type": "markdown",
   "id": "7315455f",
   "metadata": {},
   "source": [
    "### 2.2 Cool, Fun and Useful Analysis"
   ]
  },
  {
   "cell_type": "code",
   "execution_count": 8,
   "id": "63264560",
   "metadata": {},
   "outputs": [
    {
     "data": {
      "text/plain": [
       "<AxesSubplot:>"
      ]
     },
     "execution_count": 8,
     "metadata": {},
     "output_type": "execute_result"
    },
    {
     "data": {
      "image/png": "[encoded data removed]",
      "text/plain": [
       "<Figure size 432x288 with 2 Axes>"
      ]
     },
     "metadata": {
      "needs_background": "light"
     },
     "output_type": "display_data"
    }
   ],
   "source": [
    "# definire le correlazioni\n",
    "corr = df.corr()\n",
    "\n",
    "# generazione dell'heatmap\n",
    "sns.heatmap(corr)"
   ]
  },
  {
   "cell_type": "markdown",
   "id": "008f57a4",
   "metadata": {},
   "source": [
    "Non sono presenti particolari correlazioni forti tra i funny, useful e cool con i valori dati a stars."
   ]
  },
  {
   "cell_type": "markdown",
   "id": "084367cf",
   "metadata": {},
   "source": [
    "### 2.3 Text Analysis"
   ]
  },
  {
   "cell_type": "code",
   "execution_count": 11,
   "id": "0ab1bd9a",
   "metadata": {},
   "outputs": [
    {
     "data": {
      "image/png": "[encoded data removed]",
      "text/plain": [
       "<Figure size 432x288 with 1 Axes>"
      ]
     },
     "metadata": {
      "needs_background": "light"
     },
     "output_type": "display_data"
    },
    {
     "name": "stdout",
     "output_type": "stream",
     "text": [
      "CPU times: user 19.9 s, sys: 966 ms, total: 20.9 s\n",
      "Wall time: 21 s\n"
     ]
    }
   ],
   "source": [
    "%%time\n",
    "\n",
    "# definisce un sottoinsieme delle righe del dataset\n",
    "subset = df[:100000]\n",
    "# concatenazione dei testi di ogni riga in una singola stringa\n",
    "inputText = ' '.join(subset['text']).lower()\n",
    "\n",
    "# creazione di un wordcloud andando ad ignorare le stopwords\n",
    "wordCloud = WordCloud(background_color='white', stopwords=gensim.parsing.preprocessing.STOPWORDS).generate(inputText)\n",
    "# setting della visualizzazione utilizzando una interpolazione bilineare\n",
    "plt.imshow(wordCloud, interpolation='bilinear')\n",
    "\n",
    "# rimozione degli assi\n",
    "plt.axis('off')\n",
    "# visualizzazione del wordcloud rappresentante le parole più usate nel testo di una recensione\n",
    "plt.show()"
   ]
  },
  {
   "cell_type": "code",
   "execution_count": 13,
   "id": "7ceabfac",
   "metadata": {},
   "outputs": [],
   "source": [
    "# calcolo della frequenza dei termini più utilizzati\n",
    "wordTokens = word_tokenize(inputText)\n",
    "tokens = list()\n",
    "for word in wordTokens:\n",
    "    if word.isalpha() and word not in gensim.parsing.preprocessing.STOPWORDS:\n",
    "        tokens.append(word)\n",
    "tokenDist = FreqDist(tokens)\n",
    "# per questioni di visualizzazione, andiamo a prendere solamente i primi 20 termini utilizzati\n",
    "dist = pd.DataFrame(tokenDist.most_common(20),columns=['term', 'freq'])"
   ]
  },
  {
   "cell_type": "code",
   "execution_count": 14,
   "id": "00b4f358",
   "metadata": {},
   "outputs": [
    {
     "data": {
      "image/png": "[encoded data removed]",
      "text/plain": [
       "<Figure size 1008x576 with 1 Axes>"
      ]
     },
     "metadata": {
      "needs_background": "light"
     },
     "output_type": "display_data"
    }
   ],
   "source": [
    "# rappresentazione grafica dei risultati\n",
    "fig = plt.figure(figsize=(14,8))\n",
    "ax = fig.add_axes([0,0,1,1])\n",
    "x = dist['term']\n",
    "y = dist['freq']\n",
    "ax.bar(x,y)\n",
    "plt.title('Frequenza dei termini più utilizzati')\n",
    "plt.show()"
   ]
  },
  {
   "cell_type": "code",
   "execution_count": 15,
   "id": "8d714e8a",
   "metadata": {},
   "outputs": [],
   "source": [
    "# Aggiunta di una feature per l'analisi della lunghezza dei testi\n",
    "df['textLength']  = df['text'].str.len()"
   ]
  },
  {
   "cell_type": "code",
   "execution_count": 16,
   "id": "0fb126a8",
   "metadata": {},
   "outputs": [
    {
     "data": {
      "text/html": [
       "<div>\n",
       "<style scoped>\n",
       "    .dataframe tbody tr th:only-of-type {\n",
       "        vertical-align: middle;\n",
       "    }\n",
       "\n",
       "    .dataframe tbody tr th {\n",
       "        vertical-align: top;\n",
       "    }\n",
       "\n",
       "    .dataframe thead th {\n",
       "        text-align: right;\n",
       "    }\n",
       "</style>\n",
       "<table border=\"1\" class=\"dataframe\">\n",
       "  <thead>\n",
       "    <tr style=\"text-align: right;\">\n",
       "      <th></th>\n",
       "      <th>stars</th>\n",
       "      <th>useful</th>\n",
       "      <th>funny</th>\n",
       "      <th>cool</th>\n",
       "      <th>text</th>\n",
       "      <th>date</th>\n",
       "      <th>textLength</th>\n",
       "    </tr>\n",
       "  </thead>\n",
       "  <tbody>\n",
       "    <tr>\n",
       "      <th>0</th>\n",
       "      <td>4.0</td>\n",
       "      <td>3</td>\n",
       "      <td>1</td>\n",
       "      <td>1</td>\n",
       "      <td>Apparently Prides Osteria had a rough summer a...</td>\n",
       "      <td>2014-10-11 03:34:02</td>\n",
       "      <td>1856</td>\n",
       "    </tr>\n",
       "    <tr>\n",
       "      <th>1</th>\n",
       "      <td>4.0</td>\n",
       "      <td>1</td>\n",
       "      <td>0</td>\n",
       "      <td>0</td>\n",
       "      <td>This store is pretty good. Not as great as Wal...</td>\n",
       "      <td>2015-07-03 20:38:25</td>\n",
       "      <td>701</td>\n",
       "    </tr>\n",
       "    <tr>\n",
       "      <th>2</th>\n",
       "      <td>5.0</td>\n",
       "      <td>0</td>\n",
       "      <td>0</td>\n",
       "      <td>0</td>\n",
       "      <td>I called WVM on the recommendation of a couple...</td>\n",
       "      <td>2013-05-28 20:38:06</td>\n",
       "      <td>578</td>\n",
       "    </tr>\n",
       "    <tr>\n",
       "      <th>3</th>\n",
       "      <td>2.0</td>\n",
       "      <td>1</td>\n",
       "      <td>1</td>\n",
       "      <td>1</td>\n",
       "      <td>I've stayed at many Marriott and Renaissance M...</td>\n",
       "      <td>2010-01-08 02:29:15</td>\n",
       "      <td>390</td>\n",
       "    </tr>\n",
       "    <tr>\n",
       "      <th>4</th>\n",
       "      <td>4.0</td>\n",
       "      <td>0</td>\n",
       "      <td>0</td>\n",
       "      <td>0</td>\n",
       "      <td>The food is always great here. The service fro...</td>\n",
       "      <td>2011-07-28 18:05:01</td>\n",
       "      <td>181</td>\n",
       "    </tr>\n",
       "  </tbody>\n",
       "</table>\n",
       "</div>"
      ],
      "text/plain": [
       "   stars  useful  funny  cool  \\\n",
       "0    4.0       3      1     1   \n",
       "1    4.0       1      0     0   \n",
       "2    5.0       0      0     0   \n",
       "3    2.0       1      1     1   \n",
       "4    4.0       0      0     0   \n",
       "\n",
       "                                                text                date  \\\n",
       "0  Apparently Prides Osteria had a rough summer a... 2014-10-11 03:34:02   \n",
       "1  This store is pretty good. Not as great as Wal... 2015-07-03 20:38:25   \n",
       "2  I called WVM on the recommendation of a couple... 2013-05-28 20:38:06   \n",
       "3  I've stayed at many Marriott and Renaissance M... 2010-01-08 02:29:15   \n",
       "4  The food is always great here. The service fro... 2011-07-28 18:05:01   \n",
       "\n",
       "   textLength  \n",
       "0        1856  \n",
       "1         701  \n",
       "2         578  \n",
       "3         390  \n",
       "4         181  "
      ]
     },
     "execution_count": 16,
     "metadata": {},
     "output_type": "execute_result"
    }
   ],
   "source": [
    "df.head()"
   ]
  },
  {
   "cell_type": "code",
   "execution_count": 17,
   "id": "c51cee57",
   "metadata": {},
   "outputs": [
    {
     "data": {
      "text/plain": [
       "<seaborn.axisgrid.FacetGrid at 0x1e0752a90>"
      ]
     },
     "execution_count": 17,
     "metadata": {},
     "output_type": "execute_result"
    },
    {
     "data": {
      "image/png": "[encoded data removed]",
      "text/plain": [
       "<Figure size 1080x216 with 5 Axes>"
      ]
     },
     "metadata": {
      "needs_background": "light"
     },
     "output_type": "display_data"
    }
   ],
   "source": [
    "# Differenziazione della lunghezza dei testi in relazione alla valutazione data a stars\n",
    "graph = sns.FacetGrid(data=df,col='stars')\n",
    "graph.map(plt.hist,'textLength',bins=50,color='blue')"
   ]
  },
  {
   "cell_type": "markdown",
   "id": "dc785fb3",
   "metadata": {},
   "source": [
    "## 3. Data Pre-processing"
   ]
  },
  {
   "cell_type": "markdown",
   "id": "40b587a0",
   "metadata": {},
   "source": [
    "### 3.1 Pulizia Dataset"
   ]
  },
  {
   "cell_type": "code",
   "execution_count": 18,
   "id": "971f53e6",
   "metadata": {},
   "outputs": [],
   "source": [
    "# cancellazione delle caratteristiche cool, funny, useful e textLength poichè non hanno correlazioni con stars.\n",
    "df = df.drop(['cool', 'funny', 'useful', 'textLength'], axis=1)"
   ]
  },
  {
   "cell_type": "code",
   "execution_count": 19,
   "id": "3f634de5",
   "metadata": {},
   "outputs": [
    {
     "data": {
      "text/html": [
       "<div>\n",
       "<style scoped>\n",
       "    .dataframe tbody tr th:only-of-type {\n",
       "        vertical-align: middle;\n",
       "    }\n",
       "\n",
       "    .dataframe tbody tr th {\n",
       "        vertical-align: top;\n",
       "    }\n",
       "\n",
       "    .dataframe thead th {\n",
       "        text-align: right;\n",
       "    }\n",
       "</style>\n",
       "<table border=\"1\" class=\"dataframe\">\n",
       "  <thead>\n",
       "    <tr style=\"text-align: right;\">\n",
       "      <th></th>\n",
       "      <th>stars</th>\n",
       "      <th>text</th>\n",
       "      <th>date</th>\n",
       "    </tr>\n",
       "  </thead>\n",
       "  <tbody>\n",
       "    <tr>\n",
       "      <th>0</th>\n",
       "      <td>4.0</td>\n",
       "      <td>Apparently Prides Osteria had a rough summer a...</td>\n",
       "      <td>2014-10-11 03:34:02</td>\n",
       "    </tr>\n",
       "    <tr>\n",
       "      <th>1</th>\n",
       "      <td>4.0</td>\n",
       "      <td>This store is pretty good. Not as great as Wal...</td>\n",
       "      <td>2015-07-03 20:38:25</td>\n",
       "    </tr>\n",
       "    <tr>\n",
       "      <th>2</th>\n",
       "      <td>5.0</td>\n",
       "      <td>I called WVM on the recommendation of a couple...</td>\n",
       "      <td>2013-05-28 20:38:06</td>\n",
       "    </tr>\n",
       "    <tr>\n",
       "      <th>3</th>\n",
       "      <td>2.0</td>\n",
       "      <td>I've stayed at many Marriott and Renaissance M...</td>\n",
       "      <td>2010-01-08 02:29:15</td>\n",
       "    </tr>\n",
       "    <tr>\n",
       "      <th>4</th>\n",
       "      <td>4.0</td>\n",
       "      <td>The food is always great here. The service fro...</td>\n",
       "      <td>2011-07-28 18:05:01</td>\n",
       "    </tr>\n",
       "  </tbody>\n",
       "</table>\n",
       "</div>"
      ],
      "text/plain": [
       "   stars                                               text  \\\n",
       "0    4.0  Apparently Prides Osteria had a rough summer a...   \n",
       "1    4.0  This store is pretty good. Not as great as Wal...   \n",
       "2    5.0  I called WVM on the recommendation of a couple...   \n",
       "3    2.0  I've stayed at many Marriott and Renaissance M...   \n",
       "4    4.0  The food is always great here. The service fro...   \n",
       "\n",
       "                 date  \n",
       "0 2014-10-11 03:34:02  \n",
       "1 2015-07-03 20:38:25  \n",
       "2 2013-05-28 20:38:06  \n",
       "3 2010-01-08 02:29:15  \n",
       "4 2011-07-28 18:05:01  "
      ]
     },
     "execution_count": 19,
     "metadata": {},
     "output_type": "execute_result"
    }
   ],
   "source": [
    "df.head()"
   ]
  },
  {
   "cell_type": "code",
   "execution_count": 20,
   "id": "5a24dbc3",
   "metadata": {},
   "outputs": [],
   "source": [
    "# rimozione di possibili testi vuoti\n",
    "df['text'].dropna(inplace=True)"
   ]
  },
  {
   "cell_type": "code",
   "execution_count": 21,
   "id": "b0549018",
   "metadata": {},
   "outputs": [],
   "source": [
    "# ridurre la forma delle parole in minuscolo\n",
    "df['text'] = [review_text.lower() for review_text in df['text']]"
   ]
  },
  {
   "cell_type": "code",
   "execution_count": 22,
   "id": "593189b2",
   "metadata": {},
   "outputs": [
    {
     "data": {
      "text/plain": [
       "0    apparently prides osteria had a rough summer a...\n",
       "1    this store is pretty good. not as great as wal...\n",
       "2    i called wvm on the recommendation of a couple...\n",
       "3    i've stayed at many marriott and renaissance m...\n",
       "4    the food is always great here. the service fro...\n",
       "Name: text, dtype: object"
      ]
     },
     "execution_count": 22,
     "metadata": {},
     "output_type": "execute_result"
    }
   ],
   "source": [
    "df['text'].head()"
   ]
  },
  {
   "cell_type": "markdown",
   "id": "c7b54a60",
   "metadata": {},
   "source": [
    "### 3.2 Polarizzazione dei labels (stars)"
   ]
  },
  {
   "cell_type": "code",
   "execution_count": 23,
   "id": "2a393a26",
   "metadata": {},
   "outputs": [],
   "source": [
    "# polarizzazione delle valutazioni a stars in due categorie: 1 = positiva, 0 = negativa\n",
    "\n",
    "# isoliamo la colonna di testo del dataframe in texts\n",
    "texts =  df['text']\n",
    "\n",
    "# andiamo ad impostare negative tutte le recensioni con 3 o meno stelle e positive quelle con 4 e 5 stelle.\n",
    "stars = [0 if star <= 3.0 else 1 for star in df['stars']]\n",
    "\n",
    "balancedTexts = [] # rappresenta la collezione di testi presi in considerazione dal dataframe di input\n",
    "balancedLabels = [] # rappresenta il nuovo valore polarizzato assegnato all'entry (0,1)\n",
    "\n",
    "# andiamo a bilanciare il dataset andando a dividere recensioni positive e negative con limite di 1.000.000 per categoria\n",
    "limit = 100000  \n",
    "\n",
    "# posizione 0 per conteggio di recensioni negative, posizione 1 per quelle positive\n",
    "negPosCounts = [0, 0] \n",
    "\n",
    "for i in range(0,len(texts)):\n",
    "    polarity = stars[i]\n",
    "    if negPosCounts[polarity] < limit: # se non si è raggiunto il limite per la categoria di polarizzazione\n",
    "        balancedTexts.append(texts[i])\n",
    "        balancedLabels.append(stars[i])\n",
    "        negPosCounts[polarity] += 1"
   ]
  },
  {
   "cell_type": "code",
   "execution_count": 24,
   "id": "fd735018",
   "metadata": {},
   "outputs": [
    {
     "data": {
      "text/html": [
       "<div>\n",
       "<style scoped>\n",
       "    .dataframe tbody tr th:only-of-type {\n",
       "        vertical-align: middle;\n",
       "    }\n",
       "\n",
       "    .dataframe tbody tr th {\n",
       "        vertical-align: top;\n",
       "    }\n",
       "\n",
       "    .dataframe thead th {\n",
       "        text-align: right;\n",
       "    }\n",
       "</style>\n",
       "<table border=\"1\" class=\"dataframe\">\n",
       "  <thead>\n",
       "    <tr style=\"text-align: right;\">\n",
       "      <th></th>\n",
       "      <th>text</th>\n",
       "      <th>labels</th>\n",
       "    </tr>\n",
       "  </thead>\n",
       "  <tbody>\n",
       "    <tr>\n",
       "      <th>0</th>\n",
       "      <td>apparently prides osteria had a rough summer a...</td>\n",
       "      <td>1</td>\n",
       "    </tr>\n",
       "    <tr>\n",
       "      <th>1</th>\n",
       "      <td>this store is pretty good. not as great as wal...</td>\n",
       "      <td>1</td>\n",
       "    </tr>\n",
       "    <tr>\n",
       "      <th>2</th>\n",
       "      <td>i called wvm on the recommendation of a couple...</td>\n",
       "      <td>1</td>\n",
       "    </tr>\n",
       "    <tr>\n",
       "      <th>3</th>\n",
       "      <td>i've stayed at many marriott and renaissance m...</td>\n",
       "      <td>0</td>\n",
       "    </tr>\n",
       "    <tr>\n",
       "      <th>4</th>\n",
       "      <td>the food is always great here. the service fro...</td>\n",
       "      <td>1</td>\n",
       "    </tr>\n",
       "  </tbody>\n",
       "</table>\n",
       "</div>"
      ],
      "text/plain": [
       "                                                text  labels\n",
       "0  apparently prides osteria had a rough summer a...       1\n",
       "1  this store is pretty good. not as great as wal...       1\n",
       "2  i called wvm on the recommendation of a couple...       1\n",
       "3  i've stayed at many marriott and renaissance m...       0\n",
       "4  the food is always great here. the service fro...       1"
      ]
     },
     "execution_count": 24,
     "metadata": {},
     "output_type": "execute_result"
    }
   ],
   "source": [
    "df_balanced = pd.DataFrame()\n",
    "df_balanced['text'] = balancedTexts\n",
    "df_balanced['labels'] = balancedLabels\n",
    "df_balanced.head()"
   ]
  },
  {
   "cell_type": "code",
   "execution_count": 25,
   "id": "b11e8cb1",
   "metadata": {},
   "outputs": [
    {
     "name": "stdout",
     "output_type": "stream",
     "text": [
      "Ci sono 100000 recensioni positive e 100000 recensioni negative\n"
     ]
    }
   ],
   "source": [
    "# verifica del conteggio\n",
    "counter = Counter(df_balanced['labels'])\n",
    "print(f'Ci sono {counter[1]} recensioni positive e {counter[0]} recensioni negative')"
   ]
  },
  {
   "cell_type": "markdown",
   "id": "43c9a2b4",
   "metadata": {},
   "source": [
    "### 3.3 Rimozione delle stop words e di caratteri non alfanumerici"
   ]
  },
  {
   "cell_type": "code",
   "execution_count": 26,
   "id": "d7c06e4c",
   "metadata": {},
   "outputs": [
    {
     "name": "stdout",
     "output_type": "stream",
     "text": [
      "frozenset({'from', 'few', 'once', 'system', 'as', 'being', 'yet', 'she', 'or', 'often', 'fill', 'top', 'whose', 'very', 'no', 'say', 'ten', 'formerly', 'take', 'sometimes', 'describe', 'please', 'themselves', 'front', 'ever', 'seemed', 'beyond', 'below', 'will', 'becomes', 'although', 'etc', 'namely', 'anyhow', 'such', 'somewhere', 'seems', 'latterly', 'around', 'de', 'his', 'kg', 'using', 'itself', 'my', 'next', 'an', 'eg', 'both', 'here', 'whereas', 'put', 'did', 'done', 'their', 'across', 'toward', 'doing', 'full', 'hereby', 'move', 'even', 'less', 'beside', 'con', 'rather', 'everything', 'the', 'whereby', 'five', 'otherwise', 'became', 'everywhere', 'without', 'make', 'another', 'same', 'every', 'someone', 'mostly', 'besides', 'might', 'somehow', 'find', 'out', 'how', 'would', 'against', 'under', 'much', 'whenever', 'empty', 'bottom', 'eleven', 'bill', 'each', 'about', 'while', 'mill', 'myself', 'up', 'becoming', 'hasnt', 'if', 'go', 'he', 'anything', 'various', 'thus', 'thereby', 'wherein', 'a', 'fifteen', 'ie', 'used', 'become', 'this', 'one', 'thin', 'its', 'was', 're', 'keep', 'least', 'neither', 'do', 'any', 'too', 'didn', 'because', 'before', 'been', 'must', 'again', 'unless', 'i', 'why', 'it', 'these', 'seeming', 'so', 'wherever', 'own', 'on', 'could', 'what', 'when', 'twelve', 'are', 'call', 'interest', 'part', 'above', 'during', 'un', 'our', 'where', 'amongst', 'ourselves', 'for', 'most', 'them', 'who', 'thru', 'due', 'can', 'something', 'hereafter', 'anyway', 'us', 'yours', 'whither', 'nine', 'not', 'give', 'nowhere', 'either', 'does', 'thereafter', 'but', 'yourself', 'whole', 'back', 'herself', 'you', 'several', 'also', 'by', 'elsewhere', 'further', 'meanwhile', 'two', 'made', 'am', 'twenty', 'whatever', 'sometime', 'they', 'than', 'four', 'himself', 'and', 'fire', 'regarding', 'towards', 'your', 'should', 'then', 'there', 'which', 'almost', 'off', 'seem', 'whereupon', 'whereafter', 'upon', 'computer', 'that', 'amoungst', 'yourselves', 'therefore', 'be', 'doesn', 'to', 'co', 'hereupon', 'those', 'just', 'quite', 'may', 'always', 'eight', 'through', 'afterwards', 'were', 'ltd', 'latter', 'among', 'see', 'ours', 'sincere', 'serious', 'still', 'inc', 'cannot', 'has', 'except', 'six', 'with', 'well', 'nor', 'had', 'anywhere', 'nothing', 'found', 'though', 'sixty', 'per', 'whoever', 'onto', 'between', 'over', 'indeed', 'nobody', 'have', 'already', 'couldnt', 'behind', 'name', 'third', 'side', 'him', 'moreover', 'show', 'until', 'amount', 'is', 'more', 'me', 'thence', 'none', 'along', 'therein', 'cant', 'alone', 'herein', 'others', 'only', 'hence', 'within', 'really', 'at', 'hers', 'whence', 'all', 'last', 'first', 'some', 'whether', 'anyone', 'thereupon', 'since', 'hundred', 'never', 'else', 'via', 'in', 'throughout', 'perhaps', 'former', 'after', 'three', 'fifty', 'her', 'whom', 'we', 'however', 'mine', 'into', 'don', 'down', 'beforehand', 'cry', 'many', 'noone', 'enough', 'now', 'km', 'together', 'nevertheless', 'other', 'thick', 'get', 'of', 'everyone', 'detail', 'forty'})\n"
     ]
    }
   ],
   "source": [
    "# Stop words da rimuovere\n",
    "print(gensim.parsing.preprocessing.STOPWORDS)"
   ]
  },
  {
   "cell_type": "code",
   "execution_count": 29,
   "id": "c5d93279",
   "metadata": {},
   "outputs": [],
   "source": [
    "# Rimozione delle stop words\n",
    "df_texts = []\n",
    "for text in df_balanced['text']:\n",
    "    df_texts.append(remove_stopwords(text))\n",
    "\n",
    "df_balanced['text'] = df_texts\n",
    "\n",
    "# Rimozione dei caratteri non alfanumerici\n",
    "df_texts = []\n",
    "for text in df_balanced['text']:\n",
    "    df_texts.append(''.join(ch for ch in text if ch.isalnum() or ch == ' '))\n",
    "\n",
    "df_balanced['text'] = df_texts"
   ]
  },
  {
   "cell_type": "code",
   "execution_count": 30,
   "id": "ad80eab7",
   "metadata": {},
   "outputs": [
    {
     "name": "stdout",
     "output_type": "stream",
     "text": [
      "0         apparently prides osteria rough summer evidenc...\n",
      "1         store pretty good great walmart or preferred m...\n",
      "2         called wvm recommendation couple friends past ...\n",
      "3         ive stayed marriott renaissance marriotts huge...\n",
      "4         food great here service manager staff super dr...\n",
      "                                ...                        \n",
      "199995    its okay place crowded fridays saturdays music...\n",
      "199996    ordered wings  fries website with account befo...\n",
      "199997    location easy find dining area small customer ...\n",
      "199998    im realtor client years pretty happy service y...\n",
      "199999    place specializes fish tacosbut dull fish taco...\n",
      "Name: text, Length: 200000, dtype: object\n"
     ]
    }
   ],
   "source": [
    "print(df_balanced['text'])"
   ]
  },
  {
   "cell_type": "markdown",
   "id": "a89c9c97",
   "metadata": {},
   "source": [
    "### 3.4 Text Tokenization"
   ]
  },
  {
   "cell_type": "code",
   "execution_count": 31,
   "id": "381069a9",
   "metadata": {},
   "outputs": [
    {
     "name": "stdout",
     "output_type": "stream",
     "text": [
      "CPU times: user 46.1 s, sys: 2.52 s, total: 48.7 s\n",
      "Wall time: 50.6 s\n"
     ]
    }
   ],
   "source": [
    "%%time\n",
    "# tokenizzazione del testo andando a dividere le stringhe in una lista di lemmi\n",
    "df_balanced['text'] = [word_tokenize(text) for text in df_balanced['text']]"
   ]
  },
  {
   "cell_type": "markdown",
   "id": "cff653e0",
   "metadata": {},
   "source": [
    "### 3.5 Preparazione Dati Vettoriali per la Fase di Modelling"
   ]
  },
  {
   "cell_type": "code",
   "execution_count": 32,
   "id": "6637a1b5",
   "metadata": {},
   "outputs": [
    {
     "name": "stdout",
     "output_type": "stream",
     "text": [
      "CPU times: user 12.1 s, sys: 178 ms, total: 12.2 s\n",
      "Wall time: 12.3 s\n"
     ]
    }
   ],
   "source": [
    "%%time\n",
    "# definizione di un tokenizer di 10.000 parole prese dal dataframe\n",
    "tokenizer = Tokenizer(num_words=10000)\n",
    "tokenizer.fit_on_texts(df_balanced['text'])\n",
    "# trasformazione della sequenza di lemmi in sequenze di interi in modo da valutare più velocemente le parole\n",
    "sequences = tokenizer.texts_to_sequences(df_balanced['text'])\n",
    "# Sequenze di massimo 200 unità. Se vi sono testi con sequenze più lunghe esse vengono troncate, altrimenti si avrà \n",
    "# un riempimenti di 0 per testi undersized.\n",
    "text_sequence = pad_sequences(sequences, maxlen=200)\n",
    "labels = np.array(df_balanced['labels'])"
   ]
  },
  {
   "cell_type": "code",
   "execution_count": 33,
   "id": "e66db667",
   "metadata": {},
   "outputs": [
    {
     "name": "stdout",
     "output_type": "stream",
     "text": [
      "{'food': 1, 'good': 2, 'place': 3, 'great': 4, 'like': 5, 'service': 6, 'time': 7, 'its': 8, 'got': 9, 'dont': 10, 'it': 11, 'im': 12, 'nice': 13, 'ive': 14, 'didnt': 15, 'ordered': 16, 'order': 17, 'came': 18, 'restaurant': 19, 'went': 20, 'little': 21, 'staff': 22, 'best': 23, 'people': 24, 'chicken': 25, 'love': 26, 'pretty': 27, 'come': 28, 'try': 29, 'experience': 30, 'menu': 31, 'better': 32, 'said': 33, 'friendly': 34, 'going': 35, 'know': 36, 'way': 37, 'definitely': 38, 'wait': 39, 'minutes': 40, 'delicious': 41, 'day': 42, 'bar': 43, 'want': 44, 'think': 45, 'right': 46, 'night': 47, 'here': 48, 'bad': 49, '2': 50}\n"
     ]
    }
   ],
   "source": [
    "# check parziale degli indici delle parole \n",
    "word_index = tokenizer.word_index\n",
    "# prendiamo le prime 50 parole indicizzate\n",
    "check = {key: value for key, value in word_index.items() if value <= 50}\n",
    "print(check)"
   ]
  },
  {
   "cell_type": "markdown",
   "id": "0285bbcc",
   "metadata": {},
   "source": [
    "## 4. Modelling"
   ]
  },
  {
   "cell_type": "code",
   "execution_count": 34,
   "id": "3dbcc790",
   "metadata": {},
   "outputs": [
    {
     "name": "stdout",
     "output_type": "stream",
     "text": [
      "['-I/usr/local/lib/python3.9/site-packages/tensorflow/include', '-D_GLIBCXX_USE_CXX11_ABI=0', '-DEIGEN_MAX_ALIGN_BYTES=64']\n",
      "2.6.0\n"
     ]
    }
   ],
   "source": [
    "# Checking sulle compile flags di tensorflow\n",
    "print(tf.sysconfig.get_compile_flags())\n",
    "print(tf.__version__)"
   ]
  },
  {
   "cell_type": "code",
   "execution_count": 74,
   "id": "4176dd66",
   "metadata": {},
   "outputs": [],
   "source": [
    "# train and test splitting\n",
    "x_train, x_test, y_train, y_test = train_test_split(text_sequence , labels ,test_size=0.33, shuffle=True)"
   ]
  },
  {
   "cell_type": "code",
   "execution_count": 75,
   "id": "f2650a32",
   "metadata": {},
   "outputs": [
    {
     "name": "stdout",
     "output_type": "stream",
     "text": [
      "Model: \"sequential_4\"\n",
      "_________________________________________________________________\n",
      "Layer (type)                 Output Shape              Param #   \n",
      "=================================================================\n",
      "embedding_4 (Embedding)      (None, 200, 128)          1280000   \n",
      "_________________________________________________________________\n",
      "lstm_4 (LSTM)                (None, 128)               131584    \n",
      "_________________________________________________________________\n",
      "dense_4 (Dense)              (None, 1)                 129       \n",
      "=================================================================\n",
      "Total params: 1,411,713\n",
      "Trainable params: 1,411,713\n",
      "Non-trainable params: 0\n",
      "_________________________________________________________________\n"
     ]
    }
   ],
   "source": [
    "# creazione di un modello sequenziale vuoto in cui aggiungere i vari layers\n",
    "model_lstm = keras.Sequential()\n",
    "\n",
    "# aggiunta dei layers\n",
    "model_lstm.add(layers.Embedding(10000, 128, input_length=200))\n",
    "model_lstm.add(layers.LSTM(128, dropout=0.2, recurrent_dropout=0.2))\n",
    "model_lstm.add(layers.Dense(1, activation='sigmoid'))\n",
    "\n",
    "model_lstm.compile(\n",
    "    loss='binary_crossentropy', \n",
    "    optimizer='adam', \n",
    "    metrics=['accuracy'])\n",
    "\n",
    "model_lstm.summary()"
   ]
  },
  {
   "cell_type": "code",
   "execution_count": null,
   "id": "aeb406e9",
   "metadata": {},
   "outputs": [],
   "source": [
    "results_lstm = model_lstm.fit(x_train, y_train, validation_split=0.33, epochs=10)"
   ]
  },
  {
   "cell_type": "code",
   "execution_count": 73,
   "id": "2791e52c",
   "metadata": {},
   "outputs": [
    {
     "name": "stdout",
     "output_type": "stream",
     "text": [
      "3125/3125 [==============================] - 103s 33ms/step - loss: 0.8295 - accuracy: 0.8397\n"
     ]
    },
    {
     "data": {
      "text/plain": [
       "[0.8294907212257385, 0.8396700024604797]"
      ]
     },
     "execution_count": 73,
     "metadata": {},
     "output_type": "execute_result"
    }
   ],
   "source": [
    "model_lstm.evaluate(x_test, y_test)"
   ]
  },
  {
   "cell_type": "markdown",
   "id": "024fdafd",
   "metadata": {},
   "source": [
    "modelLSTM.evaluate(xTest, yTest)"
   ]
  },
  {
   "cell_type": "code",
   "execution_count": 77,
   "id": "1891b39d",
   "metadata": {},
   "outputs": [
    {
     "name": "stdout",
     "output_type": "stream",
     "text": [
      "Model: \"sequential_5\"\n",
      "_________________________________________________________________\n",
      "Layer (type)                 Output Shape              Param #   \n",
      "=================================================================\n",
      "embedding_5 (Embedding)      (None, 200, 128)          1280000   \n",
      "_________________________________________________________________\n",
      "dropout_2 (Dropout)          (None, 200, 128)          0         \n",
      "_________________________________________________________________\n",
      "conv1d_2 (Conv1D)            (None, 196, 64)           41024     \n",
      "_________________________________________________________________\n",
      "max_pooling1d_1 (MaxPooling1 (None, 49, 64)            0         \n",
      "_________________________________________________________________\n",
      "lstm_5 (LSTM)                (None, 128)               98816     \n",
      "_________________________________________________________________\n",
      "dense_5 (Dense)              (None, 1)                 129       \n",
      "=================================================================\n",
      "Total params: 1,419,969\n",
      "Trainable params: 1,419,969\n",
      "Non-trainable params: 0\n",
      "_________________________________________________________________\n"
     ]
    }
   ],
   "source": [
    "model_lstm_v2 = keras.Sequential()\n",
    "model_lstm_v2.add(layers.Embedding(10000, 128, input_length=200)) #layer iniziali \n",
    "model_lstm_v2.add(layers.Dropout(0.5)) # layer di dropout esterno in seguito ad Embedding\n",
    "model_lstm_v2.add(layers.Conv1D(64, 5, activation='relu'))\n",
    "model_lstm_v2.add(layers.MaxPooling1D(pool_size=4))\n",
    "model_lstm_v2.add(layers.LSTM(128))\n",
    "model_lstm_v2.add(layers.Dense(1, activation='sigmoid'))\n",
    "\n",
    "\n",
    "model_lstm_v2.compile(\n",
    "    loss='binary_crossentropy', \n",
    "    optimizer='adam', \n",
    "    metrics=['accuracy'])\n",
    "\n",
    "model_lstm_v2.summary()"
   ]
  },
  {
   "cell_type": "code",
   "execution_count": 78,
   "id": "4c044609",
   "metadata": {
    "scrolled": true
   },
   "outputs": [
    {
     "name": "stdout",
     "output_type": "stream",
     "text": [
      "Epoch 1/10\n",
      "2806/2806 [==============================] - 208s 74ms/step - loss: 0.3282 - accuracy: 0.8562 - val_loss: 0.2907 - val_accuracy: 0.8785\n",
      "Epoch 2/10\n",
      "2806/2806 [==============================] - 281s 100ms/step - loss: 0.2588 - accuracy: 0.8915 - val_loss: 0.2870 - val_accuracy: 0.8775\n",
      "Epoch 3/10\n",
      "2806/2806 [==============================] - 261s 93ms/step - loss: 0.2175 - accuracy: 0.9110 - val_loss: 0.3110 - val_accuracy: 0.8711\n",
      "Epoch 4/10\n",
      "2806/2806 [==============================] - 267s 95ms/step - loss: 0.1788 - accuracy: 0.9277 - val_loss: 0.3509 - val_accuracy: 0.8705\n",
      "Epoch 5/10\n",
      "2806/2806 [==============================] - 300s 107ms/step - loss: 0.1484 - accuracy: 0.9412 - val_loss: 0.3757 - val_accuracy: 0.8680\n",
      "Epoch 6/10\n",
      "2806/2806 [==============================] - 258s 92ms/step - loss: 0.1249 - accuracy: 0.9505 - val_loss: 0.4053 - val_accuracy: 0.8644\n",
      "Epoch 7/10\n",
      "2806/2806 [==============================] - 243s 87ms/step - loss: 0.1101 - accuracy: 0.9570 - val_loss: 0.4692 - val_accuracy: 0.8631\n",
      "Epoch 8/10\n",
      "2806/2806 [==============================] - 252s 90ms/step - loss: 0.0968 - accuracy: 0.9624 - val_loss: 0.4856 - val_accuracy: 0.8612\n",
      "Epoch 9/10\n",
      "2806/2806 [==============================] - 240s 86ms/step - loss: 0.0845 - accuracy: 0.9677 - val_loss: 0.5075 - val_accuracy: 0.8614\n",
      "Epoch 10/10\n",
      "2806/2806 [==============================] - 246s 87ms/step - loss: 0.0780 - accuracy: 0.9699 - val_loss: 0.5137 - val_accuracy: 0.8611\n"
     ]
    }
   ],
   "source": [
    "results_lstm_2 = model_lstm_v2.fit(x_train, y_train, validation_split=0.33, epochs=10)"
   ]
  },
  {
   "cell_type": "code",
   "execution_count": 79,
   "id": "d6d38370",
   "metadata": {},
   "outputs": [
    {
     "name": "stdout",
     "output_type": "stream",
     "text": [
      "2063/2063 [==============================] - 31s 15ms/step - loss: 0.5002 - accuracy: 0.8622\n"
     ]
    },
    {
     "data": {
      "text/plain": [
       "[0.5002303123474121, 0.8621515035629272]"
      ]
     },
     "execution_count": 79,
     "metadata": {},
     "output_type": "execute_result"
    }
   ],
   "source": [
    "model_lstm_v2.evaluate(x_test, y_test)"
   ]
  },
  {
   "cell_type": "code",
   "execution_count": 89,
   "id": "d7253c86",
   "metadata": {},
   "outputs": [
    {
     "name": "stdout",
     "output_type": "stream",
     "text": [
      "Model: \"sequential_9\"\n",
      "_________________________________________________________________\n",
      "Layer (type)                 Output Shape              Param #   \n",
      "=================================================================\n",
      "embedding_9 (Embedding)      (None, 200, 128)          1280000   \n",
      "_________________________________________________________________\n",
      "dropout_6 (Dropout)          (None, 200, 128)          0         \n",
      "_________________________________________________________________\n",
      "conv1d_6 (Conv1D)            (None, 196, 64)           41024     \n",
      "_________________________________________________________________\n",
      "bidirectional_4 (Bidirection (None, 256)               197632    \n",
      "_________________________________________________________________\n",
      "dense_9 (Dense)              (None, 1)                 257       \n",
      "=================================================================\n",
      "Total params: 1,518,913\n",
      "Trainable params: 1,518,913\n",
      "Non-trainable params: 0\n",
      "_________________________________________________________________\n"
     ]
    }
   ],
   "source": [
    "model_bid = keras.Sequential()\n",
    "model_bid.add(layers.Embedding(10000, 128, input_length=200))\n",
    "model_bid.add(layers.Dropout(0.5))\n",
    "model_bid.add(layers.Conv1D(64, 5, activation='relu'))\n",
    "model_bid.add(layers.Bidirectional(layers.LSTM(128)))\n",
    "model_bid.add(layers.Dense(1, activation='sigmoid'))\n",
    "model_bid.compile(\n",
    "    loss='binary_crossentropy', \n",
    "    optimizer='adam', \n",
    "    metrics=['accuracy'])\n",
    "\n",
    "model_bid.summary()"
   ]
  },
  {
   "cell_type": "code",
   "execution_count": 90,
   "id": "d6ea821a",
   "metadata": {},
   "outputs": [
    {
     "name": "stdout",
     "output_type": "stream",
     "text": [
      "Epoch 1/10\n",
      "2806/2806 [==============================] - 470s 166ms/step - loss: 0.3443 - accuracy: 0.8496 - val_loss: 0.2969 - val_accuracy: 0.8748\n",
      "Epoch 2/10\n",
      "2806/2806 [==============================] - 480s 171ms/step - loss: 0.2656 - accuracy: 0.8898 - val_loss: 0.2944 - val_accuracy: 0.8746\n",
      "Epoch 3/10\n",
      "2806/2806 [==============================] - 498s 177ms/step - loss: 0.2279 - accuracy: 0.9064 - val_loss: 0.2990 - val_accuracy: 0.8744\n",
      "Epoch 4/10\n",
      "2806/2806 [==============================] - 578s 206ms/step - loss: 0.1944 - accuracy: 0.9214 - val_loss: 0.3370 - val_accuracy: 0.8686\n",
      "Epoch 5/10\n",
      "2806/2806 [==============================] - 562s 200ms/step - loss: 0.1636 - accuracy: 0.9353 - val_loss: 0.3532 - val_accuracy: 0.8666\n",
      "Epoch 6/10\n",
      "2806/2806 [==============================] - 690s 246ms/step - loss: 0.1390 - accuracy: 0.9460 - val_loss: 0.4082 - val_accuracy: 0.8653\n",
      "Epoch 7/10\n",
      "2806/2806 [==============================] - 636s 227ms/step - loss: 0.1203 - accuracy: 0.9529 - val_loss: 0.4576 - val_accuracy: 0.8639\n",
      "Epoch 8/10\n",
      "2806/2806 [==============================] - 655s 233ms/step - loss: 0.1054 - accuracy: 0.9597 - val_loss: 0.4591 - val_accuracy: 0.8616\n",
      "Epoch 9/10\n",
      "2806/2806 [==============================] - 649s 231ms/step - loss: 0.0929 - accuracy: 0.9642 - val_loss: 0.4998 - val_accuracy: 0.8621\n",
      "Epoch 10/10\n",
      "2806/2806 [==============================] - 619s 221ms/step - loss: 0.0838 - accuracy: 0.9673 - val_loss: 0.5789 - val_accuracy: 0.8596\n"
     ]
    }
   ],
   "source": [
    "results_bid = model_bid.fit(x_train, y_train, validation_split=0.33, epochs=10)"
   ]
  },
  {
   "cell_type": "code",
   "execution_count": 91,
   "id": "272f09fd",
   "metadata": {},
   "outputs": [
    {
     "name": "stdout",
     "output_type": "stream",
     "text": [
      "2063/2063 [==============================] - 105s 51ms/step - loss: 0.5782 - accuracy: 0.8583\n"
     ]
    },
    {
     "data": {
      "text/plain": [
       "[0.5781740546226501, 0.8583030104637146]"
      ]
     },
     "execution_count": 91,
     "metadata": {},
     "output_type": "execute_result"
    }
   ],
   "source": [
    "model_bid.evaluate(x_test,y_test)"
   ]
  },
  {
   "cell_type": "markdown",
   "id": "130a83ec",
   "metadata": {},
   "source": [
    "## 5. Save Models"
   ]
  },
  {
   "cell_type": "code",
   "execution_count": 94,
   "id": "010bbab0",
   "metadata": {},
   "outputs": [],
   "source": [
    "import pickle\n",
    "\n",
    "# salviamo il tokenizer e i modelli su file\n",
    "with open(\"dump/keras_tokenizer.pickle\", \"wb\") as f:\n",
    "    pickle.dump(tokenizer, f)\n",
    "    \n",
    "model_lstm.save(\"dump/model/yelp_model_lstm.hdf5\")\n",
    "model_lstm_v2.save(\"dump/model/yelp_model_lstm_v2.hdf5\")\n",
    "model_bid.save(\"dump/model/yelp_bidirectional.hdf5\")\n"
   ]
  },
  {
   "cell_type": "code",
   "execution_count": 95,
   "id": "f4a0eb30",
   "metadata": {},
   "outputs": [
    {
     "name": "stdout",
     "output_type": "stream",
     "text": [
      "Risultati model_lstm:\n",
      " [[0.588483  ]\n",
      " [0.6823132 ]\n",
      " [0.49428523]]\n",
      "\n",
      "Risultati model_lstm_v2:\n",
      " [[0.16444844]\n",
      " [0.99677277]\n",
      " [0.00319099]]\n",
      "\n",
      "Risultati model_bid:\n",
      " [[0.38165113]\n",
      " [0.99041104]\n",
      " [0.00252345]]\n"
     ]
    }
   ],
   "source": [
    "from keras.models import load_model\n",
    "from keras.preprocessing.sequence import pad_sequences\n",
    "import pickle\n",
    "\n",
    "# carichiamo il tokenizer e il modello da file\n",
    "with open(\"dump/keras_tokenizer.pickle\", \"rb\") as f:\n",
    "    tokenizer = pickle.load(f)\n",
    "\n",
    "# TODO: load other models\n",
    "model_lstm = load_model(\"dump/model/yelp_model_lstm.hdf5\")\n",
    "model_lstm_v2 = load_model(\"dump/model/yelp_model_lstm_v2.hdf5\")\n",
    "model_bid = load_model(\"dump/model/yelp_bidirectional.hdf5\")\n",
    "\n",
    "# definiamo gli esempi su cui testare il modello\n",
    "examples_reviews = [\"slow orders but good food\", \"Delicious foods! Awesome!\", \"Bad food, bad people... horrible!\"]\n",
    "\n",
    "# usiamo il tokenizer per creare sequenze di interi da dare al modello\n",
    "sequences = tokenizer.texts_to_sequences(examples_reviews)\n",
    "data_examples = pad_sequences(sequences, maxlen=200)\n",
    "\n",
    "# effettuare le predizioni e stampare i risultati\n",
    "predictions_lstm = model_lstm.predict(data_examples)\n",
    "predictions_lstm_v2 = model_lstm_v2.predict(data_examples)\n",
    "predictions_bid = model_bid.predict(data_examples)\n",
    "\n",
    "print(f\"Risultati model_lstm:\\n {predictions_lstm}\\n\\n\"+\n",
    "    f\"Risultati model_lstm_v2:\\n {predictions_lstm_v2}\\n\\n\" + \n",
    "      f\"Risultati model_bid:\\n {predictions_bid}\")"
   ]
  },
  {
   "cell_type": "code",
   "execution_count": 80,
   "id": "a9a50486",
   "metadata": {},
   "outputs": [
    {
     "data": {
      "image/png": "[encoded data removed]",
      "text/plain": [
       "<Figure size 432x288 with 1 Axes>"
      ]
     },
     "metadata": {
      "needs_background": "light"
     },
     "output_type": "display_data"
    }
   ],
   "source": [
    "# grafico della variazione della precisione tra il train e il validation set tra le varie \n",
    "# epoch di apprendimento per il modello LSTM.\n",
    "plt.plot(results_lstm.history['accuracy'])\n",
    "plt.plot(results_lstm.history['val_accuracy'])\n",
    "plt.title('model accuracy')\n",
    "plt.ylabel('accuracy')\n",
    "plt.xlabel('epoch')\n",
    "plt.legend(['train', 'test'], loc='upper left')\n",
    "plt.show()"
   ]
  },
  {
   "cell_type": "code",
   "execution_count": 81,
   "id": "068150a4",
   "metadata": {},
   "outputs": [
    {
     "data": {
      "image/png": "[encoded data removed]",
      "text/plain": [
       "<Figure size 432x288 with 1 Axes>"
      ]
     },
     "metadata": {
      "needs_background": "light"
     },
     "output_type": "display_data"
    }
   ],
   "source": [
    "# grafico della variazione del valore della loss function tra il train e il validation set tra le varie \n",
    "# epoch di apprendimento per il modello LSTM.\n",
    "plt.plot(results_lstm.history['loss'])\n",
    "plt.plot(results_lstm.history['val_loss'])\n",
    "plt.title('model loss')\n",
    "plt.ylabel('loss')\n",
    "plt.xlabel('epoch')\n",
    "plt.legend(['train', 'test'], loc='upper left')\n",
    "plt.show()"
   ]
  },
  {
   "cell_type": "code",
   "execution_count": 82,
   "id": "8b3aca55",
   "metadata": {},
   "outputs": [
    {
     "data": {
      "image/png": "[encoded data removed]",
      "text/plain": [
       "<Figure size 432x288 with 1 Axes>"
      ]
     },
     "metadata": {
      "needs_background": "light"
     },
     "output_type": "display_data"
    }
   ],
   "source": [
    "# grafico della variazione della precisione tra il train e il validation set tra le varie \n",
    "# epoch di apprendimento per il modello LSTM modificato.\n",
    "plt.plot(results_lstm_2.history['accuracy'])\n",
    "plt.plot(results_lstm_2.history['val_accuracy'])\n",
    "plt.title('model accuracy')\n",
    "plt.ylabel('accuracy')\n",
    "plt.xlabel('epoch')\n",
    "plt.legend(['train', 'test'], loc='upper left')\n",
    "plt.show()"
   ]
  },
  {
   "cell_type": "code",
   "execution_count": 83,
   "id": "0e38efd6",
   "metadata": {},
   "outputs": [
    {
     "data": {
      "image/png": "[encoded data removed]",
      "text/plain": [
       "<Figure size 432x288 with 1 Axes>"
      ]
     },
     "metadata": {
      "needs_background": "light"
     },
     "output_type": "display_data"
    }
   ],
   "source": [
    "# grafico della variazione del valore della loss function tra il train e il validation set tra le varie \n",
    "# epoch di apprendimento per il modello LSTM modificato.\n",
    "plt.plot(results_lstm_2.history['loss'])\n",
    "plt.plot(results_lstm_2.history['val_loss'])\n",
    "plt.title('model loss')\n",
    "plt.ylabel('loss')\n",
    "plt.xlabel('epoch')\n",
    "plt.legend(['train', 'test'], loc='upper left')\n",
    "plt.show()"
   ]
  },
  {
   "cell_type": "code",
   "execution_count": 92,
   "id": "fe437376",
   "metadata": {},
   "outputs": [
    {
     "data": {
      "image/png": "[encoded data removed]",
      "text/plain": [
       "<Figure size 432x288 with 1 Axes>"
      ]
     },
     "metadata": {
      "needs_background": "light"
     },
     "output_type": "display_data"
    }
   ],
   "source": [
    "# grafico della variazione della precisione tra il train e il validation set tra le varie \n",
    "# epoch di apprendimento per il modello BRNN.\n",
    "plt.plot(results_bid.history['accuracy'])\n",
    "plt.plot(results_bid.history['val_accuracy'])\n",
    "plt.title('model accuracy')\n",
    "plt.ylabel('accuracy')\n",
    "plt.xlabel('epoch')\n",
    "plt.legend(['train', 'test'], loc='upper left')\n",
    "plt.show()"
   ]
  },
  {
   "cell_type": "code",
   "execution_count": 93,
   "id": "dce3d4de",
   "metadata": {},
   "outputs": [
    {
     "data": {
      "image/png": "[encoded data removed]",
      "text/plain": [
       "<Figure size 432x288 with 1 Axes>"
      ]
     },
     "metadata": {
      "needs_background": "light"
     },
     "output_type": "display_data"
    }
   ],
   "source": [
    "# grafico della variazione del valore della loss function tra il train e il validation set tra le varie \n",
    "# epoch di apprendimento per il modello BRNN.\n",
    "plt.plot(results_bid.history['loss'])\n",
    "plt.plot(results_bid.history['val_loss'])\n",
    "plt.title('model loss')\n",
    "plt.ylabel('loss')\n",
    "plt.xlabel('epoch')\n",
    "plt.legend(['train', 'test'], loc='upper left')\n",
    "plt.show()"
   ]
  },
  {
   "cell_type": "code",
   "execution_count": null,
   "id": "9736890a",
   "metadata": {},
   "outputs": [],
   "source": []
  },
  {
   "cell_type": "code",
   "execution_count": null,
   "id": "6e9d64a8",
   "metadata": {},
   "outputs": [],
   "source": []
  }
 ],
 "metadata": {
  "kernelspec": {
   "display_name": "Python 3 (ipykernel)",
   "language": "python",
   "name": "python3"
  },
  "language_info": {
   "codemirror_mode": {
    "name": "ipython",
    "version": 3
   },
   "file_extension": ".py",
   "mimetype": "text/x-python",
   "name": "python",
   "nbconvert_exporter": "python",
   "pygments_lexer": "ipython3",
   "version": "3.9.7"
  }
 },
 "nbformat": 4,
 "nbformat_minor": 5
}
