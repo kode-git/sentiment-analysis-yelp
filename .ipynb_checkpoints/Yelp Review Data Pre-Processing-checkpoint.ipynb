{
 "cells": [
  {
   "cell_type": "code",
   "execution_count": 2,
   "id": "e738748b",
   "metadata": {},
   "outputs": [],
   "source": [
    "import pandas as pd\n",
    "import numpy as np"
   ]
  },
  {
   "cell_type": "code",
   "execution_count": 55,
   "id": "56325afb",
   "metadata": {},
   "outputs": [
    {
     "name": "stdout",
     "output_type": "stream",
     "text": [
      "CPU times: user 1min 36s, sys: 14.6 s, total: 1min 51s\n",
      "Wall time: 1min 51s\n"
     ]
    }
   ],
   "source": [
    "%%time \n",
    "\n",
    "import numpy as np\n",
    "import pandas as pd\n",
    "b_pandas = []\n",
    "r_dtypes = {\"stars\": np.float16, \n",
    "            \"useful\": np.int32, \n",
    "            \"funny\": np.int32,\n",
    "            \"cool\": np.int32,\n",
    "           }\n",
    "with open(\"yelp_academic_dataset_review.json\", \"r\") as f:\n",
    "    reader = pd.read_json(f, orient=\"records\", lines=True, \n",
    "                          dtype=r_dtypes, chunksize=10000)\n",
    "        \n",
    "    for chunk in reader:\n",
    "        reduced_chunk = chunk.drop(columns=['business_id','review_id', 'user_id']).query(\"`date` >= '2019-12-01'\")\n",
    "        b_pandas.append(reduced_chunk)\n",
    "    \n",
    "b_pandas = pd.concat(b_pandas, ignore_index=True)"
   ]
  },
  {
   "cell_type": "code",
   "execution_count": 56,
   "id": "32057015",
   "metadata": {},
   "outputs": [
    {
     "data": {
      "text/html": [
       "<div>\n",
       "<style scoped>\n",
       "    .dataframe tbody tr th:only-of-type {\n",
       "        vertical-align: middle;\n",
       "    }\n",
       "\n",
       "    .dataframe tbody tr th {\n",
       "        vertical-align: top;\n",
       "    }\n",
       "\n",
       "    .dataframe thead th {\n",
       "        text-align: right;\n",
       "    }\n",
       "</style>\n",
       "<table border=\"1\" class=\"dataframe\">\n",
       "  <thead>\n",
       "    <tr style=\"text-align: right;\">\n",
       "      <th></th>\n",
       "      <th>stars</th>\n",
       "      <th>useful</th>\n",
       "      <th>funny</th>\n",
       "      <th>cool</th>\n",
       "      <th>text</th>\n",
       "      <th>date</th>\n",
       "    </tr>\n",
       "  </thead>\n",
       "  <tbody>\n",
       "    <tr>\n",
       "      <th>0</th>\n",
       "      <td>4.0</td>\n",
       "      <td>0</td>\n",
       "      <td>0</td>\n",
       "      <td>1</td>\n",
       "      <td>I came in for some takeaway coffee in route to...</td>\n",
       "      <td>2019-12-02 02:07:38</td>\n",
       "    </tr>\n",
       "    <tr>\n",
       "      <th>1</th>\n",
       "      <td>5.0</td>\n",
       "      <td>0</td>\n",
       "      <td>0</td>\n",
       "      <td>0</td>\n",
       "      <td>Lisa is awesome - I've been seeing her for abo...</td>\n",
       "      <td>2019-12-02 22:26:41</td>\n",
       "    </tr>\n",
       "    <tr>\n",
       "      <th>2</th>\n",
       "      <td>5.0</td>\n",
       "      <td>0</td>\n",
       "      <td>0</td>\n",
       "      <td>0</td>\n",
       "      <td>We've been going to this restaurant for years....</td>\n",
       "      <td>2019-12-06 17:06:15</td>\n",
       "    </tr>\n",
       "    <tr>\n",
       "      <th>3</th>\n",
       "      <td>5.0</td>\n",
       "      <td>0</td>\n",
       "      <td>0</td>\n",
       "      <td>0</td>\n",
       "      <td>First time at this place and I HIGHLY RECOMMEN...</td>\n",
       "      <td>2019-12-11 17:50:39</td>\n",
       "    </tr>\n",
       "    <tr>\n",
       "      <th>4</th>\n",
       "      <td>5.0</td>\n",
       "      <td>0</td>\n",
       "      <td>0</td>\n",
       "      <td>0</td>\n",
       "      <td>We had Adrian makes us Coffee nudges and they ...</td>\n",
       "      <td>2019-12-16 02:08:35</td>\n",
       "    </tr>\n",
       "  </tbody>\n",
       "</table>\n",
       "</div>"
      ],
      "text/plain": [
       "   stars  useful  funny  cool  \\\n",
       "0    4.0       0      0     1   \n",
       "1    5.0       0      0     0   \n",
       "2    5.0       0      0     0   \n",
       "3    5.0       0      0     0   \n",
       "4    5.0       0      0     0   \n",
       "\n",
       "                                                text                date  \n",
       "0  I came in for some takeaway coffee in route to... 2019-12-02 02:07:38  \n",
       "1  Lisa is awesome - I've been seeing her for abo... 2019-12-02 22:26:41  \n",
       "2  We've been going to this restaurant for years.... 2019-12-06 17:06:15  \n",
       "3  First time at this place and I HIGHLY RECOMMEN... 2019-12-11 17:50:39  \n",
       "4  We had Adrian makes us Coffee nudges and they ... 2019-12-16 02:08:35  "
      ]
     },
     "execution_count": 56,
     "metadata": {},
     "output_type": "execute_result"
    }
   ],
   "source": [
    "# show head dataframe\n",
    "b_pandas.head()"
   ]
  },
  {
   "cell_type": "code",
   "execution_count": 48,
   "id": "9630a6d8",
   "metadata": {},
   "outputs": [],
   "source": []
  },
  {
   "cell_type": "code",
   "execution_count": 54,
   "id": "27c5b08a",
   "metadata": {},
   "outputs": [
    {
     "data": {
      "text/plain": [
       "Text(0, 0.5, 'count')"
      ]
     },
     "execution_count": 54,
     "metadata": {},
     "output_type": "execute_result"
    },
    {
     "data": {
      "image/png": "[encoded data removed]",
      "text/plain": [
       "<Figure size 864x576 with 1 Axes>"
      ]
     },
     "metadata": {
      "needs_background": "light"
     },
     "output_type": "display_data"
    }
   ],
   "source": [
    "# plot stars using matplot\n",
    "\n",
    "import matplotlib.pyplot as plt\n",
    "import seaborn as sns\n",
    "\n",
    "fig = plt.figure(figsize=(12,8))\n",
    "axes1 = plt.subplot(2,2,1)\n",
    "axes1 = sns.countplot(x='stars', data=b_pandas)\n",
    "axes1.set_title('stars')\n",
    "axes1.set_ylabel('count')"
   ]
  },
  {
   "cell_type": "code",
   "execution_count": 58,
   "id": "543265fa",
   "metadata": {},
   "outputs": [],
   "source": [
    "# We need to classify positive and negative reviews and don't need to have 5 type of evaluation. We can reduce the domain of stars value in 2 different classes:\n",
    "# 1. Negative Review - Value between 0 and 2, it should be equal to 0\n",
    "# 2. Positive Review - Value between 3 and 5, it should be equal to 1\n",
    "b_pandas.loc[b_pandas['stars'] < 3, 'stars'] = 0\n",
    "b_pandas.loc[b_pandas['stars'] >= 3, 'stars'] = 1\n"
   ]
  },
  {
   "cell_type": "code",
   "execution_count": 62,
   "id": "8e3c95cf",
   "metadata": {},
   "outputs": [
    {
     "data": {
      "text/html": [
       "<div>\n",
       "<style scoped>\n",
       "    .dataframe tbody tr th:only-of-type {\n",
       "        vertical-align: middle;\n",
       "    }\n",
       "\n",
       "    .dataframe tbody tr th {\n",
       "        vertical-align: top;\n",
       "    }\n",
       "\n",
       "    .dataframe thead th {\n",
       "        text-align: right;\n",
       "    }\n",
       "</style>\n",
       "<table border=\"1\" class=\"dataframe\">\n",
       "  <thead>\n",
       "    <tr style=\"text-align: right;\">\n",
       "      <th></th>\n",
       "      <th>stars</th>\n",
       "      <th>useful</th>\n",
       "      <th>funny</th>\n",
       "      <th>cool</th>\n",
       "      <th>text</th>\n",
       "      <th>date</th>\n",
       "    </tr>\n",
       "  </thead>\n",
       "  <tbody>\n",
       "    <tr>\n",
       "      <th>0</th>\n",
       "      <td>1.0</td>\n",
       "      <td>0</td>\n",
       "      <td>0</td>\n",
       "      <td>1</td>\n",
       "      <td>I came in for some takeaway coffee in route to...</td>\n",
       "      <td>2019-12-02 02:07:38</td>\n",
       "    </tr>\n",
       "    <tr>\n",
       "      <th>1</th>\n",
       "      <td>1.0</td>\n",
       "      <td>0</td>\n",
       "      <td>0</td>\n",
       "      <td>0</td>\n",
       "      <td>Lisa is awesome - I've been seeing her for abo...</td>\n",
       "      <td>2019-12-02 22:26:41</td>\n",
       "    </tr>\n",
       "    <tr>\n",
       "      <th>2</th>\n",
       "      <td>1.0</td>\n",
       "      <td>0</td>\n",
       "      <td>0</td>\n",
       "      <td>0</td>\n",
       "      <td>We've been going to this restaurant for years....</td>\n",
       "      <td>2019-12-06 17:06:15</td>\n",
       "    </tr>\n",
       "    <tr>\n",
       "      <th>3</th>\n",
       "      <td>1.0</td>\n",
       "      <td>0</td>\n",
       "      <td>0</td>\n",
       "      <td>0</td>\n",
       "      <td>First time at this place and I HIGHLY RECOMMEN...</td>\n",
       "      <td>2019-12-11 17:50:39</td>\n",
       "    </tr>\n",
       "    <tr>\n",
       "      <th>4</th>\n",
       "      <td>1.0</td>\n",
       "      <td>0</td>\n",
       "      <td>0</td>\n",
       "      <td>0</td>\n",
       "      <td>We had Adrian makes us Coffee nudges and they ...</td>\n",
       "      <td>2019-12-16 02:08:35</td>\n",
       "    </tr>\n",
       "    <tr>\n",
       "      <th>...</th>\n",
       "      <td>...</td>\n",
       "      <td>...</td>\n",
       "      <td>...</td>\n",
       "      <td>...</td>\n",
       "      <td>...</td>\n",
       "      <td>...</td>\n",
       "    </tr>\n",
       "    <tr>\n",
       "      <th>720394</th>\n",
       "      <td>0.0</td>\n",
       "      <td>1</td>\n",
       "      <td>1</td>\n",
       "      <td>0</td>\n",
       "      <td>This was absolutely the most egregious display...</td>\n",
       "      <td>2020-10-23 23:28:09</td>\n",
       "    </tr>\n",
       "    <tr>\n",
       "      <th>720395</th>\n",
       "      <td>1.0</td>\n",
       "      <td>0</td>\n",
       "      <td>0</td>\n",
       "      <td>0</td>\n",
       "      <td>Yes please! We had the Arepas falafel style an...</td>\n",
       "      <td>2021-01-25 14:53:13</td>\n",
       "    </tr>\n",
       "    <tr>\n",
       "      <th>720396</th>\n",
       "      <td>0.0</td>\n",
       "      <td>0</td>\n",
       "      <td>0</td>\n",
       "      <td>0</td>\n",
       "      <td>In December, I called in (as a returning custo...</td>\n",
       "      <td>2021-01-26 04:07:14</td>\n",
       "    </tr>\n",
       "    <tr>\n",
       "      <th>720397</th>\n",
       "      <td>1.0</td>\n",
       "      <td>39</td>\n",
       "      <td>13</td>\n",
       "      <td>34</td>\n",
       "      <td>Yummy, great chew on the bagel\\nFriendly staff...</td>\n",
       "      <td>2020-06-13 02:39:26</td>\n",
       "    </tr>\n",
       "    <tr>\n",
       "      <th>720398</th>\n",
       "      <td>0.0</td>\n",
       "      <td>2</td>\n",
       "      <td>0</td>\n",
       "      <td>0</td>\n",
       "      <td>This used to be my car wash of choice. They di...</td>\n",
       "      <td>2020-06-22 21:54:10</td>\n",
       "    </tr>\n",
       "  </tbody>\n",
       "</table>\n",
       "<p>720399 rows × 6 columns</p>\n",
       "</div>"
      ],
      "text/plain": [
       "        stars  useful  funny  cool  \\\n",
       "0         1.0       0      0     1   \n",
       "1         1.0       0      0     0   \n",
       "2         1.0       0      0     0   \n",
       "3         1.0       0      0     0   \n",
       "4         1.0       0      0     0   \n",
       "...       ...     ...    ...   ...   \n",
       "720394    0.0       1      1     0   \n",
       "720395    1.0       0      0     0   \n",
       "720396    0.0       0      0     0   \n",
       "720397    1.0      39     13    34   \n",
       "720398    0.0       2      0     0   \n",
       "\n",
       "                                                     text                date  \n",
       "0       I came in for some takeaway coffee in route to... 2019-12-02 02:07:38  \n",
       "1       Lisa is awesome - I've been seeing her for abo... 2019-12-02 22:26:41  \n",
       "2       We've been going to this restaurant for years.... 2019-12-06 17:06:15  \n",
       "3       First time at this place and I HIGHLY RECOMMEN... 2019-12-11 17:50:39  \n",
       "4       We had Adrian makes us Coffee nudges and they ... 2019-12-16 02:08:35  \n",
       "...                                                   ...                 ...  \n",
       "720394  This was absolutely the most egregious display... 2020-10-23 23:28:09  \n",
       "720395  Yes please! We had the Arepas falafel style an... 2021-01-25 14:53:13  \n",
       "720396  In December, I called in (as a returning custo... 2021-01-26 04:07:14  \n",
       "720397  Yummy, great chew on the bagel\\nFriendly staff... 2020-06-13 02:39:26  \n",
       "720398  This used to be my car wash of choice. They di... 2020-06-22 21:54:10  \n",
       "\n",
       "[720399 rows x 6 columns]"
      ]
     },
     "execution_count": 62,
     "metadata": {},
     "output_type": "execute_result"
    }
   ],
   "source": [
    "b_pandas.head(1000000)"
   ]
  },
  {
   "cell_type": "code",
   "execution_count": 63,
   "id": "5a50386c",
   "metadata": {},
   "outputs": [
    {
     "data": {
      "text/plain": [
       "Text(0, 0.5, 'count')"
      ]
     },
     "execution_count": 63,
     "metadata": {},
     "output_type": "execute_result"
    },
    {
     "data": {
      "image/png": "[encoded data removed]",
      "text/plain": [
       "<Figure size 864x576 with 1 Axes>"
      ]
     },
     "metadata": {
      "needs_background": "light"
     },
     "output_type": "display_data"
    }
   ],
   "source": [
    "fig = plt.figure(figsize=(12,8))\n",
    "sp= plt.subplot(2,2,1)\n",
    "sp = sns.countplot(x='stars', data=b_pandas)\n",
    "sp.set_title('stars')\n",
    "sp.set_ylabel('count')"
   ]
  },
  {
   "cell_type": "code",
   "execution_count": null,
   "id": "0b9198b7",
   "metadata": {},
   "outputs": [],
   "source": [
    "# balance the number of positive and negative reviews"
   ]
  },
  {
   "cell_type": "code",
   "execution_count": null,
   "id": "1767fa4d",
   "metadata": {},
   "outputs": [],
   "source": [
    "\n"
   ]
  }
 ],
 "metadata": {
  "kernelspec": {
   "display_name": "Python 3",
   "language": "python",
   "name": "python3"
  },
  "language_info": {
   "codemirror_mode": {
    "name": "ipython",
    "version": 3
   },
   "file_extension": ".py",
   "mimetype": "text/x-python",
   "name": "python",
   "nbconvert_exporter": "python",
   "pygments_lexer": "ipython3",
   "version": "3.8.8"
  }
 },
 "nbformat": 4,
 "nbformat_minor": 5
}
