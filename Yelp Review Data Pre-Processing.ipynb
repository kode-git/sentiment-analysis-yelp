{
 "cells": [
  {
   "cell_type": "code",
   "execution_count": 2,
   "id": "e738748b",
   "metadata": {},
   "outputs": [],
   "source": [
    "import pandas as pd\n",
    "import numpy as np"
   ]
  },
  {
   "cell_type": "code",
   "execution_count": 64,
   "id": "56325afb",
   "metadata": {},
   "outputs": [
    {
     "name": "stdout",
     "output_type": "stream",
     "text": [
      "CPU times: user 1min 34s, sys: 14.6 s, total: 1min 49s\n",
      "Wall time: 1min 49s\n"
     ]
    }
   ],
   "source": [
    "%%time \n",
    "\n",
    "import numpy as np\n",
    "import pandas as pd\n",
    "df_rev = []\n",
    "r_dtypes = {\"stars\": np.float16, \n",
    "            \"useful\": np.int32, \n",
    "            \"funny\": np.int32,\n",
    "            \"cool\": np.int32,\n",
    "           }\n",
    "with open(\"yelp_academic_dataset_review.json\", \"r\") as dataset:\n",
    "    reader = pd.read_json(dataset, orient=\"records\", lines=True, \n",
    "                          dtype=r_dtypes, chunksize=10000)\n",
    "        \n",
    "    for chunk in reader:\n",
    "        reduced_chunk = chunk.drop(columns=['business_id','review_id', 'user_id']).query(\"`date` >= '2018-12-01'\")\n",
    "        df_rev.append(reduced_chunk)\n",
    "    \n",
    "df_rev = pd.concat(df_rev, ignore_index=True)"
   ]
  },
  {
   "cell_type": "code",
   "execution_count": 65,
   "id": "32057015",
   "metadata": {},
   "outputs": [
    {
     "data": {
      "text/html": [
       "<div>\n",
       "<style scoped>\n",
       "    .dataframe tbody tr th:only-of-type {\n",
       "        vertical-align: middle;\n",
       "    }\n",
       "\n",
       "    .dataframe tbody tr th {\n",
       "        vertical-align: top;\n",
       "    }\n",
       "\n",
       "    .dataframe thead th {\n",
       "        text-align: right;\n",
       "    }\n",
       "</style>\n",
       "<table border=\"1\" class=\"dataframe\">\n",
       "  <thead>\n",
       "    <tr style=\"text-align: right;\">\n",
       "      <th></th>\n",
       "      <th>stars</th>\n",
       "      <th>useful</th>\n",
       "      <th>funny</th>\n",
       "      <th>cool</th>\n",
       "      <th>text</th>\n",
       "      <th>date</th>\n",
       "    </tr>\n",
       "  </thead>\n",
       "  <tbody>\n",
       "    <tr>\n",
       "      <th>0</th>\n",
       "      <td>5.0</td>\n",
       "      <td>0</td>\n",
       "      <td>0</td>\n",
       "      <td>0</td>\n",
       "      <td>Vegan donuts! What else can I say!?!? I am so ...</td>\n",
       "      <td>2018-12-04 03:27:14</td>\n",
       "    </tr>\n",
       "    <tr>\n",
       "      <th>1</th>\n",
       "      <td>5.0</td>\n",
       "      <td>0</td>\n",
       "      <td>0</td>\n",
       "      <td>0</td>\n",
       "      <td>I will definitely be coming back!  If you like...</td>\n",
       "      <td>2018-12-02 18:11:06</td>\n",
       "    </tr>\n",
       "    <tr>\n",
       "      <th>2</th>\n",
       "      <td>3.0</td>\n",
       "      <td>0</td>\n",
       "      <td>0</td>\n",
       "      <td>0</td>\n",
       "      <td>The waiter who greeted me was very helpful and...</td>\n",
       "      <td>2018-12-04 21:13:20</td>\n",
       "    </tr>\n",
       "    <tr>\n",
       "      <th>3</th>\n",
       "      <td>2.0</td>\n",
       "      <td>0</td>\n",
       "      <td>0</td>\n",
       "      <td>0</td>\n",
       "      <td>Had a salad to go today. Guy behind the counte...</td>\n",
       "      <td>2018-12-10 23:25:48</td>\n",
       "    </tr>\n",
       "    <tr>\n",
       "      <th>4</th>\n",
       "      <td>4.0</td>\n",
       "      <td>0</td>\n",
       "      <td>0</td>\n",
       "      <td>0</td>\n",
       "      <td>I could honestly spend my whole paycheck here....</td>\n",
       "      <td>2018-12-04 18:39:58</td>\n",
       "    </tr>\n",
       "  </tbody>\n",
       "</table>\n",
       "</div>"
      ],
      "text/plain": [
       "   stars  useful  funny  cool  \\\n",
       "0    5.0       0      0     0   \n",
       "1    5.0       0      0     0   \n",
       "2    3.0       0      0     0   \n",
       "3    2.0       0      0     0   \n",
       "4    4.0       0      0     0   \n",
       "\n",
       "                                                text                date  \n",
       "0  Vegan donuts! What else can I say!?!? I am so ... 2018-12-04 03:27:14  \n",
       "1  I will definitely be coming back!  If you like... 2018-12-02 18:11:06  \n",
       "2  The waiter who greeted me was very helpful and... 2018-12-04 21:13:20  \n",
       "3  Had a salad to go today. Guy behind the counte... 2018-12-10 23:25:48  \n",
       "4  I could honestly spend my whole paycheck here.... 2018-12-04 18:39:58  "
      ]
     },
     "execution_count": 65,
     "metadata": {},
     "output_type": "execute_result"
    }
   ],
   "source": [
    "# show head dataframe\n",
    "df_rev.head()"
   ]
  },
  {
   "cell_type": "code",
   "execution_count": 48,
   "id": "9630a6d8",
   "metadata": {},
   "outputs": [],
   "source": []
  },
  {
   "cell_type": "code",
   "execution_count": 66,
   "id": "27c5b08a",
   "metadata": {},
   "outputs": [
    {
     "data": {
      "text/plain": [
       "Text(0, 0.5, 'value')"
      ]
     },
     "execution_count": 66,
     "metadata": {},
     "output_type": "execute_result"
    },
    {
     "data": {
      "image/png": "[encoded data removed]",
      "text/plain": [
       "<Figure size 864x576 with 1 Axes>"
      ]
     },
     "metadata": {
      "needs_background": "light"
     },
     "output_type": "display_data"
    }
   ],
   "source": [
    "# plot stars using matplot\n",
    "\n",
    "import matplotlib.pyplot as plt\n",
    "import seaborn as sb\n",
    "\n",
    "fig = plt.figure(figsize = (12,8))\n",
    "sp = plt.subplot(2,2,1)\n",
    "sp = sb.countplot(x = 'stars', data = df_rev)\n",
    "sp.set_title('stars')\n",
    "sp.set_ylabel('value')"
   ]
  },
  {
   "cell_type": "code",
   "execution_count": 67,
   "id": "5a8803af",
   "metadata": {},
   "outputs": [],
   "source": [
    "# We need to classify positive and negative reviews and don't need to have 5 type of evaluation. We can reduce the domain of stars value in 2 different classes:\n",
    "# 1. Negative Review - Value between 0 and 2, it should be equal to 0\n",
    "# 2. Positive Review - Value between 3 and 5, it should be equal to 1\n",
    "df_rev.loc[df_rev['stars'] < 3, 'stars'] = 0\n",
    "df_rev.loc[df_rev['stars'] >= 3, 'stars'] = 1\n"
   ]
  },
  {
   "cell_type": "code",
   "execution_count": 68,
   "id": "8e3c95cf",
   "metadata": {},
   "outputs": [
    {
     "data": {
      "text/html": [
       "<div>\n",
       "<style scoped>\n",
       "    .dataframe tbody tr th:only-of-type {\n",
       "        vertical-align: middle;\n",
       "    }\n",
       "\n",
       "    .dataframe tbody tr th {\n",
       "        vertical-align: top;\n",
       "    }\n",
       "\n",
       "    .dataframe thead th {\n",
       "        text-align: right;\n",
       "    }\n",
       "</style>\n",
       "<table border=\"1\" class=\"dataframe\">\n",
       "  <thead>\n",
       "    <tr style=\"text-align: right;\">\n",
       "      <th></th>\n",
       "      <th>stars</th>\n",
       "      <th>useful</th>\n",
       "      <th>funny</th>\n",
       "      <th>cool</th>\n",
       "      <th>text</th>\n",
       "      <th>date</th>\n",
       "    </tr>\n",
       "  </thead>\n",
       "  <tbody>\n",
       "    <tr>\n",
       "      <th>0</th>\n",
       "      <td>1.0</td>\n",
       "      <td>0</td>\n",
       "      <td>0</td>\n",
       "      <td>0</td>\n",
       "      <td>Vegan donuts! What else can I say!?!? I am so ...</td>\n",
       "      <td>2018-12-04 03:27:14</td>\n",
       "    </tr>\n",
       "    <tr>\n",
       "      <th>1</th>\n",
       "      <td>1.0</td>\n",
       "      <td>0</td>\n",
       "      <td>0</td>\n",
       "      <td>0</td>\n",
       "      <td>I will definitely be coming back!  If you like...</td>\n",
       "      <td>2018-12-02 18:11:06</td>\n",
       "    </tr>\n",
       "    <tr>\n",
       "      <th>2</th>\n",
       "      <td>1.0</td>\n",
       "      <td>0</td>\n",
       "      <td>0</td>\n",
       "      <td>0</td>\n",
       "      <td>The waiter who greeted me was very helpful and...</td>\n",
       "      <td>2018-12-04 21:13:20</td>\n",
       "    </tr>\n",
       "    <tr>\n",
       "      <th>3</th>\n",
       "      <td>0.0</td>\n",
       "      <td>0</td>\n",
       "      <td>0</td>\n",
       "      <td>0</td>\n",
       "      <td>Had a salad to go today. Guy behind the counte...</td>\n",
       "      <td>2018-12-10 23:25:48</td>\n",
       "    </tr>\n",
       "    <tr>\n",
       "      <th>4</th>\n",
       "      <td>1.0</td>\n",
       "      <td>0</td>\n",
       "      <td>0</td>\n",
       "      <td>0</td>\n",
       "      <td>I could honestly spend my whole paycheck here....</td>\n",
       "      <td>2018-12-04 18:39:58</td>\n",
       "    </tr>\n",
       "    <tr>\n",
       "      <th>...</th>\n",
       "      <td>...</td>\n",
       "      <td>...</td>\n",
       "      <td>...</td>\n",
       "      <td>...</td>\n",
       "      <td>...</td>\n",
       "      <td>...</td>\n",
       "    </tr>\n",
       "    <tr>\n",
       "      <th>999995</th>\n",
       "      <td>0.0</td>\n",
       "      <td>1</td>\n",
       "      <td>1</td>\n",
       "      <td>0</td>\n",
       "      <td>Food was ok. Strips were soggy.  Service was n...</td>\n",
       "      <td>2019-10-07 18:44:55</td>\n",
       "    </tr>\n",
       "    <tr>\n",
       "      <th>999996</th>\n",
       "      <td>1.0</td>\n",
       "      <td>2</td>\n",
       "      <td>2</td>\n",
       "      <td>0</td>\n",
       "      <td>Really cool penthouse suite for our honeymoon....</td>\n",
       "      <td>2019-10-06 18:15:30</td>\n",
       "    </tr>\n",
       "    <tr>\n",
       "      <th>999997</th>\n",
       "      <td>1.0</td>\n",
       "      <td>0</td>\n",
       "      <td>0</td>\n",
       "      <td>0</td>\n",
       "      <td>Dr Tubbs is a excellent Dr that listens and di...</td>\n",
       "      <td>2020-01-02 03:07:18</td>\n",
       "    </tr>\n",
       "    <tr>\n",
       "      <th>999998</th>\n",
       "      <td>0.0</td>\n",
       "      <td>1</td>\n",
       "      <td>3</td>\n",
       "      <td>0</td>\n",
       "      <td>Bartenders were great, but service was def not...</td>\n",
       "      <td>2019-07-14 04:32:19</td>\n",
       "    </tr>\n",
       "    <tr>\n",
       "      <th>999999</th>\n",
       "      <td>1.0</td>\n",
       "      <td>0</td>\n",
       "      <td>0</td>\n",
       "      <td>0</td>\n",
       "      <td>Such a fun, cute, and welcoming ice cream shop...</td>\n",
       "      <td>2020-01-03 16:58:49</td>\n",
       "    </tr>\n",
       "  </tbody>\n",
       "</table>\n",
       "<p>1000000 rows × 6 columns</p>\n",
       "</div>"
      ],
      "text/plain": [
       "        stars  useful  funny  cool  \\\n",
       "0         1.0       0      0     0   \n",
       "1         1.0       0      0     0   \n",
       "2         1.0       0      0     0   \n",
       "3         0.0       0      0     0   \n",
       "4         1.0       0      0     0   \n",
       "...       ...     ...    ...   ...   \n",
       "999995    0.0       1      1     0   \n",
       "999996    1.0       2      2     0   \n",
       "999997    1.0       0      0     0   \n",
       "999998    0.0       1      3     0   \n",
       "999999    1.0       0      0     0   \n",
       "\n",
       "                                                     text                date  \n",
       "0       Vegan donuts! What else can I say!?!? I am so ... 2018-12-04 03:27:14  \n",
       "1       I will definitely be coming back!  If you like... 2018-12-02 18:11:06  \n",
       "2       The waiter who greeted me was very helpful and... 2018-12-04 21:13:20  \n",
       "3       Had a salad to go today. Guy behind the counte... 2018-12-10 23:25:48  \n",
       "4       I could honestly spend my whole paycheck here.... 2018-12-04 18:39:58  \n",
       "...                                                   ...                 ...  \n",
       "999995  Food was ok. Strips were soggy.  Service was n... 2019-10-07 18:44:55  \n",
       "999996  Really cool penthouse suite for our honeymoon.... 2019-10-06 18:15:30  \n",
       "999997  Dr Tubbs is a excellent Dr that listens and di... 2020-01-02 03:07:18  \n",
       "999998  Bartenders were great, but service was def not... 2019-07-14 04:32:19  \n",
       "999999  Such a fun, cute, and welcoming ice cream shop... 2020-01-03 16:58:49  \n",
       "\n",
       "[1000000 rows x 6 columns]"
      ]
     },
     "execution_count": 68,
     "metadata": {},
     "output_type": "execute_result"
    }
   ],
   "source": [
    "df_rev.head(1000000)"
   ]
  },
  {
   "cell_type": "code",
   "execution_count": 69,
   "id": "5a50386c",
   "metadata": {},
   "outputs": [
    {
     "data": {
      "text/plain": [
       "Text(0, 0.5, 'count')"
      ]
     },
     "execution_count": 69,
     "metadata": {},
     "output_type": "execute_result"
    },
    {
     "data": {
      "image/png": "[encoded data removed]",
      "text/plain": [
       "<Figure size 864x576 with 1 Axes>"
      ]
     },
     "metadata": {
      "needs_background": "light"
     },
     "output_type": "display_data"
    }
   ],
   "source": [
    "fig = plt.figure(figsize=(12,8))\n",
    "sp = plt.subplot(2,2,1)\n",
    "sp = sb.countplot(x='stars', data=b_pandas)\n",
    "sp.set_title('stars')\n",
    "sp.set_ylabel('count')"
   ]
  },
  {
   "cell_type": "code",
   "execution_count": 77,
   "id": "0b9198b7",
   "metadata": {},
   "outputs": [
    {
     "data": {
      "text/html": [
       "<div>\n",
       "<style scoped>\n",
       "    .dataframe tbody tr th:only-of-type {\n",
       "        vertical-align: middle;\n",
       "    }\n",
       "\n",
       "    .dataframe tbody tr th {\n",
       "        vertical-align: top;\n",
       "    }\n",
       "\n",
       "    .dataframe thead th {\n",
       "        text-align: right;\n",
       "    }\n",
       "</style>\n",
       "<table border=\"1\" class=\"dataframe\">\n",
       "  <thead>\n",
       "    <tr style=\"text-align: right;\">\n",
       "      <th></th>\n",
       "      <th>stars</th>\n",
       "      <th>useful</th>\n",
       "      <th>funny</th>\n",
       "      <th>cool</th>\n",
       "      <th>text</th>\n",
       "      <th>date</th>\n",
       "    </tr>\n",
       "  </thead>\n",
       "  <tbody>\n",
       "    <tr>\n",
       "      <th>0</th>\n",
       "      <td>1.0</td>\n",
       "      <td>0</td>\n",
       "      <td>0</td>\n",
       "      <td>0</td>\n",
       "      <td>Vegan donuts! What else can I say!?!? I am so ...</td>\n",
       "      <td>2018-12-04 03:27:14</td>\n",
       "    </tr>\n",
       "    <tr>\n",
       "      <th>1</th>\n",
       "      <td>1.0</td>\n",
       "      <td>0</td>\n",
       "      <td>0</td>\n",
       "      <td>0</td>\n",
       "      <td>I will definitely be coming back!  If you like...</td>\n",
       "      <td>2018-12-02 18:11:06</td>\n",
       "    </tr>\n",
       "    <tr>\n",
       "      <th>2</th>\n",
       "      <td>1.0</td>\n",
       "      <td>0</td>\n",
       "      <td>0</td>\n",
       "      <td>0</td>\n",
       "      <td>The waiter who greeted me was very helpful and...</td>\n",
       "      <td>2018-12-04 21:13:20</td>\n",
       "    </tr>\n",
       "    <tr>\n",
       "      <th>4</th>\n",
       "      <td>1.0</td>\n",
       "      <td>0</td>\n",
       "      <td>0</td>\n",
       "      <td>0</td>\n",
       "      <td>I could honestly spend my whole paycheck here....</td>\n",
       "      <td>2018-12-04 18:39:58</td>\n",
       "    </tr>\n",
       "    <tr>\n",
       "      <th>5</th>\n",
       "      <td>1.0</td>\n",
       "      <td>0</td>\n",
       "      <td>0</td>\n",
       "      <td>0</td>\n",
       "      <td>I've been going to Enamel Dentistry for about ...</td>\n",
       "      <td>2018-12-05 04:18:31</td>\n",
       "    </tr>\n",
       "  </tbody>\n",
       "</table>\n",
       "</div>"
      ],
      "text/plain": [
       "   stars  useful  funny  cool  \\\n",
       "0    1.0       0      0     0   \n",
       "1    1.0       0      0     0   \n",
       "2    1.0       0      0     0   \n",
       "4    1.0       0      0     0   \n",
       "5    1.0       0      0     0   \n",
       "\n",
       "                                                text                date  \n",
       "0  Vegan donuts! What else can I say!?!? I am so ... 2018-12-04 03:27:14  \n",
       "1  I will definitely be coming back!  If you like... 2018-12-02 18:11:06  \n",
       "2  The waiter who greeted me was very helpful and... 2018-12-04 21:13:20  \n",
       "4  I could honestly spend my whole paycheck here.... 2018-12-04 18:39:58  \n",
       "5  I've been going to Enamel Dentistry for about ... 2018-12-05 04:18:31  "
      ]
     },
     "execution_count": 77,
     "metadata": {},
     "output_type": "execute_result"
    }
   ],
   "source": [
    "# balance the number of positive and negative reviews\n",
    "df_pos = df_rev.loc[df_rev['stars'] == 1.0]\n",
    "df_neg = df_rev.loc[df_rev['stars'] == 0.0]\n",
    "\n",
    "# positive review\n",
    "df_pos.head()"
   ]
  },
  {
   "cell_type": "code",
   "execution_count": 74,
   "id": "1767fa4d",
   "metadata": {},
   "outputs": [
    {
     "data": {
      "text/html": [
       "<div>\n",
       "<style scoped>\n",
       "    .dataframe tbody tr th:only-of-type {\n",
       "        vertical-align: middle;\n",
       "    }\n",
       "\n",
       "    .dataframe tbody tr th {\n",
       "        vertical-align: top;\n",
       "    }\n",
       "\n",
       "    .dataframe thead th {\n",
       "        text-align: right;\n",
       "    }\n",
       "</style>\n",
       "<table border=\"1\" class=\"dataframe\">\n",
       "  <thead>\n",
       "    <tr style=\"text-align: right;\">\n",
       "      <th></th>\n",
       "      <th>stars</th>\n",
       "      <th>useful</th>\n",
       "      <th>funny</th>\n",
       "      <th>cool</th>\n",
       "      <th>text</th>\n",
       "      <th>date</th>\n",
       "    </tr>\n",
       "  </thead>\n",
       "  <tbody>\n",
       "    <tr>\n",
       "      <th>3</th>\n",
       "      <td>0.0</td>\n",
       "      <td>0</td>\n",
       "      <td>0</td>\n",
       "      <td>0</td>\n",
       "      <td>Had a salad to go today. Guy behind the counte...</td>\n",
       "      <td>2018-12-10 23:25:48</td>\n",
       "    </tr>\n",
       "    <tr>\n",
       "      <th>8</th>\n",
       "      <td>0.0</td>\n",
       "      <td>0</td>\n",
       "      <td>0</td>\n",
       "      <td>0</td>\n",
       "      <td>Go to any other chili's but this location. Ser...</td>\n",
       "      <td>2018-12-11 04:31:42</td>\n",
       "    </tr>\n",
       "    <tr>\n",
       "      <th>25</th>\n",
       "      <td>0.0</td>\n",
       "      <td>0</td>\n",
       "      <td>0</td>\n",
       "      <td>0</td>\n",
       "      <td>The food here is reflective of the low prices ...</td>\n",
       "      <td>2018-12-15 02:25:15</td>\n",
       "    </tr>\n",
       "    <tr>\n",
       "      <th>30</th>\n",
       "      <td>0.0</td>\n",
       "      <td>0</td>\n",
       "      <td>0</td>\n",
       "      <td>0</td>\n",
       "      <td>Although the food and decor of this establishm...</td>\n",
       "      <td>2018-12-02 22:18:01</td>\n",
       "    </tr>\n",
       "    <tr>\n",
       "      <th>31</th>\n",
       "      <td>0.0</td>\n",
       "      <td>0</td>\n",
       "      <td>0</td>\n",
       "      <td>0</td>\n",
       "      <td>My pizza has literally never shown up 3 times....</td>\n",
       "      <td>2018-12-02 03:07:55</td>\n",
       "    </tr>\n",
       "  </tbody>\n",
       "</table>\n",
       "</div>"
      ],
      "text/plain": [
       "    stars  useful  funny  cool  \\\n",
       "3     0.0       0      0     0   \n",
       "8     0.0       0      0     0   \n",
       "25    0.0       0      0     0   \n",
       "30    0.0       0      0     0   \n",
       "31    0.0       0      0     0   \n",
       "\n",
       "                                                 text                date  \n",
       "3   Had a salad to go today. Guy behind the counte... 2018-12-10 23:25:48  \n",
       "8   Go to any other chili's but this location. Ser... 2018-12-11 04:31:42  \n",
       "25  The food here is reflective of the low prices ... 2018-12-15 02:25:15  \n",
       "30  Although the food and decor of this establishm... 2018-12-02 22:18:01  \n",
       "31  My pizza has literally never shown up 3 times.... 2018-12-02 03:07:55  "
      ]
     },
     "execution_count": 74,
     "metadata": {},
     "output_type": "execute_result"
    }
   ],
   "source": [
    "# negative reviews\n",
    "df_neg.head()"
   ]
  },
  {
   "cell_type": "code",
   "execution_count": 130,
   "id": "7c9e9f84",
   "metadata": {},
   "outputs": [],
   "source": [
    "# taking a balanced subset of positive and negative reviews\n",
    "max = 100000\n",
    "df_subpos = df_pos.head(max)"
   ]
  },
  {
   "cell_type": "code",
   "execution_count": 131,
   "id": "37986479",
   "metadata": {},
   "outputs": [
    {
     "data": {
      "text/plain": [
       "600000"
      ]
     },
     "execution_count": 131,
     "metadata": {},
     "output_type": "execute_result"
    }
   ],
   "source": [
    "df_subpos.size"
   ]
  },
  {
   "cell_type": "code",
   "execution_count": 132,
   "id": "e5cec651",
   "metadata": {},
   "outputs": [
    {
     "data": {
      "text/plain": [
       "600000"
      ]
     },
     "execution_count": 132,
     "metadata": {},
     "output_type": "execute_result"
    }
   ],
   "source": [
    "df_subneg = df_subneg.head(max)\n",
    "df_subneg.size\n"
   ]
  },
  {
   "cell_type": "code",
   "execution_count": 133,
   "id": "52fca8cf",
   "metadata": {},
   "outputs": [],
   "source": [
    "# concatenation of positive and negative subsets of reviews\n",
    "df = pd.concat([df_subpos, df_subneg])"
   ]
  },
  {
   "cell_type": "code",
   "execution_count": 135,
   "id": "2b19e925",
   "metadata": {},
   "outputs": [
    {
     "data": {
      "text/plain": [
       "1200000"
      ]
     },
     "execution_count": 135,
     "metadata": {},
     "output_type": "execute_result"
    }
   ],
   "source": [
    "# total size of dataframe\n",
    "df.size\n"
   ]
  },
  {
   "cell_type": "code",
   "execution_count": 138,
   "id": "8d0d5361",
   "metadata": {},
   "outputs": [
    {
     "data": {
      "text/plain": [
       "True"
      ]
     },
     "execution_count": 138,
     "metadata": {},
     "output_type": "execute_result"
    }
   ],
   "source": [
    "# Same number of positive and negative reviews\n",
    "df_subneg.size == df_subpos.size"
   ]
  },
  {
   "cell_type": "code",
   "execution_count": 136,
   "id": "3db28af1",
   "metadata": {},
   "outputs": [
    {
     "data": {
      "text/plain": [
       "7927074"
      ]
     },
     "execution_count": 136,
     "metadata": {},
     "output_type": "execute_result"
    }
   ],
   "source": []
  },
  {
   "cell_type": "code",
   "execution_count": null,
   "id": "d678bd09",
   "metadata": {},
   "outputs": [],
   "source": []
  }
 ],
 "metadata": {
  "kernelspec": {
   "display_name": "Python 3",
   "language": "python",
   "name": "python3"
  },
  "language_info": {
   "codemirror_mode": {
    "name": "ipython",
    "version": 3
   },
   "file_extension": ".py",
   "mimetype": "text/x-python",
   "name": "python",
   "nbconvert_exporter": "python",
   "pygments_lexer": "ipython3",
   "version": "3.8.8"
  }
 },
 "nbformat": 4,
 "nbformat_minor": 5
}
